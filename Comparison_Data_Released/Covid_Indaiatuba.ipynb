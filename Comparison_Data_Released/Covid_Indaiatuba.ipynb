{
 "cells": [
  {
   "cell_type": "markdown",
   "metadata": {
    "colab_type": "text",
    "id": "hzvhHsIadcv3"
   },
   "source": [
    "# Comparação entre dados de COVID-19 divulgados para a cidade de Indaiatuba entre Governo SP e Prefeitura. \n",
    "\n",
    "Neste projeto iremos fazer uma comparação entre os dados do numero de casos e obitos divulgados entre a prefeitura de Indaiatuba e os dados divulgados pelo governo do estado de SP. No Brasil o numero de casos do novo coronavirus vem crescendo dia após dia, sendo hoje o segundo país do mundo com o maior numero casos de COVID-19 (25/05/2020), e o estado de São Paulo é o estado com o maior numero de casos e obitos quando comparamos os valores absolutos.\n",
    "\n",
    "Quando analisamos dados municipais em relação aos dados do estado de SP é possivel ver uma disparidade entre os valores, uma reportagem da Globo foi feita questionando esses dados para municipios da Grade SP - https://glo.bo/3bZbHjC, em nota a secretaria disse que os municípios são responsáveis pela investigação e notificação dos casos de Covid-19, e que os horarios de notificação do estado e dos municipios são diferentes, por isso pode difererir.\n",
    "\n",
    "Como a prefeitura não disponibiliza os dados em formato de arquivo para download, então é necessario fazer um web scrapy das noticias postadas no site da prefeitura https://www.indaiatuba.sp.gov.br/relacoes-institucionais/imprensa/acoes-e-obras/acao/1216/ e para os dados do governo de São Paulo está disponivel no repósitorio do github https://github.com/seade-R/dados-covid-sp."
   ]
  },
  {
   "cell_type": "markdown",
   "metadata": {
    "heading_collapsed": true
   },
   "source": [
    "# Pacotes e Retirando as descrições dos Sites."
   ]
  },
  {
   "cell_type": "code",
   "execution_count": 1,
   "metadata": {
    "ExecuteTime": {
     "end_time": "2020-12-14T09:18:14.445269Z",
     "start_time": "2020-12-14T09:17:52.245956Z"
    },
    "colab": {
     "base_uri": "https://localhost:8080/",
     "height": 50
    },
    "colab_type": "code",
    "hidden": true,
    "id": "SD9BkkaV7jQH",
    "outputId": "e6ccbe12-a07b-471d-84c7-10b4e62a3e73"
   },
   "outputs": [
    {
     "name": "stderr",
     "output_type": "stream",
     "text": [
      "[nltk_data] Downloading package stopwords to\n",
      "[nltk_data]     C:\\Users\\gusta\\AppData\\Roaming\\nltk_data...\n",
      "[nltk_data]   Package stopwords is already up-to-date!\n"
     ]
    }
   ],
   "source": [
    "#Bibliotecas para fazer web scrapy dos sites\n",
    "import requests\n",
    "from requests import get\n",
    "from bs4 import BeautifulSoup\n",
    "\n",
    "#trabalhar com data frame\n",
    "import pandas as pd\n",
    "\n",
    "#Biblioteca para o processamento de linguagem\n",
    "import re\n",
    "import nltk\n",
    "nltk.download('stopwords')\n",
    "from nltk.corpus import stopwords\n",
    "from nltk.util import bigrams\n",
    "\n",
    "import datetime\n",
    "import numpy as np\n",
    "\n",
    "stopwords = nltk.corpus.stopwords.words('portuguese')"
   ]
  },
  {
   "cell_type": "markdown",
   "metadata": {
    "colab_type": "text",
    "hidden": true,
    "id": "V201Vx6w0VdH"
   },
   "source": [
    "Para a primeira parte do processo, foi utilizado a url contendo todas as notícias relacionda a cidade de Indaiatuba, com isso separamos as notícias relacionado a COVID-19 que contêm dados com óbitos e casos confirmados."
   ]
  },
  {
   "cell_type": "code",
   "execution_count": 2,
   "metadata": {
    "ExecuteTime": {
     "end_time": "2020-12-14T09:18:16.762638Z",
     "start_time": "2020-12-14T09:18:14.447234Z"
    },
    "hidden": true
   },
   "outputs": [],
   "source": [
    "url = 'https://www.indaiatuba.sp.gov.br/saude/vigilancia-em-saude/vigilancia-epidemiologica/novo-coronavirus/notas/'\n",
    "\n",
    "results = requests.get(url)\n",
    "\n",
    "soup = BeautifulSoup(results.text, \"html.parser\")\n",
    "\n",
    "sites = []\n",
    "\n",
    "div_sit = soup.find_all('div', class_='grid-75 content')\n",
    "\n",
    "div_sit2 = div_sit[0].find_all('ul')[1]\n",
    "\n",
    "for sit in div_sit2:\n",
    "    hr = sit.find('a',href = True)\n",
    "    sites.append('https://www.indaiatuba.sp.gov.br' + hr['href'])"
   ]
  },
  {
   "cell_type": "code",
   "execution_count": 4,
   "metadata": {
    "ExecuteTime": {
     "end_time": "2020-12-14T09:18:16.813501Z",
     "start_time": "2020-12-14T09:18:16.784579Z"
    },
    "hidden": true
   },
   "outputs": [],
   "source": [
    "#Removendo sites que não tem dados interessantes.\n",
    "sites.remove(\"https://www.indaiatuba.sp.gov.br/relacoes-institucionais/imprensa/noticias/28430/\")\n",
    "sites.remove(\"https://www.indaiatuba.sp.gov.br/relacoes-institucionais/imprensa/noticias/28486/\")\n",
    "sites.remove('https://www.indaiatuba.sp.gov.br/relacoes-institucionais/imprensa/noticias/28327/')\n",
    "sites.remove('https://www.indaiatuba.sp.gov.br/relacoes-institucionais/imprensa/noticias/28329/')\n",
    "sites.remove('https://www.indaiatuba.sp.gov.br/relacoes-institucionais/imprensa/noticias/28333/')\n",
    "sites.remove('https://www.indaiatuba.sp.gov.br/relacoes-institucionais/imprensa/noticias/28335/')\n",
    "sites.remove('https://www.indaiatuba.sp.gov.br/relacoes-institucionais/imprensa/noticias/28336/')\n",
    "sites.remove('https://www.indaiatuba.sp.gov.br/relacoes-institucionais/imprensa/noticias/28339/')\n",
    "sites.remove('https://www.indaiatuba.sp.gov.br/relacoes-institucionais/imprensa/noticias/28341/')\n",
    "sites.remove('https://www.indaiatuba.sp.gov.br/relacoes-institucionais/imprensa/noticias/28342/')\n",
    "sites.remove('https://www.indaiatuba.sp.gov.br/relacoes-institucionais/imprensa/noticias/28350/')\n",
    "sites.remove('https://www.indaiatuba.sp.gov.br/relacoes-institucionais/imprensa/noticias/28352/')\n",
    "sites.remove('https://www.indaiatuba.sp.gov.br/relacoes-institucionais/imprensa/noticias/28354/')\n",
    "sites.remove('https://www.indaiatuba.sp.gov.br/relacoes-institucionais/imprensa/noticias/28355/')\n",
    "sites.remove('https://www.indaiatuba.sp.gov.br/relacoes-institucionais/imprensa/noticias/28357/')\n",
    "sites.remove('https://www.indaiatuba.sp.gov.br/relacoes-institucionais/imprensa/noticias/28361/')\n",
    "sites.remove('https://www.indaiatuba.sp.gov.br/relacoes-institucionais/imprensa/noticias/28365/')\n",
    "sites.remove('https://www.indaiatuba.sp.gov.br/relacoes-institucionais/imprensa/noticias/28372/')\n",
    "sites.remove('https://www.indaiatuba.sp.gov.br/relacoes-institucionais/imprensa/noticias/28374/')\n",
    "sites.remove('https://www.indaiatuba.sp.gov.br/relacoes-institucionais/imprensa/noticias/28386/')\n",
    "sites.remove('https://www.indaiatuba.sp.gov.br/relacoes-institucionais/imprensa/noticias/28389/')\n",
    "sites.remove('https://www.indaiatuba.sp.gov.br/relacoes-institucionais/imprensa/noticias/28426/')\n",
    "sites.remove('https://www.indaiatuba.sp.gov.br/relacoes-institucionais/imprensa/noticias/28516/')\n",
    "sites.remove('https://www.indaiatuba.sp.gov.br/relacoes-institucionais/imprensa/noticias/28676/')\n",
    "sites.remove('https://www.indaiatuba.sp.gov.br/relacoes-institucionais/imprensa/noticias/28712/')\n",
    "sites.remove('https://www.indaiatuba.sp.gov.br/relacoes-institucionais/imprensa/noticias/28920/')"
   ]
  },
  {
   "cell_type": "code",
   "execution_count": 7,
   "metadata": {
    "ExecuteTime": {
     "end_time": "2020-12-14T09:52:43.977264Z",
     "start_time": "2020-12-14T09:46:51.555481Z"
    },
    "hidden": true
   },
   "outputs": [],
   "source": [
    "descricao = []\n",
    "datas = []\n",
    "\n",
    "for i in sites:\n",
    "  url1 = i\n",
    "  results1 = requests.get(url1)\n",
    "\n",
    "  soup1 = BeautifulSoup(results1.text, \"html.parser\")\n",
    "\n",
    "  div_sit1 = soup1.find_all('div', class_='grid-75 content')\n",
    "\n",
    "  for container1 in div_sit1:\n",
    "    \n",
    "    inside_ul = container1.find_all('ul', {'class':'info_noticia'})\n",
    "    get_all_text = inside_ul[0].find('li').text\n",
    "    finda_date = re.search(r'\\d{2}/\\d{2}/\\d{4}',get_all_text)\n",
    "    datas.append(finda_date.group())\n",
    "\n",
    "    str_free = ''\n",
    "    aux_des = container1.findAll('p')\n",
    "\n",
    "    for strin in aux_des:\n",
    "      str_free = str_free + ' ' + strin.text\n",
    " \n",
    "    descricao.append(str_free)"
   ]
  },
  {
   "cell_type": "markdown",
   "metadata": {
    "ExecuteTime": {
     "end_time": "2020-12-12T20:40:08.839715Z",
     "start_time": "2020-12-12T20:40:08.835726Z"
    },
    "heading_collapsed": true
   },
   "source": [
    "# Dados pessoais"
   ]
  },
  {
   "cell_type": "code",
   "execution_count": 182,
   "metadata": {
    "ExecuteTime": {
     "end_time": "2020-12-14T17:19:41.073677Z",
     "start_time": "2020-12-14T17:19:41.014302Z"
    },
    "hidden": true
   },
   "outputs": [],
   "source": [
    "#Encontrando as comorbidades dos obtiso\n",
    "Morb = []\n",
    "diab = []\n",
    "hiperten = []\n",
    "pulm = []\n",
    "card = []\n",
    "renal = []\n",
    "obes = []\n",
    "\n",
    "tv = []\n",
    "for k in range(0,len(posi)):\n",
    "    aux_age = age[k]\n",
    "    spli = descricao[posi[k]].replace(',','').replace('.',' .').replace('\"','').replace('-',\" \").replace(')','').lower().split()\n",
    "    flag = 0\n",
    "\n",
    "    for i in range(0,len(spli)-1):\n",
    "        if flag == 0:\n",
    "            if (spli[i] == aux_age) & (spli[i+1] == 'anos'):\n",
    "    \n",
    "                tes = spli[i-10:i+20]\n",
    "                tv.append(posi[k])\n",
    "                flag += 1\n",
    "                if 'crônicas' in tes:\n",
    "                    pos_co = tes.index('crônicas')\n",
    "                    new_te = tes[pos_co - 5:pos_co]\n",
    "                    if ('não' in new_te) | ('sem' in new_te):\n",
    "                        Morb.append(0)\n",
    "                    else:\n",
    "                        Morb.append(1)\n",
    "                elif 'comorbidade' in tes:\n",
    "                    pos_co = tes.index('comorbidade')\n",
    "                    new_te = tes[pos_co - 5:pos_co]\n",
    "                    if ('não' in new_te) | ('sem' in new_te):\n",
    "                        Morb.append(0)\n",
    "                    else:\n",
    "                        Morb.append(1)\n",
    "\n",
    "                elif 'comorbidades' in tes:\n",
    "                    pos_co = tes.index('comorbidades')\n",
    "                    new_te = tes[pos_co - 5:pos_co]\n",
    "                    if ('não' in new_te) | ('sem' in new_te):\n",
    "                        Morb.append(0)\n",
    "                    else:\n",
    "                        Morb.append(1)\n",
    "                else:\n",
    "                     Morb.append(1)\n",
    "\n",
    "                if 'diabetes' in tes:\n",
    "                    diab.append(1)\n",
    "                else:\n",
    "                    diab.append(0)\n",
    "\n",
    "                if ('hipertensão' in tes) | ('hipertenso' in tes) | ('hipertensa' in tes):\n",
    "                    hiperten.append(1)\n",
    "                else:\n",
    "                    hiperten.append(0)\n",
    "\n",
    "                if ('cardíaco' in tes) | ('cardíaca' in tes):\n",
    "                    card.append(1)\n",
    "                else:\n",
    "                    card.append(0)\n",
    "\n",
    "                if ('pulmonar' in tes) | ('pulmão' in tes) | ('tabagista' in tes):\n",
    "                    pulm.append(1)\n",
    "                else:\n",
    "                    pulm.append(0)\n",
    "\n",
    "                if ('renal' in tes):\n",
    "                    renal.append(1)\n",
    "                else:\n",
    "                    renal.append(0)\n",
    "\n",
    "                if('obesidade' in tes) | ('obesa' in tes) | ('obeso' in tes):\n",
    "                    obes.append(1)\n",
    "                else:\n",
    "                    obes.append(0)\n",
    "#'hipertensão' in tes"
   ]
  },
  {
   "cell_type": "code",
   "execution_count": 12,
   "metadata": {
    "ExecuteTime": {
     "end_time": "2020-12-14T10:39:18.087393Z",
     "start_time": "2020-12-14T10:39:17.942480Z"
    },
    "hidden": true
   },
   "outputs": [],
   "source": [
    "#Encontrando o genero, idade e data do acontecido\n",
    "num2words = {'um':1,'dois' : 2,'três': 3, 'quatro':4,'cinco':5, \\\n",
    "             'seis':6, 'sete':7,'oito' : 8,'nove':9,'dez':10,'zero': 0}\n",
    "\n",
    "age = []\n",
    "count = []\n",
    "gender = []\n",
    "Dat = []\n",
    "posi = []\n",
    "for j in range(0,209):   \n",
    "    spli1 = descricao[j].replace(',','').replace('.','').replace('\"','').lower().split()\n",
    "    \n",
    "    spli = [word for word in spli1 if not word in stopwords]\n",
    "    cou = 0\n",
    "    for i in range(0,len(spli)):\n",
    "        if spli[i] == 'anos':\n",
    "            if (spli[i-2] == 'feminina') | (spli[i-2] == 'mulher') | (spli[i-2] == 'feminino'):\n",
    "                    cou = cou + 1\n",
    "                    #print(\"iDADE: {}\".format(spli[i-1]))\n",
    "                    #print(j)\n",
    "                    age.append(spli[i-1])\n",
    "                    gender.append('M')\n",
    "                    Dat.append(datas[j])\n",
    "                    posi.append(j)\n",
    "                    #count.append(k)\n",
    "            if (spli[i-2] == 'masculino') | (spli[i-2] == 'homem') | (spli[i-2] == 'agosto') | (spli[i-2]=='silva'):\n",
    "                    cou = cou + 1\n",
    "                    #print(\"iDADE: {}\".format(spli[i-1]))\n",
    "                    #print(j)\n",
    "                    age.append(spli[i-1])\n",
    "                    gender.append('H')\n",
    "                    Dat.append(datas[j])\n",
    "                    posi.append(j)\n",
    "            if  (spli[i-2] == 'paciente'):\n",
    "                    cou = cou + 1\n",
    "                    #print(\"iDADE: {}\".format(spli[i-1]))\n",
    "                    #print(j)\n",
    "                    age.append(spli[i-1])\n",
    "                    Dat.append(datas[j])\n",
    "                    posi.append(j)\n",
    "                    if spli[i+1] == 'internado':\n",
    "                        gender.append('H')\n",
    "                    else:\n",
    "                        gender.append('M')\n",
    "                    \n",
    "    count.append(cou)\n",
    "                    \n",
    "#ind_beg = ind.index(193) +2\n",
    "#ind_end = ind_beg + 6\n",
    "#index_dele = list(range(ind_beg, ind_end))\n",
    "#del age[236:ind_end]\n",
    "#for k in range(0,len(index_dele)):\n",
    "#    age.pop(index_dele[k])\n",
    "del age[238:244]\n",
    "del gender[238:244]\n",
    "del Dat[238:244]\n",
    "del posi[238:244]\n",
    "count[193] = count[193] -6"
   ]
  },
  {
   "cell_type": "code",
   "execution_count": 184,
   "metadata": {
    "ExecuteTime": {
     "end_time": "2020-12-14T17:20:05.375961Z",
     "start_time": "2020-12-14T17:20:05.371971Z"
    },
    "hidden": true
   },
   "outputs": [],
   "source": [
    "dict_pero = {'Idade':age,'Sexo':gender,'Data':Dat,'Comorbidade':Morb,'Diabete':diab,'Hipertensão':hiperten,\n",
    "            'Pulmonar':pulm,'Cardiaco':card,'Renal':renal,'Obesidade':obes}"
   ]
  },
  {
   "cell_type": "code",
   "execution_count": 185,
   "metadata": {
    "ExecuteTime": {
     "end_time": "2020-12-14T17:20:06.845779Z",
     "start_time": "2020-12-14T17:20:06.165771Z"
    },
    "hidden": true
   },
   "outputs": [
    {
     "data": {
      "text/html": [
       "<div>\n",
       "<style scoped>\n",
       "    .dataframe tbody tr th:only-of-type {\n",
       "        vertical-align: middle;\n",
       "    }\n",
       "\n",
       "    .dataframe tbody tr th {\n",
       "        vertical-align: top;\n",
       "    }\n",
       "\n",
       "    .dataframe thead th {\n",
       "        text-align: right;\n",
       "    }\n",
       "</style>\n",
       "<table border=\"1\" class=\"dataframe\">\n",
       "  <thead>\n",
       "    <tr style=\"text-align: right;\">\n",
       "      <th></th>\n",
       "      <th>Idade</th>\n",
       "      <th>Sexo</th>\n",
       "      <th>Data</th>\n",
       "      <th>Comorbidade</th>\n",
       "      <th>Diabete</th>\n",
       "      <th>Hipertensão</th>\n",
       "      <th>Pulmonar</th>\n",
       "      <th>Cardiaco</th>\n",
       "      <th>Renal</th>\n",
       "      <th>Obesidade</th>\n",
       "    </tr>\n",
       "  </thead>\n",
       "  <tbody>\n",
       "    <tr>\n",
       "      <th>0</th>\n",
       "      <td>60</td>\n",
       "      <td>H</td>\n",
       "      <td>10/12/2020</td>\n",
       "      <td>1</td>\n",
       "      <td>1</td>\n",
       "      <td>1</td>\n",
       "      <td>0</td>\n",
       "      <td>0</td>\n",
       "      <td>0</td>\n",
       "      <td>0</td>\n",
       "    </tr>\n",
       "    <tr>\n",
       "      <th>1</th>\n",
       "      <td>73</td>\n",
       "      <td>H</td>\n",
       "      <td>09/12/2020</td>\n",
       "      <td>1</td>\n",
       "      <td>1</td>\n",
       "      <td>1</td>\n",
       "      <td>0</td>\n",
       "      <td>0</td>\n",
       "      <td>0</td>\n",
       "      <td>0</td>\n",
       "    </tr>\n",
       "    <tr>\n",
       "      <th>2</th>\n",
       "      <td>65</td>\n",
       "      <td>H</td>\n",
       "      <td>09/12/2020</td>\n",
       "      <td>1</td>\n",
       "      <td>0</td>\n",
       "      <td>1</td>\n",
       "      <td>0</td>\n",
       "      <td>0</td>\n",
       "      <td>0</td>\n",
       "      <td>0</td>\n",
       "    </tr>\n",
       "    <tr>\n",
       "      <th>3</th>\n",
       "      <td>66</td>\n",
       "      <td>H</td>\n",
       "      <td>08/12/2020</td>\n",
       "      <td>1</td>\n",
       "      <td>0</td>\n",
       "      <td>1</td>\n",
       "      <td>0</td>\n",
       "      <td>0</td>\n",
       "      <td>1</td>\n",
       "      <td>0</td>\n",
       "    </tr>\n",
       "    <tr>\n",
       "      <th>4</th>\n",
       "      <td>64</td>\n",
       "      <td>H</td>\n",
       "      <td>07/12/2020</td>\n",
       "      <td>0</td>\n",
       "      <td>0</td>\n",
       "      <td>0</td>\n",
       "      <td>0</td>\n",
       "      <td>0</td>\n",
       "      <td>0</td>\n",
       "      <td>0</td>\n",
       "    </tr>\n",
       "    <tr>\n",
       "      <th>5</th>\n",
       "      <td>65</td>\n",
       "      <td>H</td>\n",
       "      <td>07/12/2020</td>\n",
       "      <td>0</td>\n",
       "      <td>0</td>\n",
       "      <td>0</td>\n",
       "      <td>1</td>\n",
       "      <td>0</td>\n",
       "      <td>0</td>\n",
       "      <td>0</td>\n",
       "    </tr>\n",
       "    <tr>\n",
       "      <th>6</th>\n",
       "      <td>55</td>\n",
       "      <td>M</td>\n",
       "      <td>07/12/2020</td>\n",
       "      <td>1</td>\n",
       "      <td>0</td>\n",
       "      <td>0</td>\n",
       "      <td>0</td>\n",
       "      <td>0</td>\n",
       "      <td>0</td>\n",
       "      <td>0</td>\n",
       "    </tr>\n",
       "    <tr>\n",
       "      <th>7</th>\n",
       "      <td>81</td>\n",
       "      <td>H</td>\n",
       "      <td>07/12/2020</td>\n",
       "      <td>1</td>\n",
       "      <td>1</td>\n",
       "      <td>1</td>\n",
       "      <td>0</td>\n",
       "      <td>0</td>\n",
       "      <td>0</td>\n",
       "      <td>0</td>\n",
       "    </tr>\n",
       "    <tr>\n",
       "      <th>8</th>\n",
       "      <td>46</td>\n",
       "      <td>H</td>\n",
       "      <td>05/12/2020</td>\n",
       "      <td>1</td>\n",
       "      <td>0</td>\n",
       "      <td>0</td>\n",
       "      <td>0</td>\n",
       "      <td>0</td>\n",
       "      <td>1</td>\n",
       "      <td>0</td>\n",
       "    </tr>\n",
       "    <tr>\n",
       "      <th>9</th>\n",
       "      <td>85</td>\n",
       "      <td>M</td>\n",
       "      <td>03/12/2020</td>\n",
       "      <td>1</td>\n",
       "      <td>0</td>\n",
       "      <td>0</td>\n",
       "      <td>0</td>\n",
       "      <td>0</td>\n",
       "      <td>0</td>\n",
       "      <td>0</td>\n",
       "    </tr>\n",
       "    <tr>\n",
       "      <th>10</th>\n",
       "      <td>77</td>\n",
       "      <td>M</td>\n",
       "      <td>03/12/2020</td>\n",
       "      <td>1</td>\n",
       "      <td>0</td>\n",
       "      <td>0</td>\n",
       "      <td>0</td>\n",
       "      <td>0</td>\n",
       "      <td>1</td>\n",
       "      <td>0</td>\n",
       "    </tr>\n",
       "    <tr>\n",
       "      <th>11</th>\n",
       "      <td>83</td>\n",
       "      <td>M</td>\n",
       "      <td>02/12/2020</td>\n",
       "      <td>1</td>\n",
       "      <td>0</td>\n",
       "      <td>0</td>\n",
       "      <td>0</td>\n",
       "      <td>0</td>\n",
       "      <td>0</td>\n",
       "      <td>0</td>\n",
       "    </tr>\n",
       "    <tr>\n",
       "      <th>12</th>\n",
       "      <td>65</td>\n",
       "      <td>H</td>\n",
       "      <td>30/11/2020</td>\n",
       "      <td>1</td>\n",
       "      <td>0</td>\n",
       "      <td>0</td>\n",
       "      <td>0</td>\n",
       "      <td>0</td>\n",
       "      <td>0</td>\n",
       "      <td>0</td>\n",
       "    </tr>\n",
       "    <tr>\n",
       "      <th>13</th>\n",
       "      <td>67</td>\n",
       "      <td>H</td>\n",
       "      <td>30/11/2020</td>\n",
       "      <td>1</td>\n",
       "      <td>0</td>\n",
       "      <td>0</td>\n",
       "      <td>1</td>\n",
       "      <td>0</td>\n",
       "      <td>0</td>\n",
       "      <td>1</td>\n",
       "    </tr>\n",
       "    <tr>\n",
       "      <th>14</th>\n",
       "      <td>88</td>\n",
       "      <td>M</td>\n",
       "      <td>28/11/2020</td>\n",
       "      <td>1</td>\n",
       "      <td>0</td>\n",
       "      <td>0</td>\n",
       "      <td>0</td>\n",
       "      <td>0</td>\n",
       "      <td>0</td>\n",
       "      <td>0</td>\n",
       "    </tr>\n",
       "    <tr>\n",
       "      <th>15</th>\n",
       "      <td>79</td>\n",
       "      <td>M</td>\n",
       "      <td>27/11/2020</td>\n",
       "      <td>1</td>\n",
       "      <td>0</td>\n",
       "      <td>0</td>\n",
       "      <td>0</td>\n",
       "      <td>0</td>\n",
       "      <td>0</td>\n",
       "      <td>0</td>\n",
       "    </tr>\n",
       "    <tr>\n",
       "      <th>16</th>\n",
       "      <td>69</td>\n",
       "      <td>H</td>\n",
       "      <td>26/11/2020</td>\n",
       "      <td>1</td>\n",
       "      <td>0</td>\n",
       "      <td>0</td>\n",
       "      <td>0</td>\n",
       "      <td>0</td>\n",
       "      <td>0</td>\n",
       "      <td>0</td>\n",
       "    </tr>\n",
       "    <tr>\n",
       "      <th>17</th>\n",
       "      <td>33</td>\n",
       "      <td>H</td>\n",
       "      <td>25/11/2020</td>\n",
       "      <td>1</td>\n",
       "      <td>0</td>\n",
       "      <td>0</td>\n",
       "      <td>0</td>\n",
       "      <td>0</td>\n",
       "      <td>0</td>\n",
       "      <td>0</td>\n",
       "    </tr>\n",
       "    <tr>\n",
       "      <th>18</th>\n",
       "      <td>62</td>\n",
       "      <td>H</td>\n",
       "      <td>25/11/2020</td>\n",
       "      <td>1</td>\n",
       "      <td>0</td>\n",
       "      <td>1</td>\n",
       "      <td>0</td>\n",
       "      <td>0</td>\n",
       "      <td>0</td>\n",
       "      <td>0</td>\n",
       "    </tr>\n",
       "    <tr>\n",
       "      <th>19</th>\n",
       "      <td>87</td>\n",
       "      <td>M</td>\n",
       "      <td>24/11/2020</td>\n",
       "      <td>1</td>\n",
       "      <td>0</td>\n",
       "      <td>0</td>\n",
       "      <td>0</td>\n",
       "      <td>0</td>\n",
       "      <td>0</td>\n",
       "      <td>0</td>\n",
       "    </tr>\n",
       "  </tbody>\n",
       "</table>\n",
       "</div>"
      ],
      "text/plain": [
       "   Idade Sexo        Data  Comorbidade  Diabete  Hipertensão  Pulmonar  \\\n",
       "0     60    H  10/12/2020            1        1            1         0   \n",
       "1     73    H  09/12/2020            1        1            1         0   \n",
       "2     65    H  09/12/2020            1        0            1         0   \n",
       "3     66    H  08/12/2020            1        0            1         0   \n",
       "4     64    H  07/12/2020            0        0            0         0   \n",
       "5     65    H  07/12/2020            0        0            0         1   \n",
       "6     55    M  07/12/2020            1        0            0         0   \n",
       "7     81    H  07/12/2020            1        1            1         0   \n",
       "8     46    H  05/12/2020            1        0            0         0   \n",
       "9     85    M  03/12/2020            1        0            0         0   \n",
       "10    77    M  03/12/2020            1        0            0         0   \n",
       "11    83    M  02/12/2020            1        0            0         0   \n",
       "12    65    H  30/11/2020            1        0            0         0   \n",
       "13    67    H  30/11/2020            1        0            0         1   \n",
       "14    88    M  28/11/2020            1        0            0         0   \n",
       "15    79    M  27/11/2020            1        0            0         0   \n",
       "16    69    H  26/11/2020            1        0            0         0   \n",
       "17    33    H  25/11/2020            1        0            0         0   \n",
       "18    62    H  25/11/2020            1        0            1         0   \n",
       "19    87    M  24/11/2020            1        0            0         0   \n",
       "\n",
       "    Cardiaco  Renal  Obesidade  \n",
       "0          0      0          0  \n",
       "1          0      0          0  \n",
       "2          0      0          0  \n",
       "3          0      1          0  \n",
       "4          0      0          0  \n",
       "5          0      0          0  \n",
       "6          0      0          0  \n",
       "7          0      0          0  \n",
       "8          0      1          0  \n",
       "9          0      0          0  \n",
       "10         0      1          0  \n",
       "11         0      0          0  \n",
       "12         0      0          0  \n",
       "13         0      0          1  \n",
       "14         0      0          0  \n",
       "15         0      0          0  \n",
       "16         0      0          0  \n",
       "17         0      0          0  \n",
       "18         0      0          0  \n",
       "19         0      0          0  "
      ]
     },
     "execution_count": 185,
     "metadata": {},
     "output_type": "execute_result"
    }
   ],
   "source": [
    "pd.DataFrame(dict_pero).head(20)"
   ]
  },
  {
   "cell_type": "code",
   "execution_count": 186,
   "metadata": {
    "ExecuteTime": {
     "end_time": "2020-12-14T17:22:39.717350Z",
     "start_time": "2020-12-14T17:22:38.372367Z"
    },
    "hidden": true
   },
   "outputs": [],
   "source": [
    "pd.DataFrame(dict_pero).to_excel('Perso_Covid.xlsx')"
   ]
  },
  {
   "cell_type": "code",
   "execution_count": 187,
   "metadata": {
    "ExecuteTime": {
     "end_time": "2020-12-14T17:30:29.643757Z",
     "start_time": "2020-12-14T17:30:29.181224Z"
    },
    "hidden": true
   },
   "outputs": [],
   "source": [
    "pd.DataFrame(dict_pero).to_csv('Perso_Covid.csv', index = False)"
   ]
  },
  {
   "cell_type": "markdown",
   "metadata": {
    "heading_collapsed": true
   },
   "source": [
    "# Dados Temporal"
   ]
  },
  {
   "cell_type": "code",
   "execution_count": 162,
   "metadata": {
    "ExecuteTime": {
     "end_time": "2020-12-13T20:03:38.876788Z",
     "start_time": "2020-12-13T20:03:38.717166Z"
    },
    "hidden": true
   },
   "outputs": [],
   "source": [
    "UTI_vect = []\n",
    "\n",
    "stopwords = nltk.corpus.stopwords.words('portuguese')\n",
    "for i in range(0,len(descricao) - 10):\n",
    "    spli1 = descricao[i].replace(',','').replace('.','').replace(\"'\",'').lower().split()\n",
    "    spli = [word for word in spli1 if not word in stopwords]\n",
    "\n",
    "    bi = list(bigrams(spli))\n",
    "    values = []\n",
    "    for j in range(0,len(bi)):\n",
    "        if (bi[j][0] == 'uti') & (bi[j][1] == '(unidade'):\n",
    "            values.append(spli[j-1])\n",
    "    UTI_vect.append(values)\n",
    "    \n",
    "UTI_vect[190] = UTI_vect[189]\n",
    "UTI_vect[197] = [str(12)]\n",
    "UTI_vect[198:len(UTI_vect)] = np.repeat([str(0)],len(UTI_vect)-198)"
   ]
  },
  {
   "cell_type": "code",
   "execution_count": 163,
   "metadata": {
    "ExecuteTime": {
     "end_time": "2020-12-13T20:03:38.989927Z",
     "start_time": "2020-12-13T20:03:38.981947Z"
    },
    "hidden": true
   },
   "outputs": [],
   "source": [
    "UTI = []\n",
    "\n",
    "for i in range(0,len(UTI_vect)):\n",
    "    next_aux = np.unique(UTI_vect[i])\n",
    "\n",
    "    UTI.append(int(next_aux[0]))\n",
    "  "
   ]
  },
  {
   "cell_type": "code",
   "execution_count": 164,
   "metadata": {
    "ExecuteTime": {
     "end_time": "2020-12-13T20:03:39.429927Z",
     "start_time": "2020-12-13T20:03:39.233470Z"
    },
    "hidden": true
   },
   "outputs": [],
   "source": [
    "num2words = {'um':1,'dois' : 2,'três': 3, 'quatro':4,'cinco':5, \\\n",
    "             'seis':6, 'sete':7,'oito' : 8,'nove':9,'dez':10,'zero': 0}\n",
    "\n",
    "leitos = []\n",
    "\n",
    "stopwords = nltk.corpus.stopwords.words('portuguese')\n",
    "for i in range(0,len(descricao) - 10):\n",
    "    spli1 = descricao[i].replace(',','').replace('.','').replace('confirmados','').lower().split()\n",
    "    spli = [word for word in spli1 if not word in stopwords]\n",
    "\n",
    "    bi = list(bigrams(spli))\n",
    "    values = []\n",
    "    for j in range(0,len(bi)):\n",
    "        if (bi[j][0] == 'leitos') & (bi[j][1] == 'clínicos'):\n",
    "            values.append(spli[j-1])\n",
    "        if (bi[j][0] == 'permanecem') & (bi[j][1] == 'internados'):\n",
    "            if spli[j-1] in num2words.keys():\n",
    "                values.append(num2words[spli[j-1]])\n",
    "            else:\n",
    "                values.append(spli[j-1])\n",
    "        if (bi[j][0] == 'leito') & (bi[j][1] == 'clínico'):\n",
    "            if spli[j-1] in num2words.keys():\n",
    "                values.append(num2words[spli[j-1]])\n",
    "            else:\n",
    "                values.append(spli[j-1])\n",
    "        if (bi[j][0] == 'internados') & (bi[j][1] == 'ainda'):\n",
    "            if spli[j-1] in num2words.keys():\n",
    "                values.append(num2words[spli[j-1]])\n",
    "            else:\n",
    "                values.append(spli[j-1])\n",
    "        if (bi[j][0] == 'internados') & (bi[j][1] == 'leito'):\n",
    "            values.append(spli[j-1])\n",
    "        if (bi[j][0] == 'pessoas') & (bi[j][1] == 'internadas'):\n",
    "            values.append(spli[j-1])\n",
    "        if (bi[j][0] == 'casos') & (bi[j][1] == 'internados'):\n",
    "            values.append(spli[j-1]) \n",
    "    leitos.append(values)"
   ]
  },
  {
   "cell_type": "code",
   "execution_count": 165,
   "metadata": {
    "ExecuteTime": {
     "end_time": "2020-12-13T20:03:39.615536Z",
     "start_time": "2020-12-13T20:03:39.606520Z"
    },
    "hidden": true
   },
   "outputs": [],
   "source": [
    "internados = []\n",
    "leitos[3][0] = leitos[3][0].replace('estão','')\n",
    "leitos[91].append(33)\n",
    "for i in range(0,len(leitos)):\n",
    "    aux = np.unique(leitos[i])\n",
    "    \n",
    "    if len(aux) == 1:\n",
    "        next_aux = aux\n",
    "    else:    \n",
    "        next_aux = [int(new.replace('.','')) for new in aux if new.replace('.','').isnumeric()]\n",
    "\n",
    "    if len(next_aux) == 1:\n",
    "        internados.append(next_aux[0])\n",
    "        #confirmados.append(int(np.unique(next_aux[i])[0].replace('.','')))\n",
    "    else:\n",
    "        internados.append(max(next_aux))"
   ]
  },
  {
   "cell_type": "code",
   "execution_count": 166,
   "metadata": {
    "ExecuteTime": {
     "end_time": "2020-12-13T20:03:40.077818Z",
     "start_time": "2020-12-13T20:03:39.856501Z"
    },
    "hidden": true
   },
   "outputs": [],
   "source": [
    "conf_val = []\n",
    "stopwords = nltk.corpus.stopwords.words('portuguese')\n",
    "for i in range(0,len(descricao) - 10):\n",
    "    \n",
    "    \n",
    "    spli1 = descricao[i].replace(',','').lower().split()\n",
    "    \n",
    "    spli = [word for word in spli1 if not word in stopwords]\n",
    "    \n",
    "    bi = list(bigrams(spli))\n",
    "    values = []\n",
    "    for j in range(0,len(bi)):\n",
    "        if (bi[j][0] == 'casos') & (bi[j][1] == 'confirmados'):\n",
    "            #print(i)\n",
    "            values.append(spli[j-1])\n",
    "        elif (bi[j][0] == 'caso') & (bi[j][1] == 'confirmado'):\n",
    "            #print(i)\n",
    "            values.append(spli[j-1])\n",
    "        elif (bi[j][0] == 'pessoas') & (bi[j][1] == 'infectadas'):\n",
    "            #print(i)\n",
    "            values.append(spli[j-1])\n",
    "        elif (bi[j][0] == 'pessoas') & (bi[j][1] == 'contraíram'):\n",
    "            #print(i)\n",
    "            values.append(spli[j-1])\n",
    "        elif (bi[j][0] == 'indaiatuba') & (bi[j][1] == 'possui'):\n",
    "            #print(i)\n",
    "            values.append(spli[j+2])\n",
    "        elif (bi[j][0] == 'infectados') & (bi[j][1] == 'novo'):\n",
    "            #print(i)\n",
    "            values.append(spli[j-1])\n",
    "        elif (bi[j][0] == 'confirmados') & (bi[j][1] == 'covid-19'):\n",
    "            #print(i)\n",
    "            values.append(spli[j-1])\n",
    "        elif (bi[j][0] == 'confirmados') & (bi[j][1] == 'sendo'):\n",
    "           # print(i)\n",
    "            values.append(spli[j-1])\n",
    "        elif (bi[j][0] == 'notificações;') & (bi[j][1] == 'sendo'):\n",
    "            #print(i)\n",
    "            values.append(spli[j+2]) \n",
    "    conf_val.append(values)"
   ]
  },
  {
   "cell_type": "code",
   "execution_count": 167,
   "metadata": {
    "ExecuteTime": {
     "end_time": "2020-12-13T20:03:40.166326Z",
     "start_time": "2020-12-13T20:03:40.157320Z"
    },
    "hidden": true
   },
   "outputs": [],
   "source": [
    "confirmados = []\n",
    "for i in range(0,len(conf_val)):\n",
    "    #print(i)\n",
    "    aux = np.unique(conf_val[i])\n",
    "\n",
    "    next_aux = [int(new.replace('.','')) for new in aux if new.replace('.','').isnumeric()]\n",
    "\n",
    "    if len(next_aux) == 1:\n",
    "        confirmados.append(next_aux[0])\n",
    "        #confirmados.append(int(np.unique(next_aux[i])[0].replace('.','')))\n",
    "    else:\n",
    "        next_aux3 = [int(aux3)/confirmados[i-1] for aux3 in next_aux]\n",
    "        max_pos = next_aux3.index(max(next_aux3))\n",
    "        confirmados.append(next_aux[max_pos])"
   ]
  },
  {
   "cell_type": "code",
   "execution_count": 168,
   "metadata": {
    "ExecuteTime": {
     "end_time": "2020-12-13T20:03:40.848175Z",
     "start_time": "2020-12-13T20:03:40.648362Z"
    },
    "hidden": true
   },
   "outputs": [],
   "source": [
    "obi_val = []\n",
    "stopwords = nltk.corpus.stopwords.words('portuguese')\n",
    "for i in range(0,len(descricao) - 10):\n",
    "    \n",
    "    \n",
    "    spli1 = descricao[i].replace(',','').replace(';','').replace('.','').lower().split()\n",
    "    \n",
    "    spli = [word for word in spli1 if not word in stopwords]\n",
    "    \n",
    "    bi = list(bigrams(spli))\n",
    "    values = []\n",
    "    for j in range(0,len(bi)):\n",
    "        if (bi[j][0] == 'óbitos') & (bi[j][1] == 'confirmados'):\n",
    "            values.append(spli[j-1])\n",
    "            #print(spli[j-1])\n",
    "        if (bi[j][0] == 'veio') & (bi[j][1] == 'óbito'):\n",
    "            values.append(spli[j-1])\n",
    "        if (bi[j][0] == 'vieram') & (bi[j][1] == 'óbito'):\n",
    "            values.append(spli[j-1])\n",
    "        if (bi[j][0] == 'evoluíram') & (bi[j][1] == 'óbito'):\n",
    "            values.append(spli[j-1])\n",
    "        if (bi[j][0] == 'resistiram') & (bi[j][1] == 'complicações'):\n",
    "            values.append(spli[j-1])\n",
    "        if (bi[j][0] == 'total') & (bi[j][1] == 'óbitos'):\n",
    "            values.append(spli[j-1])\n",
    "        if (bi[j][0] == 'total') & (bi[j][1] == 'departamento'):\n",
    "            values.append(spli[j-1])     \n",
    "            #print(spli[j-1])\n",
    "    obi_val.append(values)\n",
    "\n",
    "\n",
    "num2words = {'um':1,'dois' : 2,'três': 3, 'quatro':4,'cinco':5, \\\n",
    "             'seis':6, 'sete':7,'oito' : 8,'nove':9,'dez':10,'zero': 0}\n",
    "\n",
    "for j in range(200,204):\n",
    "    if len(obi_val[j]) == 1:\n",
    "        #\n",
    "        obi_val[j] = [str(num2words[obi_val[j][0]])]\n",
    "        #print(num2words[obi_val[j][0]])\n",
    "    else:\n",
    "        obi_val[j] = [str(num2words[obi_val[j][1]])]\n",
    "        #print(num2words[obi_val[j][1]])"
   ]
  },
  {
   "cell_type": "code",
   "execution_count": 169,
   "metadata": {
    "ExecuteTime": {
     "end_time": "2020-12-13T20:03:40.985431Z",
     "start_time": "2020-12-13T20:03:40.973506Z"
    },
    "hidden": true
   },
   "outputs": [],
   "source": [
    "obitos = []\n",
    "for i in range(0,len(obi_val)):\n",
    "    #print(i)\n",
    "    aux = np.unique(obi_val[i])\n",
    "\n",
    "    next_aux = [int(new.replace('.','')) for new in aux if new.replace('.','').isnumeric()]\n",
    "\n",
    "    if len(next_aux) == 1:\n",
    "        obitos.append(next_aux[0])\n",
    "        #confirmados.append(int(np.unique(next_aux[i])[0].replace('.','')))\n",
    "    else:\n",
    "        next_aux3 = [int(aux3)/obitos[i-1] for aux3 in next_aux]\n",
    "        max_pos = next_aux3.index(max(next_aux3))\n",
    "        obitos.append(next_aux[max_pos])"
   ]
  },
  {
   "cell_type": "code",
   "execution_count": 170,
   "metadata": {
    "ExecuteTime": {
     "end_time": "2020-12-13T20:03:41.275628Z",
     "start_time": "2020-12-13T20:03:41.269644Z"
    },
    "hidden": true
   },
   "outputs": [],
   "source": [
    "confirm_beg = confirmados[::-1]\n",
    "obito_beg = obitos[::-1]\n",
    "datas_beg = datas[:204][::-1]\n",
    "internado_beg = internados[::-1]\n",
    "Uti_beg = UTI[::-1]\n",
    "\n",
    "confirmado_per_day = []\n",
    "obito_per_day = []\n",
    "\n",
    "for k in range(0,len(confirm_beg)-1):\n",
    "\n",
    "    confirmado_per_day.append(confirm_beg[k+1] - confirm_beg[k])\n",
    "    obito_per_day.append(abs(obito_beg[k+1] - obito_beg[k]))\n",
    "\n",
    "confirmado_per_day.insert(0,confirm_beg[0])\n",
    "obito_per_day.insert(0,obito_beg[0])\n",
    "#datas_beg = datas_beg[:204]"
   ]
  },
  {
   "cell_type": "code",
   "execution_count": 171,
   "metadata": {
    "ExecuteTime": {
     "end_time": "2020-12-13T20:03:41.660061Z",
     "start_time": "2020-12-13T20:03:41.654077Z"
    },
    "hidden": true
   },
   "outputs": [],
   "source": [
    "dict_pd = {'Data':datas_beg,'Confirmados_total':confirm_beg,'Confirmados_por_dia':confirmado_per_day,\n",
    "          'Obitos_total':obito_beg,'Obitos_por_dia':obito_per_day,'Internados':internado_beg,'UTI':Uti_beg}\n",
    "\n",
    "Df_prefeitura = pd.DataFrame(dict_pd)"
   ]
  },
  {
   "cell_type": "code",
   "execution_count": 172,
   "metadata": {
    "ExecuteTime": {
     "end_time": "2020-12-13T20:03:42.788025Z",
     "start_time": "2020-12-13T20:03:42.782994Z"
    },
    "hidden": true
   },
   "outputs": [],
   "source": [
    "Df_prefeitura['Letalidade_Indaiatuba'] = (Df_prefeitura['Obitos_total'].values/Df_prefeitura['Confirmados_total'].values)*100\n",
    "Df_prefeitura['Letalidade_Indaiatuba']  = Df_prefeitura['Letalidade_Indaiatuba'].apply(lambda x: round(x,2))"
   ]
  },
  {
   "cell_type": "code",
   "execution_count": 173,
   "metadata": {
    "ExecuteTime": {
     "end_time": "2020-12-13T20:03:43.685116Z",
     "start_time": "2020-12-13T20:03:43.669157Z"
    },
    "hidden": true
   },
   "outputs": [
    {
     "data": {
      "text/html": [
       "<div>\n",
       "<style scoped>\n",
       "    .dataframe tbody tr th:only-of-type {\n",
       "        vertical-align: middle;\n",
       "    }\n",
       "\n",
       "    .dataframe tbody tr th {\n",
       "        vertical-align: top;\n",
       "    }\n",
       "\n",
       "    .dataframe thead th {\n",
       "        text-align: right;\n",
       "    }\n",
       "</style>\n",
       "<table border=\"1\" class=\"dataframe\">\n",
       "  <thead>\n",
       "    <tr style=\"text-align: right;\">\n",
       "      <th></th>\n",
       "      <th>Data</th>\n",
       "      <th>Confirmados_total</th>\n",
       "      <th>Confirmados_por_dia</th>\n",
       "      <th>Obitos_total</th>\n",
       "      <th>Obitos_por_dia</th>\n",
       "      <th>Internados</th>\n",
       "      <th>UTI</th>\n",
       "      <th>Letalidade_Indaiatuba</th>\n",
       "    </tr>\n",
       "  </thead>\n",
       "  <tbody>\n",
       "    <tr>\n",
       "      <th>0</th>\n",
       "      <td>02/05/2020</td>\n",
       "      <td>58</td>\n",
       "      <td>58</td>\n",
       "      <td>6</td>\n",
       "      <td>6</td>\n",
       "      <td>3</td>\n",
       "      <td>0</td>\n",
       "      <td>10.34</td>\n",
       "    </tr>\n",
       "    <tr>\n",
       "      <th>1</th>\n",
       "      <td>06/05/2020</td>\n",
       "      <td>69</td>\n",
       "      <td>11</td>\n",
       "      <td>7</td>\n",
       "      <td>1</td>\n",
       "      <td>5</td>\n",
       "      <td>0</td>\n",
       "      <td>10.14</td>\n",
       "    </tr>\n",
       "    <tr>\n",
       "      <th>2</th>\n",
       "      <td>07/05/2020</td>\n",
       "      <td>71</td>\n",
       "      <td>2</td>\n",
       "      <td>8</td>\n",
       "      <td>1</td>\n",
       "      <td>4</td>\n",
       "      <td>0</td>\n",
       "      <td>11.27</td>\n",
       "    </tr>\n",
       "    <tr>\n",
       "      <th>3</th>\n",
       "      <td>08/05/2020</td>\n",
       "      <td>78</td>\n",
       "      <td>7</td>\n",
       "      <td>9</td>\n",
       "      <td>1</td>\n",
       "      <td>7</td>\n",
       "      <td>0</td>\n",
       "      <td>11.54</td>\n",
       "    </tr>\n",
       "    <tr>\n",
       "      <th>4</th>\n",
       "      <td>11/05/2020</td>\n",
       "      <td>87</td>\n",
       "      <td>9</td>\n",
       "      <td>11</td>\n",
       "      <td>2</td>\n",
       "      <td>11</td>\n",
       "      <td>0</td>\n",
       "      <td>12.64</td>\n",
       "    </tr>\n",
       "    <tr>\n",
       "      <th>...</th>\n",
       "      <td>...</td>\n",
       "      <td>...</td>\n",
       "      <td>...</td>\n",
       "      <td>...</td>\n",
       "      <td>...</td>\n",
       "      <td>...</td>\n",
       "      <td>...</td>\n",
       "      <td>...</td>\n",
       "    </tr>\n",
       "    <tr>\n",
       "      <th>199</th>\n",
       "      <td>07/12/2020</td>\n",
       "      <td>9765</td>\n",
       "      <td>47</td>\n",
       "      <td>255</td>\n",
       "      <td>1</td>\n",
       "      <td>48</td>\n",
       "      <td>30</td>\n",
       "      <td>2.61</td>\n",
       "    </tr>\n",
       "    <tr>\n",
       "      <th>200</th>\n",
       "      <td>07/12/2020</td>\n",
       "      <td>9827</td>\n",
       "      <td>62</td>\n",
       "      <td>258</td>\n",
       "      <td>3</td>\n",
       "      <td>46</td>\n",
       "      <td>28</td>\n",
       "      <td>2.63</td>\n",
       "    </tr>\n",
       "    <tr>\n",
       "      <th>201</th>\n",
       "      <td>08/12/2020</td>\n",
       "      <td>9971</td>\n",
       "      <td>144</td>\n",
       "      <td>259</td>\n",
       "      <td>1</td>\n",
       "      <td>40</td>\n",
       "      <td>27</td>\n",
       "      <td>2.60</td>\n",
       "    </tr>\n",
       "    <tr>\n",
       "      <th>202</th>\n",
       "      <td>09/12/2020</td>\n",
       "      <td>10036</td>\n",
       "      <td>65</td>\n",
       "      <td>261</td>\n",
       "      <td>2</td>\n",
       "      <td>43</td>\n",
       "      <td>26</td>\n",
       "      <td>2.60</td>\n",
       "    </tr>\n",
       "    <tr>\n",
       "      <th>203</th>\n",
       "      <td>10/12/2020</td>\n",
       "      <td>10093</td>\n",
       "      <td>57</td>\n",
       "      <td>262</td>\n",
       "      <td>1</td>\n",
       "      <td>48</td>\n",
       "      <td>27</td>\n",
       "      <td>2.60</td>\n",
       "    </tr>\n",
       "  </tbody>\n",
       "</table>\n",
       "<p>204 rows × 8 columns</p>\n",
       "</div>"
      ],
      "text/plain": [
       "           Data  Confirmados_total  Confirmados_por_dia  Obitos_total  \\\n",
       "0    02/05/2020                 58                   58             6   \n",
       "1    06/05/2020                 69                   11             7   \n",
       "2    07/05/2020                 71                    2             8   \n",
       "3    08/05/2020                 78                    7             9   \n",
       "4    11/05/2020                 87                    9            11   \n",
       "..          ...                ...                  ...           ...   \n",
       "199  07/12/2020               9765                   47           255   \n",
       "200  07/12/2020               9827                   62           258   \n",
       "201  08/12/2020               9971                  144           259   \n",
       "202  09/12/2020              10036                   65           261   \n",
       "203  10/12/2020              10093                   57           262   \n",
       "\n",
       "     Obitos_por_dia Internados  UTI  Letalidade_Indaiatuba  \n",
       "0                 6          3    0                  10.34  \n",
       "1                 1          5    0                  10.14  \n",
       "2                 1          4    0                  11.27  \n",
       "3                 1          7    0                  11.54  \n",
       "4                 2         11    0                  12.64  \n",
       "..              ...        ...  ...                    ...  \n",
       "199               1         48   30                   2.61  \n",
       "200               3         46   28                   2.63  \n",
       "201               1         40   27                   2.60  \n",
       "202               2         43   26                   2.60  \n",
       "203               1         48   27                   2.60  \n",
       "\n",
       "[204 rows x 8 columns]"
      ]
     },
     "execution_count": 173,
     "metadata": {},
     "output_type": "execute_result"
    }
   ],
   "source": [
    "Df_prefeitura"
   ]
  },
  {
   "cell_type": "markdown",
   "metadata": {
    "heading_collapsed": true
   },
   "source": [
    "# Dados Governo"
   ]
  },
  {
   "cell_type": "markdown",
   "metadata": {
    "colab_type": "text",
    "hidden": true,
    "id": "r1lr5-vmhngb"
   },
   "source": [
    "Nessa primeira abordagem utilizando web scrape foi retirado apenas informações relacionadas ao número de Casos e de óbitos disponibilizados pelo site da prefeitura de Indaiatuba.\n",
    "Vamos Transformar em um Data Frame, além disso podemos calcular o número de casos e óbitos por dia, apenas fazendo a subtração dos valores no tempo\n",
    "t - (t-1)"
   ]
  },
  {
   "cell_type": "markdown",
   "metadata": {
    "colab_type": "text",
    "hidden": true,
    "id": "0qZKy-FcqTpg"
   },
   "source": [
    "Para fazer a comparação com os dados do governo do estado de SP, vamos utilizar os dados disponiveis no repositorio do github do Seade-SP https://github.com/seade-R/dados-covid-sp.\n",
    "O conjunto de dados contem valores para todos os municipios do estado de SP, e o formato do tempo que estão utilizando é o dos Estados unidos, logo foi feitos alguns ajustes para trabalhar com os dados."
   ]
  },
  {
   "cell_type": "code",
   "execution_count": 190,
   "metadata": {
    "ExecuteTime": {
     "end_time": "2020-12-13T20:23:10.176028Z",
     "start_time": "2020-12-13T20:22:47.277768Z"
    },
    "colab": {},
    "colab_type": "code",
    "hidden": true,
    "id": "YDeOHLmSk54L"
   },
   "outputs": [],
   "source": [
    "#Chamando os dados do Governo no github \n",
    "Dados_governo = pd.read_csv('https://raw.githubusercontent.com/seade-R/dados-covid-sp/master/data/dados_covid_sp.csv',sep = ';',decimal=\",\")\n",
    "\n",
    "#Mudando o formato de data que estava 2020-04-24 para o nosso 24/04/2020.\n",
    "Date_wrong_format = Dados_governo.datahora.values\n",
    "Date_right = []\n",
    "for date in Date_wrong_format:\n",
    "  Date_right.append(datetime.datetime.strptime(date, '%Y-%m-%d').strftime('%d/%m/%Y'))\n",
    "\n",
    "Dados_governo.datahora = Date_right"
   ]
  },
  {
   "cell_type": "markdown",
   "metadata": {
    "colab_type": "text",
    "hidden": true,
    "id": "FnIaEj7vh-wb"
   },
   "source": [
    "Como podemos notar o conjunto de dados do governo tem dados de todos os municipios, vamos separar para Indaiatuba. Deixando apenas as colunas de Data , Casos Positivos, Casos Positivos por dia, Óbito e Óbitos por dia"
   ]
  },
  {
   "cell_type": "code",
   "execution_count": 191,
   "metadata": {
    "ExecuteTime": {
     "end_time": "2020-12-13T20:23:11.010324Z",
     "start_time": "2020-12-13T20:23:10.178058Z"
    },
    "colab": {},
    "colab_type": "code",
    "hidden": true,
    "id": "XFrnnDjrW6dG"
   },
   "outputs": [
    {
     "name": "stderr",
     "output_type": "stream",
     "text": [
      "D:\\Users\\gusta\\Anaconda3\\lib\\site-packages\\pandas\\core\\generic.py:5303: SettingWithCopyWarning: \n",
      "A value is trying to be set on a copy of a slice from a DataFrame.\n",
      "Try using .loc[row_indexer,col_indexer] = value instead\n",
      "\n",
      "See the caveats in the documentation: https://pandas.pydata.org/pandas-docs/stable/user_guide/indexing.html#returning-a-view-versus-a-copy\n",
      "  self[name] = value\n"
     ]
    }
   ],
   "source": [
    "#Como nossa comparação é com o municipio de indaiatuba, vamos separar nossos dados\n",
    "Dados_governo2 = Dados_governo.query(\"nome_munic == 'Indaiatuba'\")\n",
    "Dados_Governo_Indaiatuba = Dados_governo2[[\"datahora\",\"casos\",\"casos_novos\",\"obitos\",\"obitos_novos\",\"letalidade\"]]\n",
    "Dados_Governo_Indaiatuba.columns = [\"Data\",\"Casos_Positivos\",\"Casos_por_dia\",\"Obitos\",\"Obitos_por_dia\",\"Letalidade\"]\n",
    "Dados_Governo_Indaiatuba.Letalidade = Dados_Governo_Indaiatuba.Letalidade*100\n",
    "\n",
    "Dados_Governo_Indaiatuba_final = Dados_Governo_Indaiatuba[Dados_Governo_Indaiatuba['Data'].isin(Df_prefeitura['Data'].values)]"
   ]
  },
  {
   "cell_type": "code",
   "execution_count": 192,
   "metadata": {
    "ExecuteTime": {
     "end_time": "2020-12-13T20:23:11.145979Z",
     "start_time": "2020-12-13T20:23:11.013316Z"
    },
    "hidden": true
   },
   "outputs": [],
   "source": [
    "Df_final = Df_prefeitura.merge(Dados_Governo_Indaiatuba_final,how = 'left', on = 'Data')"
   ]
  },
  {
   "cell_type": "code",
   "execution_count": 195,
   "metadata": {
    "ExecuteTime": {
     "end_time": "2020-12-13T20:23:43.611467Z",
     "start_time": "2020-12-13T20:23:43.605483Z"
    },
    "hidden": true
   },
   "outputs": [],
   "source": [
    "Df_final = Df_final.rename(columns = {'Confirmados_total':'Confirmados_total_Prefeitura',\n",
    "               'Confirmados_por_dia':'Confirmados_dia_Prefeitura','Obitos_total':'Obitos_total_Prefeitura',\n",
    "                'Obitos_por_dia_x':'Obitos_dia_Prefeitura','Casos_Positivos':'Confirmados_total_Governo',\n",
    "                'Casos_por_dia':'Casos_dia_Governo','Obitos':'Obitos_Total_Governo','Obitos_por_dia_y':'Obitos_dia_Governo',\n",
    "                 'Letalidade':'Letalidade_Governo','Letalidade_Indaiatuba':'Letalidade_Prefeitura'})"
   ]
  },
  {
   "cell_type": "code",
   "execution_count": 47,
   "metadata": {
    "ExecuteTime": {
     "end_time": "2020-12-07T11:37:36.371022Z",
     "start_time": "2020-12-07T11:37:36.361051Z"
    },
    "hidden": true
   },
   "outputs": [],
   "source": [
    "Df_final.to_csv('COVID_comp.csv')"
   ]
  },
  {
   "cell_type": "code",
   "execution_count": 196,
   "metadata": {
    "ExecuteTime": {
     "end_time": "2020-12-13T20:23:47.594715Z",
     "start_time": "2020-12-13T20:23:47.398129Z"
    },
    "hidden": true
   },
   "outputs": [],
   "source": [
    "Df_final.to_excel('COVID_comp.xlsx')"
   ]
  }
 ],
 "metadata": {
  "colab": {
   "name": "Covid_Indaiatuba.ipynb",
   "provenance": []
  },
  "kernelspec": {
   "display_name": "Python 3",
   "language": "python",
   "name": "python3"
  },
  "language_info": {
   "codemirror_mode": {
    "name": "ipython",
    "version": 3
   },
   "file_extension": ".py",
   "mimetype": "text/x-python",
   "name": "python",
   "nbconvert_exporter": "python",
   "pygments_lexer": "ipython3",
   "version": "3.8.3"
  }
 },
 "nbformat": 4,
 "nbformat_minor": 1
}
