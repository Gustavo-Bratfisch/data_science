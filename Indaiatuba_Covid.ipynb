{
  "nbformat": 4,
  "nbformat_minor": 0,
  "metadata": {
    "colab": {
      "name": "Covid_Indaiatuba.ipynb",
      "provenance": []
    },
    "kernelspec": {
      "name": "python3",
      "display_name": "Python 3"
    }
  },
  "cells": [
    {
      "cell_type": "markdown",
      "metadata": {
        "id": "hzvhHsIadcv3",
        "colab_type": "text"
      },
      "source": [
        "# Comparação entre dados de COVID-19 divulgados para a cidade de Indaiatuba entre Governo SP e Prefeitura. \n",
        "\n",
        "Neste projeto iremos fazer uma comparação entre os dados do numero de casos e obitos divulgados entre a prefeitura de Indaiatuba e os dados divulgados pelo governo do estado de SP. No Brasil o numero de casos do novo coronavirus vem crescendo dia após dia, sendo hoje o segundo país do mundo com o maior numero casos de COVID-19 (25/05/2020), e o estado de São Paulo é o estado com o maior numero de casos e obitos quando comparamos os valores absolutos.\n",
        "\n",
        "Quando analisamos dados municipais em relação aos dados do estado de SP é possivel ver uma disparidade entre os valores, uma reportagem da Globo foi feita questionando esses dados para municipios da Grade SP - https://glo.bo/3bZbHjC, em nota a secretaria disse que os municípios são responsáveis pela investigação e notificação dos casos de Covid-19, e que os horarios de notificação do estado e dos municipios são diferentes, por isso pode difererir.\n",
        "\n",
        "Como a prefeitura não disponibiliza os dados em formato de arquivo para download, então é necessario fazer um web scrapy das noticias postadas no site da prefeitura https://www.indaiatuba.sp.gov.br/relacoes-institucionais/imprensa/acoes-e-obras/acao/1216/ e para os dados do governo de São Paulo está disponivel no repósitorio do github https://github.com/seade-R/dados-covid-sp."
      ]
    },
    {
      "cell_type": "markdown",
      "metadata": {
        "id": "GJfL2i9Ndd_r",
        "colab_type": "text"
      },
      "source": [
        "Importantando as bibliotecas utilizadas"
      ]
    },
    {
      "cell_type": "code",
      "metadata": {
        "id": "SD9BkkaV7jQH",
        "colab_type": "code",
        "colab": {
          "base_uri": "https://localhost:8080/",
          "height": 50
        },
        "outputId": "e6ccbe12-a07b-471d-84c7-10b4e62a3e73"
      },
      "source": [
        "#Bibliotecas para fazer web scrapy dos sites\n",
        "import requests\n",
        "from requests import get\n",
        "from bs4 import BeautifulSoup\n",
        "\n",
        "#trabalhar com data frame\n",
        "import pandas as pd\n",
        "\n",
        "#Biblioteca para o processamento de linguagem\n",
        "import re\n",
        "import nltk\n",
        "nltk.download('stopwords')\n",
        "from nltk.corpus import stopwords\n",
        "from nltk.util import bigrams\n"
      ],
      "execution_count": null,
      "outputs": [
        {
          "output_type": "stream",
          "text": [
            "[nltk_data] Downloading package stopwords to /root/nltk_data...\n",
            "[nltk_data]   Package stopwords is already up-to-date!\n"
          ],
          "name": "stdout"
        }
      ]
    },
    {
      "cell_type": "markdown",
      "metadata": {
        "id": "V201Vx6w0VdH",
        "colab_type": "text"
      },
      "source": [
        "Para a primeira parte do processo, foi utilizado a url contendo todas as notícias relacionda a cidade de Indaiatuba, com isso separamos as notícias relacionado a COVID-19 que contêm dados com óbitos e casos confirmados."
      ]
    },
    {
      "cell_type": "code",
      "metadata": {
        "id": "BGjvn7C08ULX",
        "colab_type": "code",
        "colab": {}
      },
      "source": [
        "url = \"https://www.indaiatuba.sp.gov.br/relacoes-institucionais/imprensa/acoes-e-obras/acao/1216/\"\n",
        "\n",
        "results = requests.get(url)\n",
        "\n",
        "soup = BeautifulSoup(results.text, \"html.parser\")\n",
        "\n",
        "sites = []\n",
        "\n",
        "div_sit = soup.find_all('div', class_='post_acao')\n",
        "\n",
        "for container in div_sit:\n",
        "\n",
        "   aux = container.h4.a\n",
        "   if aux.text[0:15] == 'NOTA - COVID-19':\n",
        "     sites.append('https://www.indaiatuba.sp.gov.br' + aux['href'])\n",
        " \n",
        "sites.remove(\"https://www.indaiatuba.sp.gov.br/relacoes-institucionais/imprensa/noticias/28430/\")\n",
        "sites.remove(\"https://www.indaiatuba.sp.gov.br/relacoes-institucionais/imprensa/noticias/28486/\")"
      ],
      "execution_count": null,
      "outputs": []
    },
    {
      "cell_type": "markdown",
      "metadata": {
        "id": "oF87ay0x4mcy",
        "colab_type": "text"
      },
      "source": [
        "Com a lista de url's, é possivel fazer a retirada da descrição presente no site, assim como as datas de publicações."
      ]
    },
    {
      "cell_type": "code",
      "metadata": {
        "id": "6rdloh6QBOrE",
        "colab_type": "code",
        "colab": {}
      },
      "source": [
        "descricao = []\n",
        "datas = []\n",
        "\n",
        "for i in sites:\n",
        "  url1 = i\n",
        "  results1 = requests.get(url1)\n",
        "\n",
        "  soup1 = BeautifulSoup(results1.text, \"html.parser\")\n",
        "\n",
        "  div_sit1 = soup1.find_all('div', class_='grid-75 content')\n",
        "\n",
        "  for container1 in div_sit1:\n",
        "    \n",
        "    inside_ul = container1.find_all('ul', {'class':'info_noticia'})\n",
        "    get_all_text = inside_ul[0].find('li').text\n",
        "    finda_date = re.search(r'\\d{2}/\\d{2}/\\d{4}',get_all_text)\n",
        "    datas.append(finda_date.group())\n",
        "\n",
        "    str_free = ''\n",
        "    aux_des = container1.findAll('p')\n",
        "\n",
        "    for strin in aux_des:\n",
        "      str_free = str_free + ' ' + strin.text\n",
        " \n",
        "    descricao.append(str_free)"
      ],
      "execution_count": null,
      "outputs": []
    },
    {
      "cell_type": "markdown",
      "metadata": {
        "id": "hu1ujbhQPk6f",
        "colab_type": "text"
      },
      "source": [
        "Antes de iniciar o processamento de retirada dos dados, vamos definir algumas funções para nos auxiliar no pré-processamento."
      ]
    },
    {
      "cell_type": "code",
      "metadata": {
        "id": "o9c44fLTn-Xi",
        "colab_type": "code",
        "colab": {}
      },
      "source": [
        "#Função que utiliza Bigrams para encontrar valores numericos indesejados, retornando seu indice\n",
        "def Limpando_Bigrams(splitBiog,word_bigram,delnext):\n",
        "  aux_bi = []\n",
        "  for i in range(0,len(splitBiog)):\n",
        "    if  splitBiog[i] == word_bigram:\n",
        "      if delnext == 'before':\n",
        "        aux_bi.append(i-1)\n",
        "      else:\n",
        "        aux_bi.append(i+2)\n",
        "  return(aux_bi)\n",
        "\n",
        "#Função para retirar dia, ano e nome de mês\n",
        "def Limpando_Data(List_split_word,take_off_word):\n",
        "  list_index = []\n",
        "  for i in range(0,len(List_split_word)-1):\n",
        "    if List_split_word[i].isdigit():\n",
        "      if List_split_word[i+1] in take_off_word:\n",
        "        list_index.append(i)\n",
        "      if List_split_word[i-1] in take_off_word:\n",
        "\n",
        "        list_index.append(i)\n",
        "  return(list_index)\n",
        "\n",
        "#Função que retira um character da sequencia da palavra escolhida (oneword) \n",
        "def Taking_out_singleW(listword,oneword):\n",
        "  aux_oneword = []\n",
        "  for i in range(0,len(listword)):\n",
        "    if listword[i] == oneword:\n",
        "      aux_oneword.append(i+1)\n",
        "  return(DeletingIndex(tesW,aux_oneword))\n",
        "\n",
        "#Função para retirada dos dados para o caso dos óbitos vamos tirar o menor valor da lista e os casos confirmados o maior.\n",
        "def Arruman(list1,flagminmax):\n",
        "  aux2 = []\n",
        "  for ins in list1:\n",
        "    if ins.isdigit():\n",
        "      aux2.append(ins)\n",
        "  aux2 = list(map(int,aux2))\n",
        "  if len(aux2) > 0:\n",
        "    if flagminmax == 'min':\n",
        "      value = min(aux2)\n",
        "    else:\n",
        "      value = max(aux2)\n",
        "  else:\n",
        "    value = 0\n",
        "  return(value)  \n",
        "\n",
        "  #Função que utiliza o indice para retirar da lista a palavra\n",
        "def DeletingIndex(splitlist,IndexList):\n",
        "  if len(IndexList) > 0 :\n",
        "    splitlist = [i for j, i in enumerate(splitlist) if j not in IndexList]\n",
        "  return(splitlist)"
      ],
      "execution_count": null,
      "outputs": []
    },
    {
      "cell_type": "markdown",
      "metadata": {
        "id": "-R08vhEWO7dK",
        "colab_type": "text"
      },
      "source": [
        "Após definir todas funções que irao nós auxiliar e com as strings contendo a informação necessaria de todos os sites, vamos fazer um pré processamento para poder retirar essas informações do modo correto."
      ]
    },
    {
      "cell_type": "code",
      "metadata": {
        "id": "RRXTqslh_DI2",
        "colab_type": "code",
        "colab": {}
      },
      "source": [
        "# Alguns vetores de palavras que vão ser retiradas ou trocadas dentro do nosso texto.\n",
        "word = ['notificações','confirmados','óbito','curados','internados','clínico','uti','anos','masculino','março','abril','maio','junho','julho','positivos','suspeitos']\n",
        "word_out = ['anos','dia','horas','dias','ano']\n",
        "singles_out = ['exame','acrescentadas','somando','cidades','igual','constatou','outros']\n",
        "words_to_replace = ['.',',',';','-','infectados','mortes','faleceram','curas','óbitos']\n",
        "replace_to = ['','','','','confirmados','óbito','óbito','curados','óbito']\n",
        "\n",
        "#Assim como foi feito a troca das palavras numericas para os prorios numeros em si\n",
        "word_after_number =['zero','dois','três','quatro','cinco','seis','sete','oito','nove']\n",
        "num2words = {'um':1,'dois' : 2,'três': 3, 'quatro':4,'cinco':5, \\\n",
        "             'seis':6, 'sete':7,'oito' : 8,'nove':9,'dez':10,'zero': 0}\n",
        "\n",
        "#Utilizamos os bigrams (conjunto de duas palavras) para retirar alguns numeros não condizentes ao nosso texto\n",
        "tuples_out = [(\"óbito\",\"investigação\"),('óbitos', 'haoc'),('ainda', 'aguardam'),('óbito', 'ocorreram')]\n",
        "\n",
        "\n",
        "obito = []\n",
        "confirmados = []\n",
        "\n",
        "#Podemos considerar essa parte a nossa função principal, onde é feito a limpeza dos dados até chegar nos valores finais.\n",
        "for des in descricao:\n",
        "\n",
        "  transf = des\n",
        "  #retirandos pontos e trocando palavras que tem o mesmo significado\n",
        "  for ind_word in range(0,len(words_to_replace)):\n",
        "    transf = transf.replace(words_to_replace[ind_word],replace_to[ind_word])\n",
        "\n",
        "  tesW = transf.lower().split()\n",
        "  tesW = Taking_out_singleW(tesW,'mais')\n",
        "  tesW = DeletingIndex(tesW,Limpando_Data(tesW,word_out))\n",
        "\n",
        "  #retirando palavras comuns como e, de, com, em ...\n",
        "  tesW = [word for word in tesW if not word in stopwords.words()]\n",
        "\n",
        "  #retirando numeros que podem atrapalhar na obtenção dos dados, utilizando bigrams\n",
        "  for tuples in tuples_out:\n",
        "    tesW = DeletingIndex(tesW,Limpando_Bigrams(list(bigrams(tesW)),tuples,'before'))\n",
        "  \n",
        "  tesW = DeletingIndex(tesW,Limpando_Bigrams(list(bigrams(tesW)),('residentes', 'indaiatuba'),'next'))\n",
        "  \n",
        "  #fazendo a troca das palavras relacionadas a número para o número em si\n",
        "  for t in range(0,len(tesW)):\n",
        "    if tesW[t] in word_after_number:\n",
        "      tesW[t] = str(num2words[tesW[t]])\n",
        "  \n",
        "  #retirando numeros relacionados com palavras sozinas\n",
        "  for single in singles_out:\n",
        "    tesW = Taking_out_singleW(tesW,single)\n",
        "  \n",
        "  #Utilizando datas para tirar listas enumeradas.\n",
        "  total = ' '.join(tesW)\n",
        "  s = re.search(r'\\d{2}/\\d{2}', total)\n",
        "  while s != None:\n",
        "    aux_dat = s.group()\n",
        "    tesW = DeletingIndex(tesW,Limpando_Bigrams(list(bigrams(tesW)),('óbito', aux_dat),'before'))\n",
        "    tesW.remove(aux_dat)\n",
        "    total = ' '.join(tesW)\n",
        "    s = re.search(r'\\d{2}/\\d{2}', total)\n",
        "\n",
        "  #No fim retirandos todas as palvras deixando apenas os numeros e as palavras contidas no vetor word\n",
        "  Choose_words = (' '.join([i for i in tesW if i  in word or i.isnumeric()]))\n",
        "  split_words = Choose_words.split()\n",
        "\n",
        "\n",
        "  obito_aux = []\n",
        "  confirmados_aux = []\n",
        "\n",
        "  #Retirando os dados em si do que sobrou da string\n",
        "  for i in range(0,len(split_words)):\n",
        "\n",
        "    if(split_words[i] in 'óbito'):\n",
        "      obito_aux.append(split_words[i-1])\n",
        "    if(split_words[i] in 'confirmados'):\n",
        "      confirmados_aux.append(split_words[i-1])\n",
        "\n",
        " \n",
        "  obito.append(Arruman(obito_aux,'min'))\n",
        "  confirmados.append(Arruman(confirmados_aux,'max'))\n"
      ],
      "execution_count": null,
      "outputs": []
    },
    {
      "cell_type": "markdown",
      "metadata": {
        "id": "r1lr5-vmhngb",
        "colab_type": "text"
      },
      "source": [
        "Nessa primeira abordagem utilizando web scrape foi retirado apenas informações relacionadas ao número de Casos e de óbitos disponibilizados pelo site da prefeitura de Indaiatuba.\n",
        "Vamos Transformar em um Data Frame, além disso podemos calcular o número de casos e óbitos por dia, apenas fazendo a subtração dos valores no tempo\n",
        "t - (t-1)"
      ]
    },
    {
      "cell_type": "code",
      "metadata": {
        "id": "R6wvYvaBikW_",
        "colab_type": "code",
        "colab": {}
      },
      "source": [
        "import numpy as np\n",
        "\n",
        "#Visualização dos dados\n",
        "import cufflinks as cf\n",
        "from plotly.offline import plot, iplot\n",
        "\n",
        "import matplotlib.pyplot as plt\n",
        "import plotly.graph_objects as go\n",
        "\n",
        "#Para trabalhar com datas/horas\n",
        "import datetime\n",
        "\n",
        "#Criando o conjunto de dados relacionado a COVID-19 da prefeitura de SP\n",
        "Dados_Indaiatuba = pd.DataFrame()\n",
        "Dados_Indaiatuba['Data'] = list(reversed(datas))\n",
        "Dados_Indaiatuba['Obitos'] = list(reversed(obito))\n",
        "Dados_Indaiatuba['Casos_Positivos'] = list(reversed(confirmados))\n",
        "Dados_Indaiatuba['Letalidade'] = (Dados_Indaiatuba.Obitos/Dados_Indaiatuba.Casos_Positivos)*100\n",
        "\n",
        "#Fazendo o calculo de casos e óbitos por dia, fazendo a subtração entre o dado no tempo t e o tempo anterior t-1\n",
        "Obitos_Per_day = [Dados_Indaiatuba.Obitos.values[0]]\n",
        "Positivos_per_day = [Dados_Indaiatuba.Casos_Positivos.values[0]]\n",
        "\n",
        "for i in range(1,len(Dados_Indaiatuba.Obitos.values)):\n",
        "  Obitos_Per_day.append(Dados_Indaiatuba.Obitos.values[i] - Dados_Indaiatuba.Obitos.values[i-1])\n",
        "  Positivos_per_day.append(Dados_Indaiatuba.Casos_Positivos.values[i] - Dados_Indaiatuba.Casos_Positivos.values[i-1])\n",
        "\n",
        "Dados_Indaiatuba['Obitos_per_day'] = Obitos_Per_day\n",
        "Dados_Indaiatuba['Casos_Positivos_per_day'] = Positivos_per_day\n"
      ],
      "execution_count": null,
      "outputs": []
    },
    {
      "cell_type": "markdown",
      "metadata": {
        "id": "0qZKy-FcqTpg",
        "colab_type": "text"
      },
      "source": [
        "Para fazer a comparação com os dados do governo do estado de SP, vamos utilizar os dados disponiveis no repositorio do github do Seade-SP https://github.com/seade-R/dados-covid-sp.\n",
        "O conjunto de dados contem valores para todos os municipios do estado de SP, e o formato do tempo que estão utilizando é o dos Estados unidos, logo foi feitos alguns ajustes para trabalhar com os dados."
      ]
    },
    {
      "cell_type": "code",
      "metadata": {
        "id": "YDeOHLmSk54L",
        "colab_type": "code",
        "colab": {}
      },
      "source": [
        "#Chamando os dados do Governo no github \n",
        "Dados_governo = pd.read_csv('https://raw.githubusercontent.com/seade-R/dados-covid-sp/master/data/dados_covid_sp.csv',sep = ';',decimal=\",\")\n",
        "\n",
        "#Mudando o formato de data que estava 2020-04-24 para o nosso 24/04/2020.\n",
        "Date_wrong_format = Dados_governo.datahora.values\n",
        "Date_right = []\n",
        "for date in Date_wrong_format:\n",
        "  Date_right.append(datetime.datetime.strptime(date, '%Y-%m-%d').strftime('%d/%m/%Y'))\n",
        "\n",
        "Dados_governo.datahora = Date_right"
      ],
      "execution_count": null,
      "outputs": []
    },
    {
      "cell_type": "markdown",
      "metadata": {
        "id": "FnIaEj7vh-wb",
        "colab_type": "text"
      },
      "source": [
        "Como podemos notar o conjunto de dados do governo tem dados de todos os municipios, vamos separar para Indaiatuba. Deixando apenas as colunas de Data , Casos Positivos, Casos Positivos por dia, Óbito e Óbitos por dia"
      ]
    },
    {
      "cell_type": "code",
      "metadata": {
        "id": "XFrnnDjrW6dG",
        "colab_type": "code",
        "colab": {}
      },
      "source": [
        "#Como nossa comparação é com o municipio de indaiatuba, vamos separar nossos dados\n",
        "Dados_governo2 = Dados_governo.query(\"nome_munic == 'Indaiatuba'\")\n",
        "Dados_Governo_Indaiatuba = Dados_governo2[[\"datahora\",\"casos\",\"casos_novos\",\"obitos\",\"obitos_novos\",\"letalidade\"]]\n",
        "Dados_Governo_Indaiatuba.columns = [\"Data\",\"Casos_Positivos\",\"Casos_por_dia\",\"Obitos\",\"Obitos_por_dia\",\"Letalidade\"]\n",
        "Dados_Governo_Indaiatuba.Letalidade = Dados_Governo_Indaiatuba.Letalidade*100"
      ],
      "execution_count": null,
      "outputs": []
    },
    {
      "cell_type": "markdown",
      "metadata": {
        "id": "idya3VYtrQN_",
        "colab_type": "text"
      },
      "source": [
        "#Visualização dos Dados\n",
        "\n",
        "Vamos agora utilizar o pacote plotly para fazer a visualização dos dados.\n",
        "\n",
        "Foi feito o plote do gráfico entre Casos de Covid por dia e Numero de mortos por dia. Podemos notar que o numero de casos por dia  em alguns momentos chegam a ser quatro vezes mais para o dado da prefeitura e crescem de uma forma mais veloz, enquanto pelos dados do Governo parece manter dentro dentro um intervalo de variação.\n",
        "\n",
        "Quando olhamos para o número de mortos temos que os dois estão proximos, com variações parecidas entre eles, com picos de mortes em alguns dias para o Governo.\n",
        "\n",
        "Depois que foi implantado o plano SP que a região de Indaiatuba entrou na Fase 2 (https://www.saopaulo.sp.gov.br/planosp/) tivemos um aumento no número de casos, para os dois cenarios entretando foi maior para os dados da Prefeitura porém não de mortes."
      ]
    },
    {
      "cell_type": "code",
      "metadata": {
        "id": "QQw3nB_FmONb",
        "colab_type": "code",
        "colab": {
          "base_uri": "https://localhost:8080/",
          "height": 542
        },
        "outputId": "d08fbc64-a721-4a69-8fd2-29ea69b93413"
      },
      "source": [
        "from plotly.subplots import make_subplots\n",
        "#Foi criado um subplot para plotar na mesma figura os dois graficos\n",
        "fig = make_subplots(rows=1, cols=2,subplot_titles = [\"Novos Casos por Dia\",\"Óbitos por Dia\"])\n",
        "\n",
        "#Adicionar ao mesmo Grafico duas linhas\n",
        "fig.add_trace(go.Scatter(x = Dados_Governo_Indaiatuba.Data, y = Dados_Governo_Indaiatuba.Casos_por_dia, mode = \"lines\" ,name = \"Governo de São Paulo\"),row=1, col=1)\n",
        "fig.add_trace(go.Scatter(x = Dados_Indaiatuba.Data, y = Dados_Indaiatuba.Casos_Positivos_per_day, mode = \"lines\" ,name = \"Prefeitura de Indaiatuba\"),row=1, col=1)\n",
        "\n",
        "#Adicionar anotações dentro do grafico\n",
        "fig.add_annotation(x=\"10/04/2020\",y=8,text=\"Feriado\",xref=\"x\", yref=\"y\",showarrow=True,arrowhead=7,ax=0,ay=-40)\n",
        "fig.add_annotation(x=\"01/05/2020\",y=11,text=\"Feriado\",xref=\"x\", yref=\"y\",showarrow=True,arrowhead=7,ax=0,ay=-40)\n",
        "fig.add_annotation(x=\"02/06/2020\",y=45,text=\"Inicio Plano SP - Laranja\",xref=\"x\", yref=\"y\",showarrow=True,arrowhead=7,ax=0,ay=-40)\n",
        "fig.add_annotation(x=\"02/07/2020\",y=134,text=\"Inicio Plano SP - Vermelho\",xref=\"x\", yref=\"y\",showarrow=True,arrowhead=7,ax=0,ay=-40)\n",
        "\n",
        "#Entrar no segundo Grafico\n",
        "fig.add_trace(go.Scatter(x = Dados_Governo_Indaiatuba.Data, y = Dados_Governo_Indaiatuba.Obitos_por_dia, mode = \"lines\" ,name = \"Governo de São Paulo\"), row=1, col=2)\n",
        "fig.add_trace(go.Scatter(x = Dados_Indaiatuba.Data, y = Dados_Indaiatuba.Obitos_per_day, mode = \"lines\" ,name = \"Prefeitura de Indaiatuba\"), row=1, col=2)\n",
        "\n",
        "#Adicionar anotações dentro do grafico\n",
        "fig.add_annotation(x=\"10/04/2020\",y=0,text=\"Feriado\",xref=\"x2\", yref=\"y2\",showarrow=True,arrowhead=7,ax=0,ay=-40)\n",
        "fig.add_annotation(x=\"01/05/2020\",y=1,text=\"Feriado\",xref=\"x2\", yref=\"y2\",showarrow=True,arrowhead=7,ax=0,ay=-40)\n",
        "fig.add_annotation(x=\"03/06/2020\",y=2,text=\"Inicio Plano SP - Laranja\",xref=\"x2\", yref=\"y2\",showarrow=True,arrowhead=7,ax=0,ay=-40)\n",
        "fig.add_annotation(x=\"01/07/2020\",y=5,text=\"Inicio Plano SP - Vermelho\",xref=\"x2\", yref=\"y2\",showarrow=True,arrowhead=7,ax=0,ay=-40)\n",
        "\n",
        "#Mudar a escrita dos eixos\n",
        "fig.update_xaxes(title_text=\"Dia\", row=1, col=1)\n",
        "fig.update_xaxes(title_text=\"Dia\", row=1, col=2)\n",
        "fig.update_yaxes(title_text=\"Valores\", row=1, col=1)\n",
        "fig.update_yaxes(title_text=\"Valores\", row=1, col=2)\n",
        "\n",
        "fig.show()"
      ],
      "execution_count": null,
      "outputs": [
        {
          "output_type": "display_data",
          "data": {
            "text/html": [
              "<html>\n",
              "<head><meta charset=\"utf-8\" /></head>\n",
              "<body>\n",
              "    <div>\n",
              "            <script src=\"https://cdnjs.cloudflare.com/ajax/libs/mathjax/2.7.5/MathJax.js?config=TeX-AMS-MML_SVG\"></script><script type=\"text/javascript\">if (window.MathJax) {MathJax.Hub.Config({SVG: {font: \"STIX-Web\"}});}</script>\n",
              "                <script type=\"text/javascript\">window.PlotlyConfig = {MathJaxConfig: 'local'};</script>\n",
              "        <script src=\"https://cdn.plot.ly/plotly-latest.min.js\"></script>    \n",
              "            <div id=\"5a1d32f7-16bf-4c01-a6b1-3b7d21eb9d30\" class=\"plotly-graph-div\" style=\"height:525px; width:100%;\"></div>\n",
              "            <script type=\"text/javascript\">\n",
              "                \n",
              "                    window.PLOTLYENV=window.PLOTLYENV || {};\n",
              "                    \n",
              "                if (document.getElementById(\"5a1d32f7-16bf-4c01-a6b1-3b7d21eb9d30\")) {\n",
              "                    Plotly.newPlot(\n",
              "                        '5a1d32f7-16bf-4c01-a6b1-3b7d21eb9d30',\n",
              "                        [{\"mode\": \"lines\", \"name\": \"Governo de S\\u00e3o Paulo\", \"type\": \"scatter\", \"x\": [\"25/02/2020\", \"26/02/2020\", \"27/02/2020\", \"28/02/2020\", \"29/02/2020\", \"01/03/2020\", \"02/03/2020\", \"03/03/2020\", \"04/03/2020\", \"05/03/2020\", \"06/03/2020\", \"07/03/2020\", \"08/03/2020\", \"09/03/2020\", \"10/03/2020\", \"11/03/2020\", \"12/03/2020\", \"13/03/2020\", \"14/03/2020\", \"15/03/2020\", \"16/03/2020\", \"17/03/2020\", \"18/03/2020\", \"19/03/2020\", \"20/03/2020\", \"21/03/2020\", \"22/03/2020\", \"23/03/2020\", \"24/03/2020\", \"25/03/2020\", \"26/03/2020\", \"27/03/2020\", \"28/03/2020\", \"29/03/2020\", \"30/03/2020\", \"31/03/2020\", \"01/04/2020\", \"02/04/2020\", \"03/04/2020\", \"04/04/2020\", \"05/04/2020\", \"06/04/2020\", \"07/04/2020\", \"08/04/2020\", \"09/04/2020\", \"10/04/2020\", \"11/04/2020\", \"12/04/2020\", \"13/04/2020\", \"14/04/2020\", \"15/04/2020\", \"16/04/2020\", \"17/04/2020\", \"18/04/2020\", \"19/04/2020\", \"20/04/2020\", \"21/04/2020\", \"22/04/2020\", \"23/04/2020\", \"24/04/2020\", \"25/04/2020\", \"26/04/2020\", \"27/04/2020\", \"28/04/2020\", \"29/04/2020\", \"30/04/2020\", \"01/05/2020\", \"02/05/2020\", \"03/05/2020\", \"04/05/2020\", \"05/05/2020\", \"06/05/2020\", \"07/05/2020\", \"08/05/2020\", \"09/05/2020\", \"10/05/2020\", \"11/05/2020\", \"12/05/2020\", \"13/05/2020\", \"14/05/2020\", \"15/05/2020\", \"16/05/2020\", \"17/05/2020\", \"18/05/2020\", \"19/05/2020\", \"20/05/2020\", \"21/05/2020\", \"22/05/2020\", \"23/05/2020\", \"24/05/2020\", \"25/05/2020\", \"26/05/2020\", \"27/05/2020\", \"28/05/2020\", \"29/05/2020\", \"30/05/2020\", \"31/05/2020\", \"01/06/2020\", \"02/06/2020\", \"03/06/2020\", \"04/06/2020\", \"05/06/2020\", \"06/06/2020\", \"07/06/2020\", \"08/06/2020\", \"09/06/2020\", \"10/06/2020\", \"11/06/2020\", \"12/06/2020\", \"13/06/2020\", \"14/06/2020\", \"15/06/2020\", \"16/06/2020\", \"17/06/2020\", \"18/06/2020\", \"19/06/2020\", \"20/06/2020\", \"21/06/2020\", \"22/06/2020\", \"23/06/2020\", \"24/06/2020\", \"25/06/2020\", \"26/06/2020\", \"27/06/2020\", \"28/06/2020\", \"29/06/2020\", \"30/06/2020\", \"01/07/2020\", \"02/07/2020\", \"03/07/2020\", \"04/07/2020\", \"05/07/2020\", \"06/07/2020\", \"07/07/2020\", \"08/07/2020\", \"09/07/2020\", \"10/07/2020\", \"11/07/2020\", \"12/07/2020\"], \"xaxis\": \"x\", \"y\": [0, 0, 0, 0, 0, 0, 0, 0, 0, 0, 0, 0, 0, 0, 0, 0, 0, 0, 0, 0, 0, 0, 0, 0, 0, 0, 0, 0, 0, 0, 0, 0, 0, 0, 0, 0, 2, 0, 0, 0, 0, 0, 1, 0, 0, 0, 1, 0, 0, 0, 0, 2, 3, 0, 0, 0, 0, 0, 4, 1, 0, 0, 2, 6, 2, 1, 3, 0, 0, 0, 2, 3, 2, 0, 1, 0, 0, 3, 3, 1, 1, 13, 0, 1, 6, 1, 14, 15, 3, 3, 0, 2, 1, 14, 10, 1, 2, 16, 5, 4, 3, 7, 14, 3, 0, 3, 3, 4, 1, 4, 2, 2, 5, 0, 3, 78, 30, 1, 0, 49, 30, 36, 52, 40, 9, 1, 53, 39, 59, 57, 0, 4, 5, 20, 21, 12, 10, 12, 2], \"yaxis\": \"y\"}, {\"mode\": \"lines\", \"name\": \"Prefeitura de Indaiatuba\", \"type\": \"scatter\", \"x\": [\"06/04/2020\", \"07/04/2020\", \"15/04/2020\", \"18/04/2020\", \"20/04/2020\", \"21/04/2020\", \"24/04/2020\", \"02/05/2020\", \"06/05/2020\", \"07/05/2020\", \"08/05/2020\", \"11/05/2020\", \"12/05/2020\", \"15/05/2020\", \"17/05/2020\", \"18/05/2020\", \"21/05/2020\", \"23/05/2020\", \"24/05/2020\", \"25/05/2020\", \"27/05/2020\", \"29/05/2020\", \"31/05/2020\", \"01/06/2020\", \"02/06/2020\", \"03/06/2020\", \"05/06/2020\", \"06/06/2020\", \"07/06/2020\", \"08/06/2020\", \"09/06/2020\", \"10/06/2020\", \"11/06/2020\", \"12/06/2020\", \"15/06/2020\", \"16/06/2020\", \"17/06/2020\", \"18/06/2020\", \"19/06/2020\", \"20/06/2020\", \"22/06/2020\", \"23/06/2020\", \"24/06/2020\", \"25/06/2020\", \"26/06/2020\", \"27/06/2020\", \"29/06/2020\", \"30/06/2020\", \"01/07/2020\", \"02/07/2020\", \"03/07/2020\", \"04/07/2020\", \"05/07/2020\", \"06/07/2020\", \"08/07/2020\", \"09/07/2020\", \"10/07/2020\", \"11/07/2020\", \"12/07/2020\"], \"xaxis\": \"x\", \"y\": [3, 8, 11, 8, 2, 0, 14, 12, 11, 2, 7, 9, 4, 21, 5, 17, 57, 11, 4, 9, 29, 16, 10, 6, 45, 9, 28, 29, 0, 14, 16, 21, 28, 16, 56, 24, 130, 68, 80, 14, 43, 205, 92, 56, 112, 79, 58, 130, 104, 134, 116, 60, 13, 30, 241, 99, 70, 58, 16], \"yaxis\": \"y\"}, {\"mode\": \"lines\", \"name\": \"Governo de S\\u00e3o Paulo\", \"type\": \"scatter\", \"x\": [\"25/02/2020\", \"26/02/2020\", \"27/02/2020\", \"28/02/2020\", \"29/02/2020\", \"01/03/2020\", \"02/03/2020\", \"03/03/2020\", \"04/03/2020\", \"05/03/2020\", \"06/03/2020\", \"07/03/2020\", \"08/03/2020\", \"09/03/2020\", \"10/03/2020\", \"11/03/2020\", \"12/03/2020\", \"13/03/2020\", \"14/03/2020\", \"15/03/2020\", \"16/03/2020\", \"17/03/2020\", \"18/03/2020\", \"19/03/2020\", \"20/03/2020\", \"21/03/2020\", \"22/03/2020\", \"23/03/2020\", \"24/03/2020\", \"25/03/2020\", \"26/03/2020\", \"27/03/2020\", \"28/03/2020\", \"29/03/2020\", \"30/03/2020\", \"31/03/2020\", \"01/04/2020\", \"02/04/2020\", \"03/04/2020\", \"04/04/2020\", \"05/04/2020\", \"06/04/2020\", \"07/04/2020\", \"08/04/2020\", \"09/04/2020\", \"10/04/2020\", \"11/04/2020\", \"12/04/2020\", \"13/04/2020\", \"14/04/2020\", \"15/04/2020\", \"16/04/2020\", \"17/04/2020\", \"18/04/2020\", \"19/04/2020\", \"20/04/2020\", \"21/04/2020\", \"22/04/2020\", \"23/04/2020\", \"24/04/2020\", \"25/04/2020\", \"26/04/2020\", \"27/04/2020\", \"28/04/2020\", \"29/04/2020\", \"30/04/2020\", \"01/05/2020\", \"02/05/2020\", \"03/05/2020\", \"04/05/2020\", \"05/05/2020\", \"06/05/2020\", \"07/05/2020\", \"08/05/2020\", \"09/05/2020\", \"10/05/2020\", \"11/05/2020\", \"12/05/2020\", \"13/05/2020\", \"14/05/2020\", \"15/05/2020\", \"16/05/2020\", \"17/05/2020\", \"18/05/2020\", \"19/05/2020\", \"20/05/2020\", \"21/05/2020\", \"22/05/2020\", \"23/05/2020\", \"24/05/2020\", \"25/05/2020\", \"26/05/2020\", \"27/05/2020\", \"28/05/2020\", \"29/05/2020\", \"30/05/2020\", \"31/05/2020\", \"01/06/2020\", \"02/06/2020\", \"03/06/2020\", \"04/06/2020\", \"05/06/2020\", \"06/06/2020\", \"07/06/2020\", \"08/06/2020\", \"09/06/2020\", \"10/06/2020\", \"11/06/2020\", \"12/06/2020\", \"13/06/2020\", \"14/06/2020\", \"15/06/2020\", \"16/06/2020\", \"17/06/2020\", \"18/06/2020\", \"19/06/2020\", \"20/06/2020\", \"21/06/2020\", \"22/06/2020\", \"23/06/2020\", \"24/06/2020\", \"25/06/2020\", \"26/06/2020\", \"27/06/2020\", \"28/06/2020\", \"29/06/2020\", \"30/06/2020\", \"01/07/2020\", \"02/07/2020\", \"03/07/2020\", \"04/07/2020\", \"05/07/2020\", \"06/07/2020\", \"07/07/2020\", \"08/07/2020\", \"09/07/2020\", \"10/07/2020\", \"11/07/2020\", \"12/07/2020\"], \"xaxis\": \"x2\", \"y\": [0, 0, 0, 0, 0, 0, 0, 0, 0, 0, 0, 0, 0, 0, 0, 0, 0, 0, 0, 0, 0, 0, 0, 0, 0, 0, 0, 0, 0, 0, 0, 0, 0, 0, 0, 0, 0, 0, 0, 0, 0, 0, 0, 0, 0, 0, 0, 0, 0, 0, 0, 0, 0, 0, 0, 0, 0, 0, 3, 0, 0, 0, 1, 0, 0, 0, 0, 0, 0, 0, 0, 0, 0, 3, 1, 0, 0, 1, 1, 0, 0, 0, 0, 0, 3, 0, 0, 1, 0, 0, 0, 0, 0, 0, 6, 0, 0, 0, 0, 0, 0, 0, 2, 0, 0, 0, 3, 0, 0, 1, 0, 0, 1, 0, 2, 2, 0, 0, 0, 5, 1, 0, 0, 1, 0, 0, 6, 0, 1, 0, 0, 0, 0, 0, 0, 1, 0, 11, 0], \"yaxis\": \"y2\"}, {\"mode\": \"lines\", \"name\": \"Prefeitura de Indaiatuba\", \"type\": \"scatter\", \"x\": [\"06/04/2020\", \"07/04/2020\", \"15/04/2020\", \"18/04/2020\", \"20/04/2020\", \"21/04/2020\", \"24/04/2020\", \"02/05/2020\", \"06/05/2020\", \"07/05/2020\", \"08/05/2020\", \"11/05/2020\", \"12/05/2020\", \"15/05/2020\", \"17/05/2020\", \"18/05/2020\", \"21/05/2020\", \"23/05/2020\", \"24/05/2020\", \"25/05/2020\", \"27/05/2020\", \"29/05/2020\", \"31/05/2020\", \"01/06/2020\", \"02/06/2020\", \"03/06/2020\", \"05/06/2020\", \"06/06/2020\", \"07/06/2020\", \"08/06/2020\", \"09/06/2020\", \"10/06/2020\", \"11/06/2020\", \"12/06/2020\", \"15/06/2020\", \"16/06/2020\", \"17/06/2020\", \"18/06/2020\", \"19/06/2020\", \"20/06/2020\", \"22/06/2020\", \"23/06/2020\", \"24/06/2020\", \"25/06/2020\", \"26/06/2020\", \"27/06/2020\", \"29/06/2020\", \"30/06/2020\", \"01/07/2020\", \"02/07/2020\", \"03/07/2020\", \"04/07/2020\", \"05/07/2020\", \"06/07/2020\", \"08/07/2020\", \"09/07/2020\", \"10/07/2020\", \"11/07/2020\", \"12/07/2020\"], \"xaxis\": \"x2\", \"y\": [0, 0, 1, 1, 1, 1, 1, 1, 1, 1, 1, 2, 1, 0, 1, 1, 2, 2, 2, 1, 1, 2, 1, 0, 1, 1, 1, 1, 1, 3, 2, 2, 1, 1, 3, 1, 2, 1, 2, 1, 1, 4, 2, 1, 1, 2, 2, 0, 5, 2, 3, 3, 4, 0, 4, 1, 1, 1, 2], \"yaxis\": \"y2\"}],\n",
              "                        {\"annotations\": [{\"font\": {\"size\": 16}, \"showarrow\": false, \"text\": \"Novos Casos por Dia\", \"x\": 0.225, \"xanchor\": \"center\", \"xref\": \"paper\", \"y\": 1.0, \"yanchor\": \"bottom\", \"yref\": \"paper\"}, {\"font\": {\"size\": 16}, \"showarrow\": false, \"text\": \"\\u00d3bitos por Dia\", \"x\": 0.775, \"xanchor\": \"center\", \"xref\": \"paper\", \"y\": 1.0, \"yanchor\": \"bottom\", \"yref\": \"paper\"}, {\"arrowhead\": 7, \"ax\": 0, \"ay\": -40, \"showarrow\": true, \"text\": \"Feriado\", \"x\": \"10/04/2020\", \"xref\": \"x\", \"y\": 8, \"yref\": \"y\"}, {\"arrowhead\": 7, \"ax\": 0, \"ay\": -40, \"showarrow\": true, \"text\": \"Feriado\", \"x\": \"01/05/2020\", \"xref\": \"x\", \"y\": 11, \"yref\": \"y\"}, {\"arrowhead\": 7, \"ax\": 0, \"ay\": -40, \"showarrow\": true, \"text\": \"Inicio Plano SP - Laranja\", \"x\": \"02/06/2020\", \"xref\": \"x\", \"y\": 45, \"yref\": \"y\"}, {\"arrowhead\": 7, \"ax\": 0, \"ay\": -40, \"showarrow\": true, \"text\": \"Inicio Plano SP - Vermelho\", \"x\": \"02/07/2020\", \"xref\": \"x\", \"y\": 134, \"yref\": \"y\"}, {\"arrowhead\": 7, \"ax\": 0, \"ay\": -40, \"showarrow\": true, \"text\": \"Feriado\", \"x\": \"10/04/2020\", \"xref\": \"x2\", \"y\": 0, \"yref\": \"y2\"}, {\"arrowhead\": 7, \"ax\": 0, \"ay\": -40, \"showarrow\": true, \"text\": \"Feriado\", \"x\": \"01/05/2020\", \"xref\": \"x2\", \"y\": 1, \"yref\": \"y2\"}, {\"arrowhead\": 7, \"ax\": 0, \"ay\": -40, \"showarrow\": true, \"text\": \"Inicio Plano SP - Laranja\", \"x\": \"03/06/2020\", \"xref\": \"x2\", \"y\": 2, \"yref\": \"y2\"}, {\"arrowhead\": 7, \"ax\": 0, \"ay\": -40, \"showarrow\": true, \"text\": \"Inicio Plano SP - Vermelho\", \"x\": \"01/07/2020\", \"xref\": \"x2\", \"y\": 5, \"yref\": \"y2\"}], \"template\": {\"data\": {\"bar\": [{\"error_x\": {\"color\": \"#2a3f5f\"}, \"error_y\": {\"color\": \"#2a3f5f\"}, \"marker\": {\"line\": {\"color\": \"#E5ECF6\", \"width\": 0.5}}, \"type\": \"bar\"}], \"barpolar\": [{\"marker\": {\"line\": {\"color\": \"#E5ECF6\", \"width\": 0.5}}, \"type\": \"barpolar\"}], \"carpet\": [{\"aaxis\": {\"endlinecolor\": \"#2a3f5f\", \"gridcolor\": \"white\", \"linecolor\": \"white\", \"minorgridcolor\": \"white\", \"startlinecolor\": \"#2a3f5f\"}, \"baxis\": {\"endlinecolor\": \"#2a3f5f\", \"gridcolor\": \"white\", \"linecolor\": \"white\", \"minorgridcolor\": \"white\", \"startlinecolor\": \"#2a3f5f\"}, \"type\": \"carpet\"}], \"choropleth\": [{\"colorbar\": {\"outlinewidth\": 0, \"ticks\": \"\"}, \"type\": \"choropleth\"}], \"contour\": [{\"colorbar\": {\"outlinewidth\": 0, \"ticks\": \"\"}, \"colorscale\": [[0.0, \"#0d0887\"], [0.1111111111111111, \"#46039f\"], [0.2222222222222222, \"#7201a8\"], [0.3333333333333333, \"#9c179e\"], [0.4444444444444444, \"#bd3786\"], [0.5555555555555556, \"#d8576b\"], [0.6666666666666666, \"#ed7953\"], [0.7777777777777778, \"#fb9f3a\"], [0.8888888888888888, \"#fdca26\"], [1.0, \"#f0f921\"]], \"type\": \"contour\"}], \"contourcarpet\": [{\"colorbar\": {\"outlinewidth\": 0, \"ticks\": \"\"}, \"type\": \"contourcarpet\"}], \"heatmap\": [{\"colorbar\": {\"outlinewidth\": 0, \"ticks\": \"\"}, \"colorscale\": [[0.0, \"#0d0887\"], [0.1111111111111111, \"#46039f\"], [0.2222222222222222, \"#7201a8\"], [0.3333333333333333, \"#9c179e\"], [0.4444444444444444, \"#bd3786\"], [0.5555555555555556, \"#d8576b\"], [0.6666666666666666, \"#ed7953\"], [0.7777777777777778, \"#fb9f3a\"], [0.8888888888888888, \"#fdca26\"], [1.0, \"#f0f921\"]], \"type\": \"heatmap\"}], \"heatmapgl\": [{\"colorbar\": {\"outlinewidth\": 0, \"ticks\": \"\"}, \"colorscale\": [[0.0, \"#0d0887\"], [0.1111111111111111, \"#46039f\"], [0.2222222222222222, \"#7201a8\"], [0.3333333333333333, \"#9c179e\"], [0.4444444444444444, \"#bd3786\"], [0.5555555555555556, \"#d8576b\"], [0.6666666666666666, \"#ed7953\"], [0.7777777777777778, \"#fb9f3a\"], [0.8888888888888888, \"#fdca26\"], [1.0, \"#f0f921\"]], \"type\": \"heatmapgl\"}], \"histogram\": [{\"marker\": {\"colorbar\": {\"outlinewidth\": 0, \"ticks\": \"\"}}, \"type\": \"histogram\"}], \"histogram2d\": [{\"colorbar\": {\"outlinewidth\": 0, \"ticks\": \"\"}, \"colorscale\": [[0.0, \"#0d0887\"], [0.1111111111111111, \"#46039f\"], [0.2222222222222222, \"#7201a8\"], [0.3333333333333333, \"#9c179e\"], [0.4444444444444444, \"#bd3786\"], [0.5555555555555556, \"#d8576b\"], [0.6666666666666666, \"#ed7953\"], [0.7777777777777778, \"#fb9f3a\"], [0.8888888888888888, \"#fdca26\"], [1.0, \"#f0f921\"]], \"type\": \"histogram2d\"}], \"histogram2dcontour\": [{\"colorbar\": {\"outlinewidth\": 0, \"ticks\": \"\"}, \"colorscale\": [[0.0, \"#0d0887\"], [0.1111111111111111, \"#46039f\"], [0.2222222222222222, \"#7201a8\"], [0.3333333333333333, \"#9c179e\"], [0.4444444444444444, \"#bd3786\"], [0.5555555555555556, \"#d8576b\"], [0.6666666666666666, \"#ed7953\"], [0.7777777777777778, \"#fb9f3a\"], [0.8888888888888888, \"#fdca26\"], [1.0, \"#f0f921\"]], \"type\": \"histogram2dcontour\"}], \"mesh3d\": [{\"colorbar\": {\"outlinewidth\": 0, \"ticks\": \"\"}, \"type\": \"mesh3d\"}], \"parcoords\": [{\"line\": {\"colorbar\": {\"outlinewidth\": 0, \"ticks\": \"\"}}, \"type\": \"parcoords\"}], \"pie\": [{\"automargin\": true, \"type\": \"pie\"}], \"scatter\": [{\"marker\": {\"colorbar\": {\"outlinewidth\": 0, \"ticks\": \"\"}}, \"type\": \"scatter\"}], \"scatter3d\": [{\"line\": {\"colorbar\": {\"outlinewidth\": 0, \"ticks\": \"\"}}, \"marker\": {\"colorbar\": {\"outlinewidth\": 0, \"ticks\": \"\"}}, \"type\": \"scatter3d\"}], \"scattercarpet\": [{\"marker\": {\"colorbar\": {\"outlinewidth\": 0, \"ticks\": \"\"}}, \"type\": \"scattercarpet\"}], \"scattergeo\": [{\"marker\": {\"colorbar\": {\"outlinewidth\": 0, \"ticks\": \"\"}}, \"type\": \"scattergeo\"}], \"scattergl\": [{\"marker\": {\"colorbar\": {\"outlinewidth\": 0, \"ticks\": \"\"}}, \"type\": \"scattergl\"}], \"scattermapbox\": [{\"marker\": {\"colorbar\": {\"outlinewidth\": 0, \"ticks\": \"\"}}, \"type\": \"scattermapbox\"}], \"scatterpolar\": [{\"marker\": {\"colorbar\": {\"outlinewidth\": 0, \"ticks\": \"\"}}, \"type\": \"scatterpolar\"}], \"scatterpolargl\": [{\"marker\": {\"colorbar\": {\"outlinewidth\": 0, \"ticks\": \"\"}}, \"type\": \"scatterpolargl\"}], \"scatterternary\": [{\"marker\": {\"colorbar\": {\"outlinewidth\": 0, \"ticks\": \"\"}}, \"type\": \"scatterternary\"}], \"surface\": [{\"colorbar\": {\"outlinewidth\": 0, \"ticks\": \"\"}, \"colorscale\": [[0.0, \"#0d0887\"], [0.1111111111111111, \"#46039f\"], [0.2222222222222222, \"#7201a8\"], [0.3333333333333333, \"#9c179e\"], [0.4444444444444444, \"#bd3786\"], [0.5555555555555556, \"#d8576b\"], [0.6666666666666666, \"#ed7953\"], [0.7777777777777778, \"#fb9f3a\"], [0.8888888888888888, \"#fdca26\"], [1.0, \"#f0f921\"]], \"type\": \"surface\"}], \"table\": [{\"cells\": {\"fill\": {\"color\": \"#EBF0F8\"}, \"line\": {\"color\": \"white\"}}, \"header\": {\"fill\": {\"color\": \"#C8D4E3\"}, \"line\": {\"color\": \"white\"}}, \"type\": \"table\"}]}, \"layout\": {\"annotationdefaults\": {\"arrowcolor\": \"#2a3f5f\", \"arrowhead\": 0, \"arrowwidth\": 1}, \"coloraxis\": {\"colorbar\": {\"outlinewidth\": 0, \"ticks\": \"\"}}, \"colorscale\": {\"diverging\": [[0, \"#8e0152\"], [0.1, \"#c51b7d\"], [0.2, \"#de77ae\"], [0.3, \"#f1b6da\"], [0.4, \"#fde0ef\"], [0.5, \"#f7f7f7\"], [0.6, \"#e6f5d0\"], [0.7, \"#b8e186\"], [0.8, \"#7fbc41\"], [0.9, \"#4d9221\"], [1, \"#276419\"]], \"sequential\": [[0.0, \"#0d0887\"], [0.1111111111111111, \"#46039f\"], [0.2222222222222222, \"#7201a8\"], [0.3333333333333333, \"#9c179e\"], [0.4444444444444444, \"#bd3786\"], [0.5555555555555556, \"#d8576b\"], [0.6666666666666666, \"#ed7953\"], [0.7777777777777778, \"#fb9f3a\"], [0.8888888888888888, \"#fdca26\"], [1.0, \"#f0f921\"]], \"sequentialminus\": [[0.0, \"#0d0887\"], [0.1111111111111111, \"#46039f\"], [0.2222222222222222, \"#7201a8\"], [0.3333333333333333, \"#9c179e\"], [0.4444444444444444, \"#bd3786\"], [0.5555555555555556, \"#d8576b\"], [0.6666666666666666, \"#ed7953\"], [0.7777777777777778, \"#fb9f3a\"], [0.8888888888888888, \"#fdca26\"], [1.0, \"#f0f921\"]]}, \"colorway\": [\"#636efa\", \"#EF553B\", \"#00cc96\", \"#ab63fa\", \"#FFA15A\", \"#19d3f3\", \"#FF6692\", \"#B6E880\", \"#FF97FF\", \"#FECB52\"], \"font\": {\"color\": \"#2a3f5f\"}, \"geo\": {\"bgcolor\": \"white\", \"lakecolor\": \"white\", \"landcolor\": \"#E5ECF6\", \"showlakes\": true, \"showland\": true, \"subunitcolor\": \"white\"}, \"hoverlabel\": {\"align\": \"left\"}, \"hovermode\": \"closest\", \"mapbox\": {\"style\": \"light\"}, \"paper_bgcolor\": \"white\", \"plot_bgcolor\": \"#E5ECF6\", \"polar\": {\"angularaxis\": {\"gridcolor\": \"white\", \"linecolor\": \"white\", \"ticks\": \"\"}, \"bgcolor\": \"#E5ECF6\", \"radialaxis\": {\"gridcolor\": \"white\", \"linecolor\": \"white\", \"ticks\": \"\"}}, \"scene\": {\"xaxis\": {\"backgroundcolor\": \"#E5ECF6\", \"gridcolor\": \"white\", \"gridwidth\": 2, \"linecolor\": \"white\", \"showbackground\": true, \"ticks\": \"\", \"zerolinecolor\": \"white\"}, \"yaxis\": {\"backgroundcolor\": \"#E5ECF6\", \"gridcolor\": \"white\", \"gridwidth\": 2, \"linecolor\": \"white\", \"showbackground\": true, \"ticks\": \"\", \"zerolinecolor\": \"white\"}, \"zaxis\": {\"backgroundcolor\": \"#E5ECF6\", \"gridcolor\": \"white\", \"gridwidth\": 2, \"linecolor\": \"white\", \"showbackground\": true, \"ticks\": \"\", \"zerolinecolor\": \"white\"}}, \"shapedefaults\": {\"line\": {\"color\": \"#2a3f5f\"}}, \"ternary\": {\"aaxis\": {\"gridcolor\": \"white\", \"linecolor\": \"white\", \"ticks\": \"\"}, \"baxis\": {\"gridcolor\": \"white\", \"linecolor\": \"white\", \"ticks\": \"\"}, \"bgcolor\": \"#E5ECF6\", \"caxis\": {\"gridcolor\": \"white\", \"linecolor\": \"white\", \"ticks\": \"\"}}, \"title\": {\"x\": 0.05}, \"xaxis\": {\"automargin\": true, \"gridcolor\": \"white\", \"linecolor\": \"white\", \"ticks\": \"\", \"title\": {\"standoff\": 15}, \"zerolinecolor\": \"white\", \"zerolinewidth\": 2}, \"yaxis\": {\"automargin\": true, \"gridcolor\": \"white\", \"linecolor\": \"white\", \"ticks\": \"\", \"title\": {\"standoff\": 15}, \"zerolinecolor\": \"white\", \"zerolinewidth\": 2}}}, \"xaxis\": {\"anchor\": \"y\", \"domain\": [0.0, 0.45], \"title\": {\"text\": \"Dia\"}}, \"xaxis2\": {\"anchor\": \"y2\", \"domain\": [0.55, 1.0], \"title\": {\"text\": \"Dia\"}}, \"yaxis\": {\"anchor\": \"x\", \"domain\": [0.0, 1.0], \"title\": {\"text\": \"Valores\"}}, \"yaxis2\": {\"anchor\": \"x2\", \"domain\": [0.0, 1.0], \"title\": {\"text\": \"Valores\"}}},\n",
              "                        {\"responsive\": true}\n",
              "                    ).then(function(){\n",
              "                            \n",
              "var gd = document.getElementById('5a1d32f7-16bf-4c01-a6b1-3b7d21eb9d30');\n",
              "var x = new MutationObserver(function (mutations, observer) {{\n",
              "        var display = window.getComputedStyle(gd).display;\n",
              "        if (!display || display === 'none') {{\n",
              "            console.log([gd, 'removed!']);\n",
              "            Plotly.purge(gd);\n",
              "            observer.disconnect();\n",
              "        }}\n",
              "}});\n",
              "\n",
              "// Listen for the removal of the full notebook cells\n",
              "var notebookContainer = gd.closest('#notebook-container');\n",
              "if (notebookContainer) {{\n",
              "    x.observe(notebookContainer, {childList: true});\n",
              "}}\n",
              "\n",
              "// Listen for the clearing of the current output cell\n",
              "var outputEl = gd.closest('.output');\n",
              "if (outputEl) {{\n",
              "    x.observe(outputEl, {childList: true});\n",
              "}}\n",
              "\n",
              "                        })\n",
              "                };\n",
              "                \n",
              "            </script>\n",
              "        </div>\n",
              "</body>\n",
              "</html>"
            ]
          },
          "metadata": {
            "tags": []
          }
        }
      ]
    },
    {
      "cell_type": "markdown",
      "metadata": {
        "id": "CBHCU5xlJG3W",
        "colab_type": "text"
      },
      "source": [
        "Plotando os Casos  acumulados podemos notar que os valores são mais preocupantes, tendo uma diferença consideravel desde do final de Maio e essa diferença só vem crescendo hoje chega a ser superior de 300%. Para o número de mortes o valor da prefeitura sempre foi superior mas em torno de 40% acima.\n",
        "\n",
        "Nesse Grafico fica mais facil notar que tanto o feriado antecipado (https://g1.globo.com/jornal-nacional/noticia/2020/05/18/sao-paulo-decide-antecipar-feriados-para-combater-pandemia.ghtml) quanto o plano SP não foi eficaz. \n",
        "\n",
        "O principal motivo foi que as pessoas começaram a sair novamente pois o comercio voltou de forma reduzida porém voltou a funcionar."
      ]
    },
    {
      "cell_type": "code",
      "metadata": {
        "id": "NXDESJ97xlZN",
        "colab_type": "code",
        "colab": {
          "base_uri": "https://localhost:8080/",
          "height": 542
        },
        "outputId": "c6b79488-b475-4ffe-eb37-2a958cb9d577"
      },
      "source": [
        "fig = make_subplots(rows=1, cols=2,subplot_titles = [\"Casos Positivos de COVID-19\",\"Óbitos por COVID-19\"])\n",
        "\n",
        "fig.add_trace(go.Scatter(x = Dados_Governo_Indaiatuba.Data, y = Dados_Governo_Indaiatuba.Casos_Positivos, mode = \"lines\" ,name = \"Governo de São Paulo\"),row=1, col=1)\n",
        "fig.add_trace(go.Scatter(x = Dados_Indaiatuba.Data, y = Dados_Indaiatuba.Casos_Positivos, mode = \"lines\" ,name = \"Prefeitura de Indaiatuba\"),row=1, col=1)\n",
        "\n",
        "fig.add_annotation(x=\"10/04/2020\",y=3,text=\"Feriado\",xref=\"x\", yref=\"y\",showarrow=True,arrowhead=7,ax=0,ay=-40)\n",
        "fig.add_annotation(x=\"01/05/2020\",y=56,text=\"Feriado\",xref=\"x\", yref=\"y\",showarrow=True,arrowhead=7,ax=0,ay=-40)\n",
        "fig.add_annotation(x=\"25/05/2020\",y=215,text=\"Feriado Antecipado\",xref=\"x\", yref=\"y\",showarrow=True,arrowhead=7,ax=0,ay=-40)\n",
        "fig.add_annotation(x=\"02/06/2020\",y=321,text=\"Inicio Plano SP - Laranja\",xref=\"x\", yref=\"y\",showarrow=True,arrowhead=7,ax=0,ay=-40)\n",
        "fig.add_annotation(x=\"01/07/2020\",y=1733,text=\"Inicio Plano SP - Vermelho\",xref=\"x\", yref=\"y\",showarrow=True,arrowhead=7,ax=0,ay=-40)\n",
        "\n",
        "fig.add_trace(go.Scatter(x = Dados_Governo_Indaiatuba.Data, y = Dados_Governo_Indaiatuba.Obitos, mode = \"lines\" ,name = \"Governo de São Paulo\"), row=1, col=2)\n",
        "fig.add_trace(go.Scatter(x = Dados_Indaiatuba.Data, y = Dados_Indaiatuba.Obitos, mode = \"lines\" ,name = \"Prefeitura de Indaiatuba\"), row=1, col=2)\n",
        "\n",
        "fig.add_annotation(x=\"10/04/2020\",y=0,text=\"Feriado\",xref=\"x2\", yref=\"y2\",showarrow=True,arrowhead=7,ax=0,ay=-40)\n",
        "fig.add_annotation(x=\"01/05/2020\",y=6,text=\"Feriado\",xref=\"x2\", yref=\"y2\",showarrow=True,arrowhead=7,ax=0,ay=-40)\n",
        "fig.add_annotation(x=\"25/05/2020\",y=21,text=\"Feriado Antecipado\",xref=\"x2\", yref=\"y2\",showarrow=True,arrowhead=7,ax=0,ay=-40)\n",
        "fig.add_annotation(x=\"02/06/2020\",y=26,text=\"Inicio Plano SP - Laranja\",xref=\"x2\", yref=\"y2\",showarrow=True,arrowhead=7,ax=0,ay=-40)\n",
        "fig.add_annotation(x=\"01/07/2020\",y=67,text=\"Inicio Plano SP - Vermelho\",xref=\"x2\", yref=\"y2\",showarrow=True,arrowhead=7,ax=0,ay=-40)\n",
        "\n",
        "fig.update_xaxes(title_text=\"Dia\", row=1, col=1)\n",
        "fig.update_xaxes(title_text=\"Dia\", row=1, col=2)\n",
        "fig.update_yaxes(title_text=\"Valores\", row=1, col=1)\n",
        "fig.update_yaxes(title_text=\"Valores\", row=1, col=2)\n",
        "\n",
        "fig.show()"
      ],
      "execution_count": null,
      "outputs": [
        {
          "output_type": "display_data",
          "data": {
            "text/html": [
              "<html>\n",
              "<head><meta charset=\"utf-8\" /></head>\n",
              "<body>\n",
              "    <div>\n",
              "            <script src=\"https://cdnjs.cloudflare.com/ajax/libs/mathjax/2.7.5/MathJax.js?config=TeX-AMS-MML_SVG\"></script><script type=\"text/javascript\">if (window.MathJax) {MathJax.Hub.Config({SVG: {font: \"STIX-Web\"}});}</script>\n",
              "                <script type=\"text/javascript\">window.PlotlyConfig = {MathJaxConfig: 'local'};</script>\n",
              "        <script src=\"https://cdn.plot.ly/plotly-latest.min.js\"></script>    \n",
              "            <div id=\"73e88325-514c-4079-aabf-e5a2416fb37d\" class=\"plotly-graph-div\" style=\"height:525px; width:100%;\"></div>\n",
              "            <script type=\"text/javascript\">\n",
              "                \n",
              "                    window.PLOTLYENV=window.PLOTLYENV || {};\n",
              "                    \n",
              "                if (document.getElementById(\"73e88325-514c-4079-aabf-e5a2416fb37d\")) {\n",
              "                    Plotly.newPlot(\n",
              "                        '73e88325-514c-4079-aabf-e5a2416fb37d',\n",
              "                        [{\"mode\": \"lines\", \"name\": \"Governo de S\\u00e3o Paulo\", \"type\": \"scatter\", \"x\": [\"25/02/2020\", \"26/02/2020\", \"27/02/2020\", \"28/02/2020\", \"29/02/2020\", \"01/03/2020\", \"02/03/2020\", \"03/03/2020\", \"04/03/2020\", \"05/03/2020\", \"06/03/2020\", \"07/03/2020\", \"08/03/2020\", \"09/03/2020\", \"10/03/2020\", \"11/03/2020\", \"12/03/2020\", \"13/03/2020\", \"14/03/2020\", \"15/03/2020\", \"16/03/2020\", \"17/03/2020\", \"18/03/2020\", \"19/03/2020\", \"20/03/2020\", \"21/03/2020\", \"22/03/2020\", \"23/03/2020\", \"24/03/2020\", \"25/03/2020\", \"26/03/2020\", \"27/03/2020\", \"28/03/2020\", \"29/03/2020\", \"30/03/2020\", \"31/03/2020\", \"01/04/2020\", \"02/04/2020\", \"03/04/2020\", \"04/04/2020\", \"05/04/2020\", \"06/04/2020\", \"07/04/2020\", \"08/04/2020\", \"09/04/2020\", \"10/04/2020\", \"11/04/2020\", \"12/04/2020\", \"13/04/2020\", \"14/04/2020\", \"15/04/2020\", \"16/04/2020\", \"17/04/2020\", \"18/04/2020\", \"19/04/2020\", \"20/04/2020\", \"21/04/2020\", \"22/04/2020\", \"23/04/2020\", \"24/04/2020\", \"25/04/2020\", \"26/04/2020\", \"27/04/2020\", \"28/04/2020\", \"29/04/2020\", \"30/04/2020\", \"01/05/2020\", \"02/05/2020\", \"03/05/2020\", \"04/05/2020\", \"05/05/2020\", \"06/05/2020\", \"07/05/2020\", \"08/05/2020\", \"09/05/2020\", \"10/05/2020\", \"11/05/2020\", \"12/05/2020\", \"13/05/2020\", \"14/05/2020\", \"15/05/2020\", \"16/05/2020\", \"17/05/2020\", \"18/05/2020\", \"19/05/2020\", \"20/05/2020\", \"21/05/2020\", \"22/05/2020\", \"23/05/2020\", \"24/05/2020\", \"25/05/2020\", \"26/05/2020\", \"27/05/2020\", \"28/05/2020\", \"29/05/2020\", \"30/05/2020\", \"31/05/2020\", \"01/06/2020\", \"02/06/2020\", \"03/06/2020\", \"04/06/2020\", \"05/06/2020\", \"06/06/2020\", \"07/06/2020\", \"08/06/2020\", \"09/06/2020\", \"10/06/2020\", \"11/06/2020\", \"12/06/2020\", \"13/06/2020\", \"14/06/2020\", \"15/06/2020\", \"16/06/2020\", \"17/06/2020\", \"18/06/2020\", \"19/06/2020\", \"20/06/2020\", \"21/06/2020\", \"22/06/2020\", \"23/06/2020\", \"24/06/2020\", \"25/06/2020\", \"26/06/2020\", \"27/06/2020\", \"28/06/2020\", \"29/06/2020\", \"30/06/2020\", \"01/07/2020\", \"02/07/2020\", \"03/07/2020\", \"04/07/2020\", \"05/07/2020\", \"06/07/2020\", \"07/07/2020\", \"08/07/2020\", \"09/07/2020\", \"10/07/2020\", \"11/07/2020\", \"12/07/2020\"], \"xaxis\": \"x\", \"y\": [0, 0, 0, 0, 0, 0, 0, 0, 0, 0, 0, 0, 0, 0, 0, 0, 0, 0, 0, 0, 0, 0, 0, 0, 0, 0, 0, 0, 0, 0, 0, 0, 0, 0, 0, 0, 2, 2, 2, 2, 2, 2, 3, 3, 3, 3, 4, 4, 4, 4, 4, 6, 9, 9, 9, 9, 9, 9, 13, 14, 14, 14, 16, 22, 24, 25, 28, 28, 28, 28, 30, 33, 35, 35, 36, 36, 36, 39, 42, 43, 44, 57, 57, 58, 64, 65, 79, 94, 97, 100, 100, 102, 103, 117, 127, 128, 130, 146, 151, 155, 158, 165, 179, 182, 182, 185, 188, 192, 193, 197, 199, 201, 206, 206, 209, 287, 317, 318, 318, 367, 397, 433, 485, 525, 534, 535, 588, 627, 686, 743, 743, 747, 752, 772, 793, 805, 815, 827, 829], \"yaxis\": \"y\"}, {\"mode\": \"lines\", \"name\": \"Prefeitura de Indaiatuba\", \"type\": \"scatter\", \"x\": [\"06/04/2020\", \"07/04/2020\", \"15/04/2020\", \"18/04/2020\", \"20/04/2020\", \"21/04/2020\", \"24/04/2020\", \"02/05/2020\", \"06/05/2020\", \"07/05/2020\", \"08/05/2020\", \"11/05/2020\", \"12/05/2020\", \"15/05/2020\", \"17/05/2020\", \"18/05/2020\", \"21/05/2020\", \"23/05/2020\", \"24/05/2020\", \"25/05/2020\", \"27/05/2020\", \"29/05/2020\", \"31/05/2020\", \"01/06/2020\", \"02/06/2020\", \"03/06/2020\", \"05/06/2020\", \"06/06/2020\", \"07/06/2020\", \"08/06/2020\", \"09/06/2020\", \"10/06/2020\", \"11/06/2020\", \"12/06/2020\", \"15/06/2020\", \"16/06/2020\", \"17/06/2020\", \"18/06/2020\", \"19/06/2020\", \"20/06/2020\", \"22/06/2020\", \"23/06/2020\", \"24/06/2020\", \"25/06/2020\", \"26/06/2020\", \"27/06/2020\", \"29/06/2020\", \"30/06/2020\", \"01/07/2020\", \"02/07/2020\", \"03/07/2020\", \"04/07/2020\", \"05/07/2020\", \"06/07/2020\", \"08/07/2020\", \"09/07/2020\", \"10/07/2020\", \"11/07/2020\", \"12/07/2020\"], \"xaxis\": \"x\", \"y\": [3, 11, 22, 30, 32, 32, 46, 58, 69, 71, 78, 87, 91, 112, 117, 134, 191, 202, 206, 215, 244, 260, 270, 276, 321, 330, 358, 387, 387, 401, 417, 438, 466, 482, 538, 562, 692, 760, 840, 854, 897, 1102, 1194, 1250, 1362, 1441, 1499, 1629, 1733, 1867, 1983, 2043, 2056, 2086, 2327, 2426, 2496, 2554, 2570], \"yaxis\": \"y\"}, {\"mode\": \"lines\", \"name\": \"Governo de S\\u00e3o Paulo\", \"type\": \"scatter\", \"x\": [\"25/02/2020\", \"26/02/2020\", \"27/02/2020\", \"28/02/2020\", \"29/02/2020\", \"01/03/2020\", \"02/03/2020\", \"03/03/2020\", \"04/03/2020\", \"05/03/2020\", \"06/03/2020\", \"07/03/2020\", \"08/03/2020\", \"09/03/2020\", \"10/03/2020\", \"11/03/2020\", \"12/03/2020\", \"13/03/2020\", \"14/03/2020\", \"15/03/2020\", \"16/03/2020\", \"17/03/2020\", \"18/03/2020\", \"19/03/2020\", \"20/03/2020\", \"21/03/2020\", \"22/03/2020\", \"23/03/2020\", \"24/03/2020\", \"25/03/2020\", \"26/03/2020\", \"27/03/2020\", \"28/03/2020\", \"29/03/2020\", \"30/03/2020\", \"31/03/2020\", \"01/04/2020\", \"02/04/2020\", \"03/04/2020\", \"04/04/2020\", \"05/04/2020\", \"06/04/2020\", \"07/04/2020\", \"08/04/2020\", \"09/04/2020\", \"10/04/2020\", \"11/04/2020\", \"12/04/2020\", \"13/04/2020\", \"14/04/2020\", \"15/04/2020\", \"16/04/2020\", \"17/04/2020\", \"18/04/2020\", \"19/04/2020\", \"20/04/2020\", \"21/04/2020\", \"22/04/2020\", \"23/04/2020\", \"24/04/2020\", \"25/04/2020\", \"26/04/2020\", \"27/04/2020\", \"28/04/2020\", \"29/04/2020\", \"30/04/2020\", \"01/05/2020\", \"02/05/2020\", \"03/05/2020\", \"04/05/2020\", \"05/05/2020\", \"06/05/2020\", \"07/05/2020\", \"08/05/2020\", \"09/05/2020\", \"10/05/2020\", \"11/05/2020\", \"12/05/2020\", \"13/05/2020\", \"14/05/2020\", \"15/05/2020\", \"16/05/2020\", \"17/05/2020\", \"18/05/2020\", \"19/05/2020\", \"20/05/2020\", \"21/05/2020\", \"22/05/2020\", \"23/05/2020\", \"24/05/2020\", \"25/05/2020\", \"26/05/2020\", \"27/05/2020\", \"28/05/2020\", \"29/05/2020\", \"30/05/2020\", \"31/05/2020\", \"01/06/2020\", \"02/06/2020\", \"03/06/2020\", \"04/06/2020\", \"05/06/2020\", \"06/06/2020\", \"07/06/2020\", \"08/06/2020\", \"09/06/2020\", \"10/06/2020\", \"11/06/2020\", \"12/06/2020\", \"13/06/2020\", \"14/06/2020\", \"15/06/2020\", \"16/06/2020\", \"17/06/2020\", \"18/06/2020\", \"19/06/2020\", \"20/06/2020\", \"21/06/2020\", \"22/06/2020\", \"23/06/2020\", \"24/06/2020\", \"25/06/2020\", \"26/06/2020\", \"27/06/2020\", \"28/06/2020\", \"29/06/2020\", \"30/06/2020\", \"01/07/2020\", \"02/07/2020\", \"03/07/2020\", \"04/07/2020\", \"05/07/2020\", \"06/07/2020\", \"07/07/2020\", \"08/07/2020\", \"09/07/2020\", \"10/07/2020\", \"11/07/2020\", \"12/07/2020\"], \"xaxis\": \"x2\", \"y\": [0, 0, 0, 0, 0, 0, 0, 0, 0, 0, 0, 0, 0, 0, 0, 0, 0, 0, 0, 0, 0, 0, 0, 0, 0, 0, 0, 0, 0, 0, 0, 0, 0, 0, 0, 0, 0, 0, 0, 0, 0, 0, 0, 0, 0, 0, 0, 0, 0, 0, 0, 0, 0, 0, 0, 0, 0, 0, 3, 3, 3, 3, 4, 4, 4, 4, 4, 4, 4, 4, 4, 4, 4, 7, 8, 8, 8, 9, 10, 10, 10, 10, 10, 10, 13, 13, 13, 14, 14, 14, 14, 14, 14, 14, 20, 20, 20, 20, 20, 20, 20, 20, 22, 22, 22, 22, 25, 25, 25, 26, 26, 26, 27, 27, 29, 31, 31, 31, 31, 36, 37, 37, 37, 38, 38, 38, 44, 44, 45, 45, 45, 45, 45, 45, 45, 46, 46, 57, 57], \"yaxis\": \"y2\"}, {\"mode\": \"lines\", \"name\": \"Prefeitura de Indaiatuba\", \"type\": \"scatter\", \"x\": [\"06/04/2020\", \"07/04/2020\", \"15/04/2020\", \"18/04/2020\", \"20/04/2020\", \"21/04/2020\", \"24/04/2020\", \"02/05/2020\", \"06/05/2020\", \"07/05/2020\", \"08/05/2020\", \"11/05/2020\", \"12/05/2020\", \"15/05/2020\", \"17/05/2020\", \"18/05/2020\", \"21/05/2020\", \"23/05/2020\", \"24/05/2020\", \"25/05/2020\", \"27/05/2020\", \"29/05/2020\", \"31/05/2020\", \"01/06/2020\", \"02/06/2020\", \"03/06/2020\", \"05/06/2020\", \"06/06/2020\", \"07/06/2020\", \"08/06/2020\", \"09/06/2020\", \"10/06/2020\", \"11/06/2020\", \"12/06/2020\", \"15/06/2020\", \"16/06/2020\", \"17/06/2020\", \"18/06/2020\", \"19/06/2020\", \"20/06/2020\", \"22/06/2020\", \"23/06/2020\", \"24/06/2020\", \"25/06/2020\", \"26/06/2020\", \"27/06/2020\", \"29/06/2020\", \"30/06/2020\", \"01/07/2020\", \"02/07/2020\", \"03/07/2020\", \"04/07/2020\", \"05/07/2020\", \"06/07/2020\", \"08/07/2020\", \"09/07/2020\", \"10/07/2020\", \"11/07/2020\", \"12/07/2020\"], \"xaxis\": \"x2\", \"y\": [0, 0, 1, 2, 3, 4, 5, 6, 7, 8, 9, 11, 12, 12, 13, 14, 16, 18, 20, 21, 22, 24, 25, 25, 26, 27, 28, 29, 30, 33, 35, 37, 38, 39, 42, 43, 45, 46, 48, 49, 50, 54, 56, 57, 58, 60, 62, 62, 67, 69, 72, 75, 79, 79, 83, 84, 85, 86, 88], \"yaxis\": \"y2\"}],\n",
              "                        {\"annotations\": [{\"font\": {\"size\": 16}, \"showarrow\": false, \"text\": \"Casos Positivos de COVID-19\", \"x\": 0.225, \"xanchor\": \"center\", \"xref\": \"paper\", \"y\": 1.0, \"yanchor\": \"bottom\", \"yref\": \"paper\"}, {\"font\": {\"size\": 16}, \"showarrow\": false, \"text\": \"\\u00d3bitos por COVID-19\", \"x\": 0.775, \"xanchor\": \"center\", \"xref\": \"paper\", \"y\": 1.0, \"yanchor\": \"bottom\", \"yref\": \"paper\"}, {\"arrowhead\": 7, \"ax\": 0, \"ay\": -40, \"showarrow\": true, \"text\": \"Feriado\", \"x\": \"10/04/2020\", \"xref\": \"x\", \"y\": 3, \"yref\": \"y\"}, {\"arrowhead\": 7, \"ax\": 0, \"ay\": -40, \"showarrow\": true, \"text\": \"Feriado\", \"x\": \"01/05/2020\", \"xref\": \"x\", \"y\": 56, \"yref\": \"y\"}, {\"arrowhead\": 7, \"ax\": 0, \"ay\": -40, \"showarrow\": true, \"text\": \"Feriado Antecipado\", \"x\": \"25/05/2020\", \"xref\": \"x\", \"y\": 215, \"yref\": \"y\"}, {\"arrowhead\": 7, \"ax\": 0, \"ay\": -40, \"showarrow\": true, \"text\": \"Inicio Plano SP - Laranja\", \"x\": \"02/06/2020\", \"xref\": \"x\", \"y\": 321, \"yref\": \"y\"}, {\"arrowhead\": 7, \"ax\": 0, \"ay\": -40, \"showarrow\": true, \"text\": \"Inicio Plano SP - Vermelho\", \"x\": \"01/07/2020\", \"xref\": \"x\", \"y\": 1733, \"yref\": \"y\"}, {\"arrowhead\": 7, \"ax\": 0, \"ay\": -40, \"showarrow\": true, \"text\": \"Feriado\", \"x\": \"10/04/2020\", \"xref\": \"x2\", \"y\": 0, \"yref\": \"y2\"}, {\"arrowhead\": 7, \"ax\": 0, \"ay\": -40, \"showarrow\": true, \"text\": \"Feriado\", \"x\": \"01/05/2020\", \"xref\": \"x2\", \"y\": 6, \"yref\": \"y2\"}, {\"arrowhead\": 7, \"ax\": 0, \"ay\": -40, \"showarrow\": true, \"text\": \"Feriado Antecipado\", \"x\": \"25/05/2020\", \"xref\": \"x2\", \"y\": 21, \"yref\": \"y2\"}, {\"arrowhead\": 7, \"ax\": 0, \"ay\": -40, \"showarrow\": true, \"text\": \"Inicio Plano SP - Laranja\", \"x\": \"02/06/2020\", \"xref\": \"x2\", \"y\": 26, \"yref\": \"y2\"}, {\"arrowhead\": 7, \"ax\": 0, \"ay\": -40, \"showarrow\": true, \"text\": \"Inicio Plano SP - Vermelho\", \"x\": \"01/07/2020\", \"xref\": \"x2\", \"y\": 67, \"yref\": \"y2\"}], \"template\": {\"data\": {\"bar\": [{\"error_x\": {\"color\": \"#2a3f5f\"}, \"error_y\": {\"color\": \"#2a3f5f\"}, \"marker\": {\"line\": {\"color\": \"#E5ECF6\", \"width\": 0.5}}, \"type\": \"bar\"}], \"barpolar\": [{\"marker\": {\"line\": {\"color\": \"#E5ECF6\", \"width\": 0.5}}, \"type\": \"barpolar\"}], \"carpet\": [{\"aaxis\": {\"endlinecolor\": \"#2a3f5f\", \"gridcolor\": \"white\", \"linecolor\": \"white\", \"minorgridcolor\": \"white\", \"startlinecolor\": \"#2a3f5f\"}, \"baxis\": {\"endlinecolor\": \"#2a3f5f\", \"gridcolor\": \"white\", \"linecolor\": \"white\", \"minorgridcolor\": \"white\", \"startlinecolor\": \"#2a3f5f\"}, \"type\": \"carpet\"}], \"choropleth\": [{\"colorbar\": {\"outlinewidth\": 0, \"ticks\": \"\"}, \"type\": \"choropleth\"}], \"contour\": [{\"colorbar\": {\"outlinewidth\": 0, \"ticks\": \"\"}, \"colorscale\": [[0.0, \"#0d0887\"], [0.1111111111111111, \"#46039f\"], [0.2222222222222222, \"#7201a8\"], [0.3333333333333333, \"#9c179e\"], [0.4444444444444444, \"#bd3786\"], [0.5555555555555556, \"#d8576b\"], [0.6666666666666666, \"#ed7953\"], [0.7777777777777778, \"#fb9f3a\"], [0.8888888888888888, \"#fdca26\"], [1.0, \"#f0f921\"]], \"type\": \"contour\"}], \"contourcarpet\": [{\"colorbar\": {\"outlinewidth\": 0, \"ticks\": \"\"}, \"type\": \"contourcarpet\"}], \"heatmap\": [{\"colorbar\": {\"outlinewidth\": 0, \"ticks\": \"\"}, \"colorscale\": [[0.0, \"#0d0887\"], [0.1111111111111111, \"#46039f\"], [0.2222222222222222, \"#7201a8\"], [0.3333333333333333, \"#9c179e\"], [0.4444444444444444, \"#bd3786\"], [0.5555555555555556, \"#d8576b\"], [0.6666666666666666, \"#ed7953\"], [0.7777777777777778, \"#fb9f3a\"], [0.8888888888888888, \"#fdca26\"], [1.0, \"#f0f921\"]], \"type\": \"heatmap\"}], \"heatmapgl\": [{\"colorbar\": {\"outlinewidth\": 0, \"ticks\": \"\"}, \"colorscale\": [[0.0, \"#0d0887\"], [0.1111111111111111, \"#46039f\"], [0.2222222222222222, \"#7201a8\"], [0.3333333333333333, \"#9c179e\"], [0.4444444444444444, \"#bd3786\"], [0.5555555555555556, \"#d8576b\"], [0.6666666666666666, \"#ed7953\"], [0.7777777777777778, \"#fb9f3a\"], [0.8888888888888888, \"#fdca26\"], [1.0, \"#f0f921\"]], \"type\": \"heatmapgl\"}], \"histogram\": [{\"marker\": {\"colorbar\": {\"outlinewidth\": 0, \"ticks\": \"\"}}, \"type\": \"histogram\"}], \"histogram2d\": [{\"colorbar\": {\"outlinewidth\": 0, \"ticks\": \"\"}, \"colorscale\": [[0.0, \"#0d0887\"], [0.1111111111111111, \"#46039f\"], [0.2222222222222222, \"#7201a8\"], [0.3333333333333333, \"#9c179e\"], [0.4444444444444444, \"#bd3786\"], [0.5555555555555556, \"#d8576b\"], [0.6666666666666666, \"#ed7953\"], [0.7777777777777778, \"#fb9f3a\"], [0.8888888888888888, \"#fdca26\"], [1.0, \"#f0f921\"]], \"type\": \"histogram2d\"}], \"histogram2dcontour\": [{\"colorbar\": {\"outlinewidth\": 0, \"ticks\": \"\"}, \"colorscale\": [[0.0, \"#0d0887\"], [0.1111111111111111, \"#46039f\"], [0.2222222222222222, \"#7201a8\"], [0.3333333333333333, \"#9c179e\"], [0.4444444444444444, \"#bd3786\"], [0.5555555555555556, \"#d8576b\"], [0.6666666666666666, \"#ed7953\"], [0.7777777777777778, \"#fb9f3a\"], [0.8888888888888888, \"#fdca26\"], [1.0, \"#f0f921\"]], \"type\": \"histogram2dcontour\"}], \"mesh3d\": [{\"colorbar\": {\"outlinewidth\": 0, \"ticks\": \"\"}, \"type\": \"mesh3d\"}], \"parcoords\": [{\"line\": {\"colorbar\": {\"outlinewidth\": 0, \"ticks\": \"\"}}, \"type\": \"parcoords\"}], \"pie\": [{\"automargin\": true, \"type\": \"pie\"}], \"scatter\": [{\"marker\": {\"colorbar\": {\"outlinewidth\": 0, \"ticks\": \"\"}}, \"type\": \"scatter\"}], \"scatter3d\": [{\"line\": {\"colorbar\": {\"outlinewidth\": 0, \"ticks\": \"\"}}, \"marker\": {\"colorbar\": {\"outlinewidth\": 0, \"ticks\": \"\"}}, \"type\": \"scatter3d\"}], \"scattercarpet\": [{\"marker\": {\"colorbar\": {\"outlinewidth\": 0, \"ticks\": \"\"}}, \"type\": \"scattercarpet\"}], \"scattergeo\": [{\"marker\": {\"colorbar\": {\"outlinewidth\": 0, \"ticks\": \"\"}}, \"type\": \"scattergeo\"}], \"scattergl\": [{\"marker\": {\"colorbar\": {\"outlinewidth\": 0, \"ticks\": \"\"}}, \"type\": \"scattergl\"}], \"scattermapbox\": [{\"marker\": {\"colorbar\": {\"outlinewidth\": 0, \"ticks\": \"\"}}, \"type\": \"scattermapbox\"}], \"scatterpolar\": [{\"marker\": {\"colorbar\": {\"outlinewidth\": 0, \"ticks\": \"\"}}, \"type\": \"scatterpolar\"}], \"scatterpolargl\": [{\"marker\": {\"colorbar\": {\"outlinewidth\": 0, \"ticks\": \"\"}}, \"type\": \"scatterpolargl\"}], \"scatterternary\": [{\"marker\": {\"colorbar\": {\"outlinewidth\": 0, \"ticks\": \"\"}}, \"type\": \"scatterternary\"}], \"surface\": [{\"colorbar\": {\"outlinewidth\": 0, \"ticks\": \"\"}, \"colorscale\": [[0.0, \"#0d0887\"], [0.1111111111111111, \"#46039f\"], [0.2222222222222222, \"#7201a8\"], [0.3333333333333333, \"#9c179e\"], [0.4444444444444444, \"#bd3786\"], [0.5555555555555556, \"#d8576b\"], [0.6666666666666666, \"#ed7953\"], [0.7777777777777778, \"#fb9f3a\"], [0.8888888888888888, \"#fdca26\"], [1.0, \"#f0f921\"]], \"type\": \"surface\"}], \"table\": [{\"cells\": {\"fill\": {\"color\": \"#EBF0F8\"}, \"line\": {\"color\": \"white\"}}, \"header\": {\"fill\": {\"color\": \"#C8D4E3\"}, \"line\": {\"color\": \"white\"}}, \"type\": \"table\"}]}, \"layout\": {\"annotationdefaults\": {\"arrowcolor\": \"#2a3f5f\", \"arrowhead\": 0, \"arrowwidth\": 1}, \"coloraxis\": {\"colorbar\": {\"outlinewidth\": 0, \"ticks\": \"\"}}, \"colorscale\": {\"diverging\": [[0, \"#8e0152\"], [0.1, \"#c51b7d\"], [0.2, \"#de77ae\"], [0.3, \"#f1b6da\"], [0.4, \"#fde0ef\"], [0.5, \"#f7f7f7\"], [0.6, \"#e6f5d0\"], [0.7, \"#b8e186\"], [0.8, \"#7fbc41\"], [0.9, \"#4d9221\"], [1, \"#276419\"]], \"sequential\": [[0.0, \"#0d0887\"], [0.1111111111111111, \"#46039f\"], [0.2222222222222222, \"#7201a8\"], [0.3333333333333333, \"#9c179e\"], [0.4444444444444444, \"#bd3786\"], [0.5555555555555556, \"#d8576b\"], [0.6666666666666666, \"#ed7953\"], [0.7777777777777778, \"#fb9f3a\"], [0.8888888888888888, \"#fdca26\"], [1.0, \"#f0f921\"]], \"sequentialminus\": [[0.0, \"#0d0887\"], [0.1111111111111111, \"#46039f\"], [0.2222222222222222, \"#7201a8\"], [0.3333333333333333, \"#9c179e\"], [0.4444444444444444, \"#bd3786\"], [0.5555555555555556, \"#d8576b\"], [0.6666666666666666, \"#ed7953\"], [0.7777777777777778, \"#fb9f3a\"], [0.8888888888888888, \"#fdca26\"], [1.0, \"#f0f921\"]]}, \"colorway\": [\"#636efa\", \"#EF553B\", \"#00cc96\", \"#ab63fa\", \"#FFA15A\", \"#19d3f3\", \"#FF6692\", \"#B6E880\", \"#FF97FF\", \"#FECB52\"], \"font\": {\"color\": \"#2a3f5f\"}, \"geo\": {\"bgcolor\": \"white\", \"lakecolor\": \"white\", \"landcolor\": \"#E5ECF6\", \"showlakes\": true, \"showland\": true, \"subunitcolor\": \"white\"}, \"hoverlabel\": {\"align\": \"left\"}, \"hovermode\": \"closest\", \"mapbox\": {\"style\": \"light\"}, \"paper_bgcolor\": \"white\", \"plot_bgcolor\": \"#E5ECF6\", \"polar\": {\"angularaxis\": {\"gridcolor\": \"white\", \"linecolor\": \"white\", \"ticks\": \"\"}, \"bgcolor\": \"#E5ECF6\", \"radialaxis\": {\"gridcolor\": \"white\", \"linecolor\": \"white\", \"ticks\": \"\"}}, \"scene\": {\"xaxis\": {\"backgroundcolor\": \"#E5ECF6\", \"gridcolor\": \"white\", \"gridwidth\": 2, \"linecolor\": \"white\", \"showbackground\": true, \"ticks\": \"\", \"zerolinecolor\": \"white\"}, \"yaxis\": {\"backgroundcolor\": \"#E5ECF6\", \"gridcolor\": \"white\", \"gridwidth\": 2, \"linecolor\": \"white\", \"showbackground\": true, \"ticks\": \"\", \"zerolinecolor\": \"white\"}, \"zaxis\": {\"backgroundcolor\": \"#E5ECF6\", \"gridcolor\": \"white\", \"gridwidth\": 2, \"linecolor\": \"white\", \"showbackground\": true, \"ticks\": \"\", \"zerolinecolor\": \"white\"}}, \"shapedefaults\": {\"line\": {\"color\": \"#2a3f5f\"}}, \"ternary\": {\"aaxis\": {\"gridcolor\": \"white\", \"linecolor\": \"white\", \"ticks\": \"\"}, \"baxis\": {\"gridcolor\": \"white\", \"linecolor\": \"white\", \"ticks\": \"\"}, \"bgcolor\": \"#E5ECF6\", \"caxis\": {\"gridcolor\": \"white\", \"linecolor\": \"white\", \"ticks\": \"\"}}, \"title\": {\"x\": 0.05}, \"xaxis\": {\"automargin\": true, \"gridcolor\": \"white\", \"linecolor\": \"white\", \"ticks\": \"\", \"title\": {\"standoff\": 15}, \"zerolinecolor\": \"white\", \"zerolinewidth\": 2}, \"yaxis\": {\"automargin\": true, \"gridcolor\": \"white\", \"linecolor\": \"white\", \"ticks\": \"\", \"title\": {\"standoff\": 15}, \"zerolinecolor\": \"white\", \"zerolinewidth\": 2}}}, \"xaxis\": {\"anchor\": \"y\", \"domain\": [0.0, 0.45], \"title\": {\"text\": \"Dia\"}}, \"xaxis2\": {\"anchor\": \"y2\", \"domain\": [0.55, 1.0], \"title\": {\"text\": \"Dia\"}}, \"yaxis\": {\"anchor\": \"x\", \"domain\": [0.0, 1.0], \"title\": {\"text\": \"Valores\"}}, \"yaxis2\": {\"anchor\": \"x2\", \"domain\": [0.0, 1.0], \"title\": {\"text\": \"Valores\"}}},\n",
              "                        {\"responsive\": true}\n",
              "                    ).then(function(){\n",
              "                            \n",
              "var gd = document.getElementById('73e88325-514c-4079-aabf-e5a2416fb37d');\n",
              "var x = new MutationObserver(function (mutations, observer) {{\n",
              "        var display = window.getComputedStyle(gd).display;\n",
              "        if (!display || display === 'none') {{\n",
              "            console.log([gd, 'removed!']);\n",
              "            Plotly.purge(gd);\n",
              "            observer.disconnect();\n",
              "        }}\n",
              "}});\n",
              "\n",
              "// Listen for the removal of the full notebook cells\n",
              "var notebookContainer = gd.closest('#notebook-container');\n",
              "if (notebookContainer) {{\n",
              "    x.observe(notebookContainer, {childList: true});\n",
              "}}\n",
              "\n",
              "// Listen for the clearing of the current output cell\n",
              "var outputEl = gd.closest('.output');\n",
              "if (outputEl) {{\n",
              "    x.observe(outputEl, {childList: true});\n",
              "}}\n",
              "\n",
              "                        })\n",
              "                };\n",
              "                \n",
              "            </script>\n",
              "        </div>\n",
              "</body>\n",
              "</html>"
            ]
          },
          "metadata": {
            "tags": []
          }
        }
      ]
    },
    {
      "cell_type": "markdown",
      "metadata": {
        "id": "n8vGhq0XPaOg",
        "colab_type": "text"
      },
      "source": [
        "Indaiatuba está presente dentro da região de Campinas, quando visto pelo plano SP essa região ditará em que fase trabalhará nos proximos meses.\n",
        "\n",
        "Utilizando novamente os dados do governos podemos ver proporcionalmente o quanto os dados da prefeitura corresponderiam aos valores de todas a região em que habita. \n",
        "\n",
        "Então inicialmente vamos separar todos os municipios presente com o codigo regional = 4 e fazer a soma por dia de todos os casos e óbitos."
      ]
    },
    {
      "cell_type": "code",
      "metadata": {
        "id": "bFUVdPuZbaCb",
        "colab_type": "code",
        "colab": {}
      },
      "source": [
        "#Fazendo a separação da região e limpandos os dados\n",
        "Regiao_de_Campinas = Dados_governo.query('cod_ra == \"4\"')\n",
        "Regiao_de_Campinas = Regiao_de_Campinas[[\"datahora\",\"casos\",\"casos_novos\",\"obitos\",\"obitos_novos\"]]\n",
        "Regiao_de_Campinas = Regiao_de_Campinas.groupby(['datahora']).sum()\n",
        "Regiao_de_Campinas = Regiao_de_Campinas.reset_index()\n",
        "Regiao_de_Campinas.columns = [\"Data\",\"Casos_Positivos\",\"Casos_por_dia\",\"Obitos\",\"Obitos_por_dia\"]\n",
        "\n",
        "Regiao_de_Campinas['DataTimes'] = pd.to_datetime(Regiao_de_Campinas.Data,  format='%d/%m/%Y')\n",
        "Regiao_de_Campinas = Regiao_de_Campinas.sort_values('DataTimes').drop('DataTimes', axis = 1)\n",
        "Regiao_de_Campinas.reset_index(inplace = True)"
      ],
      "execution_count": null,
      "outputs": []
    },
    {
      "cell_type": "code",
      "metadata": {
        "id": "TlHLGYwNnOtj",
        "colab_type": "code",
        "colab": {}
      },
      "source": [
        "# Função para fazer a divisão dos casos totais da região de campinas pelos dados que iremos trabalhar\n",
        "def Making_Proportion(Lista1,Lista2,indices_dates):\n",
        "  Final_list= []\n",
        "  for i in range(0,len(indices_dates)):\n",
        "\n",
        "    aux_day = Lista1[indices_dates[i]]\n",
        "    if aux_day == 0:\n",
        "      Final_list.append(0)\n",
        "    else:\n",
        "      Final_list.append((Lista2[i]/aux_day)*100)\n",
        "  return(Final_list)"
      ],
      "execution_count": null,
      "outputs": []
    },
    {
      "cell_type": "code",
      "metadata": {
        "id": "5XMc6KyRiVLZ",
        "colab_type": "code",
        "colab": {}
      },
      "source": [
        "Catch_Index = []\n",
        "for dates in Dados_Indaiatuba.Data.values:\n",
        "  if dates in Regiao_de_Campinas.Data.values:\n",
        "    auxiliar = Regiao_de_Campinas[Regiao_de_Campinas['Data'] == dates].index.values.astype(int)[0]\n",
        "    Catch_Index.append(auxiliar)\n",
        "\n",
        "Catch_Index2 = range(0,len(Dados_Governo_Indaiatuba.Obitos_por_dia.values))\n",
        "\n",
        "# Fazendo a proporção para os dados da Prefeitura\n",
        "Prop_Pref_Casos = Making_Proportion(Regiao_de_Campinas.Casos_Positivos.values, Dados_Indaiatuba.Casos_Positivos.values, Catch_Index)\n",
        "Prop_Pref_Casos_day = Making_Proportion(Regiao_de_Campinas.Casos_por_dia.values, Dados_Indaiatuba.Casos_Positivos_per_day.values, Catch_Index)\n",
        "Prop_Pref_Obitos = Making_Proportion(Regiao_de_Campinas.Obitos.values, Dados_Indaiatuba.Obitos.values, Catch_Index)\n",
        "Prop_Pref_Obitos_day = Making_Proportion(Regiao_de_Campinas.Obitos_por_dia.values, Dados_Indaiatuba.Obitos_per_day.values, Catch_Index)\n",
        "\n",
        "#Fazendos a proporção para os dados do Governos de SP\n",
        "Prop_Gov_Casos = Making_Proportion(Regiao_de_Campinas.Casos_Positivos.values, Dados_Governo_Indaiatuba.Casos_Positivos.values, Catch_Index2)\n",
        "Prop_Gov_Casos_day = Making_Proportion(Regiao_de_Campinas.Casos_por_dia.values, Dados_Governo_Indaiatuba.Casos_por_dia.values, Catch_Index2)\n",
        "Prop_Gov_Obitos = Making_Proportion(Regiao_de_Campinas.Obitos.values, Dados_Governo_Indaiatuba.Obitos.values, Catch_Index2)\n",
        "Prop_Gov_Obitos_day = Making_Proportion(Regiao_de_Campinas.Obitos_por_dia.values, Dados_Governo_Indaiatuba.Obitos_por_dia.values, Catch_Index2)"
      ],
      "execution_count": null,
      "outputs": []
    },
    {
      "cell_type": "markdown",
      "metadata": {
        "id": "jh3zMNrPS7e3",
        "colab_type": "text"
      },
      "source": [
        "Nos 4 graficos está disposto a porcentagem que valores representam dentro da região de campinas. Como esperado os valores da prefeitura estão acima no Governo.\n",
        "\n",
        "Para os valores dos casos positivos e casos positivos por dia tem uma diferença de apenas 3%, não ficando muito superios. Porém quando analisamos os óbitos temos valores muito superiores, temos um outlier de 200% foi no começo da pandemia onde a região de campinas apenas apresentou uma morte porem em Indaiatuba registrou 2 no mesmo dia, tirando esse ponto temos que as mortes seriam pelos menos 20% maior se usassem os dados da Prefeitura."
      ]
    },
    {
      "cell_type": "code",
      "metadata": {
        "id": "reHEP1i6ObT1",
        "colab_type": "code",
        "colab": {
          "base_uri": "https://localhost:8080/",
          "height": 1000
        },
        "outputId": "cb4c3cbc-2492-4fce-baf9-f99a4c62af65"
      },
      "source": [
        "fig = make_subplots(rows=2, cols=2,subplot_titles = [\"Proporção de Casos Positivos em relação a Região de Campinas\",\n",
        "                                                     \"Proporção de Óbitos em relação a Região de Campinas\",\n",
        "                                                     \"Proporção de Casos/dia  em relação a Região de Campinas\",\n",
        "                                                     \"Proporção de Óbitos/dia em relação a Região de Campinas\"])\n",
        "\n",
        "fig.add_trace(go.Scatter(x = Dados_Governo_Indaiatuba.Data, y = Prop_Gov_Casos, mode = \"lines\" ,name = \"Dados Governo\"),row=1, col=1)\n",
        "fig.add_trace(go.Scatter(x = Dados_Indaiatuba.Data, y = Prop_Pref_Casos, mode = \"lines\" ,name = \"Dados Prefeitura\"),row=1, col=1)\n",
        "\n",
        "fig.add_trace(go.Scatter(x = Dados_Governo_Indaiatuba.Data, y = Prop_Gov_Obitos, mode = \"lines\" ,name = \"Dados Governo\"), row=2, col=1)\n",
        "fig.add_trace(go.Scatter(x = Dados_Indaiatuba.Data, y = Prop_Pref_Obitos, mode = \"lines\" ,name = \"Dados  Prefeitura\"), row=2, col=1)\n",
        "\n",
        "\n",
        "fig.add_trace(go.Scatter(x = Dados_Governo_Indaiatuba.Data, y = Prop_Gov_Casos_day, mode = \"lines\" ,name = \"Dados Governo\"),row=1, col=2)\n",
        "fig.add_trace(go.Scatter(x = Dados_Indaiatuba.Data, y = Prop_Pref_Casos_day, mode = \"lines\" ,name = \"Dados  Prefeitura\"),row=1, col=2)\n",
        "\n",
        "\n",
        "fig.add_trace(go.Scatter(x = Dados_Governo_Indaiatuba.Data, y = Prop_Gov_Obitos_day, mode = \"lines\" ,name = \"Dados Governo\"), row=2, col=2)\n",
        "fig.add_trace(go.Scatter(x = Dados_Indaiatuba.Data, y = Prop_Pref_Obitos_day, mode = \"lines\" ,name = \"Dados Prefeitura\"), row=2, col=2)\n",
        "\n",
        "fig.update_xaxes(title_text=\"Dia\", row=1, col=1)\n",
        "fig.update_xaxes(title_text=\"Dia\", row=1, col=2)\n",
        "fig.update_yaxes(title_text=\"Valores\", row=1, col=1)\n",
        "fig.update_yaxes(title_text=\"Valores\", row=1, col=2)\n",
        "\n",
        "fig.update_layout(\n",
        "    autosize=False,\n",
        "    width=1300,\n",
        "    height=1000,)\n",
        "\n",
        "fig.show()"
      ],
      "execution_count": null,
      "outputs": [
        {
          "output_type": "display_data",
          "data": {
            "text/html": [
              "<html>\n",
              "<head><meta charset=\"utf-8\" /></head>\n",
              "<body>\n",
              "    <div>\n",
              "            <script src=\"https://cdnjs.cloudflare.com/ajax/libs/mathjax/2.7.5/MathJax.js?config=TeX-AMS-MML_SVG\"></script><script type=\"text/javascript\">if (window.MathJax) {MathJax.Hub.Config({SVG: {font: \"STIX-Web\"}});}</script>\n",
              "                <script type=\"text/javascript\">window.PlotlyConfig = {MathJaxConfig: 'local'};</script>\n",
              "        <script src=\"https://cdn.plot.ly/plotly-latest.min.js\"></script>    \n",
              "            <div id=\"92ba02f8-1745-48ac-9116-3bec090c25c5\" class=\"plotly-graph-div\" style=\"height:1000px; width:1300px;\"></div>\n",
              "            <script type=\"text/javascript\">\n",
              "                \n",
              "                    window.PLOTLYENV=window.PLOTLYENV || {};\n",
              "                    \n",
              "                if (document.getElementById(\"92ba02f8-1745-48ac-9116-3bec090c25c5\")) {\n",
              "                    Plotly.newPlot(\n",
              "                        '92ba02f8-1745-48ac-9116-3bec090c25c5',\n",
              "                        [{\"mode\": \"lines\", \"name\": \"Dados Governo\", \"type\": \"scatter\", \"x\": [\"25/02/2020\", \"26/02/2020\", \"27/02/2020\", \"28/02/2020\", \"29/02/2020\", \"01/03/2020\", \"02/03/2020\", \"03/03/2020\", \"04/03/2020\", \"05/03/2020\", \"06/03/2020\", \"07/03/2020\", \"08/03/2020\", \"09/03/2020\", \"10/03/2020\", \"11/03/2020\", \"12/03/2020\", \"13/03/2020\", \"14/03/2020\", \"15/03/2020\", \"16/03/2020\", \"17/03/2020\", \"18/03/2020\", \"19/03/2020\", \"20/03/2020\", \"21/03/2020\", \"22/03/2020\", \"23/03/2020\", \"24/03/2020\", \"25/03/2020\", \"26/03/2020\", \"27/03/2020\", \"28/03/2020\", \"29/03/2020\", \"30/03/2020\", \"31/03/2020\", \"01/04/2020\", \"02/04/2020\", \"03/04/2020\", \"04/04/2020\", \"05/04/2020\", \"06/04/2020\", \"07/04/2020\", \"08/04/2020\", \"09/04/2020\", \"10/04/2020\", \"11/04/2020\", \"12/04/2020\", \"13/04/2020\", \"14/04/2020\", \"15/04/2020\", \"16/04/2020\", \"17/04/2020\", \"18/04/2020\", \"19/04/2020\", \"20/04/2020\", \"21/04/2020\", \"22/04/2020\", \"23/04/2020\", \"24/04/2020\", \"25/04/2020\", \"26/04/2020\", \"27/04/2020\", \"28/04/2020\", \"29/04/2020\", \"30/04/2020\", \"01/05/2020\", \"02/05/2020\", \"03/05/2020\", \"04/05/2020\", \"05/05/2020\", \"06/05/2020\", \"07/05/2020\", \"08/05/2020\", \"09/05/2020\", \"10/05/2020\", \"11/05/2020\", \"12/05/2020\", \"13/05/2020\", \"14/05/2020\", \"15/05/2020\", \"16/05/2020\", \"17/05/2020\", \"18/05/2020\", \"19/05/2020\", \"20/05/2020\", \"21/05/2020\", \"22/05/2020\", \"23/05/2020\", \"24/05/2020\", \"25/05/2020\", \"26/05/2020\", \"27/05/2020\", \"28/05/2020\", \"29/05/2020\", \"30/05/2020\", \"31/05/2020\", \"01/06/2020\", \"02/06/2020\", \"03/06/2020\", \"04/06/2020\", \"05/06/2020\", \"06/06/2020\", \"07/06/2020\", \"08/06/2020\", \"09/06/2020\", \"10/06/2020\", \"11/06/2020\", \"12/06/2020\", \"13/06/2020\", \"14/06/2020\", \"15/06/2020\", \"16/06/2020\", \"17/06/2020\", \"18/06/2020\", \"19/06/2020\", \"20/06/2020\", \"21/06/2020\", \"22/06/2020\", \"23/06/2020\", \"24/06/2020\", \"25/06/2020\", \"26/06/2020\", \"27/06/2020\", \"28/06/2020\", \"29/06/2020\", \"30/06/2020\", \"01/07/2020\", \"02/07/2020\", \"03/07/2020\", \"04/07/2020\", \"05/07/2020\", \"06/07/2020\", \"07/07/2020\", \"08/07/2020\", \"09/07/2020\", \"10/07/2020\", \"11/07/2020\", \"12/07/2020\"], \"xaxis\": \"x\", \"y\": [0, 0, 0, 0, 0, 0, 0, 0, 0, 0, 0, 0, 0, 0, 0, 0, 0, 0, 0, 0, 0, 0, 0.0, 0.0, 0.0, 0.0, 0.0, 0.0, 0.0, 0.0, 0.0, 0.0, 0.0, 0.0, 0.0, 0.0, 4.25531914893617, 3.9215686274509802, 3.571428571428571, 3.076923076923077, 3.0303030303030303, 2.666666666666667, 2.380952380952381, 1.89873417721519, 1.639344262295082, 1.3636363636363635, 1.7543859649122806, 1.680672268907563, 1.639344262295082, 1.5444015444015444, 1.2307692307692308, 1.5957446808510638, 2.050113895216401, 1.8404907975460123, 1.8329938900203666, 1.761252446183953, 1.6822429906542056, 1.6129032258064515, 2.1812080536912752, 2.1374045801526718, 1.866666666666667, 1.8252933507170794, 1.9207683073229291, 2.1999999999999997, 2.2079116835326587, 2.003205128205128, 2.12443095599393, 2.0694752402069474, 2.0245842371655822, 2.0100502512562812, 1.9973368841544608, 1.9411764705882355, 1.8970189701897018, 1.7848036715961242, 1.680672268907563, 1.6551724137931034, 1.635620172648796, 1.7067833698030634, 1.6574585635359116, 1.5636363636363635, 1.4789915966386555, 1.7538461538461538, 1.6964285714285714, 1.7038777908343123, 1.7582417582417582, 1.6795865633074936, 1.9226089072767096, 2.158438576349024, 2.079759862778731, 2.0627062706270625, 2.014910336490026, 1.9852082522382248, 1.917706199962763, 2.027729636048527, 2.0342783917988148, 1.9391001363429785, 1.93596425912137, 2.1270396270396272, 2.0460704607046067, 1.9695044472681067, 1.8834187626653953, 1.8376211159371867, 1.8657494267250365, 1.8385695524800485, 1.8241956499949883, 1.743145199283897, 1.6688859298712826, 1.6042780748663104, 1.5430124720179084, 1.5122438013356876, 1.4857398835299387, 1.4874565233478874, 1.4079693800833846, 1.3936810770583858, 1.3986481964799573, 1.603710326329906, 1.687336988343003, 1.655991251366974, 1.6204647370566654, 1.7778423678728865, 1.7975187901838268, 1.8642900198053904, 1.9665882734571407, 2.028671896131999, 1.98579450373731, 1.9638072165326874, 2.076051265755746, 2.0923713542014286, 2.1705426356589146, 2.2437639669022165, 2.2259504478863956, 2.158897141701107, 2.146731373108764, 2.0695386430045843, 2.025491047482823, 1.9710102345624603, 1.915438670709065, 1.8792464835139866, 1.8535909131562471], \"yaxis\": \"y\"}, {\"mode\": \"lines\", \"name\": \"Dados Prefeitura\", \"type\": \"scatter\", \"x\": [\"06/04/2020\", \"07/04/2020\", \"15/04/2020\", \"18/04/2020\", \"20/04/2020\", \"21/04/2020\", \"24/04/2020\", \"02/05/2020\", \"06/05/2020\", \"07/05/2020\", \"08/05/2020\", \"11/05/2020\", \"12/05/2020\", \"15/05/2020\", \"17/05/2020\", \"18/05/2020\", \"21/05/2020\", \"23/05/2020\", \"24/05/2020\", \"25/05/2020\", \"27/05/2020\", \"29/05/2020\", \"31/05/2020\", \"01/06/2020\", \"02/06/2020\", \"03/06/2020\", \"05/06/2020\", \"06/06/2020\", \"07/06/2020\", \"08/06/2020\", \"09/06/2020\", \"10/06/2020\", \"11/06/2020\", \"12/06/2020\", \"15/06/2020\", \"16/06/2020\", \"17/06/2020\", \"18/06/2020\", \"19/06/2020\", \"20/06/2020\", \"22/06/2020\", \"23/06/2020\", \"24/06/2020\", \"25/06/2020\", \"26/06/2020\", \"27/06/2020\", \"29/06/2020\", \"30/06/2020\", \"01/07/2020\", \"02/07/2020\", \"03/07/2020\", \"04/07/2020\", \"05/07/2020\", \"06/07/2020\", \"08/07/2020\", \"09/07/2020\", \"10/07/2020\", \"11/07/2020\", \"12/07/2020\"], \"xaxis\": \"x\", \"y\": [4.0, 8.73015873015873, 6.769230769230769, 6.134969325153374, 6.262230919765166, 5.981308411214954, 7.022900763358779, 4.286770140428677, 4.0588235294117645, 3.848238482384824, 3.977562468128506, 3.9527487505679235, 3.982494529540481, 3.7647058823529407, 3.482142857142857, 3.936545240893067, 4.648332927719641, 4.331046312178388, 4.249174917491749, 4.332057223453557, 4.542915658164215, 4.164664424155054, 4.0208488458674605, 4.020979020979021, 4.349593495934959, 4.193138500635324, 3.987080966700078, 4.033771106941838, 3.909485806647136, 4.019244261802145, 3.9291435032507303, 3.88814913448735, 3.8937165775401072, 3.8535337384074193, 3.9813512913490716, 3.841159182557583, 4.681685948176714, 5.085993441745299, 4.693786320965579, 4.545696492255283, 4.570933550754178, 5.338371360751829, 5.406139635968487, 5.38189959528115, 5.522666450409537, 5.568221337764211, 5.5023308739859775, 5.75150937400699, 5.78322098378162, 5.9072931498180665, 5.9884036963217975, 6.120614757781839, 5.942024796971186, 5.9548958035969175, 5.9436540573676275, 5.939963762793203, 5.866177818515124, 5.803622151021429, 5.746355424380646], \"yaxis\": \"y\"}, {\"mode\": \"lines\", \"name\": \"Dados Governo\", \"type\": \"scatter\", \"x\": [\"25/02/2020\", \"26/02/2020\", \"27/02/2020\", \"28/02/2020\", \"29/02/2020\", \"01/03/2020\", \"02/03/2020\", \"03/03/2020\", \"04/03/2020\", \"05/03/2020\", \"06/03/2020\", \"07/03/2020\", \"08/03/2020\", \"09/03/2020\", \"10/03/2020\", \"11/03/2020\", \"12/03/2020\", \"13/03/2020\", \"14/03/2020\", \"15/03/2020\", \"16/03/2020\", \"17/03/2020\", \"18/03/2020\", \"19/03/2020\", \"20/03/2020\", \"21/03/2020\", \"22/03/2020\", \"23/03/2020\", \"24/03/2020\", \"25/03/2020\", \"26/03/2020\", \"27/03/2020\", \"28/03/2020\", \"29/03/2020\", \"30/03/2020\", \"31/03/2020\", \"01/04/2020\", \"02/04/2020\", \"03/04/2020\", \"04/04/2020\", \"05/04/2020\", \"06/04/2020\", \"07/04/2020\", \"08/04/2020\", \"09/04/2020\", \"10/04/2020\", \"11/04/2020\", \"12/04/2020\", \"13/04/2020\", \"14/04/2020\", \"15/04/2020\", \"16/04/2020\", \"17/04/2020\", \"18/04/2020\", \"19/04/2020\", \"20/04/2020\", \"21/04/2020\", \"22/04/2020\", \"23/04/2020\", \"24/04/2020\", \"25/04/2020\", \"26/04/2020\", \"27/04/2020\", \"28/04/2020\", \"29/04/2020\", \"30/04/2020\", \"01/05/2020\", \"02/05/2020\", \"03/05/2020\", \"04/05/2020\", \"05/05/2020\", \"06/05/2020\", \"07/05/2020\", \"08/05/2020\", \"09/05/2020\", \"10/05/2020\", \"11/05/2020\", \"12/05/2020\", \"13/05/2020\", \"14/05/2020\", \"15/05/2020\", \"16/05/2020\", \"17/05/2020\", \"18/05/2020\", \"19/05/2020\", \"20/05/2020\", \"21/05/2020\", \"22/05/2020\", \"23/05/2020\", \"24/05/2020\", \"25/05/2020\", \"26/05/2020\", \"27/05/2020\", \"28/05/2020\", \"29/05/2020\", \"30/05/2020\", \"31/05/2020\", \"01/06/2020\", \"02/06/2020\", \"03/06/2020\", \"04/06/2020\", \"05/06/2020\", \"06/06/2020\", \"07/06/2020\", \"08/06/2020\", \"09/06/2020\", \"10/06/2020\", \"11/06/2020\", \"12/06/2020\", \"13/06/2020\", \"14/06/2020\", \"15/06/2020\", \"16/06/2020\", \"17/06/2020\", \"18/06/2020\", \"19/06/2020\", \"20/06/2020\", \"21/06/2020\", \"22/06/2020\", \"23/06/2020\", \"24/06/2020\", \"25/06/2020\", \"26/06/2020\", \"27/06/2020\", \"28/06/2020\", \"29/06/2020\", \"30/06/2020\", \"01/07/2020\", \"02/07/2020\", \"03/07/2020\", \"04/07/2020\", \"05/07/2020\", \"06/07/2020\", \"07/07/2020\", \"08/07/2020\", \"09/07/2020\", \"10/07/2020\", \"11/07/2020\", \"12/07/2020\"], \"xaxis\": \"x3\", \"y\": [0, 0, 0, 0, 0, 0, 0, 0, 0, 0, 0, 0, 0, 0, 0, 0, 0, 0, 0, 0, 0, 0, 0, 0, 0, 0, 0, 0, 0, 0, 0, 0, 0, 0, 0, 0.0, 0.0, 0.0, 0.0, 0.0, 0.0, 0.0, 0.0, 0.0, 0.0, 0.0, 0.0, 0.0, 0.0, 0.0, 0.0, 0.0, 0.0, 0.0, 0.0, 0.0, 0.0, 0.0, 5.084745762711865, 4.477611940298507, 3.896103896103896, 3.79746835443038, 4.878048780487805, 4.545454545454546, 4.123711340206185, 3.8461538461538463, 3.7037037037037033, 3.6363636363636362, 3.508771929824561, 3.418803418803419, 3.225806451612903, 3.0534351145038165, 2.9850746268656714, 4.827586206896552, 5.333333333333334, 5.333333333333334, 5.263157894736842, 5.590062111801243, 6.024096385542169, 5.747126436781609, 5.4945054945054945, 5.376344086021505, 5.208333333333334, 5.05050505050505, 6.190476190476191, 5.909090909090909, 5.752212389380531, 5.785123966942149, 5.533596837944664, 5.511811023622047, 5.283018867924529, 5.090909090909091, 4.844290657439446, 4.745762711864407, 6.451612903225806, 6.116207951070336, 6.042296072507553, 5.865102639296188, 5.361930294906166, 5.167958656330749, 4.842615012106537, 4.694835680751173, 4.921700223713646, 4.772234273318872, 4.680851063829787, 4.462474645030426, 4.854368932038835, 4.6992481203007515, 4.570383912248629, 4.490500863557859, 4.369747899159663, 4.318936877076411, 4.122137404580153, 3.851640513552068, 3.908355795148248, 3.9641943734015346, 3.8509316770186333, 3.753026634382567, 3.7037037037037033, 3.9473684210526314, 3.882476390346275, 3.711133400200602, 3.645320197044335, 3.6259541984732824, 3.571428571428571, 3.5283194057567315, 3.893805309734513, 3.8095238095238098, 3.7625418060200673, 3.617363344051447, 3.515625, 3.4775888717156103, 3.4403669724770642, 3.2991202346041053, 3.166783954961295, 3.095558546433378, 2.9986962190352022, 3.619047619047619, 3.5580524344569286], \"yaxis\": \"y3\"}, {\"mode\": \"lines\", \"name\": \"Dados  Prefeitura\", \"type\": \"scatter\", \"x\": [\"06/04/2020\", \"07/04/2020\", \"15/04/2020\", \"18/04/2020\", \"20/04/2020\", \"21/04/2020\", \"24/04/2020\", \"02/05/2020\", \"06/05/2020\", \"07/05/2020\", \"08/05/2020\", \"11/05/2020\", \"12/05/2020\", \"15/05/2020\", \"17/05/2020\", \"18/05/2020\", \"21/05/2020\", \"23/05/2020\", \"24/05/2020\", \"25/05/2020\", \"27/05/2020\", \"29/05/2020\", \"31/05/2020\", \"01/06/2020\", \"02/06/2020\", \"03/06/2020\", \"05/06/2020\", \"06/06/2020\", \"07/06/2020\", \"08/06/2020\", \"09/06/2020\", \"10/06/2020\", \"11/06/2020\", \"12/06/2020\", \"15/06/2020\", \"16/06/2020\", \"17/06/2020\", \"18/06/2020\", \"19/06/2020\", \"20/06/2020\", \"22/06/2020\", \"23/06/2020\", \"24/06/2020\", \"25/06/2020\", \"26/06/2020\", \"27/06/2020\", \"29/06/2020\", \"30/06/2020\", \"01/07/2020\", \"02/07/2020\", \"03/07/2020\", \"04/07/2020\", \"05/07/2020\", \"06/07/2020\", \"08/07/2020\", \"09/07/2020\", \"10/07/2020\", \"11/07/2020\", \"12/07/2020\"], \"xaxis\": \"x3\", \"y\": [0.0, 0.0, 3.7037037037037033, 4.651162790697675, 6.8181818181818175, 8.695652173913043, 7.462686567164178, 5.454545454545454, 5.343511450381679, 5.970149253731343, 6.206896551724138, 7.236842105263158, 7.453416149068323, 6.593406593406594, 6.770833333333333, 7.07070707070707, 7.079646017699115, 7.114624505928854, 7.874015748031496, 7.9245283018867925, 7.612456747404845, 7.741935483870968, 7.552870090634441, 7.331378299120235, 6.970509383378016, 6.976744186046512, 6.572769953051644, 6.487695749440715, 6.507592190889371, 7.021276595744681, 7.099391480730223, 7.184466019417475, 7.142857142857142, 7.129798903107861, 6.976744186046512, 6.564885496183207, 6.419400855920114, 6.199460916442049, 6.138107416879795, 6.086956521739131, 5.973715651135006, 5.921052631578947, 5.876180482686253, 5.717151454363089, 5.714285714285714, 5.7251908396946565, 5.7567316620241415, 5.486725663716814, 5.800865800865801, 5.769230769230769, 5.787781350482315, 5.859375, 6.105100463678516, 6.039755351681957, 5.840957072484166, 5.652759084791386, 5.541069100391134, 5.4603174603174605, 5.493133583021224], \"yaxis\": \"y3\"}, {\"mode\": \"lines\", \"name\": \"Dados Governo\", \"type\": \"scatter\", \"x\": [\"25/02/2020\", \"26/02/2020\", \"27/02/2020\", \"28/02/2020\", \"29/02/2020\", \"01/03/2020\", \"02/03/2020\", \"03/03/2020\", \"04/03/2020\", \"05/03/2020\", \"06/03/2020\", \"07/03/2020\", \"08/03/2020\", \"09/03/2020\", \"10/03/2020\", \"11/03/2020\", \"12/03/2020\", \"13/03/2020\", \"14/03/2020\", \"15/03/2020\", \"16/03/2020\", \"17/03/2020\", \"18/03/2020\", \"19/03/2020\", \"20/03/2020\", \"21/03/2020\", \"22/03/2020\", \"23/03/2020\", \"24/03/2020\", \"25/03/2020\", \"26/03/2020\", \"27/03/2020\", \"28/03/2020\", \"29/03/2020\", \"30/03/2020\", \"31/03/2020\", \"01/04/2020\", \"02/04/2020\", \"03/04/2020\", \"04/04/2020\", \"05/04/2020\", \"06/04/2020\", \"07/04/2020\", \"08/04/2020\", \"09/04/2020\", \"10/04/2020\", \"11/04/2020\", \"12/04/2020\", \"13/04/2020\", \"14/04/2020\", \"15/04/2020\", \"16/04/2020\", \"17/04/2020\", \"18/04/2020\", \"19/04/2020\", \"20/04/2020\", \"21/04/2020\", \"22/04/2020\", \"23/04/2020\", \"24/04/2020\", \"25/04/2020\", \"26/04/2020\", \"27/04/2020\", \"28/04/2020\", \"29/04/2020\", \"30/04/2020\", \"01/05/2020\", \"02/05/2020\", \"03/05/2020\", \"04/05/2020\", \"05/05/2020\", \"06/05/2020\", \"07/05/2020\", \"08/05/2020\", \"09/05/2020\", \"10/05/2020\", \"11/05/2020\", \"12/05/2020\", \"13/05/2020\", \"14/05/2020\", \"15/05/2020\", \"16/05/2020\", \"17/05/2020\", \"18/05/2020\", \"19/05/2020\", \"20/05/2020\", \"21/05/2020\", \"22/05/2020\", \"23/05/2020\", \"24/05/2020\", \"25/05/2020\", \"26/05/2020\", \"27/05/2020\", \"28/05/2020\", \"29/05/2020\", \"30/05/2020\", \"31/05/2020\", \"01/06/2020\", \"02/06/2020\", \"03/06/2020\", \"04/06/2020\", \"05/06/2020\", \"06/06/2020\", \"07/06/2020\", \"08/06/2020\", \"09/06/2020\", \"10/06/2020\", \"11/06/2020\", \"12/06/2020\", \"13/06/2020\", \"14/06/2020\", \"15/06/2020\", \"16/06/2020\", \"17/06/2020\", \"18/06/2020\", \"19/06/2020\", \"20/06/2020\", \"21/06/2020\", \"22/06/2020\", \"23/06/2020\", \"24/06/2020\", \"25/06/2020\", \"26/06/2020\", \"27/06/2020\", \"28/06/2020\", \"29/06/2020\", \"30/06/2020\", \"01/07/2020\", \"02/07/2020\", \"03/07/2020\", \"04/07/2020\", \"05/07/2020\", \"06/07/2020\", \"07/07/2020\", \"08/07/2020\", \"09/07/2020\", \"10/07/2020\", \"11/07/2020\", \"12/07/2020\"], \"xaxis\": \"x2\", \"y\": [0, 0, 0, 0, 0, 0, 0, 0, 0, 0, 0, 0, 0, 0, 0, 0, 0, 0, 0, 0, 0, 0, 0.0, 0, 0.0, 0, 0, 0, 0, 0.0, 0.0, 0.0, 0, 0, 0.0, 0.0, 15.384615384615385, 0.0, 0.0, 0.0, 0.0, 0.0, 1.9607843137254901, 0.0, 0.0, 0.0, 12.5, 0.0, 0.0, 0.0, 0.0, 3.9215686274509802, 4.761904761904762, 0.0, 0.0, 0.0, 0.0, 0.0, 10.526315789473683, 1.694915254237288, 0.0, 0.0, 3.0303030303030303, 3.592814371257485, 2.2988505747126435, 0.6211180124223602, 4.285714285714286, 0.0, 0.0, 0.0, 1.834862385321101, 1.5151515151515151, 1.3793103448275863, 0.0, 0.5524861878453038, 0.0, 0.0, 3.571428571428571, 1.2048192771084338, 0.4629629629629629, 0.4444444444444444, 4.7272727272727275, 0.0, 2.272727272727273, 2.5423728813559325, 0.43478260869565216, 5.857740585774058, 6.097560975609756, 0.9708737864077669, 1.6304347826086956, 0.0, 1.1428571428571428, 0.4291845493562232, 3.508771929824561, 2.1141649048625792, 0.27932960893854747, 1.7543859649122806, 10.738255033557047, 0.9689922480620154, 0.8163265306122449, 0.5780346820809248, 1.1864406779661016, 2.2764227642276422, 0.9836065573770493, 0.0, 0.4716981132075472, 0.4601226993865031, 0.5689900426742532, 0.1851851851851852, 0.7707129094412332, 0.544959128065395, 1.680672268907563, 0.4472271914132379, 0.0, 1.8518518518518516, 2.6413816457839485, 3.3670033670033668, 0.2403846153846154, 0.0, 4.808635917566241, 2.079002079002079, 3.1578947368421053, 3.6211699164345403, 3.2867707477403454, 0.8893280632411068, 0.2840909090909091, 4.907407407407407, 2.373706634205721, 3.599755948749237, 3.7773359840954273, 0.0, 0.32733224222585927, 1.1655011655011656, 0.8798944126704795, 1.1363636363636365, 0.7096392667060911, 0.5858230814294083, 0.823045267489712, 0.2789400278940028], \"yaxis\": \"y2\"}, {\"mode\": \"lines\", \"name\": \"Dados  Prefeitura\", \"type\": \"scatter\", \"x\": [\"06/04/2020\", \"07/04/2020\", \"15/04/2020\", \"18/04/2020\", \"20/04/2020\", \"21/04/2020\", \"24/04/2020\", \"02/05/2020\", \"06/05/2020\", \"07/05/2020\", \"08/05/2020\", \"11/05/2020\", \"12/05/2020\", \"15/05/2020\", \"17/05/2020\", \"18/05/2020\", \"21/05/2020\", \"23/05/2020\", \"24/05/2020\", \"25/05/2020\", \"27/05/2020\", \"29/05/2020\", \"31/05/2020\", \"01/06/2020\", \"02/06/2020\", \"03/06/2020\", \"05/06/2020\", \"06/06/2020\", \"07/06/2020\", \"08/06/2020\", \"09/06/2020\", \"10/06/2020\", \"11/06/2020\", \"12/06/2020\", \"15/06/2020\", \"16/06/2020\", \"17/06/2020\", \"18/06/2020\", \"19/06/2020\", \"20/06/2020\", \"22/06/2020\", \"23/06/2020\", \"24/06/2020\", \"25/06/2020\", \"26/06/2020\", \"27/06/2020\", \"29/06/2020\", \"30/06/2020\", \"01/07/2020\", \"02/07/2020\", \"03/07/2020\", \"04/07/2020\", \"05/07/2020\", \"06/07/2020\", \"08/07/2020\", \"09/07/2020\", \"10/07/2020\", \"11/07/2020\", \"12/07/2020\"], \"xaxis\": \"x2\", \"y\": [33.33333333333333, 15.686274509803921, 16.666666666666664, 16.0, 10.0, 0.0, 23.728813559322035, 34.285714285714285, 5.555555555555555, 1.3793103448275863, 6.0344827586206895, 34.61538461538461, 4.761904761904762, 9.333333333333334, 4.545454545454546, 38.63636363636363, 23.84937238493724, 3.559870550161812, 2.1739130434782608, 7.82608695652174, 12.446351931330472, 3.382663847780127, 8.771929824561402, 4.026845637583892, 8.720930232558139, 1.8367346938775513, 4.745762711864407, 4.715447154471545, 0.0, 17.94871794871795, 2.515723270440252, 3.2208588957055215, 3.982930298719772, 2.9629629629629632, 47.05882352941176, 2.146690518783542, 86.66666666666667, 41.9753086419753, 2.7091093802912294, 1.5712682379349048, 10.21377672209026, 20.11776251226693, 6.375606375606376, 4.912280701754386, 7.7994428969359335, 6.491372226787181, 16.477272727272727, 12.037037037037036, 6.329884357881924, 8.175716900549116, 7.687210072895957, 22.641509433962266, 1.0638297872340425, 6.993006993006993, 13.041125541125542, 5.854523950325252, 4.100761570005859, 3.9780521262002746, 2.2315202231520224], \"yaxis\": \"y2\"}, {\"mode\": \"lines\", \"name\": \"Dados Governo\", \"type\": \"scatter\", \"x\": [\"25/02/2020\", \"26/02/2020\", \"27/02/2020\", \"28/02/2020\", \"29/02/2020\", \"01/03/2020\", \"02/03/2020\", \"03/03/2020\", \"04/03/2020\", \"05/03/2020\", \"06/03/2020\", \"07/03/2020\", \"08/03/2020\", \"09/03/2020\", \"10/03/2020\", \"11/03/2020\", \"12/03/2020\", \"13/03/2020\", \"14/03/2020\", \"15/03/2020\", \"16/03/2020\", \"17/03/2020\", \"18/03/2020\", \"19/03/2020\", \"20/03/2020\", \"21/03/2020\", \"22/03/2020\", \"23/03/2020\", \"24/03/2020\", \"25/03/2020\", \"26/03/2020\", \"27/03/2020\", \"28/03/2020\", \"29/03/2020\", \"30/03/2020\", \"31/03/2020\", \"01/04/2020\", \"02/04/2020\", \"03/04/2020\", \"04/04/2020\", \"05/04/2020\", \"06/04/2020\", \"07/04/2020\", \"08/04/2020\", \"09/04/2020\", \"10/04/2020\", \"11/04/2020\", \"12/04/2020\", \"13/04/2020\", \"14/04/2020\", \"15/04/2020\", \"16/04/2020\", \"17/04/2020\", \"18/04/2020\", \"19/04/2020\", \"20/04/2020\", \"21/04/2020\", \"22/04/2020\", \"23/04/2020\", \"24/04/2020\", \"25/04/2020\", \"26/04/2020\", \"27/04/2020\", \"28/04/2020\", \"29/04/2020\", \"30/04/2020\", \"01/05/2020\", \"02/05/2020\", \"03/05/2020\", \"04/05/2020\", \"05/05/2020\", \"06/05/2020\", \"07/05/2020\", \"08/05/2020\", \"09/05/2020\", \"10/05/2020\", \"11/05/2020\", \"12/05/2020\", \"13/05/2020\", \"14/05/2020\", \"15/05/2020\", \"16/05/2020\", \"17/05/2020\", \"18/05/2020\", \"19/05/2020\", \"20/05/2020\", \"21/05/2020\", \"22/05/2020\", \"23/05/2020\", \"24/05/2020\", \"25/05/2020\", \"26/05/2020\", \"27/05/2020\", \"28/05/2020\", \"29/05/2020\", \"30/05/2020\", \"31/05/2020\", \"01/06/2020\", \"02/06/2020\", \"03/06/2020\", \"04/06/2020\", \"05/06/2020\", \"06/06/2020\", \"07/06/2020\", \"08/06/2020\", \"09/06/2020\", \"10/06/2020\", \"11/06/2020\", \"12/06/2020\", \"13/06/2020\", \"14/06/2020\", \"15/06/2020\", \"16/06/2020\", \"17/06/2020\", \"18/06/2020\", \"19/06/2020\", \"20/06/2020\", \"21/06/2020\", \"22/06/2020\", \"23/06/2020\", \"24/06/2020\", \"25/06/2020\", \"26/06/2020\", \"27/06/2020\", \"28/06/2020\", \"29/06/2020\", \"30/06/2020\", \"01/07/2020\", \"02/07/2020\", \"03/07/2020\", \"04/07/2020\", \"05/07/2020\", \"06/07/2020\", \"07/07/2020\", \"08/07/2020\", \"09/07/2020\", \"10/07/2020\", \"11/07/2020\", \"12/07/2020\"], \"xaxis\": \"x4\", \"y\": [0, 0, 0, 0, 0, 0, 0, 0, 0, 0, 0, 0, 0, 0, 0, 0, 0, 0, 0, 0, 0, 0, 0, 0, 0, 0, 0, 0, 0, 0, 0, 0, 0, 0, 0, 0.0, 0, 0, 0, 0.0, 0.0, 0, 0.0, 0.0, 0.0, 0.0, 0, 0.0, 0.0, 0.0, 0.0, 0.0, 0.0, 0.0, 0, 0.0, 0.0, 0.0, 42.857142857142854, 0.0, 0.0, 0.0, 33.33333333333333, 0.0, 0.0, 0.0, 0.0, 0.0, 0.0, 0.0, 0.0, 0.0, 0.0, 27.27272727272727, 20.0, 0, 0.0, 11.11111111111111, 20.0, 0.0, 0.0, 0.0, 0.0, 0.0, 25.0, 0.0, 0.0, 6.25, 0.0, 0.0, 0.0, 0.0, 0.0, 0.0, 40.0, 0.0, 0.0, 0.0, 0.0, 0.0, 0.0, 0.0, 9.523809523809524, 0.0, 0.0, 0.0, 13.636363636363635, 0.0, 0.0, 3.125, 0.0, 0.0, 1.8867924528301887, 0.0, 4.878048780487805, 5.0, 0.0, 0.0, 0.0, 6.666666666666667, 2.4390243902439024, 0.0, 0.0, 3.0303030303030303, 0.0, 0.0, 11.320754716981133, 0.0, 2.4390243902439024, 0.0, 0.0, 0.0, 0.0, 0.0, 0.0, 1.5384615384615385, 0.0, 26.82926829268293, 0.0], \"yaxis\": \"y4\"}, {\"mode\": \"lines\", \"name\": \"Dados Prefeitura\", \"type\": \"scatter\", \"x\": [\"06/04/2020\", \"07/04/2020\", \"15/04/2020\", \"18/04/2020\", \"20/04/2020\", \"21/04/2020\", \"24/04/2020\", \"02/05/2020\", \"06/05/2020\", \"07/05/2020\", \"08/05/2020\", \"11/05/2020\", \"12/05/2020\", \"15/05/2020\", \"17/05/2020\", \"18/05/2020\", \"21/05/2020\", \"23/05/2020\", \"24/05/2020\", \"25/05/2020\", \"27/05/2020\", \"29/05/2020\", \"31/05/2020\", \"01/06/2020\", \"02/06/2020\", \"03/06/2020\", \"05/06/2020\", \"06/06/2020\", \"07/06/2020\", \"08/06/2020\", \"09/06/2020\", \"10/06/2020\", \"11/06/2020\", \"12/06/2020\", \"15/06/2020\", \"16/06/2020\", \"17/06/2020\", \"18/06/2020\", \"19/06/2020\", \"20/06/2020\", \"22/06/2020\", \"23/06/2020\", \"24/06/2020\", \"25/06/2020\", \"26/06/2020\", \"27/06/2020\", \"29/06/2020\", \"30/06/2020\", \"01/07/2020\", \"02/07/2020\", \"03/07/2020\", \"04/07/2020\", \"05/07/2020\", \"06/07/2020\", \"08/07/2020\", \"09/07/2020\", \"10/07/2020\", \"11/07/2020\", \"12/07/2020\"], \"xaxis\": \"x4\", \"y\": [0, 0.0, 20.0, 25.0, 100.0, 50.0, 12.5, 50.0, 14.285714285714285, 33.33333333333333, 9.090909090909092, 100.0, 11.11111111111111, 0.0, 16.666666666666664, 16.666666666666664, 33.33333333333333, 18.181818181818183, 200.0, 9.090909090909092, 7.142857142857142, 13.333333333333334, 25.0, 0.0, 3.125, 7.142857142857142, 7.6923076923076925, 4.761904761904762, 7.142857142857142, 33.33333333333333, 8.695652173913043, 9.090909090909092, 5.88235294117647, 6.666666666666667, 42.857142857142854, 1.8867924528301887, 4.3478260869565215, 2.4390243902439024, 5.0, 4.3478260869565215, 9.090909090909092, 5.333333333333334, 4.878048780487805, 2.272727272727273, 5.555555555555555, 6.0606060606060606, 15.384615384615385, 0.0, 20.0, 4.878048780487805, 6.25, 8.333333333333332, 28.57142857142857, 0.0, 7.017543859649122, 1.5384615384615385, 2.083333333333333, 2.4390243902439024, 7.4074074074074066], \"yaxis\": \"y4\"}],\n",
              "                        {\"annotations\": [{\"font\": {\"size\": 16}, \"showarrow\": false, \"text\": \"Propor\\u00e7\\u00e3o de Casos Positivos em rela\\u00e7\\u00e3o a Regi\\u00e3o de Campinas\", \"x\": 0.225, \"xanchor\": \"center\", \"xref\": \"paper\", \"y\": 1.0, \"yanchor\": \"bottom\", \"yref\": \"paper\"}, {\"font\": {\"size\": 16}, \"showarrow\": false, \"text\": \"Propor\\u00e7\\u00e3o de \\u00d3bitos em rela\\u00e7\\u00e3o a Regi\\u00e3o de Campinas\", \"x\": 0.775, \"xanchor\": \"center\", \"xref\": \"paper\", \"y\": 1.0, \"yanchor\": \"bottom\", \"yref\": \"paper\"}, {\"font\": {\"size\": 16}, \"showarrow\": false, \"text\": \"Propor\\u00e7\\u00e3o de Casos/dia  em rela\\u00e7\\u00e3o a Regi\\u00e3o de Campinas\", \"x\": 0.225, \"xanchor\": \"center\", \"xref\": \"paper\", \"y\": 0.375, \"yanchor\": \"bottom\", \"yref\": \"paper\"}, {\"font\": {\"size\": 16}, \"showarrow\": false, \"text\": \"Propor\\u00e7\\u00e3o de \\u00d3bitos/dia em rela\\u00e7\\u00e3o a Regi\\u00e3o de Campinas\", \"x\": 0.775, \"xanchor\": \"center\", \"xref\": \"paper\", \"y\": 0.375, \"yanchor\": \"bottom\", \"yref\": \"paper\"}], \"autosize\": false, \"height\": 1000, \"template\": {\"data\": {\"bar\": [{\"error_x\": {\"color\": \"#2a3f5f\"}, \"error_y\": {\"color\": \"#2a3f5f\"}, \"marker\": {\"line\": {\"color\": \"#E5ECF6\", \"width\": 0.5}}, \"type\": \"bar\"}], \"barpolar\": [{\"marker\": {\"line\": {\"color\": \"#E5ECF6\", \"width\": 0.5}}, \"type\": \"barpolar\"}], \"carpet\": [{\"aaxis\": {\"endlinecolor\": \"#2a3f5f\", \"gridcolor\": \"white\", \"linecolor\": \"white\", \"minorgridcolor\": \"white\", \"startlinecolor\": \"#2a3f5f\"}, \"baxis\": {\"endlinecolor\": \"#2a3f5f\", \"gridcolor\": \"white\", \"linecolor\": \"white\", \"minorgridcolor\": \"white\", \"startlinecolor\": \"#2a3f5f\"}, \"type\": \"carpet\"}], \"choropleth\": [{\"colorbar\": {\"outlinewidth\": 0, \"ticks\": \"\"}, \"type\": \"choropleth\"}], \"contour\": [{\"colorbar\": {\"outlinewidth\": 0, \"ticks\": \"\"}, \"colorscale\": [[0.0, \"#0d0887\"], [0.1111111111111111, \"#46039f\"], [0.2222222222222222, \"#7201a8\"], [0.3333333333333333, \"#9c179e\"], [0.4444444444444444, \"#bd3786\"], [0.5555555555555556, \"#d8576b\"], [0.6666666666666666, \"#ed7953\"], [0.7777777777777778, \"#fb9f3a\"], [0.8888888888888888, \"#fdca26\"], [1.0, \"#f0f921\"]], \"type\": \"contour\"}], \"contourcarpet\": [{\"colorbar\": {\"outlinewidth\": 0, \"ticks\": \"\"}, \"type\": \"contourcarpet\"}], \"heatmap\": [{\"colorbar\": {\"outlinewidth\": 0, \"ticks\": \"\"}, \"colorscale\": [[0.0, \"#0d0887\"], [0.1111111111111111, \"#46039f\"], [0.2222222222222222, \"#7201a8\"], [0.3333333333333333, \"#9c179e\"], [0.4444444444444444, \"#bd3786\"], [0.5555555555555556, \"#d8576b\"], [0.6666666666666666, \"#ed7953\"], [0.7777777777777778, \"#fb9f3a\"], [0.8888888888888888, \"#fdca26\"], [1.0, \"#f0f921\"]], \"type\": \"heatmap\"}], \"heatmapgl\": [{\"colorbar\": {\"outlinewidth\": 0, \"ticks\": \"\"}, \"colorscale\": [[0.0, \"#0d0887\"], [0.1111111111111111, \"#46039f\"], [0.2222222222222222, \"#7201a8\"], [0.3333333333333333, \"#9c179e\"], [0.4444444444444444, \"#bd3786\"], [0.5555555555555556, \"#d8576b\"], [0.6666666666666666, \"#ed7953\"], [0.7777777777777778, \"#fb9f3a\"], [0.8888888888888888, \"#fdca26\"], [1.0, \"#f0f921\"]], \"type\": \"heatmapgl\"}], \"histogram\": [{\"marker\": {\"colorbar\": {\"outlinewidth\": 0, \"ticks\": \"\"}}, \"type\": \"histogram\"}], \"histogram2d\": [{\"colorbar\": {\"outlinewidth\": 0, \"ticks\": \"\"}, \"colorscale\": [[0.0, \"#0d0887\"], [0.1111111111111111, \"#46039f\"], [0.2222222222222222, \"#7201a8\"], [0.3333333333333333, \"#9c179e\"], [0.4444444444444444, \"#bd3786\"], [0.5555555555555556, \"#d8576b\"], [0.6666666666666666, \"#ed7953\"], [0.7777777777777778, \"#fb9f3a\"], [0.8888888888888888, \"#fdca26\"], [1.0, \"#f0f921\"]], \"type\": \"histogram2d\"}], \"histogram2dcontour\": [{\"colorbar\": {\"outlinewidth\": 0, \"ticks\": \"\"}, \"colorscale\": [[0.0, \"#0d0887\"], [0.1111111111111111, \"#46039f\"], [0.2222222222222222, \"#7201a8\"], [0.3333333333333333, \"#9c179e\"], [0.4444444444444444, \"#bd3786\"], [0.5555555555555556, \"#d8576b\"], [0.6666666666666666, \"#ed7953\"], [0.7777777777777778, \"#fb9f3a\"], [0.8888888888888888, \"#fdca26\"], [1.0, \"#f0f921\"]], \"type\": \"histogram2dcontour\"}], \"mesh3d\": [{\"colorbar\": {\"outlinewidth\": 0, \"ticks\": \"\"}, \"type\": \"mesh3d\"}], \"parcoords\": [{\"line\": {\"colorbar\": {\"outlinewidth\": 0, \"ticks\": \"\"}}, \"type\": \"parcoords\"}], \"pie\": [{\"automargin\": true, \"type\": \"pie\"}], \"scatter\": [{\"marker\": {\"colorbar\": {\"outlinewidth\": 0, \"ticks\": \"\"}}, \"type\": \"scatter\"}], \"scatter3d\": [{\"line\": {\"colorbar\": {\"outlinewidth\": 0, \"ticks\": \"\"}}, \"marker\": {\"colorbar\": {\"outlinewidth\": 0, \"ticks\": \"\"}}, \"type\": \"scatter3d\"}], \"scattercarpet\": [{\"marker\": {\"colorbar\": {\"outlinewidth\": 0, \"ticks\": \"\"}}, \"type\": \"scattercarpet\"}], \"scattergeo\": [{\"marker\": {\"colorbar\": {\"outlinewidth\": 0, \"ticks\": \"\"}}, \"type\": \"scattergeo\"}], \"scattergl\": [{\"marker\": {\"colorbar\": {\"outlinewidth\": 0, \"ticks\": \"\"}}, \"type\": \"scattergl\"}], \"scattermapbox\": [{\"marker\": {\"colorbar\": {\"outlinewidth\": 0, \"ticks\": \"\"}}, \"type\": \"scattermapbox\"}], \"scatterpolar\": [{\"marker\": {\"colorbar\": {\"outlinewidth\": 0, \"ticks\": \"\"}}, \"type\": \"scatterpolar\"}], \"scatterpolargl\": [{\"marker\": {\"colorbar\": {\"outlinewidth\": 0, \"ticks\": \"\"}}, \"type\": \"scatterpolargl\"}], \"scatterternary\": [{\"marker\": {\"colorbar\": {\"outlinewidth\": 0, \"ticks\": \"\"}}, \"type\": \"scatterternary\"}], \"surface\": [{\"colorbar\": {\"outlinewidth\": 0, \"ticks\": \"\"}, \"colorscale\": [[0.0, \"#0d0887\"], [0.1111111111111111, \"#46039f\"], [0.2222222222222222, \"#7201a8\"], [0.3333333333333333, \"#9c179e\"], [0.4444444444444444, \"#bd3786\"], [0.5555555555555556, \"#d8576b\"], [0.6666666666666666, \"#ed7953\"], [0.7777777777777778, \"#fb9f3a\"], [0.8888888888888888, \"#fdca26\"], [1.0, \"#f0f921\"]], \"type\": \"surface\"}], \"table\": [{\"cells\": {\"fill\": {\"color\": \"#EBF0F8\"}, \"line\": {\"color\": \"white\"}}, \"header\": {\"fill\": {\"color\": \"#C8D4E3\"}, \"line\": {\"color\": \"white\"}}, \"type\": \"table\"}]}, \"layout\": {\"annotationdefaults\": {\"arrowcolor\": \"#2a3f5f\", \"arrowhead\": 0, \"arrowwidth\": 1}, \"coloraxis\": {\"colorbar\": {\"outlinewidth\": 0, \"ticks\": \"\"}}, \"colorscale\": {\"diverging\": [[0, \"#8e0152\"], [0.1, \"#c51b7d\"], [0.2, \"#de77ae\"], [0.3, \"#f1b6da\"], [0.4, \"#fde0ef\"], [0.5, \"#f7f7f7\"], [0.6, \"#e6f5d0\"], [0.7, \"#b8e186\"], [0.8, \"#7fbc41\"], [0.9, \"#4d9221\"], [1, \"#276419\"]], \"sequential\": [[0.0, \"#0d0887\"], [0.1111111111111111, \"#46039f\"], [0.2222222222222222, \"#7201a8\"], [0.3333333333333333, \"#9c179e\"], [0.4444444444444444, \"#bd3786\"], [0.5555555555555556, \"#d8576b\"], [0.6666666666666666, \"#ed7953\"], [0.7777777777777778, \"#fb9f3a\"], [0.8888888888888888, \"#fdca26\"], [1.0, \"#f0f921\"]], \"sequentialminus\": [[0.0, \"#0d0887\"], [0.1111111111111111, \"#46039f\"], [0.2222222222222222, \"#7201a8\"], [0.3333333333333333, \"#9c179e\"], [0.4444444444444444, \"#bd3786\"], [0.5555555555555556, \"#d8576b\"], [0.6666666666666666, \"#ed7953\"], [0.7777777777777778, \"#fb9f3a\"], [0.8888888888888888, \"#fdca26\"], [1.0, \"#f0f921\"]]}, \"colorway\": [\"#636efa\", \"#EF553B\", \"#00cc96\", \"#ab63fa\", \"#FFA15A\", \"#19d3f3\", \"#FF6692\", \"#B6E880\", \"#FF97FF\", \"#FECB52\"], \"font\": {\"color\": \"#2a3f5f\"}, \"geo\": {\"bgcolor\": \"white\", \"lakecolor\": \"white\", \"landcolor\": \"#E5ECF6\", \"showlakes\": true, \"showland\": true, \"subunitcolor\": \"white\"}, \"hoverlabel\": {\"align\": \"left\"}, \"hovermode\": \"closest\", \"mapbox\": {\"style\": \"light\"}, \"paper_bgcolor\": \"white\", \"plot_bgcolor\": \"#E5ECF6\", \"polar\": {\"angularaxis\": {\"gridcolor\": \"white\", \"linecolor\": \"white\", \"ticks\": \"\"}, \"bgcolor\": \"#E5ECF6\", \"radialaxis\": {\"gridcolor\": \"white\", \"linecolor\": \"white\", \"ticks\": \"\"}}, \"scene\": {\"xaxis\": {\"backgroundcolor\": \"#E5ECF6\", \"gridcolor\": \"white\", \"gridwidth\": 2, \"linecolor\": \"white\", \"showbackground\": true, \"ticks\": \"\", \"zerolinecolor\": \"white\"}, \"yaxis\": {\"backgroundcolor\": \"#E5ECF6\", \"gridcolor\": \"white\", \"gridwidth\": 2, \"linecolor\": \"white\", \"showbackground\": true, \"ticks\": \"\", \"zerolinecolor\": \"white\"}, \"zaxis\": {\"backgroundcolor\": \"#E5ECF6\", \"gridcolor\": \"white\", \"gridwidth\": 2, \"linecolor\": \"white\", \"showbackground\": true, \"ticks\": \"\", \"zerolinecolor\": \"white\"}}, \"shapedefaults\": {\"line\": {\"color\": \"#2a3f5f\"}}, \"ternary\": {\"aaxis\": {\"gridcolor\": \"white\", \"linecolor\": \"white\", \"ticks\": \"\"}, \"baxis\": {\"gridcolor\": \"white\", \"linecolor\": \"white\", \"ticks\": \"\"}, \"bgcolor\": \"#E5ECF6\", \"caxis\": {\"gridcolor\": \"white\", \"linecolor\": \"white\", \"ticks\": \"\"}}, \"title\": {\"x\": 0.05}, \"xaxis\": {\"automargin\": true, \"gridcolor\": \"white\", \"linecolor\": \"white\", \"ticks\": \"\", \"title\": {\"standoff\": 15}, \"zerolinecolor\": \"white\", \"zerolinewidth\": 2}, \"yaxis\": {\"automargin\": true, \"gridcolor\": \"white\", \"linecolor\": \"white\", \"ticks\": \"\", \"title\": {\"standoff\": 15}, \"zerolinecolor\": \"white\", \"zerolinewidth\": 2}}}, \"width\": 1300, \"xaxis\": {\"anchor\": \"y\", \"domain\": [0.0, 0.45], \"title\": {\"text\": \"Dia\"}}, \"xaxis2\": {\"anchor\": \"y2\", \"domain\": [0.55, 1.0], \"title\": {\"text\": \"Dia\"}}, \"xaxis3\": {\"anchor\": \"y3\", \"domain\": [0.0, 0.45]}, \"xaxis4\": {\"anchor\": \"y4\", \"domain\": [0.55, 1.0]}, \"yaxis\": {\"anchor\": \"x\", \"domain\": [0.625, 1.0], \"title\": {\"text\": \"Valores\"}}, \"yaxis2\": {\"anchor\": \"x2\", \"domain\": [0.625, 1.0], \"title\": {\"text\": \"Valores\"}}, \"yaxis3\": {\"anchor\": \"x3\", \"domain\": [0.0, 0.375]}, \"yaxis4\": {\"anchor\": \"x4\", \"domain\": [0.0, 0.375]}},\n",
              "                        {\"responsive\": true}\n",
              "                    ).then(function(){\n",
              "                            \n",
              "var gd = document.getElementById('92ba02f8-1745-48ac-9116-3bec090c25c5');\n",
              "var x = new MutationObserver(function (mutations, observer) {{\n",
              "        var display = window.getComputedStyle(gd).display;\n",
              "        if (!display || display === 'none') {{\n",
              "            console.log([gd, 'removed!']);\n",
              "            Plotly.purge(gd);\n",
              "            observer.disconnect();\n",
              "        }}\n",
              "}});\n",
              "\n",
              "// Listen for the removal of the full notebook cells\n",
              "var notebookContainer = gd.closest('#notebook-container');\n",
              "if (notebookContainer) {{\n",
              "    x.observe(notebookContainer, {childList: true});\n",
              "}}\n",
              "\n",
              "// Listen for the clearing of the current output cell\n",
              "var outputEl = gd.closest('.output');\n",
              "if (outputEl) {{\n",
              "    x.observe(outputEl, {childList: true});\n",
              "}}\n",
              "\n",
              "                        })\n",
              "                };\n",
              "                \n",
              "            </script>\n",
              "        </div>\n",
              "</body>\n",
              "</html>"
            ]
          },
          "metadata": {
            "tags": []
          }
        }
      ]
    },
    {
      "cell_type": "markdown",
      "metadata": {
        "id": "W5YbNErdaAA3",
        "colab_type": "text"
      },
      "source": [
        "Analisando a média, mediana e desvio padrão dos dados da proporção. É possivel reforçar oque foi dito anteriormente maior valores de media/mediana para os dados da Prefeitura entretanto tanto casos por dia e óbitos por dia tem uma alta variabilidade, um dos motivos podem ser os resultantos são recebidos após alguns dias apenas."
      ]
    },
    {
      "cell_type": "code",
      "metadata": {
        "id": "HrwkG9WrSCKZ",
        "colab_type": "code",
        "colab": {
          "base_uri": "https://localhost:8080/",
          "height": 286
        },
        "outputId": "09b80fa1-9b9e-4585-b8ef-9db6b41ba26d"
      },
      "source": [
        "import statistics\n",
        "Data_Estat = pd.DataFrame()\n",
        "Data_Estat[\"Media\"] = [statistics.mean(Prop_Pref_Casos),statistics.mean(Prop_Pref_Casos_day),statistics.mean(Prop_Pref_Obitos),statistics.mean(Prop_Pref_Obitos_day),statistics.mean(Prop_Gov_Casos),statistics.mean(Prop_Gov_Casos_day),statistics.mean(Prop_Gov_Obitos),statistics.mean(Prop_Gov_Obitos_day)]\n",
        "Data_Estat[\"Mediana\"] = [statistics.median(Prop_Pref_Casos),statistics.median(Prop_Pref_Casos_day),statistics.median(Prop_Pref_Obitos),statistics.median(Prop_Pref_Obitos_day),statistics.median(Prop_Gov_Casos),statistics.median(Prop_Gov_Casos_day),statistics.median(Prop_Gov_Obitos),statistics.median(Prop_Gov_Obitos_day)]\n",
        "Data_Estat[\"Desvio_padrao\"] = [statistics.stdev(Prop_Pref_Casos),statistics.stdev(Prop_Pref_Casos_day),statistics.stdev(Prop_Pref_Obitos),statistics.stdev(Prop_Pref_Obitos_day),statistics.stdev(Prop_Gov_Casos),statistics.stdev(Prop_Gov_Casos_day),statistics.stdev(Prop_Gov_Obitos),statistics.stdev(Prop_Gov_Obitos_day)]\n",
        "\n",
        "Data_Estat = Data_Estat.rename(index= {0:'Prefeitura_Casos',1:'Prefeitura_Casos_dia',2:'Prefeitura_Obitos',3:'Prefeitura_Obitos_dia',\n",
        "                          4:'Governo_Casos',5:'Governo_Casos_dia',6:'Governo_Obitos',7:'Governo_Obitos_dia'})\n",
        "\n",
        "Data_Estat"
      ],
      "execution_count": null,
      "outputs": [
        {
          "output_type": "execute_result",
          "data": {
            "text/html": [
              "<div>\n",
              "<style scoped>\n",
              "    .dataframe tbody tr th:only-of-type {\n",
              "        vertical-align: middle;\n",
              "    }\n",
              "\n",
              "    .dataframe tbody tr th {\n",
              "        vertical-align: top;\n",
              "    }\n",
              "\n",
              "    .dataframe thead th {\n",
              "        text-align: right;\n",
              "    }\n",
              "</style>\n",
              "<table border=\"1\" class=\"dataframe\">\n",
              "  <thead>\n",
              "    <tr style=\"text-align: right;\">\n",
              "      <th></th>\n",
              "      <th>Media</th>\n",
              "      <th>Mediana</th>\n",
              "      <th>Desvio_padrao</th>\n",
              "    </tr>\n",
              "  </thead>\n",
              "  <tbody>\n",
              "    <tr>\n",
              "      <th>Prefeitura_Casos</th>\n",
              "      <td>4.905520</td>\n",
              "      <td>4.545696</td>\n",
              "      <td>1.057257</td>\n",
              "    </tr>\n",
              "    <tr>\n",
              "      <th>Prefeitura_Casos_dia</th>\n",
              "      <td>12.201682</td>\n",
              "      <td>6.491372</td>\n",
              "      <td>14.853661</td>\n",
              "    </tr>\n",
              "    <tr>\n",
              "      <th>Prefeitura_Obitos</th>\n",
              "      <td>6.214630</td>\n",
              "      <td>6.206897</td>\n",
              "      <td>1.465278</td>\n",
              "    </tr>\n",
              "    <tr>\n",
              "      <th>Prefeitura_Obitos_dia</th>\n",
              "      <td>17.902432</td>\n",
              "      <td>7.407407</td>\n",
              "      <td>31.373105</td>\n",
              "    </tr>\n",
              "    <tr>\n",
              "      <th>Governo_Casos</th>\n",
              "      <td>1.436605</td>\n",
              "      <td>1.753846</td>\n",
              "      <td>0.937356</td>\n",
              "    </tr>\n",
              "    <tr>\n",
              "      <th>Governo_Casos_dia</th>\n",
              "      <td>1.286164</td>\n",
              "      <td>0.278940</td>\n",
              "      <td>2.397881</td>\n",
              "    </tr>\n",
              "    <tr>\n",
              "      <th>Governo_Obitos</th>\n",
              "      <td>2.597691</td>\n",
              "      <td>3.515625</td>\n",
              "      <td>2.313008</td>\n",
              "    </tr>\n",
              "    <tr>\n",
              "      <th>Governo_Obitos_dia</th>\n",
              "      <td>2.288761</td>\n",
              "      <td>0.000000</td>\n",
              "      <td>7.325586</td>\n",
              "    </tr>\n",
              "  </tbody>\n",
              "</table>\n",
              "</div>"
            ],
            "text/plain": [
              "                           Media   Mediana  Desvio_padrao\n",
              "Prefeitura_Casos        4.905520  4.545696       1.057257\n",
              "Prefeitura_Casos_dia   12.201682  6.491372      14.853661\n",
              "Prefeitura_Obitos       6.214630  6.206897       1.465278\n",
              "Prefeitura_Obitos_dia  17.902432  7.407407      31.373105\n",
              "Governo_Casos           1.436605  1.753846       0.937356\n",
              "Governo_Casos_dia       1.286164  0.278940       2.397881\n",
              "Governo_Obitos          2.597691  3.515625       2.313008\n",
              "Governo_Obitos_dia      2.288761  0.000000       7.325586"
            ]
          },
          "metadata": {
            "tags": []
          },
          "execution_count": 181
        }
      ]
    },
    {
      "cell_type": "markdown",
      "metadata": {
        "id": "IWWV406KeQc2",
        "colab_type": "text"
      },
      "source": [
        "# Dados Semanais e Mensais\n",
        "\n",
        "Para ver a progressão da evolução da doença de Covid-19, separamos os dados por semana e por mês."
      ]
    },
    {
      "cell_type": "code",
      "metadata": {
        "id": "2pSmnJmEjRQh",
        "colab_type": "code",
        "colab": {}
      },
      "source": [
        "#Função para separar a list pelo n\n",
        "def chunks(lst, n):\n",
        "    \n",
        "    for i in range(0, len(lst), n):\n",
        "        yield lst[i:i + n]"
      ],
      "execution_count": null,
      "outputs": []
    },
    {
      "cell_type": "code",
      "metadata": {
        "id": "VXDCRnH1vkLk",
        "colab_type": "code",
        "colab": {}
      },
      "source": [
        "#Separando por quantidade de semanas\n",
        "last_value = datetime.datetime.strptime(Dados_Indaiatuba.Data.values[len(Dados_Indaiatuba.Data.values)-1], '%d/%m/%Y').strftime('%Y-%m-%d')\n",
        "all_dates = pd.date_range('2020-04-06',last_value).strftime('%d/%m/%Y')\n",
        "\n",
        "if len(all_dates)%7 == 0:\n",
        "  number_groups = len(all_dates)/7\n",
        "else:\n",
        "  number_groups = int(len(all_dates)/7) +1"
      ],
      "execution_count": null,
      "outputs": []
    },
    {
      "cell_type": "code",
      "metadata": {
        "id": "jBbtJV7-tuCR",
        "colab_type": "code",
        "colab": {}
      },
      "source": [
        "#Feito para fazer a junção das palavras para o eixo x do Bar-plot\n",
        "words_mon = ['Abril',\"Maio\",'Junho','Julho','Agosto','Setembro','Outubro','Novembro','Dezembro']\n",
        "words = ['Primeira semana de ',\"Segunda semana de \",'Terceira semana de ','Quarta semana de ']\n",
        "all_words = []\n",
        "words_months = []\n",
        "#for num in range(0,len(number_groups)):\n",
        "aux_word = 0\n",
        "while len(all_words) != number_groups:\n",
        "  all_words.append(words[aux_word])\n",
        "  aux_word = aux_word +1\n",
        "  if aux_word == 4:\n",
        "    aux_word =0\n",
        "\n",
        "word_aux = 0\n",
        "conta = 0\n",
        "while len(words_months) != number_groups:\n",
        "  words_months.append(words_mon[conta])\n",
        "  word_aux = word_aux +1\n",
        "  if word_aux == 4:\n",
        "    word_aux = 0\n",
        "    conta = conta + 1\n",
        "\n",
        "all_words_final = [ x + y for x,y in zip(all_words,words_months)]"
      ],
      "execution_count": null,
      "outputs": []
    },
    {
      "cell_type": "markdown",
      "metadata": {
        "id": "2JsVcd51ltbG",
        "colab_type": "text"
      },
      "source": [
        "Para cada semana pegamos os dias que pertencem a essa semana e somamos os valores desejados. Para os dados do Governo temos valores para cada dia, porém para o da Prefeitura temos alguns dias da semana apenas, mas de qualquer jeito foi feito a soma. Tambem foi feito a média, nesse caso dividiamos pela quantidade de dias utilizados."
      ]
    },
    {
      "cell_type": "code",
      "metadata": {
        "id": "lsVZJxvYlOTz",
        "colab_type": "code",
        "colab": {}
      },
      "source": [
        "#Fazendo a soma dos casos e óbitos por semana\n",
        "Pref_Obit_week = []\n",
        "Pref_Cas_week = []\n",
        "Pref_Ind_week = []\n",
        "dat = list(chunks(all_dates,7))\n",
        "for i in dat:\n",
        "  aux_obit = 0\n",
        "  aux_casos = 0\n",
        "  aux_ind = 0\n",
        "  for j in range(0,len(Dados_Indaiatuba.Data.values)):\n",
        "    if Dados_Indaiatuba.Data.values[j] in i:\n",
        "      aux_obit = aux_obit + Dados_Indaiatuba.Obitos_per_day.values[j]\n",
        "      aux_casos = aux_casos + Dados_Indaiatuba.Casos_Positivos_per_day.values[j]\n",
        "      aux_ind = aux_ind + 1\n",
        "    \n",
        "  Pref_Obit_week.append(aux_obit)\n",
        "  Pref_Cas_week.append(aux_casos)\n",
        "  Pref_Ind_week.append(aux_ind)\n",
        "\n",
        "Gov_Obit_week = []\n",
        "Gov_Cas_week = []\n",
        "Gov_Ind_week = []\n",
        "\n",
        "for i in dat:\n",
        "  aux_obit = 0\n",
        "  aux_casos = 0\n",
        "  aux_ind = 0\n",
        "  for j in range(0,len(Dados_Governo_Indaiatuba.Data.values)):\n",
        "    if Dados_Governo_Indaiatuba.Data.values[j] in i:\n",
        "      aux_obit = aux_obit + Dados_Governo_Indaiatuba.Obitos_por_dia.values[j]\n",
        "      aux_casos = aux_casos + Dados_Governo_Indaiatuba.Casos_por_dia.values[j]\n",
        "      aux_ind = aux_ind + 1\n",
        "    \n",
        "  Gov_Obit_week.append(aux_obit)\n",
        "  Gov_Cas_week.append(aux_casos)\n",
        "  Gov_Ind_week.append(aux_ind)\n",
        "\n",
        "Pref_mean_Ob_week = np.array(Pref_Obit_week)/np.array(Pref_Ind_week)\n",
        "Pref_mean_Caso_week = np.array(Pref_Cas_week)/np.array(Pref_Ind_week)\n",
        "Gov_mean_Ob_week = np.array(Gov_Obit_week)/np.array(Gov_Ind_week)\n",
        "Gov_mean_Caso_week = np.array(Gov_Cas_week)/np.array(Gov_Ind_week)"
      ],
      "execution_count": null,
      "outputs": []
    },
    {
      "cell_type": "markdown",
      "metadata": {
        "id": "cOOE0js-mH3g",
        "colab_type": "text"
      },
      "source": [
        "Casos mensais é analogo ao semanais porem somando todos os valores do mês."
      ]
    },
    {
      "cell_type": "code",
      "metadata": {
        "id": "zzro8oAWDY8h",
        "colab_type": "code",
        "colab": {}
      },
      "source": [
        "Pref_Obit_month, Gov_Obit_month = [],[]\n",
        "Pref_Cas_month,Gov_Cas_month  = [],[]\n",
        "Pref_Ind_month,Gov_Ind_month = [],[]\n",
        "\n",
        "for k in list(range(0, int(number_groups), 4)):\n",
        "  Pref_Cas_month.append(sum(Pref_Cas_week[k:k+4]))\n",
        "  Pref_Obit_month.append(sum(Pref_Obit_week[k:k+4]))\n",
        "  Pref_Ind_month.append(sum(Pref_Ind_week[k:k+4]))\n",
        "  Gov_Cas_month.append(sum(Gov_Cas_week[k:k+4]))\n",
        "  Gov_Obit_month.append(sum(Gov_Obit_week[k:k+4]))\n",
        "  Gov_Ind_month.append(sum(Gov_Ind_week[k:k+4]))\n",
        "\n",
        "Pref_mean_Ob_month = np.array(Pref_Obit_month)/np.array(Pref_Ind_month)\n",
        "Pref_mean_Caso_month = np.array(Pref_Cas_month)/np.array(Pref_Ind_month)\n",
        "Gov_mean_Ob_month = np.array(Gov_Obit_month)/np.array(Gov_Ind_month)\n",
        "Gov_mean_Caso_month = np.array(Gov_Cas_month)/np.array(Gov_Ind_month)"
      ],
      "execution_count": null,
      "outputs": []
    },
    {
      "cell_type": "markdown",
      "metadata": {
        "id": "aVArilxgnpeC",
        "colab_type": "text"
      },
      "source": [
        "Podemos notar uma clara evolução no casos positivos, principalmente depois da segunda semana de Junho, dando relação ao inicio do Plano SP, no dados da prefeitura são muito superiores ao do Governo, mas até no dados do Governo tambem tem um crescimento. Para a  evolução das mortes teve um aumento porém continua em torno de 2 mortes por dia, tendo algumas semanas com valores maiores superiores para os dados do Governo.\n"
      ]
    },
    {
      "cell_type": "code",
      "metadata": {
        "id": "j4PEe-8Q59jw",
        "colab_type": "code",
        "colab": {
          "base_uri": "https://localhost:8080/",
          "height": 1000
        },
        "outputId": "ee342e08-fef6-41ed-f864-96ec67098256"
      },
      "source": [
        "fig2 = make_subplots(rows=2, cols=2,subplot_titles = [\"Soma semanal de Casos Positivos de COVID-19\",\"Média semanal de Casos Positivos de COVID-19\",\n",
        "                                                      \"Soma semanal de Óbitos por COVID-19\",\"Média semanal de Óbitos por COVID-19\"])\n",
        "\n",
        "fig2.add_trace(go.Bar(name = 'Prefeitura - Casos Positivos',x = all_words_final, y = Pref_Cas_week),row=1, col=1)\n",
        "fig2.add_trace(go.Bar(name = 'Governo - Casos Positivos',x = all_words_final, y = Gov_Cas_week),row=1, col=1)\n",
        "\n",
        "fig2.add_annotation(x=\"Segunda semana de Abril\",y=19,text=\"Feriado\",xref=\"x\", yref=\"y\",showarrow=True,arrowhead=7,ax=0,ay=-40)\n",
        "fig2.add_annotation(x=\"Primeira semana de Maio\",y=20,text=\"Feriado\",xref=\"x\", yref=\"y\",showarrow=True,arrowhead=7,ax=0,ay=-40)\n",
        "fig2.add_annotation(x=\"Quarta semana de Maio\",y=64,text=\"Feriado Antecipado\",xref=\"x\", yref=\"y\",showarrow=True,arrowhead=7,ax=0,ay=-40)\n",
        "fig2.add_annotation(x=\"Primeira semana de Junho\",y=117,text=\"Inicio Plano SP - Laranja\",xref=\"x\", yref=\"y\",showarrow=True,arrowhead=7,ax=0,ay=-40)\n",
        "fig2.add_annotation(x=\"Primeira semana de Julho\",y=615,text=\"Inicio Plano SP - Vermelho\",xref=\"x\", yref=\"y\",showarrow=True,arrowhead=7,ax=0,ay=-40)\n",
        "\n",
        "fig2.add_trace(go.Bar(name = 'Prefeitura - Casos Positivos',x = all_words_final, y = Pref_mean_Caso_week),row=1, col=2)\n",
        "fig2.add_trace(go.Bar(name = 'Governo - Casos Positivos',x = all_words_final, y = Gov_mean_Caso_week),row=1, col=2)\n",
        "\n",
        "fig2.add_annotation(x=\"Segunda semana de Abril\",y=9.5,text=\"Feriado\",xref=\"x2\", yref=\"y2\",showarrow=True,arrowhead=7,ax=0,ay=-40)\n",
        "fig2.add_annotation(x=\"Primeira semana de Maio\",y=6.67,text=\"Feriado\",xref=\"x2\", yref=\"y2\",showarrow=True,arrowhead=7,ax=0,ay=-40)\n",
        "fig2.add_annotation(x=\"Quarta semana de Maio\",y=16,text=\"Feriado Antecipado\",xref=\"x2\", yref=\"y2\",showarrow=True,arrowhead=7,ax=0,ay=-40)\n",
        "fig2.add_annotation(x=\"Primeira semana de Junho\",y=19.5,text=\"Inicio Plano SP - Laranja\",xref=\"x2\", yref=\"y2\",showarrow=True,arrowhead=7,ax=0,ay=-40)\n",
        "fig2.add_annotation(x=\"Primeira semana de Julho\",y=87.5,text=\"Inicio Plano SP - Vermelho\",xref=\"x2\", yref=\"y2\",showarrow=True,arrowhead=7,ax=0,ay=-40)\n",
        "\n",
        "\n",
        "fig2.add_trace(go.Bar(name = 'Prefeitura - Óbitos',x = all_words_final, y = Pref_Obit_week), row=2, col=1)\n",
        "fig2.add_trace(go.Bar(name = 'Governo - Óbitos',x = all_words_final, y = Gov_Obit_week), row=2, col=1)\n",
        "\n",
        "fig2.add_annotation(x=\"Segunda semana de Abril\",y=3,text=\"Feriado\",xref=\"x3\", yref=\"y3\",showarrow=True,arrowhead=7,ax=0,ay=-40)\n",
        "fig2.add_annotation(x=\"Primeira semana de Maio\",y=4,text=\"Feriado\",xref=\"x3\", yref=\"y3\",showarrow=True,arrowhead=7,ax=0,ay=-40)\n",
        "fig2.add_annotation(x=\"Quarta semana de Maio\",y=6,text=\"Feriado Antecipado\",xref=\"x3\", yref=\"y3\",showarrow=True,arrowhead=7,ax=0,ay=-40)\n",
        "fig2.add_annotation(x=\"Primeira semana de Junho\",y=5,text=\"Inicio Plano SP - Laranja\",xref=\"x3\", yref=\"y3\",showarrow=True,arrowhead=7,ax=0,ay=-40)\n",
        "fig2.add_annotation(x=\"Primeira semana de Julho\",y=19,text=\"Inicio Plano SP - Vermelho\",xref=\"x3\", yref=\"y3\",showarrow=True,arrowhead=7,ax=0,ay=-40)\n",
        "\n",
        "fig2.add_trace(go.Bar(name = 'Prefeitura - Óbitos',x = all_words_final, y = Pref_mean_Ob_week), row=2, col=2)\n",
        "fig2.add_trace(go.Bar(name = 'Governo - Óbitos',x = all_words_final, y = Gov_mean_Ob_week), row=2, col=2)\n",
        "\n",
        "fig2.add_annotation(x=\"Segunda semana de Abril\",y=1,text=\"Feriado\",xref=\"x4\", yref=\"y4\",showarrow=True,arrowhead=7,ax=0,ay=-40)\n",
        "fig2.add_annotation(x=\"Primeira semana de Maio\",y=1,text=\"Feriado\",xref=\"x4\", yref=\"y4\",showarrow=True,arrowhead=7,ax=0,ay=-40)\n",
        "fig2.add_annotation(x=\"Quarta semana de Maio\",y=1.25,text=\"Feriado Antecipado\",xref=\"x4\", yref=\"y4\",showarrow=True,arrowhead=7,ax=0,ay=-40)\n",
        "fig2.add_annotation(x=\"Primeira semana de Junho\",y=0.83,text=\"Inicio Plano SP - Laranja\",xref=\"x4\", yref=\"y4\",showarrow=True,arrowhead=7,ax=0,ay=-40)\n",
        "fig2.add_annotation(x=\"Primeira semana de Julho\",y=2.7,text=\"Inicio Plano SP - Vermelho\",xref=\"x4\", yref=\"y4\",showarrow=True,arrowhead=7,ax=0,ay=-40)\n",
        "\n",
        "fig2.update_layout(\n",
        "    autosize=False,\n",
        "    width=1200,\n",
        "    height=1050,)\n",
        "\n",
        "fig2.show()"
      ],
      "execution_count": null,
      "outputs": [
        {
          "output_type": "display_data",
          "data": {
            "text/html": [
              "<html>\n",
              "<head><meta charset=\"utf-8\" /></head>\n",
              "<body>\n",
              "    <div>\n",
              "            <script src=\"https://cdnjs.cloudflare.com/ajax/libs/mathjax/2.7.5/MathJax.js?config=TeX-AMS-MML_SVG\"></script><script type=\"text/javascript\">if (window.MathJax) {MathJax.Hub.Config({SVG: {font: \"STIX-Web\"}});}</script>\n",
              "                <script type=\"text/javascript\">window.PlotlyConfig = {MathJaxConfig: 'local'};</script>\n",
              "        <script src=\"https://cdn.plot.ly/plotly-latest.min.js\"></script>    \n",
              "            <div id=\"4f3cfc58-7b10-40ce-9f92-440bc4ea96c9\" class=\"plotly-graph-div\" style=\"height:1050px; width:1200px;\"></div>\n",
              "            <script type=\"text/javascript\">\n",
              "                \n",
              "                    window.PLOTLYENV=window.PLOTLYENV || {};\n",
              "                    \n",
              "                if (document.getElementById(\"4f3cfc58-7b10-40ce-9f92-440bc4ea96c9\")) {\n",
              "                    Plotly.newPlot(\n",
              "                        '4f3cfc58-7b10-40ce-9f92-440bc4ea96c9',\n",
              "                        [{\"name\": \"Prefeitura - Casos Positivos\", \"type\": \"bar\", \"x\": [\"Primeira semana de Abril\", \"Segunda semana de Abril\", \"Terceira semana de Abril\", \"Quarta semana de Abril\", \"Primeira semana de Maio\", \"Segunda semana de Maio\", \"Terceira semana de Maio\", \"Quarta semana de Maio\", \"Primeira semana de Junho\", \"Segunda semana de Junho\", \"Terceira semana de Junho\", \"Quarta semana de Junho\", \"Primeira semana de Julho\", \"Segunda semana de Julho\"], \"xaxis\": \"x\", \"y\": [11, 19, 16, 12, 20, 39, 89, 64, 117, 95, 372, 587, 615, 514], \"yaxis\": \"y\"}, {\"name\": \"Governo - Casos Positivos\", \"type\": \"bar\", \"x\": [\"Primeira semana de Abril\", \"Segunda semana de Abril\", \"Terceira semana de Abril\", \"Quarta semana de Abril\", \"Primeira semana de Maio\", \"Segunda semana de Maio\", \"Terceira semana de Maio\", \"Quarta semana de Maio\", \"Primeira semana de Junho\", \"Segunda semana de Junho\", \"Terceira semana de Junho\", \"Quarta semana de Junho\", \"Primeira semana de Julho\", \"Segunda semana de Julho\"], \"xaxis\": \"x\", \"y\": [2, 5, 5, 14, 8, 21, 43, 30, 52, 17, 119, 216, 213, 82], \"yaxis\": \"y\"}, {\"name\": \"Prefeitura - Casos Positivos\", \"type\": \"bar\", \"x\": [\"Primeira semana de Abril\", \"Segunda semana de Abril\", \"Terceira semana de Abril\", \"Quarta semana de Abril\", \"Primeira semana de Maio\", \"Segunda semana de Maio\", \"Terceira semana de Maio\", \"Quarta semana de Maio\", \"Primeira semana de Junho\", \"Segunda semana de Junho\", \"Terceira semana de Junho\", \"Quarta semana de Junho\", \"Primeira semana de Julho\", \"Segunda semana de Julho\"], \"xaxis\": \"x2\", \"y\": [5.5, 9.5, 5.333333333333333, 12.0, 6.666666666666667, 9.75, 22.25, 16.0, 19.5, 19.0, 62.0, 97.83333333333333, 87.85714285714286, 85.66666666666667], \"yaxis\": \"y2\"}, {\"name\": \"Governo - Casos Positivos\", \"type\": \"bar\", \"x\": [\"Primeira semana de Abril\", \"Segunda semana de Abril\", \"Terceira semana de Abril\", \"Quarta semana de Abril\", \"Primeira semana de Maio\", \"Segunda semana de Maio\", \"Terceira semana de Maio\", \"Quarta semana de Maio\", \"Primeira semana de Junho\", \"Segunda semana de Junho\", \"Terceira semana de Junho\", \"Quarta semana de Junho\", \"Primeira semana de Julho\", \"Segunda semana de Julho\"], \"xaxis\": \"x2\", \"y\": [0.2857142857142857, 0.7142857142857143, 0.7142857142857143, 2.0, 1.1428571428571428, 3.0, 6.142857142857143, 4.285714285714286, 7.428571428571429, 2.4285714285714284, 17.0, 30.857142857142858, 30.428571428571427, 11.714285714285714], \"yaxis\": \"y2\"}, {\"name\": \"Prefeitura - \\u00d3bitos\", \"type\": \"bar\", \"x\": [\"Primeira semana de Abril\", \"Segunda semana de Abril\", \"Terceira semana de Abril\", \"Quarta semana de Abril\", \"Primeira semana de Maio\", \"Segunda semana de Maio\", \"Terceira semana de Maio\", \"Quarta semana de Maio\", \"Primeira semana de Junho\", \"Segunda semana de Junho\", \"Terceira semana de Junho\", \"Quarta semana de Junho\", \"Primeira semana de Julho\", \"Segunda semana de Julho\"], \"xaxis\": \"x3\", \"y\": [0, 2, 3, 1, 3, 4, 7, 5, 5, 9, 10, 11, 19, 9], \"yaxis\": \"y3\"}, {\"name\": \"Governo - \\u00d3bitos\", \"type\": \"bar\", \"x\": [\"Primeira semana de Abril\", \"Segunda semana de Abril\", \"Terceira semana de Abril\", \"Quarta semana de Abril\", \"Primeira semana de Maio\", \"Segunda semana de Maio\", \"Terceira semana de Maio\", \"Quarta semana de Maio\", \"Primeira semana de Junho\", \"Segunda semana de Junho\", \"Terceira semana de Junho\", \"Quarta semana de Junho\", \"Primeira semana de Julho\", \"Segunda semana de Julho\"], \"xaxis\": \"x3\", \"y\": [0, 0, 3, 1, 4, 2, 4, 6, 2, 4, 5, 7, 7, 12], \"yaxis\": \"y3\"}, {\"name\": \"Prefeitura - \\u00d3bitos\", \"type\": \"bar\", \"x\": [\"Primeira semana de Abril\", \"Segunda semana de Abril\", \"Terceira semana de Abril\", \"Quarta semana de Abril\", \"Primeira semana de Maio\", \"Segunda semana de Maio\", \"Terceira semana de Maio\", \"Quarta semana de Maio\", \"Primeira semana de Junho\", \"Segunda semana de Junho\", \"Terceira semana de Junho\", \"Quarta semana de Junho\", \"Primeira semana de Julho\", \"Segunda semana de Julho\"], \"xaxis\": \"x4\", \"y\": [0.0, 1.0, 1.0, 1.0, 1.0, 1.0, 1.75, 1.25, 0.8333333333333334, 1.8, 1.6666666666666667, 1.8333333333333333, 2.7142857142857144, 1.5], \"yaxis\": \"y4\"}, {\"name\": \"Governo - \\u00d3bitos\", \"type\": \"bar\", \"x\": [\"Primeira semana de Abril\", \"Segunda semana de Abril\", \"Terceira semana de Abril\", \"Quarta semana de Abril\", \"Primeira semana de Maio\", \"Segunda semana de Maio\", \"Terceira semana de Maio\", \"Quarta semana de Maio\", \"Primeira semana de Junho\", \"Segunda semana de Junho\", \"Terceira semana de Junho\", \"Quarta semana de Junho\", \"Primeira semana de Julho\", \"Segunda semana de Julho\"], \"xaxis\": \"x4\", \"y\": [0.0, 0.0, 0.42857142857142855, 0.14285714285714285, 0.5714285714285714, 0.2857142857142857, 0.5714285714285714, 0.8571428571428571, 0.2857142857142857, 0.5714285714285714, 0.7142857142857143, 1.0, 1.0, 1.7142857142857142], \"yaxis\": \"y4\"}],\n",
              "                        {\"annotations\": [{\"font\": {\"size\": 16}, \"showarrow\": false, \"text\": \"Soma semanal de Casos Positivos de COVID-19\", \"x\": 0.225, \"xanchor\": \"center\", \"xref\": \"paper\", \"y\": 1.0, \"yanchor\": \"bottom\", \"yref\": \"paper\"}, {\"font\": {\"size\": 16}, \"showarrow\": false, \"text\": \"M\\u00e9dia semanal de Casos Positivos de COVID-19\", \"x\": 0.775, \"xanchor\": \"center\", \"xref\": \"paper\", \"y\": 1.0, \"yanchor\": \"bottom\", \"yref\": \"paper\"}, {\"font\": {\"size\": 16}, \"showarrow\": false, \"text\": \"Soma semanal de \\u00d3bitos por COVID-19\", \"x\": 0.225, \"xanchor\": \"center\", \"xref\": \"paper\", \"y\": 0.375, \"yanchor\": \"bottom\", \"yref\": \"paper\"}, {\"font\": {\"size\": 16}, \"showarrow\": false, \"text\": \"M\\u00e9dia semanal de \\u00d3bitos por COVID-19\", \"x\": 0.775, \"xanchor\": \"center\", \"xref\": \"paper\", \"y\": 0.375, \"yanchor\": \"bottom\", \"yref\": \"paper\"}, {\"arrowhead\": 7, \"ax\": 0, \"ay\": -40, \"showarrow\": true, \"text\": \"Feriado\", \"x\": \"Segunda semana de Abril\", \"xref\": \"x\", \"y\": 19, \"yref\": \"y\"}, {\"arrowhead\": 7, \"ax\": 0, \"ay\": -40, \"showarrow\": true, \"text\": \"Feriado\", \"x\": \"Primeira semana de Maio\", \"xref\": \"x\", \"y\": 20, \"yref\": \"y\"}, {\"arrowhead\": 7, \"ax\": 0, \"ay\": -40, \"showarrow\": true, \"text\": \"Feriado Antecipado\", \"x\": \"Quarta semana de Maio\", \"xref\": \"x\", \"y\": 64, \"yref\": \"y\"}, {\"arrowhead\": 7, \"ax\": 0, \"ay\": -40, \"showarrow\": true, \"text\": \"Inicio Plano SP - Laranja\", \"x\": \"Primeira semana de Junho\", \"xref\": \"x\", \"y\": 117, \"yref\": \"y\"}, {\"arrowhead\": 7, \"ax\": 0, \"ay\": -40, \"showarrow\": true, \"text\": \"Inicio Plano SP - Vermelho\", \"x\": \"Primeira semana de Julho\", \"xref\": \"x\", \"y\": 615, \"yref\": \"y\"}, {\"arrowhead\": 7, \"ax\": 0, \"ay\": -40, \"showarrow\": true, \"text\": \"Feriado\", \"x\": \"Segunda semana de Abril\", \"xref\": \"x2\", \"y\": 9.5, \"yref\": \"y2\"}, {\"arrowhead\": 7, \"ax\": 0, \"ay\": -40, \"showarrow\": true, \"text\": \"Feriado\", \"x\": \"Primeira semana de Maio\", \"xref\": \"x2\", \"y\": 6.67, \"yref\": \"y2\"}, {\"arrowhead\": 7, \"ax\": 0, \"ay\": -40, \"showarrow\": true, \"text\": \"Feriado Antecipado\", \"x\": \"Quarta semana de Maio\", \"xref\": \"x2\", \"y\": 16, \"yref\": \"y2\"}, {\"arrowhead\": 7, \"ax\": 0, \"ay\": -40, \"showarrow\": true, \"text\": \"Inicio Plano SP - Laranja\", \"x\": \"Primeira semana de Junho\", \"xref\": \"x2\", \"y\": 19.5, \"yref\": \"y2\"}, {\"arrowhead\": 7, \"ax\": 0, \"ay\": -40, \"showarrow\": true, \"text\": \"Inicio Plano SP - Vermelho\", \"x\": \"Primeira semana de Julho\", \"xref\": \"x2\", \"y\": 87.5, \"yref\": \"y2\"}, {\"arrowhead\": 7, \"ax\": 0, \"ay\": -40, \"showarrow\": true, \"text\": \"Feriado\", \"x\": \"Segunda semana de Abril\", \"xref\": \"x3\", \"y\": 3, \"yref\": \"y3\"}, {\"arrowhead\": 7, \"ax\": 0, \"ay\": -40, \"showarrow\": true, \"text\": \"Feriado\", \"x\": \"Primeira semana de Maio\", \"xref\": \"x3\", \"y\": 4, \"yref\": \"y3\"}, {\"arrowhead\": 7, \"ax\": 0, \"ay\": -40, \"showarrow\": true, \"text\": \"Feriado Antecipado\", \"x\": \"Quarta semana de Maio\", \"xref\": \"x3\", \"y\": 6, \"yref\": \"y3\"}, {\"arrowhead\": 7, \"ax\": 0, \"ay\": -40, \"showarrow\": true, \"text\": \"Inicio Plano SP - Laranja\", \"x\": \"Primeira semana de Junho\", \"xref\": \"x3\", \"y\": 5, \"yref\": \"y3\"}, {\"arrowhead\": 7, \"ax\": 0, \"ay\": -40, \"showarrow\": true, \"text\": \"Inicio Plano SP - Vermelho\", \"x\": \"Primeira semana de Julho\", \"xref\": \"x3\", \"y\": 19, \"yref\": \"y3\"}, {\"arrowhead\": 7, \"ax\": 0, \"ay\": -40, \"showarrow\": true, \"text\": \"Feriado\", \"x\": \"Segunda semana de Abril\", \"xref\": \"x4\", \"y\": 1, \"yref\": \"y4\"}, {\"arrowhead\": 7, \"ax\": 0, \"ay\": -40, \"showarrow\": true, \"text\": \"Feriado\", \"x\": \"Primeira semana de Maio\", \"xref\": \"x4\", \"y\": 1, \"yref\": \"y4\"}, {\"arrowhead\": 7, \"ax\": 0, \"ay\": -40, \"showarrow\": true, \"text\": \"Feriado Antecipado\", \"x\": \"Quarta semana de Maio\", \"xref\": \"x4\", \"y\": 1.25, \"yref\": \"y4\"}, {\"arrowhead\": 7, \"ax\": 0, \"ay\": -40, \"showarrow\": true, \"text\": \"Inicio Plano SP - Laranja\", \"x\": \"Primeira semana de Junho\", \"xref\": \"x4\", \"y\": 0.83, \"yref\": \"y4\"}, {\"arrowhead\": 7, \"ax\": 0, \"ay\": -40, \"showarrow\": true, \"text\": \"Inicio Plano SP - Vermelho\", \"x\": \"Primeira semana de Julho\", \"xref\": \"x4\", \"y\": 2.7, \"yref\": \"y4\"}], \"autosize\": false, \"height\": 1050, \"template\": {\"data\": {\"bar\": [{\"error_x\": {\"color\": \"#2a3f5f\"}, \"error_y\": {\"color\": \"#2a3f5f\"}, \"marker\": {\"line\": {\"color\": \"#E5ECF6\", \"width\": 0.5}}, \"type\": \"bar\"}], \"barpolar\": [{\"marker\": {\"line\": {\"color\": \"#E5ECF6\", \"width\": 0.5}}, \"type\": \"barpolar\"}], \"carpet\": [{\"aaxis\": {\"endlinecolor\": \"#2a3f5f\", \"gridcolor\": \"white\", \"linecolor\": \"white\", \"minorgridcolor\": \"white\", \"startlinecolor\": \"#2a3f5f\"}, \"baxis\": {\"endlinecolor\": \"#2a3f5f\", \"gridcolor\": \"white\", \"linecolor\": \"white\", \"minorgridcolor\": \"white\", \"startlinecolor\": \"#2a3f5f\"}, \"type\": \"carpet\"}], \"choropleth\": [{\"colorbar\": {\"outlinewidth\": 0, \"ticks\": \"\"}, \"type\": \"choropleth\"}], \"contour\": [{\"colorbar\": {\"outlinewidth\": 0, \"ticks\": \"\"}, \"colorscale\": [[0.0, \"#0d0887\"], [0.1111111111111111, \"#46039f\"], [0.2222222222222222, \"#7201a8\"], [0.3333333333333333, \"#9c179e\"], [0.4444444444444444, \"#bd3786\"], [0.5555555555555556, \"#d8576b\"], [0.6666666666666666, \"#ed7953\"], [0.7777777777777778, \"#fb9f3a\"], [0.8888888888888888, \"#fdca26\"], [1.0, \"#f0f921\"]], \"type\": \"contour\"}], \"contourcarpet\": [{\"colorbar\": {\"outlinewidth\": 0, \"ticks\": \"\"}, \"type\": \"contourcarpet\"}], \"heatmap\": [{\"colorbar\": {\"outlinewidth\": 0, \"ticks\": \"\"}, \"colorscale\": [[0.0, \"#0d0887\"], [0.1111111111111111, \"#46039f\"], [0.2222222222222222, \"#7201a8\"], [0.3333333333333333, \"#9c179e\"], [0.4444444444444444, \"#bd3786\"], [0.5555555555555556, \"#d8576b\"], [0.6666666666666666, \"#ed7953\"], [0.7777777777777778, \"#fb9f3a\"], [0.8888888888888888, \"#fdca26\"], [1.0, \"#f0f921\"]], \"type\": \"heatmap\"}], \"heatmapgl\": [{\"colorbar\": {\"outlinewidth\": 0, \"ticks\": \"\"}, \"colorscale\": [[0.0, \"#0d0887\"], [0.1111111111111111, \"#46039f\"], [0.2222222222222222, \"#7201a8\"], [0.3333333333333333, \"#9c179e\"], [0.4444444444444444, \"#bd3786\"], [0.5555555555555556, \"#d8576b\"], [0.6666666666666666, \"#ed7953\"], [0.7777777777777778, \"#fb9f3a\"], [0.8888888888888888, \"#fdca26\"], [1.0, \"#f0f921\"]], \"type\": \"heatmapgl\"}], \"histogram\": [{\"marker\": {\"colorbar\": {\"outlinewidth\": 0, \"ticks\": \"\"}}, \"type\": \"histogram\"}], \"histogram2d\": [{\"colorbar\": {\"outlinewidth\": 0, \"ticks\": \"\"}, \"colorscale\": [[0.0, \"#0d0887\"], [0.1111111111111111, \"#46039f\"], [0.2222222222222222, \"#7201a8\"], [0.3333333333333333, \"#9c179e\"], [0.4444444444444444, \"#bd3786\"], [0.5555555555555556, \"#d8576b\"], [0.6666666666666666, \"#ed7953\"], [0.7777777777777778, \"#fb9f3a\"], [0.8888888888888888, \"#fdca26\"], [1.0, \"#f0f921\"]], \"type\": \"histogram2d\"}], \"histogram2dcontour\": [{\"colorbar\": {\"outlinewidth\": 0, \"ticks\": \"\"}, \"colorscale\": [[0.0, \"#0d0887\"], [0.1111111111111111, \"#46039f\"], [0.2222222222222222, \"#7201a8\"], [0.3333333333333333, \"#9c179e\"], [0.4444444444444444, \"#bd3786\"], [0.5555555555555556, \"#d8576b\"], [0.6666666666666666, \"#ed7953\"], [0.7777777777777778, \"#fb9f3a\"], [0.8888888888888888, \"#fdca26\"], [1.0, \"#f0f921\"]], \"type\": \"histogram2dcontour\"}], \"mesh3d\": [{\"colorbar\": {\"outlinewidth\": 0, \"ticks\": \"\"}, \"type\": \"mesh3d\"}], \"parcoords\": [{\"line\": {\"colorbar\": {\"outlinewidth\": 0, \"ticks\": \"\"}}, \"type\": \"parcoords\"}], \"pie\": [{\"automargin\": true, \"type\": \"pie\"}], \"scatter\": [{\"marker\": {\"colorbar\": {\"outlinewidth\": 0, \"ticks\": \"\"}}, \"type\": \"scatter\"}], \"scatter3d\": [{\"line\": {\"colorbar\": {\"outlinewidth\": 0, \"ticks\": \"\"}}, \"marker\": {\"colorbar\": {\"outlinewidth\": 0, \"ticks\": \"\"}}, \"type\": \"scatter3d\"}], \"scattercarpet\": [{\"marker\": {\"colorbar\": {\"outlinewidth\": 0, \"ticks\": \"\"}}, \"type\": \"scattercarpet\"}], \"scattergeo\": [{\"marker\": {\"colorbar\": {\"outlinewidth\": 0, \"ticks\": \"\"}}, \"type\": \"scattergeo\"}], \"scattergl\": [{\"marker\": {\"colorbar\": {\"outlinewidth\": 0, \"ticks\": \"\"}}, \"type\": \"scattergl\"}], \"scattermapbox\": [{\"marker\": {\"colorbar\": {\"outlinewidth\": 0, \"ticks\": \"\"}}, \"type\": \"scattermapbox\"}], \"scatterpolar\": [{\"marker\": {\"colorbar\": {\"outlinewidth\": 0, \"ticks\": \"\"}}, \"type\": \"scatterpolar\"}], \"scatterpolargl\": [{\"marker\": {\"colorbar\": {\"outlinewidth\": 0, \"ticks\": \"\"}}, \"type\": \"scatterpolargl\"}], \"scatterternary\": [{\"marker\": {\"colorbar\": {\"outlinewidth\": 0, \"ticks\": \"\"}}, \"type\": \"scatterternary\"}], \"surface\": [{\"colorbar\": {\"outlinewidth\": 0, \"ticks\": \"\"}, \"colorscale\": [[0.0, \"#0d0887\"], [0.1111111111111111, \"#46039f\"], [0.2222222222222222, \"#7201a8\"], [0.3333333333333333, \"#9c179e\"], [0.4444444444444444, \"#bd3786\"], [0.5555555555555556, \"#d8576b\"], [0.6666666666666666, \"#ed7953\"], [0.7777777777777778, \"#fb9f3a\"], [0.8888888888888888, \"#fdca26\"], [1.0, \"#f0f921\"]], \"type\": \"surface\"}], \"table\": [{\"cells\": {\"fill\": {\"color\": \"#EBF0F8\"}, \"line\": {\"color\": \"white\"}}, \"header\": {\"fill\": {\"color\": \"#C8D4E3\"}, \"line\": {\"color\": \"white\"}}, \"type\": \"table\"}]}, \"layout\": {\"annotationdefaults\": {\"arrowcolor\": \"#2a3f5f\", \"arrowhead\": 0, \"arrowwidth\": 1}, \"coloraxis\": {\"colorbar\": {\"outlinewidth\": 0, \"ticks\": \"\"}}, \"colorscale\": {\"diverging\": [[0, \"#8e0152\"], [0.1, \"#c51b7d\"], [0.2, \"#de77ae\"], [0.3, \"#f1b6da\"], [0.4, \"#fde0ef\"], [0.5, \"#f7f7f7\"], [0.6, \"#e6f5d0\"], [0.7, \"#b8e186\"], [0.8, \"#7fbc41\"], [0.9, \"#4d9221\"], [1, \"#276419\"]], \"sequential\": [[0.0, \"#0d0887\"], [0.1111111111111111, \"#46039f\"], [0.2222222222222222, \"#7201a8\"], [0.3333333333333333, \"#9c179e\"], [0.4444444444444444, \"#bd3786\"], [0.5555555555555556, \"#d8576b\"], [0.6666666666666666, \"#ed7953\"], [0.7777777777777778, \"#fb9f3a\"], [0.8888888888888888, \"#fdca26\"], [1.0, \"#f0f921\"]], \"sequentialminus\": [[0.0, \"#0d0887\"], [0.1111111111111111, \"#46039f\"], [0.2222222222222222, \"#7201a8\"], [0.3333333333333333, \"#9c179e\"], [0.4444444444444444, \"#bd3786\"], [0.5555555555555556, \"#d8576b\"], [0.6666666666666666, \"#ed7953\"], [0.7777777777777778, \"#fb9f3a\"], [0.8888888888888888, \"#fdca26\"], [1.0, \"#f0f921\"]]}, \"colorway\": [\"#636efa\", \"#EF553B\", \"#00cc96\", \"#ab63fa\", \"#FFA15A\", \"#19d3f3\", \"#FF6692\", \"#B6E880\", \"#FF97FF\", \"#FECB52\"], \"font\": {\"color\": \"#2a3f5f\"}, \"geo\": {\"bgcolor\": \"white\", \"lakecolor\": \"white\", \"landcolor\": \"#E5ECF6\", \"showlakes\": true, \"showland\": true, \"subunitcolor\": \"white\"}, \"hoverlabel\": {\"align\": \"left\"}, \"hovermode\": \"closest\", \"mapbox\": {\"style\": \"light\"}, \"paper_bgcolor\": \"white\", \"plot_bgcolor\": \"#E5ECF6\", \"polar\": {\"angularaxis\": {\"gridcolor\": \"white\", \"linecolor\": \"white\", \"ticks\": \"\"}, \"bgcolor\": \"#E5ECF6\", \"radialaxis\": {\"gridcolor\": \"white\", \"linecolor\": \"white\", \"ticks\": \"\"}}, \"scene\": {\"xaxis\": {\"backgroundcolor\": \"#E5ECF6\", \"gridcolor\": \"white\", \"gridwidth\": 2, \"linecolor\": \"white\", \"showbackground\": true, \"ticks\": \"\", \"zerolinecolor\": \"white\"}, \"yaxis\": {\"backgroundcolor\": \"#E5ECF6\", \"gridcolor\": \"white\", \"gridwidth\": 2, \"linecolor\": \"white\", \"showbackground\": true, \"ticks\": \"\", \"zerolinecolor\": \"white\"}, \"zaxis\": {\"backgroundcolor\": \"#E5ECF6\", \"gridcolor\": \"white\", \"gridwidth\": 2, \"linecolor\": \"white\", \"showbackground\": true, \"ticks\": \"\", \"zerolinecolor\": \"white\"}}, \"shapedefaults\": {\"line\": {\"color\": \"#2a3f5f\"}}, \"ternary\": {\"aaxis\": {\"gridcolor\": \"white\", \"linecolor\": \"white\", \"ticks\": \"\"}, \"baxis\": {\"gridcolor\": \"white\", \"linecolor\": \"white\", \"ticks\": \"\"}, \"bgcolor\": \"#E5ECF6\", \"caxis\": {\"gridcolor\": \"white\", \"linecolor\": \"white\", \"ticks\": \"\"}}, \"title\": {\"x\": 0.05}, \"xaxis\": {\"automargin\": true, \"gridcolor\": \"white\", \"linecolor\": \"white\", \"ticks\": \"\", \"title\": {\"standoff\": 15}, \"zerolinecolor\": \"white\", \"zerolinewidth\": 2}, \"yaxis\": {\"automargin\": true, \"gridcolor\": \"white\", \"linecolor\": \"white\", \"ticks\": \"\", \"title\": {\"standoff\": 15}, \"zerolinecolor\": \"white\", \"zerolinewidth\": 2}}}, \"width\": 1200, \"xaxis\": {\"anchor\": \"y\", \"domain\": [0.0, 0.45]}, \"xaxis2\": {\"anchor\": \"y2\", \"domain\": [0.55, 1.0]}, \"xaxis3\": {\"anchor\": \"y3\", \"domain\": [0.0, 0.45]}, \"xaxis4\": {\"anchor\": \"y4\", \"domain\": [0.55, 1.0]}, \"yaxis\": {\"anchor\": \"x\", \"domain\": [0.625, 1.0]}, \"yaxis2\": {\"anchor\": \"x2\", \"domain\": [0.625, 1.0]}, \"yaxis3\": {\"anchor\": \"x3\", \"domain\": [0.0, 0.375]}, \"yaxis4\": {\"anchor\": \"x4\", \"domain\": [0.0, 0.375]}},\n",
              "                        {\"responsive\": true}\n",
              "                    ).then(function(){\n",
              "                            \n",
              "var gd = document.getElementById('4f3cfc58-7b10-40ce-9f92-440bc4ea96c9');\n",
              "var x = new MutationObserver(function (mutations, observer) {{\n",
              "        var display = window.getComputedStyle(gd).display;\n",
              "        if (!display || display === 'none') {{\n",
              "            console.log([gd, 'removed!']);\n",
              "            Plotly.purge(gd);\n",
              "            observer.disconnect();\n",
              "        }}\n",
              "}});\n",
              "\n",
              "// Listen for the removal of the full notebook cells\n",
              "var notebookContainer = gd.closest('#notebook-container');\n",
              "if (notebookContainer) {{\n",
              "    x.observe(notebookContainer, {childList: true});\n",
              "}}\n",
              "\n",
              "// Listen for the clearing of the current output cell\n",
              "var outputEl = gd.closest('.output');\n",
              "if (outputEl) {{\n",
              "    x.observe(outputEl, {childList: true});\n",
              "}}\n",
              "\n",
              "                        })\n",
              "                };\n",
              "                \n",
              "            </script>\n",
              "        </div>\n",
              "</body>\n",
              "</html>"
            ]
          },
          "metadata": {
            "tags": []
          }
        }
      ]
    },
    {
      "cell_type": "markdown",
      "metadata": {
        "id": "A0jpKLG8qNoc",
        "colab_type": "text"
      },
      "source": [
        "Para os dados mensais temos que nos meses de Junho e Julho são superiores aos anteriores, lembrando que estamos apenas na segunda semana de Julho e os valroes são semelhantes de Junho. Quando colocamos a média mostra esse crescimento com valores 4 vezes superiores do divulgado pelo Governo."
      ]
    },
    {
      "cell_type": "code",
      "metadata": {
        "id": "Dxftp1cXEIPY",
        "colab_type": "code",
        "colab": {
          "base_uri": "https://localhost:8080/",
          "height": 617
        },
        "outputId": "fc688868-0afd-4399-d93d-8c0c724c132a"
      },
      "source": [
        "fig3 = make_subplots(rows=2, cols=2,subplot_titles = [\"Soma Mensal de Casos Positivos de COVID-19\",\"Média Mensal de Casos Positivos de COVID-19\",\n",
        "                                                      \"Soma Mensal de Óbitos por COVID-19\",\"Média Mensal de Óbitos por COVID-19\"])\n",
        "\n",
        "fig3.add_trace(go.Bar(name = 'Prefeitura - Casos Positivos',x = words_mon, y = Pref_Cas_month),row=1, col=1)\n",
        "fig3.add_trace(go.Bar(name = 'Governo - Casos Positivos',x = words_mon, y = Gov_Cas_month),row=1, col=1)\n",
        "\n",
        "fig3.add_trace(go.Bar(name = 'Prefeitura - Casos Positivos',x = words_mon, y = Pref_mean_Caso_month),row=1, col=2)\n",
        "fig3.add_trace(go.Bar(name = 'Governo - Casos Positivos',x = words_mon, y = Gov_mean_Caso_month),row=1, col=2)\n",
        "\n",
        "fig3.add_trace(go.Bar(name = 'Prefeitura - Óbitos',x = words_mon, y = Pref_Obit_month), row=2, col=1)\n",
        "fig3.add_trace(go.Bar(name = 'Governo - Óbitos',x = words_mon, y = Gov_Obit_month), row=2, col=1)\n",
        "\n",
        "fig3.add_trace(go.Bar(name = 'Prefeitura - Óbitos',x = words_mon, y = Pref_mean_Ob_month), row=2, col=2)\n",
        "fig3.add_trace(go.Bar(name = 'Governo - Óbitos',x = words_mon, y = Gov_mean_Ob_month), row=2, col=2)\n",
        "\n",
        "fig3.update_layout(\n",
        "    autosize=False,\n",
        "    width=1200,\n",
        "    height=600,)\n",
        "\n",
        "fig3.show()"
      ],
      "execution_count": null,
      "outputs": [
        {
          "output_type": "display_data",
          "data": {
            "text/html": [
              "<html>\n",
              "<head><meta charset=\"utf-8\" /></head>\n",
              "<body>\n",
              "    <div>\n",
              "            <script src=\"https://cdnjs.cloudflare.com/ajax/libs/mathjax/2.7.5/MathJax.js?config=TeX-AMS-MML_SVG\"></script><script type=\"text/javascript\">if (window.MathJax) {MathJax.Hub.Config({SVG: {font: \"STIX-Web\"}});}</script>\n",
              "                <script type=\"text/javascript\">window.PlotlyConfig = {MathJaxConfig: 'local'};</script>\n",
              "        <script src=\"https://cdn.plot.ly/plotly-latest.min.js\"></script>    \n",
              "            <div id=\"70029227-509b-4d71-8255-8f963ffeb1b8\" class=\"plotly-graph-div\" style=\"height:600px; width:1200px;\"></div>\n",
              "            <script type=\"text/javascript\">\n",
              "                \n",
              "                    window.PLOTLYENV=window.PLOTLYENV || {};\n",
              "                    \n",
              "                if (document.getElementById(\"70029227-509b-4d71-8255-8f963ffeb1b8\")) {\n",
              "                    Plotly.newPlot(\n",
              "                        '70029227-509b-4d71-8255-8f963ffeb1b8',\n",
              "                        [{\"name\": \"Prefeitura - Casos Positivos\", \"type\": \"bar\", \"x\": [\"Abril\", \"Maio\", \"Junho\", \"Julho\", \"Agosto\", \"Setembro\", \"Outubro\", \"Novembro\", \"Dezembro\"], \"xaxis\": \"x\", \"y\": [58, 212, 1171, 1129], \"yaxis\": \"y\"}, {\"name\": \"Governo - Casos Positivos\", \"type\": \"bar\", \"x\": [\"Abril\", \"Maio\", \"Junho\", \"Julho\", \"Agosto\", \"Setembro\", \"Outubro\", \"Novembro\", \"Dezembro\"], \"xaxis\": \"x\", \"y\": [26, 102, 404, 295], \"yaxis\": \"y\"}, {\"name\": \"Prefeitura - Casos Positivos\", \"type\": \"bar\", \"x\": [\"Abril\", \"Maio\", \"Junho\", \"Julho\", \"Agosto\", \"Setembro\", \"Outubro\", \"Novembro\", \"Dezembro\"], \"xaxis\": \"x2\", \"y\": [7.25, 14.133333333333333, 50.91304347826087, 86.84615384615384], \"yaxis\": \"y2\"}, {\"name\": \"Governo - Casos Positivos\", \"type\": \"bar\", \"x\": [\"Abril\", \"Maio\", \"Junho\", \"Julho\", \"Agosto\", \"Setembro\", \"Outubro\", \"Novembro\", \"Dezembro\"], \"xaxis\": \"x2\", \"y\": [0.9285714285714286, 3.642857142857143, 14.428571428571429, 21.071428571428573], \"yaxis\": \"y2\"}, {\"name\": \"Prefeitura - \\u00d3bitos\", \"type\": \"bar\", \"x\": [\"Abril\", \"Maio\", \"Junho\", \"Julho\", \"Agosto\", \"Setembro\", \"Outubro\", \"Novembro\", \"Dezembro\"], \"xaxis\": \"x3\", \"y\": [6, 19, 35, 28], \"yaxis\": \"y3\"}, {\"name\": \"Governo - \\u00d3bitos\", \"type\": \"bar\", \"x\": [\"Abril\", \"Maio\", \"Junho\", \"Julho\", \"Agosto\", \"Setembro\", \"Outubro\", \"Novembro\", \"Dezembro\"], \"xaxis\": \"x3\", \"y\": [4, 16, 18, 19], \"yaxis\": \"y3\"}, {\"name\": \"Prefeitura - \\u00d3bitos\", \"type\": \"bar\", \"x\": [\"Abril\", \"Maio\", \"Junho\", \"Julho\", \"Agosto\", \"Setembro\", \"Outubro\", \"Novembro\", \"Dezembro\"], \"xaxis\": \"x4\", \"y\": [0.75, 1.2666666666666666, 1.5217391304347827, 2.1538461538461537], \"yaxis\": \"y4\"}, {\"name\": \"Governo - \\u00d3bitos\", \"type\": \"bar\", \"x\": [\"Abril\", \"Maio\", \"Junho\", \"Julho\", \"Agosto\", \"Setembro\", \"Outubro\", \"Novembro\", \"Dezembro\"], \"xaxis\": \"x4\", \"y\": [0.14285714285714285, 0.5714285714285714, 0.6428571428571429, 1.3571428571428572], \"yaxis\": \"y4\"}],\n",
              "                        {\"annotations\": [{\"font\": {\"size\": 16}, \"showarrow\": false, \"text\": \"Soma Mensal de Casos Positivos de COVID-19\", \"x\": 0.225, \"xanchor\": \"center\", \"xref\": \"paper\", \"y\": 1.0, \"yanchor\": \"bottom\", \"yref\": \"paper\"}, {\"font\": {\"size\": 16}, \"showarrow\": false, \"text\": \"M\\u00e9dia Mensal de Casos Positivos de COVID-19\", \"x\": 0.775, \"xanchor\": \"center\", \"xref\": \"paper\", \"y\": 1.0, \"yanchor\": \"bottom\", \"yref\": \"paper\"}, {\"font\": {\"size\": 16}, \"showarrow\": false, \"text\": \"Soma Mensal de \\u00d3bitos por COVID-19\", \"x\": 0.225, \"xanchor\": \"center\", \"xref\": \"paper\", \"y\": 0.375, \"yanchor\": \"bottom\", \"yref\": \"paper\"}, {\"font\": {\"size\": 16}, \"showarrow\": false, \"text\": \"M\\u00e9dia Mensal de \\u00d3bitos por COVID-19\", \"x\": 0.775, \"xanchor\": \"center\", \"xref\": \"paper\", \"y\": 0.375, \"yanchor\": \"bottom\", \"yref\": \"paper\"}], \"autosize\": false, \"height\": 600, \"template\": {\"data\": {\"bar\": [{\"error_x\": {\"color\": \"#2a3f5f\"}, \"error_y\": {\"color\": \"#2a3f5f\"}, \"marker\": {\"line\": {\"color\": \"#E5ECF6\", \"width\": 0.5}}, \"type\": \"bar\"}], \"barpolar\": [{\"marker\": {\"line\": {\"color\": \"#E5ECF6\", \"width\": 0.5}}, \"type\": \"barpolar\"}], \"carpet\": [{\"aaxis\": {\"endlinecolor\": \"#2a3f5f\", \"gridcolor\": \"white\", \"linecolor\": \"white\", \"minorgridcolor\": \"white\", \"startlinecolor\": \"#2a3f5f\"}, \"baxis\": {\"endlinecolor\": \"#2a3f5f\", \"gridcolor\": \"white\", \"linecolor\": \"white\", \"minorgridcolor\": \"white\", \"startlinecolor\": \"#2a3f5f\"}, \"type\": \"carpet\"}], \"choropleth\": [{\"colorbar\": {\"outlinewidth\": 0, \"ticks\": \"\"}, \"type\": \"choropleth\"}], \"contour\": [{\"colorbar\": {\"outlinewidth\": 0, \"ticks\": \"\"}, \"colorscale\": [[0.0, \"#0d0887\"], [0.1111111111111111, \"#46039f\"], [0.2222222222222222, \"#7201a8\"], [0.3333333333333333, \"#9c179e\"], [0.4444444444444444, \"#bd3786\"], [0.5555555555555556, \"#d8576b\"], [0.6666666666666666, \"#ed7953\"], [0.7777777777777778, \"#fb9f3a\"], [0.8888888888888888, \"#fdca26\"], [1.0, \"#f0f921\"]], \"type\": \"contour\"}], \"contourcarpet\": [{\"colorbar\": {\"outlinewidth\": 0, \"ticks\": \"\"}, \"type\": \"contourcarpet\"}], \"heatmap\": [{\"colorbar\": {\"outlinewidth\": 0, \"ticks\": \"\"}, \"colorscale\": [[0.0, \"#0d0887\"], [0.1111111111111111, \"#46039f\"], [0.2222222222222222, \"#7201a8\"], [0.3333333333333333, \"#9c179e\"], [0.4444444444444444, \"#bd3786\"], [0.5555555555555556, \"#d8576b\"], [0.6666666666666666, \"#ed7953\"], [0.7777777777777778, \"#fb9f3a\"], [0.8888888888888888, \"#fdca26\"], [1.0, \"#f0f921\"]], \"type\": \"heatmap\"}], \"heatmapgl\": [{\"colorbar\": {\"outlinewidth\": 0, \"ticks\": \"\"}, \"colorscale\": [[0.0, \"#0d0887\"], [0.1111111111111111, \"#46039f\"], [0.2222222222222222, \"#7201a8\"], [0.3333333333333333, \"#9c179e\"], [0.4444444444444444, \"#bd3786\"], [0.5555555555555556, \"#d8576b\"], [0.6666666666666666, \"#ed7953\"], [0.7777777777777778, \"#fb9f3a\"], [0.8888888888888888, \"#fdca26\"], [1.0, \"#f0f921\"]], \"type\": \"heatmapgl\"}], \"histogram\": [{\"marker\": {\"colorbar\": {\"outlinewidth\": 0, \"ticks\": \"\"}}, \"type\": \"histogram\"}], \"histogram2d\": [{\"colorbar\": {\"outlinewidth\": 0, \"ticks\": \"\"}, \"colorscale\": [[0.0, \"#0d0887\"], [0.1111111111111111, \"#46039f\"], [0.2222222222222222, \"#7201a8\"], [0.3333333333333333, \"#9c179e\"], [0.4444444444444444, \"#bd3786\"], [0.5555555555555556, \"#d8576b\"], [0.6666666666666666, \"#ed7953\"], [0.7777777777777778, \"#fb9f3a\"], [0.8888888888888888, \"#fdca26\"], [1.0, \"#f0f921\"]], \"type\": \"histogram2d\"}], \"histogram2dcontour\": [{\"colorbar\": {\"outlinewidth\": 0, \"ticks\": \"\"}, \"colorscale\": [[0.0, \"#0d0887\"], [0.1111111111111111, \"#46039f\"], [0.2222222222222222, \"#7201a8\"], [0.3333333333333333, \"#9c179e\"], [0.4444444444444444, \"#bd3786\"], [0.5555555555555556, \"#d8576b\"], [0.6666666666666666, \"#ed7953\"], [0.7777777777777778, \"#fb9f3a\"], [0.8888888888888888, \"#fdca26\"], [1.0, \"#f0f921\"]], \"type\": \"histogram2dcontour\"}], \"mesh3d\": [{\"colorbar\": {\"outlinewidth\": 0, \"ticks\": \"\"}, \"type\": \"mesh3d\"}], \"parcoords\": [{\"line\": {\"colorbar\": {\"outlinewidth\": 0, \"ticks\": \"\"}}, \"type\": \"parcoords\"}], \"pie\": [{\"automargin\": true, \"type\": \"pie\"}], \"scatter\": [{\"marker\": {\"colorbar\": {\"outlinewidth\": 0, \"ticks\": \"\"}}, \"type\": \"scatter\"}], \"scatter3d\": [{\"line\": {\"colorbar\": {\"outlinewidth\": 0, \"ticks\": \"\"}}, \"marker\": {\"colorbar\": {\"outlinewidth\": 0, \"ticks\": \"\"}}, \"type\": \"scatter3d\"}], \"scattercarpet\": [{\"marker\": {\"colorbar\": {\"outlinewidth\": 0, \"ticks\": \"\"}}, \"type\": \"scattercarpet\"}], \"scattergeo\": [{\"marker\": {\"colorbar\": {\"outlinewidth\": 0, \"ticks\": \"\"}}, \"type\": \"scattergeo\"}], \"scattergl\": [{\"marker\": {\"colorbar\": {\"outlinewidth\": 0, \"ticks\": \"\"}}, \"type\": \"scattergl\"}], \"scattermapbox\": [{\"marker\": {\"colorbar\": {\"outlinewidth\": 0, \"ticks\": \"\"}}, \"type\": \"scattermapbox\"}], \"scatterpolar\": [{\"marker\": {\"colorbar\": {\"outlinewidth\": 0, \"ticks\": \"\"}}, \"type\": \"scatterpolar\"}], \"scatterpolargl\": [{\"marker\": {\"colorbar\": {\"outlinewidth\": 0, \"ticks\": \"\"}}, \"type\": \"scatterpolargl\"}], \"scatterternary\": [{\"marker\": {\"colorbar\": {\"outlinewidth\": 0, \"ticks\": \"\"}}, \"type\": \"scatterternary\"}], \"surface\": [{\"colorbar\": {\"outlinewidth\": 0, \"ticks\": \"\"}, \"colorscale\": [[0.0, \"#0d0887\"], [0.1111111111111111, \"#46039f\"], [0.2222222222222222, \"#7201a8\"], [0.3333333333333333, \"#9c179e\"], [0.4444444444444444, \"#bd3786\"], [0.5555555555555556, \"#d8576b\"], [0.6666666666666666, \"#ed7953\"], [0.7777777777777778, \"#fb9f3a\"], [0.8888888888888888, \"#fdca26\"], [1.0, \"#f0f921\"]], \"type\": \"surface\"}], \"table\": [{\"cells\": {\"fill\": {\"color\": \"#EBF0F8\"}, \"line\": {\"color\": \"white\"}}, \"header\": {\"fill\": {\"color\": \"#C8D4E3\"}, \"line\": {\"color\": \"white\"}}, \"type\": \"table\"}]}, \"layout\": {\"annotationdefaults\": {\"arrowcolor\": \"#2a3f5f\", \"arrowhead\": 0, \"arrowwidth\": 1}, \"coloraxis\": {\"colorbar\": {\"outlinewidth\": 0, \"ticks\": \"\"}}, \"colorscale\": {\"diverging\": [[0, \"#8e0152\"], [0.1, \"#c51b7d\"], [0.2, \"#de77ae\"], [0.3, \"#f1b6da\"], [0.4, \"#fde0ef\"], [0.5, \"#f7f7f7\"], [0.6, \"#e6f5d0\"], [0.7, \"#b8e186\"], [0.8, \"#7fbc41\"], [0.9, \"#4d9221\"], [1, \"#276419\"]], \"sequential\": [[0.0, \"#0d0887\"], [0.1111111111111111, \"#46039f\"], [0.2222222222222222, \"#7201a8\"], [0.3333333333333333, \"#9c179e\"], [0.4444444444444444, \"#bd3786\"], [0.5555555555555556, \"#d8576b\"], [0.6666666666666666, \"#ed7953\"], [0.7777777777777778, \"#fb9f3a\"], [0.8888888888888888, \"#fdca26\"], [1.0, \"#f0f921\"]], \"sequentialminus\": [[0.0, \"#0d0887\"], [0.1111111111111111, \"#46039f\"], [0.2222222222222222, \"#7201a8\"], [0.3333333333333333, \"#9c179e\"], [0.4444444444444444, \"#bd3786\"], [0.5555555555555556, \"#d8576b\"], [0.6666666666666666, \"#ed7953\"], [0.7777777777777778, \"#fb9f3a\"], [0.8888888888888888, \"#fdca26\"], [1.0, \"#f0f921\"]]}, \"colorway\": [\"#636efa\", \"#EF553B\", \"#00cc96\", \"#ab63fa\", \"#FFA15A\", \"#19d3f3\", \"#FF6692\", \"#B6E880\", \"#FF97FF\", \"#FECB52\"], \"font\": {\"color\": \"#2a3f5f\"}, \"geo\": {\"bgcolor\": \"white\", \"lakecolor\": \"white\", \"landcolor\": \"#E5ECF6\", \"showlakes\": true, \"showland\": true, \"subunitcolor\": \"white\"}, \"hoverlabel\": {\"align\": \"left\"}, \"hovermode\": \"closest\", \"mapbox\": {\"style\": \"light\"}, \"paper_bgcolor\": \"white\", \"plot_bgcolor\": \"#E5ECF6\", \"polar\": {\"angularaxis\": {\"gridcolor\": \"white\", \"linecolor\": \"white\", \"ticks\": \"\"}, \"bgcolor\": \"#E5ECF6\", \"radialaxis\": {\"gridcolor\": \"white\", \"linecolor\": \"white\", \"ticks\": \"\"}}, \"scene\": {\"xaxis\": {\"backgroundcolor\": \"#E5ECF6\", \"gridcolor\": \"white\", \"gridwidth\": 2, \"linecolor\": \"white\", \"showbackground\": true, \"ticks\": \"\", \"zerolinecolor\": \"white\"}, \"yaxis\": {\"backgroundcolor\": \"#E5ECF6\", \"gridcolor\": \"white\", \"gridwidth\": 2, \"linecolor\": \"white\", \"showbackground\": true, \"ticks\": \"\", \"zerolinecolor\": \"white\"}, \"zaxis\": {\"backgroundcolor\": \"#E5ECF6\", \"gridcolor\": \"white\", \"gridwidth\": 2, \"linecolor\": \"white\", \"showbackground\": true, \"ticks\": \"\", \"zerolinecolor\": \"white\"}}, \"shapedefaults\": {\"line\": {\"color\": \"#2a3f5f\"}}, \"ternary\": {\"aaxis\": {\"gridcolor\": \"white\", \"linecolor\": \"white\", \"ticks\": \"\"}, \"baxis\": {\"gridcolor\": \"white\", \"linecolor\": \"white\", \"ticks\": \"\"}, \"bgcolor\": \"#E5ECF6\", \"caxis\": {\"gridcolor\": \"white\", \"linecolor\": \"white\", \"ticks\": \"\"}}, \"title\": {\"x\": 0.05}, \"xaxis\": {\"automargin\": true, \"gridcolor\": \"white\", \"linecolor\": \"white\", \"ticks\": \"\", \"title\": {\"standoff\": 15}, \"zerolinecolor\": \"white\", \"zerolinewidth\": 2}, \"yaxis\": {\"automargin\": true, \"gridcolor\": \"white\", \"linecolor\": \"white\", \"ticks\": \"\", \"title\": {\"standoff\": 15}, \"zerolinecolor\": \"white\", \"zerolinewidth\": 2}}}, \"width\": 1200, \"xaxis\": {\"anchor\": \"y\", \"domain\": [0.0, 0.45]}, \"xaxis2\": {\"anchor\": \"y2\", \"domain\": [0.55, 1.0]}, \"xaxis3\": {\"anchor\": \"y3\", \"domain\": [0.0, 0.45]}, \"xaxis4\": {\"anchor\": \"y4\", \"domain\": [0.55, 1.0]}, \"yaxis\": {\"anchor\": \"x\", \"domain\": [0.625, 1.0]}, \"yaxis2\": {\"anchor\": \"x2\", \"domain\": [0.625, 1.0]}, \"yaxis3\": {\"anchor\": \"x3\", \"domain\": [0.0, 0.375]}, \"yaxis4\": {\"anchor\": \"x4\", \"domain\": [0.0, 0.375]}},\n",
              "                        {\"responsive\": true}\n",
              "                    ).then(function(){\n",
              "                            \n",
              "var gd = document.getElementById('70029227-509b-4d71-8255-8f963ffeb1b8');\n",
              "var x = new MutationObserver(function (mutations, observer) {{\n",
              "        var display = window.getComputedStyle(gd).display;\n",
              "        if (!display || display === 'none') {{\n",
              "            console.log([gd, 'removed!']);\n",
              "            Plotly.purge(gd);\n",
              "            observer.disconnect();\n",
              "        }}\n",
              "}});\n",
              "\n",
              "// Listen for the removal of the full notebook cells\n",
              "var notebookContainer = gd.closest('#notebook-container');\n",
              "if (notebookContainer) {{\n",
              "    x.observe(notebookContainer, {childList: true});\n",
              "}}\n",
              "\n",
              "// Listen for the clearing of the current output cell\n",
              "var outputEl = gd.closest('.output');\n",
              "if (outputEl) {{\n",
              "    x.observe(outputEl, {childList: true});\n",
              "}}\n",
              "\n",
              "                        })\n",
              "                };\n",
              "                \n",
              "            </script>\n",
              "        </div>\n",
              "</body>\n",
              "</html>"
            ]
          },
          "metadata": {
            "tags": []
          }
        }
      ]
    },
    {
      "cell_type": "markdown",
      "metadata": {
        "id": "Hgdg8UbBiGKx",
        "colab_type": "text"
      },
      "source": [
        "### **Conclusão**"
      ]
    },
    {
      "cell_type": "markdown",
      "metadata": {
        "id": "3A5-xTlTqMnM",
        "colab_type": "text"
      },
      "source": [
        "Podemos concluir que os dados em que o Governo se baseia não está  proximo ao qu eestão divulgado pela prefeitura de Indaiatuba. Considerando que o Plano SP é levado em consideração essa base de dados, talvez tivessem em outro nivel no inicio do programa, além disso estamos trabalhando apenas com um municipio, seria necessario fazer uma analise de uma maior quantidade de cidade para ver qual a real diferença entre os dados. \n",
        "\n",
        "No G1 saiu uma pesquisa relacionado com a grande São Paulo https://g1.globo.com/sp/sao-paulo/noticia/2020/06/26/governo-de-sp-contabiliza-25-mil-casos-de-covid-19-a-menos-na-cidade-de-sp-que-prefeitura-mas-deve-liberar-fase-amarela.ghtml essa diferença poderia impactar na decisão de mudança para a fase amarela.\n",
        "\n",
        "Proximo ponto é adicionar numero de leitos e notificações para ver se esses valores estão proximos e adicionar a porcentagem de isolamento social, entrei em contato com o instituto que está trabalhando com esses dados para ver se tem algum repositório para ser utilizado."
      ]
    },
    {
      "cell_type": "code",
      "metadata": {
        "id": "K9aKaKxPiKDE",
        "colab_type": "code",
        "colab": {}
      },
      "source": [
        ""
      ],
      "execution_count": null,
      "outputs": []
    }
  ]
}