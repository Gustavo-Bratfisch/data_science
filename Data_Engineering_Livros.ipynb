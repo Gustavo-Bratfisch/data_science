{
 "cells": [
  {
   "cell_type": "markdown",
   "metadata": {},
   "source": [
    "# Projeto de Data Engineering Simples\n",
    "Nesse projeto iremos fazer o Data Engineering basico, onde pegamos os dados da pagina de livros http://books.toscrape.com/ (essa pagina foi feita para fazer e praticar o web scraping). Para coletarmos os dados vamos utilizar o pacote BeautifulSOup e para clicar/trocar de paginas usamos o Selenium.\n",
    "\n",
    "Nesse site de livros, inicialmente eu coletei todas as urls de todos os mil livros, com essas Url's fiz a coleta do nome do livro, o preço que o livro está custando, a avaliação feita do livro em formato de estrelas (de 1-5), o tipo/gênero do livro e por fim se o livro estava no estoque. Além disso criei uma tabela dentro de um banco de dados para alimentar em cada iteração (nesse caso estou utilizando SQL Server) e por fim temos nosso Data frame que tambem exportamos para csv.\n",
    "\n",
    "Só para mostrar o conjunto final dos dados, eu fiz alguns plots e analises breves para mostrar como ficaram esses valores.\n"
   ]
  },
  {
   "cell_type": "markdown",
   "metadata": {},
   "source": [
    "## Coletando os Dados"
   ]
  },
  {
   "cell_type": "code",
   "execution_count": null,
   "metadata": {},
   "outputs": [],
   "source": [
    "#Bibliotecas importantes\n",
    "\n",
    "from selenium import webdriver\n",
    "from selenium.webdriver.firefox.firefox_binary import FirefoxBinar\n",
    "#Bibliotecas para fazer web scrapy dos sites\n",
    "import requests\n",
    "from requests import get\n",
    "from bs4 import BeautifulSoup\n",
    "\n",
    "#trabalhar com data frame\n",
    "import pandas as pd\n",
    "\n",
    "#Biblioteca para o processamento de linguagem\n",
    "import re\n",
    "import nltk\n",
    "#nltk.download('stopwords')\n",
    "from nltk.corpus import stopwords\n",
    "from nltk.util import bigrams"
   ]
  },
  {
   "cell_type": "code",
   "execution_count": 1,
   "metadata": {},
   "outputs": [],
   "source": [
    "#Utilizando o FireFox para automatizar a passagem de paginas com o Selenium\n",
    "binary = FirefoxBinary('C:\\\\Program Files\\\\Mozilla Firefox\\\\firefox.exe')\n",
    "\n",
    "driver = webdriver.Firefox(firefox_binary=binary, executable_path=r'C:\\\\geckodriver.exe')"
   ]
  },
  {
   "cell_type": "code",
   "execution_count": 4,
   "metadata": {
    "scrolled": true
   },
   "outputs": [],
   "source": [
    "#Iremos encontrando dentro do HTML da pagina todas as URL's que levam para as paginas dos livros em si, \n",
    "#utilizando BeautifulSoup\n",
    "\n",
    "driver.get('http://books.toscrape.com/')\n",
    "\n",
    "sites = []\n",
    "soup = BeautifulSoup(driver.page_source)\n",
    "\n",
    "categories = soup.find_all('div', class_=\"side_categories\")\n",
    "todas_cat = []\n",
    "aux_cat = categories[0].find_all('li')\n",
    "for i in range(1,len(aux_cat)):\n",
    "    todas_cat.append(aux_cat[i].text.replace('\\n','').replace(' ',''))\n",
    "\n",
    "\n",
    "aux_numbepages = soup.find_all('ul', class_='pager')\n",
    "aux_numbepages2 = aux_numbepages[0].find_all('li', class_ = 'current')\n",
    "\n",
    "aux_numbepages3 = aux_numbepages2[0].text.replace('\\n','').replace(' ','').replace('Page','').replace('of','')\n",
    "\n",
    "total_pages = int(aux_numbepages3[1:])\n",
    "page = int(aux_numbepages3[:-2])\n",
    "\n",
    "#Um loop para percorrer o numero total de paginas (total_pages), pois cada pagina disponibiliza 20 livros.\n",
    "for i in range(page,total_pages):\n",
    "    div_sit = soup.find_all('div', class_='image_container')\n",
    "    for i in range(0,len(div_sit)):\n",
    "        aux = div_sit[i].find('a',href = True)\n",
    "        sit_name = aux['href'].replace('catalogue','')\n",
    "        sites.append('http://books.toscrape.com/catalogue/' + sit_name)\n",
    "    \n",
    "    submit_button  = driver.find_element_by_xpath('//li[@class=\"next\"]//a')\n",
    "    submit_button.click()\n",
    "    soup = BeautifulSoup(driver.page_source)\n",
    "\n",
    "div_sit = soup.find_all('div', class_='image_container')\n",
    "\n",
    "#Esse loop final é para pegar a ultima pagina do nosso site.\n",
    "for i in range(0,len(div_sit)):\n",
    "    aux = div_sit[i].find('a',href = True)\n",
    "    sit_name = aux['href'].replace('catalogue','')\n",
    "    #print(sit_name)\n",
    "    sites.append('http://books.toscrape.com/catalogue/' + sit_name)"
   ]
  },
  {
   "cell_type": "code",
   "execution_count": 37,
   "metadata": {},
   "outputs": [],
   "source": [
    "#Função para troca o numero escrito para o numerico em si\n",
    "def chang_est(word):\n",
    "    if(word[:7] == 'Instock'):\n",
    "        return('Sim')\n",
    "    else:\n",
    "        return('Nao')"
   ]
  },
  {
   "cell_type": "markdown",
   "metadata": {},
   "source": [
    "Conectando e criando uma tabela no SQL Server 2014"
   ]
  },
  {
   "cell_type": "code",
   "execution_count": 56,
   "metadata": {},
   "outputs": [],
   "source": [
    "#Mostrando a criação da tabela dentro odo banco de dados\n",
    "import pyodbc \n",
    "# Some other example server values are\n",
    "# server = 'localhost\\sqlexpress' # for a named instance\n",
    "# server = 'myserver,port' # to specify an alternate port\n",
    "server = 'DESKTOP-D2A5BFQ\\SQLEXPRESS' \n",
    "database = 'projeto' \n",
    "username =  ''\n",
    "password = '' \n",
    "cnxn = pyodbc.connect('DRIVER={ODBC Driver 17 for SQL Server};SERVER='+server+';DATABASE='+database+';UID='+username+';PWD='+ password)\n",
    "cursor = cnxn.cursor()\n",
    "\n",
    "cursor.execute('''\n",
    "                CREATE TABLE LIVROS\n",
    "                (\n",
    "                IDLIVRO INT PRIMARY KEY IDENTITY,\n",
    "                NOME VARCHAR(300),\n",
    "                PRECO MONEY,\n",
    "                ESTOQUE CHAR(3),\n",
    "                ESTILO VARCHAR(30),\n",
    "                AVALIACAO INT\n",
    "                )\n",
    "\n",
    "''')\n",
    "cursor.commit()"
   ]
  },
  {
   "cell_type": "markdown",
   "metadata": {},
   "source": [
    "Coletando os dados desejado dentro de cada URL encontrada anteriormente, inserindo dentro de arrays vazios. Por fim alimentamos nos banco de dados."
   ]
  },
  {
   "cell_type": "code",
   "execution_count": 59,
   "metadata": {},
   "outputs": [],
   "source": [
    "titulo = []\n",
    "preco = []\n",
    "estoque = []\n",
    "estilo = []\n",
    "avaliacao = []\n",
    "num2words = {'One':1,'Two' : 2,'Three': 3, 'Four':4,'Five':5}\n",
    "\n",
    "for j in range(0,len(sites)):\n",
    "    results = requests.get(sites[j])\n",
    "    soup2 = BeautifulSoup(results.text, \"html.parser\")\n",
    "\n",
    "    div_carct = soup2.find_all('div',  class_='col-sm-6 product_main')\n",
    "\n",
    "    p_carct = div_carct[0].find_all('p')\n",
    "\n",
    "    tit = div_carct[0].find_all('h1')[0].text\n",
    "    pre = float(p_carct[0].text[2:])\n",
    "    stoq = chang_est(p_carct[1].text.replace('\\n','').replace(' ',''))\n",
    "    estre = num2words[p_carct[2]['class'][1]]\n",
    "    \n",
    "    ul_est = soup2.find_all('ul', class_='breadcrumb')\n",
    "    \n",
    "    for litag in ul_est[0].find_all('li'):\n",
    "        if litag.text.replace('\\n','').replace(' ','') in todas_cat:\n",
    "            stilo = litag.text.replace('\\n','')\n",
    "\n",
    "    titulo.append(tit)\n",
    "    preco.append(pre)\n",
    "    estoque.append(stoq)\n",
    "    avaliacao.append(estre)\n",
    "    estilo.append(stilo)\n",
    "\n",
    "#Aqui inserimos nosso dados dentro de um banco de dados\n",
    "    #values = (tit,pre,stoq,tex,estre)\n",
    "    #insert_query = '''INSERT INTO LIVROS (NOME,PRECO,ESTOQUE,ESTILO,AVALIACAO)\n",
    "    #              VALUES (?,?,?,?,?)'''\n",
    "    #cursor.execute(insert_query,values)\n",
    "    #cursor.commit()"
   ]
  },
  {
   "cell_type": "markdown",
   "metadata": {},
   "source": [
    "Mostrando como ficou no final nosso banco de dados"
   ]
  },
  {
   "cell_type": "code",
   "execution_count": 144,
   "metadata": {},
   "outputs": [
    {
     "name": "stdout",
     "output_type": "stream",
     "text": [
      "(1, 'A Light in the Attic', Decimal('51.7700'), 'Sim', 'Food and Drink', 3)\n",
      "(2, 'Tipping the Velvet', Decimal('53.7400'), 'Sim', 'Food and Drink', 1)\n",
      "(3, 'Soumission', Decimal('50.1000'), 'Sim', 'Food and Drink', 1)\n",
      "(4, 'Sharp Objects', Decimal('47.8200'), 'Sim', 'Food and Drink', 4)\n",
      "(5, 'Sapiens: A Brief History of Humankind', Decimal('54.2300'), 'Sim', 'Food and Drink', 5)\n",
      "(6, 'The Requiem Red', Decimal('22.6500'), 'Sim', 'Food and Drink', 1)\n",
      "(7, 'The Dirty Little Secrets of Getting Your Dream Job', Decimal('33.3400'), 'Sim', 'Food and Drink', 4)\n",
      "(8, 'The Coming Woman: A Novel Based on the Life of the Infamous Feminist, Victoria Woodhull', Decimal('17.9300'), 'Sim', 'Food and Drink', 3)\n",
      "(9, 'The Boys in the Boat: Nine Americans and Their Epic Quest for Gold at the 1936 Berlin Olympics', Decimal('22.6000'), 'Sim', 'Food and Drink', 4)\n",
      "(10, 'The Black Maria', Decimal('52.1500'), 'Sim', 'Food and Drink', 1)\n",
      "(11, 'Starving Hearts (Triangular Trade Trilogy, #1)', Decimal('13.9900'), 'Sim', 'Food and Drink', 2)\n",
      "(12, \"Shakespeare's Sonnets\", Decimal('20.6600'), 'Sim', 'Food and Drink', 4)\n",
      "(13, 'Set Me Free', Decimal('17.4600'), 'Sim', 'Food and Drink', 5)\n",
      "(14, \"Scott Pilgrim's Precious Little Life (Scott Pilgrim #1)\", Decimal('52.2900'), 'Sim', 'Food and Drink', 5)\n",
      "(15, 'Rip it Up and Start Again', Decimal('35.0200'), 'Sim', 'Food and Drink', 5)\n",
      "(16, 'Our Band Could Be Your Life: Scenes from the American Indie Underground, 1981-1991', Decimal('57.2500'), 'Sim', 'Food and Drink', 3)\n",
      "(17, 'Olio', Decimal('23.8800'), 'Sim', 'Food and Drink', 1)\n",
      "(18, 'Mesaerion: The Best Science Fiction Stories 1800-1849', Decimal('37.5900'), 'Sim', 'Food and Drink', 1)\n",
      "(19, 'Libertarianism for Beginners', Decimal('51.3300'), 'Sim', 'Food and Drink', 2)\n",
      "(20, \"It's Only the Himalayas\", Decimal('45.1700'), 'Sim', 'Food and Drink', 2)\n",
      "(21, 'In Her Wake', Decimal('12.8400'), 'Sim', 'Food and Drink', 1)\n",
      "(22, 'How Music Works', Decimal('37.3200'), 'Sim', 'Food and Drink', 2)\n",
      "(23, 'Foolproof Preserving: A Guide to Small Batch Jams, Jellies, Pickles, Condiments, and More: A Foolproof Guide to Making Small Batch Jams, Jellies, Pickles, Condiments, and More', Decimal('30.5200'), 'Sim', 'Food and Drink', 3)\n",
      "(24, 'Chase Me (Paris Nights #2)', Decimal('25.2700'), 'Sim', 'Food and Drink', 5)\n",
      "(25, 'Black Dust', Decimal('34.5300'), 'Sim', 'Food and Drink', 5)\n",
      "(26, 'Birdsong: A Story in Pictures', Decimal('54.6400'), 'Sim', 'Food and Drink', 3)\n",
      "(27, \"America's Cradle of Quarterbacks: Western Pennsylvania's Football Factory from Johnny Unitas to Joe Montana\", Decimal('22.5000'), 'Sim', 'Food and Drink', 3)\n",
      "(28, 'Aladdin and His Wonderful Lamp', Decimal('53.1300'), 'Sim', 'Food and Drink', 3)\n",
      "(29, 'Worlds Elsewhere: Journeys Around Shakespeareâ??s Globe', Decimal('40.3000'), 'Sim', 'Food and Drink', 5)\n",
      "(30, 'Wall and Piece', Decimal('44.1800'), 'Sim', 'Food and Drink', 4)\n",
      "(31, 'The Four Agreements: A Practical Guide to Personal Freedom', Decimal('17.6600'), 'Sim', 'Food and Drink', 5)\n",
      "(32, 'The Five Love Languages: How to Express Heartfelt Commitment to Your Mate', Decimal('31.0500'), 'Sim', 'Food and Drink', 3)\n",
      "(33, 'The Elephant Tree', Decimal('23.8200'), 'Sim', 'Food and Drink', 5)\n",
      "(34, 'The Bear and the Piano', Decimal('36.8900'), 'Sim', 'Food and Drink', 1)\n",
      "(35, \"Sophie's World\", Decimal('15.9400'), 'Sim', 'Food and Drink', 5)\n",
      "(36, 'Penny Maybe', Decimal('33.2900'), 'Sim', 'Food and Drink', 3)\n",
      "(37, 'Maude (1883-1993):She Grew Up with the country', Decimal('18.0200'), 'Sim', 'Food and Drink', 2)\n",
      "(38, 'In a Dark, Dark Wood', Decimal('19.6300'), 'Sim', 'Food and Drink', 1)\n",
      "(39, 'Behind Closed Doors', Decimal('52.2200'), 'Sim', 'Food and Drink', 4)\n",
      "(40, \"You can't bury them all: Poems\", Decimal('33.6300'), 'Sim', 'Food and Drink', 2)\n",
      "(41, 'Slow States of Collapse: Poems', Decimal('57.3100'), 'Sim', 'Food and Drink', 3)\n",
      "(42, 'Reasons to Stay Alive', Decimal('26.4100'), 'Sim', 'Food and Drink', 2)\n",
      "(43, 'Private Paris (Private #10)', Decimal('47.6100'), 'Sim', 'Food and Drink', 5)\n",
      "(44, '#HigherSelfie: Wake Up Your Life. Free Your Soul. Find Your Tribe.', Decimal('23.1100'), 'Sim', 'Food and Drink', 5)\n",
      "(45, 'Without Borders (Wanderlove #1)', Decimal('45.0700'), 'Sim', 'Food and Drink', 2)\n",
      "(46, 'When We Collided', Decimal('31.7700'), 'Sim', 'Food and Drink', 1)\n",
      "(47, 'We Love You, Charlie Freeman', Decimal('50.2700'), 'Sim', 'Food and Drink', 5)\n",
      "(48, 'Untitled Collection: Sabbath Poems 2014', Decimal('14.2700'), 'Sim', 'Food and Drink', 4)\n",
      "(49, 'Unseen City: The Majesty of Pigeons, the Discreet Charm of Snails & Other Wonders of the Urban Wilderness', Decimal('44.1800'), 'Sim', 'Food and Drink', 4)\n",
      "(50, 'Unicorn Tracks', Decimal('18.7800'), 'Sim', 'Food and Drink', 3)\n",
      "(51, 'Unbound: How Eight Technologies Made Us Human, Transformed Society, and Brought Our World to the Brink', Decimal('25.5200'), 'Sim', 'Food and Drink', 1)\n",
      "(52, 'Tsubasa: WoRLD CHRoNiCLE 2 (Tsubasa WoRLD CHRoNiCLE #2)', Decimal('16.2800'), 'Sim', 'Food and Drink', 1)\n",
      "(53, 'Throwing Rocks at the Google Bus: How Growth Became the Enemy of Prosperity', Decimal('31.1200'), 'Sim', 'Food and Drink', 3)\n",
      "(54, 'This One Summer', Decimal('19.4900'), 'Sim', 'Food and Drink', 4)\n",
      "(55, 'Thirst', Decimal('17.2700'), 'Sim', 'Food and Drink', 5)\n",
      "(56, 'The Torch Is Passed: A Harding Family Story', Decimal('19.0900'), 'Sim', 'Food and Drink', 1)\n",
      "(57, 'The Secret of Dreadwillow Carse', Decimal('56.1300'), 'Sim', 'Food and Drink', 1)\n",
      "(58, 'The Pioneer Woman Cooks: Dinnertime: Comfort Classics, Freezer Food, 16-Minute Meals, and Other Delicious Ways to Solve Supper!', Decimal('56.4100'), 'Sim', 'Food and Drink', 1)\n",
      "(59, 'The Past Never Ends', Decimal('56.5000'), 'Sim', 'Food and Drink', 4)\n",
      "(60, 'The Natural History of Us (The Fine Art of Pretending #2)', Decimal('45.2200'), 'Sim', 'Food and Drink', 3)\n",
      "(61, 'The Nameless City (The Nameless City #1)', Decimal('38.1600'), 'Sim', 'Food and Drink', 4)\n",
      "(62, 'The Murder That Never Was (Forensic Instincts #5)', Decimal('54.1100'), 'Sim', 'Food and Drink', 3)\n",
      "(63, \"The Most Perfect Thing: Inside (and Outside) a Bird's Egg\", Decimal('42.9600'), 'Sim', 'Food and Drink', 4)\n",
      "(64, 'The Mindfulness and Acceptance Workbook for Anxiety: A Guide to Breaking Free from Anxiety, Phobias, and Worry Using Acceptance and Commitment Therapy', Decimal('23.8900'), 'Sim', 'Food and Drink', 4)\n",
      "(65, 'The Life-Changing Magic of Tidying Up: The Japanese Art of Decluttering and Organizing', Decimal('16.7700'), 'Sim', 'Food and Drink', 3)\n",
      "(66, 'The Inefficiency Assassin: Time Management Tactics for Working Smarter, Not Longer', Decimal('20.5900'), 'Sim', 'Food and Drink', 5)\n",
      "(67, 'The Gutsy Girl: Escapades for Your Life of Epic Adventure', Decimal('37.1300'), 'Sim', 'Food and Drink', 1)\n",
      "(68, 'The Electric Pencil: Drawings from Inside State Hospital No. 3', Decimal('56.0600'), 'Sim', 'Food and Drink', 1)\n",
      "(69, 'The Death of Humanity: and the Case for Life', Decimal('58.1100'), 'Sim', 'Food and Drink', 4)\n",
      "(70, 'The Bulletproof Diet: Lose up to a Pound a Day, Reclaim Energy and Focus, Upgrade Your Life', Decimal('49.0500'), 'Sim', 'Food and Drink', 3)\n",
      "(71, 'The Art Forger', Decimal('40.7600'), 'Sim', 'Food and Drink', 3)\n",
      "(72, 'The Age of Genius: The Seventeenth Century and the Birth of the Modern Mind', Decimal('19.7300'), 'Sim', 'Food and Drink', 1)\n",
      "(73, \"The Activist's Tao Te Ching: Ancient Advice for a Modern Revolution\", Decimal('32.2400'), 'Sim', 'Food and Drink', 5)\n",
      "(74, 'Spark Joy: An Illustrated Master Class on the Art of Organizing and Tidying Up', Decimal('41.8300'), 'Sim', 'Food and Drink', 4)\n",
      "(75, 'Soul Reader', Decimal('39.5800'), 'Sim', 'Food and Drink', 2)\n",
      "(76, 'Security', Decimal('39.2500'), 'Sim', 'Food and Drink', 2)\n",
      "(77, 'Saga, Volume 6 (Saga (Collected Editions) #6)', Decimal('25.0200'), 'Sim', 'Food and Drink', 3)\n",
      "(78, 'Saga, Volume 5 (Saga (Collected Editions) #5)', Decimal('51.0400'), 'Sim', 'Food and Drink', 2)\n",
      "(79, 'Reskilling America: Learning to Labor in the Twenty-First Century', Decimal('19.8300'), 'Sim', 'Food and Drink', 2)\n",
      "(80, 'Rat Queens, Vol. 3: Demons (Rat Queens (Collected Editions) #11-15)', Decimal('50.4000'), 'Sim', 'Food and Drink', 3)\n",
      "(81, 'Princess Jellyfish 2-in-1 Omnibus, Vol. 01 (Princess Jellyfish 2-in-1 Omnibus #1)', Decimal('13.6100'), 'Sim', 'Food and Drink', 5)\n",
      "(82, 'Princess Between Worlds (Wide-Awake Princess #5)', Decimal('13.3400'), 'Sim', 'Food and Drink', 5)\n",
      "(83, 'Pop Gun War, Volume 1: Gift', Decimal('18.9700'), 'Sim', 'Food and Drink', 1)\n",
      "(84, 'Political Suicide: Missteps, Peccadilloes, Bad Calls, Backroom Hijinx, Sordid Pasts, Rotten Breaks, and Just Plain Dumb Mistakes in the Annals of American Politics', Decimal('36.2800'), 'Sim', 'Food and Drink', 2)\n",
      "(85, 'Patience', Decimal('10.1600'), 'Sim', 'Food and Drink', 3)\n",
      "(86, 'Outcast, Vol. 1: A Darkness Surrounds Him (Outcast #1)', Decimal('15.4400'), 'Sim', 'Food and Drink', 4)\n",
      "(87, 'orange: The Complete Collection 1 (orange: The Complete Collection #1)', Decimal('48.4100'), 'Sim', 'Food and Drink', 1)\n",
      "(88, 'Online Marketing for Busy Authors: A Step-By-Step Guide', Decimal('46.3500'), 'Sim', 'Food and Drink', 1)\n",
      "(89, 'On a Midnight Clear', Decimal('14.0700'), 'Sim', 'Food and Drink', 3)\n",
      "(90, 'Obsidian (Lux #1)', Decimal('14.8600'), 'Sim', 'Food and Drink', 2)\n",
      "(91, 'My Paris Kitchen: Recipes and Stories', Decimal('33.3700'), 'Sim', 'Food and Drink', 2)\n",
      "(92, 'Masks and Shadows', Decimal('56.4000'), 'Sim', 'Food and Drink', 2)\n",
      "(93, 'Mama Tried: Traditional Italian Cooking for the Screwed, Crude, Vegan, and Tattooed', Decimal('14.0200'), 'Sim', 'Food and Drink', 4)\n",
      "(94, 'Lumberjanes, Vol. 2: Friendship to the Max (Lumberjanes #5-8)', Decimal('46.9100'), 'Sim', 'Food and Drink', 2)\n",
      "(95, 'Lumberjanes, Vol. 1: Beware the Kitten Holy (Lumberjanes #1-4)', Decimal('45.6100'), 'Sim', 'Food and Drink', 3)\n",
      "(96, 'Lumberjanes Vol. 3: A Terrible Plan (Lumberjanes #9-12)', Decimal('19.9200'), 'Sim', 'Food and Drink', 2)\n",
      "(97, 'Layered: Baking, Building, and Styling Spectacular Cakes', Decimal('40.1100'), 'Sim', 'Food and Drink', 1)\n",
      "(98, 'Judo: Seven Steps to Black Belt (an Introductory Guide for Beginners)', Decimal('53.9000'), 'Sim', 'Food and Drink', 2)\n",
      "(99, 'Join', Decimal('35.6700'), 'Sim', 'Food and Drink', 5)\n",
      "(100, 'In the Country We Love: My Family Divided', Decimal('22.0000'), 'Sim', 'Food and Drink', 4)\n"
     ]
    }
   ],
   "source": [
    "cursor.execute('SELECT TOP(100) * FROM LIVROS  ')\n",
    "\n",
    "for row in cursor:\n",
    "    print(row)"
   ]
  },
  {
   "cell_type": "markdown",
   "metadata": {},
   "source": [
    "Por fim criamos o data frame e exportamos para CSV."
   ]
  },
  {
   "cell_type": "code",
   "execution_count": 66,
   "metadata": {},
   "outputs": [],
   "source": [
    "import pandas\n",
    "\n",
    "dict_df = {'Nome_Filme' : titulo,\n",
    "           'Preco' : preco,\n",
    "           'Tem_estoque' : estoque,\n",
    "           'Avaliacao' : avaliacao,\n",
    "           'Estilo' : estilo}\n",
    "\n",
    "Df_final = pd.DataFrame(dict_df) \n",
    "\n",
    "Df_final.to_csv()"
   ]
  },
  {
   "cell_type": "code",
   "execution_count": 67,
   "metadata": {},
   "outputs": [
    {
     "data": {
      "text/html": [
       "<div>\n",
       "<style scoped>\n",
       "    .dataframe tbody tr th:only-of-type {\n",
       "        vertical-align: middle;\n",
       "    }\n",
       "\n",
       "    .dataframe tbody tr th {\n",
       "        vertical-align: top;\n",
       "    }\n",
       "\n",
       "    .dataframe thead th {\n",
       "        text-align: right;\n",
       "    }\n",
       "</style>\n",
       "<table border=\"1\" class=\"dataframe\">\n",
       "  <thead>\n",
       "    <tr style=\"text-align: right;\">\n",
       "      <th></th>\n",
       "      <th>Nome_Filme</th>\n",
       "      <th>Preco</th>\n",
       "      <th>Tem_estoque</th>\n",
       "      <th>Avaliacao</th>\n",
       "      <th>Estilo</th>\n",
       "    </tr>\n",
       "  </thead>\n",
       "  <tbody>\n",
       "    <tr>\n",
       "      <th>0</th>\n",
       "      <td>A Light in the Attic</td>\n",
       "      <td>51.77</td>\n",
       "      <td>Sim</td>\n",
       "      <td>3</td>\n",
       "      <td>Poetry</td>\n",
       "    </tr>\n",
       "    <tr>\n",
       "      <th>1</th>\n",
       "      <td>Tipping the Velvet</td>\n",
       "      <td>53.74</td>\n",
       "      <td>Sim</td>\n",
       "      <td>1</td>\n",
       "      <td>Historical Fiction</td>\n",
       "    </tr>\n",
       "    <tr>\n",
       "      <th>2</th>\n",
       "      <td>Soumission</td>\n",
       "      <td>50.10</td>\n",
       "      <td>Sim</td>\n",
       "      <td>1</td>\n",
       "      <td>Fiction</td>\n",
       "    </tr>\n",
       "    <tr>\n",
       "      <th>3</th>\n",
       "      <td>Sharp Objects</td>\n",
       "      <td>47.82</td>\n",
       "      <td>Sim</td>\n",
       "      <td>4</td>\n",
       "      <td>Mystery</td>\n",
       "    </tr>\n",
       "    <tr>\n",
       "      <th>4</th>\n",
       "      <td>Sapiens: A Brief History of Humankind</td>\n",
       "      <td>54.23</td>\n",
       "      <td>Sim</td>\n",
       "      <td>5</td>\n",
       "      <td>History</td>\n",
       "    </tr>\n",
       "  </tbody>\n",
       "</table>\n",
       "</div>"
      ],
      "text/plain": [
       "                              Nome_Filme  Preco Tem_estoque  Avaliacao  \\\n",
       "0                   A Light in the Attic  51.77         Sim          3   \n",
       "1                     Tipping the Velvet  53.74         Sim          1   \n",
       "2                             Soumission  50.10         Sim          1   \n",
       "3                          Sharp Objects  47.82         Sim          4   \n",
       "4  Sapiens: A Brief History of Humankind  54.23         Sim          5   \n",
       "\n",
       "               Estilo  \n",
       "0              Poetry  \n",
       "1  Historical Fiction  \n",
       "2             Fiction  \n",
       "3             Mystery  \n",
       "4             History  "
      ]
     },
     "execution_count": 67,
     "metadata": {},
     "output_type": "execute_result"
    }
   ],
   "source": [
    "Df_final.head()"
   ]
  },
  {
   "cell_type": "markdown",
   "metadata": {},
   "source": [
    "## Visualização dos Dados\n",
    "\n",
    "Vamos fazer uma breve visualização dos dados, para ter uma noção de como esses dados estão dispostos.\n",
    "\n",
    "Podemos agrupar em tipos de estilos para ver a media do preço por estilo e das avaliações. Além disso podemos agrupar por avaliação paara esta conectado de alguma forma."
   ]
  },
  {
   "cell_type": "code",
   "execution_count": 72,
   "metadata": {},
   "outputs": [],
   "source": [
    "Group_estilo = Df_final.groupby('Estilo')"
   ]
  },
  {
   "cell_type": "code",
   "execution_count": 77,
   "metadata": {},
   "outputs": [],
   "source": [
    "Group_estilo2 = Group_estilo.mean()\n",
    "Group_estilo2['Count'] = Group_estilo.count()['Preco']"
   ]
  },
  {
   "cell_type": "code",
   "execution_count": 79,
   "metadata": {},
   "outputs": [
    {
     "data": {
      "text/html": [
       "<div>\n",
       "<style scoped>\n",
       "    .dataframe tbody tr th:only-of-type {\n",
       "        vertical-align: middle;\n",
       "    }\n",
       "\n",
       "    .dataframe tbody tr th {\n",
       "        vertical-align: top;\n",
       "    }\n",
       "\n",
       "    .dataframe thead th {\n",
       "        text-align: right;\n",
       "    }\n",
       "</style>\n",
       "<table border=\"1\" class=\"dataframe\">\n",
       "  <thead>\n",
       "    <tr style=\"text-align: right;\">\n",
       "      <th></th>\n",
       "      <th>Preco</th>\n",
       "      <th>Avaliacao</th>\n",
       "      <th>Count</th>\n",
       "    </tr>\n",
       "    <tr>\n",
       "      <th>Estilo</th>\n",
       "      <th></th>\n",
       "      <th></th>\n",
       "      <th></th>\n",
       "    </tr>\n",
       "  </thead>\n",
       "  <tbody>\n",
       "    <tr>\n",
       "      <th>Academic</th>\n",
       "      <td>13.120000</td>\n",
       "      <td>2.000000</td>\n",
       "      <td>1</td>\n",
       "    </tr>\n",
       "    <tr>\n",
       "      <th>Add a comment</th>\n",
       "      <td>35.796418</td>\n",
       "      <td>2.761194</td>\n",
       "      <td>67</td>\n",
       "    </tr>\n",
       "    <tr>\n",
       "      <th>Adult Fiction</th>\n",
       "      <td>15.360000</td>\n",
       "      <td>5.000000</td>\n",
       "      <td>1</td>\n",
       "    </tr>\n",
       "    <tr>\n",
       "      <th>Art</th>\n",
       "      <td>38.520000</td>\n",
       "      <td>3.625000</td>\n",
       "      <td>8</td>\n",
       "    </tr>\n",
       "    <tr>\n",
       "      <th>Autobiography</th>\n",
       "      <td>37.053333</td>\n",
       "      <td>3.000000</td>\n",
       "      <td>9</td>\n",
       "    </tr>\n",
       "    <tr>\n",
       "      <th>Biography</th>\n",
       "      <td>33.662000</td>\n",
       "      <td>2.200000</td>\n",
       "      <td>5</td>\n",
       "    </tr>\n",
       "    <tr>\n",
       "      <th>Business</th>\n",
       "      <td>32.460000</td>\n",
       "      <td>2.916667</td>\n",
       "      <td>12</td>\n",
       "    </tr>\n",
       "    <tr>\n",
       "      <th>Childrens</th>\n",
       "      <td>32.638276</td>\n",
       "      <td>2.620690</td>\n",
       "      <td>29</td>\n",
       "    </tr>\n",
       "    <tr>\n",
       "      <th>Christian</th>\n",
       "      <td>42.496667</td>\n",
       "      <td>2.666667</td>\n",
       "      <td>3</td>\n",
       "    </tr>\n",
       "    <tr>\n",
       "      <th>Christian Fiction</th>\n",
       "      <td>34.385000</td>\n",
       "      <td>4.166667</td>\n",
       "      <td>6</td>\n",
       "    </tr>\n",
       "  </tbody>\n",
       "</table>\n",
       "</div>"
      ],
      "text/plain": [
       "                       Preco  Avaliacao  Count\n",
       "Estilo                                        \n",
       "Academic           13.120000   2.000000      1\n",
       "Add a comment      35.796418   2.761194     67\n",
       "Adult Fiction      15.360000   5.000000      1\n",
       "Art                38.520000   3.625000      8\n",
       "Autobiography      37.053333   3.000000      9\n",
       "Biography          33.662000   2.200000      5\n",
       "Business           32.460000   2.916667     12\n",
       "Childrens          32.638276   2.620690     29\n",
       "Christian          42.496667   2.666667      3\n",
       "Christian Fiction  34.385000   4.166667      6"
      ]
     },
     "execution_count": 79,
     "metadata": {},
     "output_type": "execute_result"
    }
   ],
   "source": [
    "Group_estilo2.head(10)"
   ]
  },
  {
   "cell_type": "markdown",
   "metadata": {},
   "source": [
    "Podemos observar pelos graficos que os estilos de suspense, novels e politics são com preços elevados, porém a maioria dos estilos tem uma quantidade superior a 30 reais, sendo os mais baratos custando apenas 10 reais. Com maiores avaliações são o Adult Fiction, Erotica e Novels, porém quando vemos a quantidade desses livros temos que tem apenas um exemplar. Os livros com as piores avaliaçoes são do tipo crime,cultural, paranormal e short stories que tambem tem apenas um exemplar."
   ]
  },
  {
   "cell_type": "code",
   "execution_count": 117,
   "metadata": {},
   "outputs": [
    {
     "data": {
      "image/png": "[encoded data removed]",
      "text/plain": [
       "<Figure size 1080x864 with 2 Axes>"
      ]
     },
     "metadata": {
      "needs_background": "light"
     },
     "output_type": "display_data"
    }
   ],
   "source": [
    "import seaborn as sns\n",
    "import matplotlib.pyplot as plt\n",
    "\n",
    "fig,axis = plt.subplots(1,2,figsize = (15,12))\n",
    "\n",
    "Group_estilo2['Preco'].sort_values().plot.barh(ax = axis[0]);\n",
    "Group_estilo2['Avaliacao'].sort_values().plot.barh(ax = axis[1]);\n",
    "\n",
    "plt.tight_layout(pad = 3)"
   ]
  },
  {
   "cell_type": "markdown",
   "metadata": {},
   "source": [
    "Majoritariamente o estilo de livros é Default, que deve ser uma opção quando não se sabe ou não foi definido o estilo do livro. Podemos ver o proximo que mostra que nonfiction tambem com uma grande quantidade de livros, assim como sequential art."
   ]
  },
  {
   "cell_type": "code",
   "execution_count": 118,
   "metadata": {},
   "outputs": [
    {
     "data": {
      "text/plain": [
       "<matplotlib.axes._subplots.AxesSubplot at 0x148b982be80>"
      ]
     },
     "execution_count": 118,
     "metadata": {},
     "output_type": "execute_result"
    },
    {
     "data": {
      "image/png": "[encoded data removed]",
      "text/plain": [
       "<Figure size 1080x720 with 1 Axes>"
      ]
     },
     "metadata": {
      "needs_background": "light"
     },
     "output_type": "display_data"
    }
   ],
   "source": [
    "Group_estilo2['Count'].sort_values().plot.barh(figsize = (15,10));"
   ]
  },
  {
   "cell_type": "markdown",
   "metadata": {},
   "source": [
    "Vemos que todos os livros tem no estoque."
   ]
  },
  {
   "cell_type": "code",
   "execution_count": 121,
   "metadata": {},
   "outputs": [
    {
     "data": {
      "text/plain": [
       "Sim    1000\n",
       "Name: Tem_estoque, dtype: int64"
      ]
     },
     "execution_count": 121,
     "metadata": {},
     "output_type": "execute_result"
    }
   ],
   "source": [
    "Df_final['Tem_estoque'].value_counts()"
   ]
  },
  {
   "cell_type": "markdown",
   "metadata": {},
   "source": [
    "Agrupando nossos dados por avaliação\n",
    "\n",
    "Podemos ver que a avaliação não influencia no preço dos livros, todos estão proximos. Vemos que os livros com avaliação baixa é que tem em maior quantidade, porém as demais avaliações ficam proximas."
   ]
  },
  {
   "cell_type": "code",
   "execution_count": 123,
   "metadata": {},
   "outputs": [],
   "source": [
    "Group_aval = Df_final.groupby('Avaliacao')\n",
    "\n",
    "Group_aval2 = Group_aval.mean()\n",
    "Group_aval2['Count'] = Group_aval.count()['Preco']"
   ]
  },
  {
   "cell_type": "code",
   "execution_count": 125,
   "metadata": {},
   "outputs": [
    {
     "data": {
      "text/html": [
       "<div>\n",
       "<style scoped>\n",
       "    .dataframe tbody tr th:only-of-type {\n",
       "        vertical-align: middle;\n",
       "    }\n",
       "\n",
       "    .dataframe tbody tr th {\n",
       "        vertical-align: top;\n",
       "    }\n",
       "\n",
       "    .dataframe thead th {\n",
       "        text-align: right;\n",
       "    }\n",
       "</style>\n",
       "<table border=\"1\" class=\"dataframe\">\n",
       "  <thead>\n",
       "    <tr style=\"text-align: right;\">\n",
       "      <th></th>\n",
       "      <th>Preco</th>\n",
       "      <th>Count</th>\n",
       "    </tr>\n",
       "    <tr>\n",
       "      <th>Avaliacao</th>\n",
       "      <th></th>\n",
       "      <th></th>\n",
       "    </tr>\n",
       "  </thead>\n",
       "  <tbody>\n",
       "    <tr>\n",
       "      <th>1</th>\n",
       "      <td>34.561195</td>\n",
       "      <td>226</td>\n",
       "    </tr>\n",
       "    <tr>\n",
       "      <th>2</th>\n",
       "      <td>34.810918</td>\n",
       "      <td>196</td>\n",
       "    </tr>\n",
       "    <tr>\n",
       "      <th>3</th>\n",
       "      <td>34.692020</td>\n",
       "      <td>203</td>\n",
       "    </tr>\n",
       "    <tr>\n",
       "      <th>4</th>\n",
       "      <td>36.093296</td>\n",
       "      <td>179</td>\n",
       "    </tr>\n",
       "    <tr>\n",
       "      <th>5</th>\n",
       "      <td>35.374490</td>\n",
       "      <td>196</td>\n",
       "    </tr>\n",
       "  </tbody>\n",
       "</table>\n",
       "</div>"
      ],
      "text/plain": [
       "               Preco  Count\n",
       "Avaliacao                  \n",
       "1          34.561195    226\n",
       "2          34.810918    196\n",
       "3          34.692020    203\n",
       "4          36.093296    179\n",
       "5          35.374490    196"
      ]
     },
     "execution_count": 125,
     "metadata": {},
     "output_type": "execute_result"
    }
   ],
   "source": [
    "Group_aval2.head(10)"
   ]
  },
  {
   "cell_type": "code",
   "execution_count": 136,
   "metadata": {},
   "outputs": [
    {
     "data": {
      "image/png": "[encoded data removed]",
      "text/plain": [
       "<Figure size 720x576 with 2 Axes>"
      ]
     },
     "metadata": {
      "needs_background": "light"
     },
     "output_type": "display_data"
    }
   ],
   "source": [
    "fig,axis = plt.subplots(1,2,figsize = (10,8))\n",
    "\n",
    "Group_aval2['Preco'].plot(kind = 'bar',ax = axis[0]);\n",
    "Group_aval2['Count'].plot(kind = 'bar',ax = axis[1]);\n",
    "\n",
    "axis[0].set_title('Preço')\n",
    "axis[1].set_title('Quantidade')\n",
    "\n",
    "plt.tight_layout(pad = 3)"
   ]
  },
  {
   "cell_type": "markdown",
   "metadata": {},
   "source": [
    "# Conclusão\n",
    "\n",
    "Esse projeto teve o intuito de mostrar ferramentas para fazer um web scrapy de paginas de internet para conseguir dados, dessa forma foi utilizado BeautifulSoup para pegar os dados e Selenium para passagem de pagina. Ao mesmo tempo que iamos colentando os dados, foi criado uma tabela dentro de um banco de dados para fazer a transferencia dos dados e por fim tambem exportamos para um csv.\n",
    "\n",
    "No final foi feito uma breve analise dos dados, porém nada muito profundo, só para ver o estado final dos dados."
   ]
  }
 ],
 "metadata": {
  "kernelspec": {
   "display_name": "Python 3",
   "language": "python",
   "name": "python3"
  },
  "language_info": {
   "codemirror_mode": {
    "name": "ipython",
    "version": 3
   },
   "file_extension": ".py",
   "mimetype": "text/x-python",
   "name": "python",
   "nbconvert_exporter": "python",
   "pygments_lexer": "ipython3",
   "version": "3.6.5"
  }
 },
 "nbformat": 4,
 "nbformat_minor": 4
}
