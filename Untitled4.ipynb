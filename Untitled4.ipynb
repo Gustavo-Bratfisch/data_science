{
 "cells": [
  {
   "cell_type": "markdown",
   "metadata": {},
   "source": [
    "# Detecção de Fraude em transações\n",
    "\n",
    "Nesse projeto iremos criar um modelo de certa classificar se uma compra é fraude ou não é. O Brasil é o segundo país da America Latina de ocorrencia de fraude, segundo um levantamento feito pela Visa, criando um problema para bancos e agencias de cartões de creditos. \n",
    "\n",
    "Das fraudes, a dó cartão de credito necessita solução curto prazo para tentar evitar perdas maiores, tanto para o consumidor quanto para a instituição. Podendo tambem ocorrer compras que se passam como normal porem é uma compra fraudada, o falso negativo.\n",
    "\n",
    "O aprendizado de maquina pode auxiliar nessa etapa de classificação, podendo evitar perdas de milhoes de reais ao ano, com uma simples modelageem.\n",
    "\n",
    "# Conjunto de Dados\n",
    "\n",
    "O conjunto de dados utilizado foi obito pelo site do kaggle (https://www.kaggle.com/mlg-ulb/creditcardfraud) contendo transações de dois dias, com 492 fraudes do total de 284,807 transações. As colunas dentro desse conjunto de dados são o tempo da transação em segundos, a quantidade de dinheiro utilizado na transação, 28 colunas devido a confidencialidade foram descaracterizados utilizando a transformação PCA (permitindo uma redução de dimensão mantendo o possivel de informação - https://www.dezyre.com/data-science-in-python-tutorial/principal-component-analysis-tutorial)."
   ]
  },
  {
   "cell_type": "code",
   "execution_count": 47,
   "metadata": {
    "colab": {
     "base_uri": "https://localhost:8080/",
     "height": 473
    },
    "colab_type": "code",
    "id": "Xr-RkNZwVdoi",
    "outputId": "1b1dd8d2-1124-4fdb-a044-ff5f0b374b5d"
   },
   "outputs": [],
   "source": [
    "#Importando as bibliotecas utilizadas no projeto\n",
    "import numpy as np\n",
    "import pandas as pd\n",
    "from sklearn.linear_model import LogisticRegression\n",
    "from sklearn.model_selection import train_test_split\n",
    "from sklearn.metrics import accuracy_score, confusion_matrix, classification_report\n",
    "from sklearn.preprocessing import StandardScaler\n",
    "from sklearn.model_selection import GridSearchCV\n",
    "\n",
    "import seaborn as sns"
   ]
  },
  {
   "cell_type": "markdown",
   "metadata": {},
   "source": [
    "# Análise Exploratoria\n",
    "\n",
    "Olhando para as primeiras linhas conseguimos ver:\n",
    "A transformação PCA sobre as colunas V1:V28. As colunas Time e Amount estão intactas e as classes são 0 para transação normal e 1 para transação fraudulenta.\n"
   ]
  },
  {
   "cell_type": "code",
   "execution_count": 48,
   "metadata": {},
   "outputs": [
    {
     "data": {
      "text/html": [
       "<div>\n",
       "<style scoped>\n",
       "    .dataframe tbody tr th:only-of-type {\n",
       "        vertical-align: middle;\n",
       "    }\n",
       "\n",
       "    .dataframe tbody tr th {\n",
       "        vertical-align: top;\n",
       "    }\n",
       "\n",
       "    .dataframe thead th {\n",
       "        text-align: right;\n",
       "    }\n",
       "</style>\n",
       "<table border=\"1\" class=\"dataframe\">\n",
       "  <thead>\n",
       "    <tr style=\"text-align: right;\">\n",
       "      <th></th>\n",
       "      <th>Time</th>\n",
       "      <th>V1</th>\n",
       "      <th>V2</th>\n",
       "      <th>V3</th>\n",
       "      <th>V4</th>\n",
       "      <th>V5</th>\n",
       "      <th>V6</th>\n",
       "      <th>V7</th>\n",
       "      <th>V8</th>\n",
       "      <th>V9</th>\n",
       "      <th>...</th>\n",
       "      <th>V21</th>\n",
       "      <th>V22</th>\n",
       "      <th>V23</th>\n",
       "      <th>V24</th>\n",
       "      <th>V25</th>\n",
       "      <th>V26</th>\n",
       "      <th>V27</th>\n",
       "      <th>V28</th>\n",
       "      <th>Amount</th>\n",
       "      <th>Class</th>\n",
       "    </tr>\n",
       "  </thead>\n",
       "  <tbody>\n",
       "    <tr>\n",
       "      <th>0</th>\n",
       "      <td>0.0</td>\n",
       "      <td>-1.359807</td>\n",
       "      <td>-0.072781</td>\n",
       "      <td>2.536347</td>\n",
       "      <td>1.378155</td>\n",
       "      <td>-0.338321</td>\n",
       "      <td>0.462388</td>\n",
       "      <td>0.239599</td>\n",
       "      <td>0.098698</td>\n",
       "      <td>0.363787</td>\n",
       "      <td>...</td>\n",
       "      <td>-0.018307</td>\n",
       "      <td>0.277838</td>\n",
       "      <td>-0.110474</td>\n",
       "      <td>0.066928</td>\n",
       "      <td>0.128539</td>\n",
       "      <td>-0.189115</td>\n",
       "      <td>0.133558</td>\n",
       "      <td>-0.021053</td>\n",
       "      <td>149.62</td>\n",
       "      <td>0</td>\n",
       "    </tr>\n",
       "    <tr>\n",
       "      <th>1</th>\n",
       "      <td>0.0</td>\n",
       "      <td>1.191857</td>\n",
       "      <td>0.266151</td>\n",
       "      <td>0.166480</td>\n",
       "      <td>0.448154</td>\n",
       "      <td>0.060018</td>\n",
       "      <td>-0.082361</td>\n",
       "      <td>-0.078803</td>\n",
       "      <td>0.085102</td>\n",
       "      <td>-0.255425</td>\n",
       "      <td>...</td>\n",
       "      <td>-0.225775</td>\n",
       "      <td>-0.638672</td>\n",
       "      <td>0.101288</td>\n",
       "      <td>-0.339846</td>\n",
       "      <td>0.167170</td>\n",
       "      <td>0.125895</td>\n",
       "      <td>-0.008983</td>\n",
       "      <td>0.014724</td>\n",
       "      <td>2.69</td>\n",
       "      <td>0</td>\n",
       "    </tr>\n",
       "    <tr>\n",
       "      <th>2</th>\n",
       "      <td>1.0</td>\n",
       "      <td>-1.358354</td>\n",
       "      <td>-1.340163</td>\n",
       "      <td>1.773209</td>\n",
       "      <td>0.379780</td>\n",
       "      <td>-0.503198</td>\n",
       "      <td>1.800499</td>\n",
       "      <td>0.791461</td>\n",
       "      <td>0.247676</td>\n",
       "      <td>-1.514654</td>\n",
       "      <td>...</td>\n",
       "      <td>0.247998</td>\n",
       "      <td>0.771679</td>\n",
       "      <td>0.909412</td>\n",
       "      <td>-0.689281</td>\n",
       "      <td>-0.327642</td>\n",
       "      <td>-0.139097</td>\n",
       "      <td>-0.055353</td>\n",
       "      <td>-0.059752</td>\n",
       "      <td>378.66</td>\n",
       "      <td>0</td>\n",
       "    </tr>\n",
       "    <tr>\n",
       "      <th>3</th>\n",
       "      <td>1.0</td>\n",
       "      <td>-0.966272</td>\n",
       "      <td>-0.185226</td>\n",
       "      <td>1.792993</td>\n",
       "      <td>-0.863291</td>\n",
       "      <td>-0.010309</td>\n",
       "      <td>1.247203</td>\n",
       "      <td>0.237609</td>\n",
       "      <td>0.377436</td>\n",
       "      <td>-1.387024</td>\n",
       "      <td>...</td>\n",
       "      <td>-0.108300</td>\n",
       "      <td>0.005274</td>\n",
       "      <td>-0.190321</td>\n",
       "      <td>-1.175575</td>\n",
       "      <td>0.647376</td>\n",
       "      <td>-0.221929</td>\n",
       "      <td>0.062723</td>\n",
       "      <td>0.061458</td>\n",
       "      <td>123.50</td>\n",
       "      <td>0</td>\n",
       "    </tr>\n",
       "    <tr>\n",
       "      <th>4</th>\n",
       "      <td>2.0</td>\n",
       "      <td>-1.158233</td>\n",
       "      <td>0.877737</td>\n",
       "      <td>1.548718</td>\n",
       "      <td>0.403034</td>\n",
       "      <td>-0.407193</td>\n",
       "      <td>0.095921</td>\n",
       "      <td>0.592941</td>\n",
       "      <td>-0.270533</td>\n",
       "      <td>0.817739</td>\n",
       "      <td>...</td>\n",
       "      <td>-0.009431</td>\n",
       "      <td>0.798278</td>\n",
       "      <td>-0.137458</td>\n",
       "      <td>0.141267</td>\n",
       "      <td>-0.206010</td>\n",
       "      <td>0.502292</td>\n",
       "      <td>0.219422</td>\n",
       "      <td>0.215153</td>\n",
       "      <td>69.99</td>\n",
       "      <td>0</td>\n",
       "    </tr>\n",
       "  </tbody>\n",
       "</table>\n",
       "<p>5 rows × 31 columns</p>\n",
       "</div>"
      ],
      "text/plain": [
       "   Time        V1        V2        V3        V4        V5        V6        V7  \\\n",
       "0   0.0 -1.359807 -0.072781  2.536347  1.378155 -0.338321  0.462388  0.239599   \n",
       "1   0.0  1.191857  0.266151  0.166480  0.448154  0.060018 -0.082361 -0.078803   \n",
       "2   1.0 -1.358354 -1.340163  1.773209  0.379780 -0.503198  1.800499  0.791461   \n",
       "3   1.0 -0.966272 -0.185226  1.792993 -0.863291 -0.010309  1.247203  0.237609   \n",
       "4   2.0 -1.158233  0.877737  1.548718  0.403034 -0.407193  0.095921  0.592941   \n",
       "\n",
       "         V8        V9  ...       V21       V22       V23       V24       V25  \\\n",
       "0  0.098698  0.363787  ... -0.018307  0.277838 -0.110474  0.066928  0.128539   \n",
       "1  0.085102 -0.255425  ... -0.225775 -0.638672  0.101288 -0.339846  0.167170   \n",
       "2  0.247676 -1.514654  ...  0.247998  0.771679  0.909412 -0.689281 -0.327642   \n",
       "3  0.377436 -1.387024  ... -0.108300  0.005274 -0.190321 -1.175575  0.647376   \n",
       "4 -0.270533  0.817739  ... -0.009431  0.798278 -0.137458  0.141267 -0.206010   \n",
       "\n",
       "        V26       V27       V28  Amount  Class  \n",
       "0 -0.189115  0.133558 -0.021053  149.62      0  \n",
       "1  0.125895 -0.008983  0.014724    2.69      0  \n",
       "2 -0.139097 -0.055353 -0.059752  378.66      0  \n",
       "3 -0.221929  0.062723  0.061458  123.50      0  \n",
       "4  0.502292  0.219422  0.215153   69.99      0  \n",
       "\n",
       "[5 rows x 31 columns]"
      ]
     },
     "execution_count": 48,
     "metadata": {},
     "output_type": "execute_result"
    }
   ],
   "source": [
    "df = pd.read_csv(\"creditcard.csv\")\n",
    "df.head()"
   ]
  },
  {
   "cell_type": "markdown",
   "metadata": {},
   "source": [
    "Com o describe conseguimos ver que a coluna Time e Amount tem uma grande variação entre seu minimo e seu maximo, algoritmos de machine learning trabalham melhor com valores relativamente proximos, por isso vamos ter que fazer uma transformação nessas duas colunas."
   ]
  },
  {
   "cell_type": "code",
   "execution_count": 49,
   "metadata": {
    "colab": {},
    "colab_type": "code",
    "id": "sU5aQbvfVdom"
   },
   "outputs": [
    {
     "name": "stdout",
     "output_type": "stream",
     "text": [
      "                Time            V1            V2            V3            V4  \\\n",
      "count  284807.000000  2.848070e+05  2.848070e+05  2.848070e+05  2.848070e+05   \n",
      "mean    94813.859575  1.165980e-15  3.416908e-16 -1.373150e-15  2.086869e-15   \n",
      "std     47488.145955  1.958696e+00  1.651309e+00  1.516255e+00  1.415869e+00   \n",
      "min         0.000000 -5.640751e+01 -7.271573e+01 -4.832559e+01 -5.683171e+00   \n",
      "25%     54201.500000 -9.203734e-01 -5.985499e-01 -8.903648e-01 -8.486401e-01   \n",
      "50%     84692.000000  1.810880e-02  6.548556e-02  1.798463e-01 -1.984653e-02   \n",
      "75%    139320.500000  1.315642e+00  8.037239e-01  1.027196e+00  7.433413e-01   \n",
      "max    172792.000000  2.454930e+00  2.205773e+01  9.382558e+00  1.687534e+01   \n",
      "\n",
      "                 V5            V6            V7            V8            V9  \\\n",
      "count  2.848070e+05  2.848070e+05  2.848070e+05  2.848070e+05  2.848070e+05   \n",
      "mean   9.604066e-16  1.490107e-15 -5.556467e-16  1.177556e-16 -2.406455e-15   \n",
      "std    1.380247e+00  1.332271e+00  1.237094e+00  1.194353e+00  1.098632e+00   \n",
      "min   -1.137433e+02 -2.616051e+01 -4.355724e+01 -7.321672e+01 -1.343407e+01   \n",
      "25%   -6.915971e-01 -7.682956e-01 -5.540759e-01 -2.086297e-01 -6.430976e-01   \n",
      "50%   -5.433583e-02 -2.741871e-01  4.010308e-02  2.235804e-02 -5.142873e-02   \n",
      "75%    6.119264e-01  3.985649e-01  5.704361e-01  3.273459e-01  5.971390e-01   \n",
      "max    3.480167e+01  7.330163e+01  1.205895e+02  2.000721e+01  1.559499e+01   \n",
      "\n",
      "       ...           V21           V22           V23           V24  \\\n",
      "count  ...  2.848070e+05  2.848070e+05  2.848070e+05  2.848070e+05   \n",
      "mean   ...  1.656562e-16 -3.444850e-16  2.578648e-16  4.471968e-15   \n",
      "std    ...  7.345240e-01  7.257016e-01  6.244603e-01  6.056471e-01   \n",
      "min    ... -3.483038e+01 -1.093314e+01 -4.480774e+01 -2.836627e+00   \n",
      "25%    ... -2.283949e-01 -5.423504e-01 -1.618463e-01 -3.545861e-01   \n",
      "50%    ... -2.945017e-02  6.781943e-03 -1.119293e-02  4.097606e-02   \n",
      "75%    ...  1.863772e-01  5.285536e-01  1.476421e-01  4.395266e-01   \n",
      "max    ...  2.720284e+01  1.050309e+01  2.252841e+01  4.584549e+00   \n",
      "\n",
      "                V25           V26           V27           V28         Amount  \\\n",
      "count  2.848070e+05  2.848070e+05  2.848070e+05  2.848070e+05  284807.000000   \n",
      "mean   5.340915e-16  1.687098e-15 -3.666453e-16 -1.220404e-16      88.349619   \n",
      "std    5.212781e-01  4.822270e-01  4.036325e-01  3.300833e-01     250.120109   \n",
      "min   -1.029540e+01 -2.604551e+00 -2.256568e+01 -1.543008e+01       0.000000   \n",
      "25%   -3.171451e-01 -3.269839e-01 -7.083953e-02 -5.295979e-02       5.600000   \n",
      "50%    1.659350e-02 -5.213911e-02  1.342146e-03  1.124383e-02      22.000000   \n",
      "75%    3.507156e-01  2.409522e-01  9.104512e-02  7.827995e-02      77.165000   \n",
      "max    7.519589e+00  3.517346e+00  3.161220e+01  3.384781e+01   25691.160000   \n",
      "\n",
      "               Class  \n",
      "count  284807.000000  \n",
      "mean        0.001727  \n",
      "std         0.041527  \n",
      "min         0.000000  \n",
      "25%         0.000000  \n",
      "50%         0.000000  \n",
      "75%         0.000000  \n",
      "max         1.000000  \n",
      "\n",
      "[8 rows x 31 columns]\n",
      "Variação da coluna Amount 0.0  até 25691.16\n",
      "Variação da coluna Time 0.0  até 172792.0\n"
     ]
    }
   ],
   "source": [
    "print(df.describe())\n",
    "print('Variação da coluna Amount',min(df.Amount),' até',max(df.Amount))\n",
    "print('Variação da coluna Time',min(df.Time),' até',max(df.Time))"
   ]
  },
  {
   "cell_type": "markdown",
   "metadata": {},
   "source": [
    "Não temos nenhuma coluna com valores vazios."
   ]
  },
  {
   "cell_type": "code",
   "execution_count": 50,
   "metadata": {
    "colab": {},
    "colab_type": "code",
    "id": "GefjoqVPVdop"
   },
   "outputs": [
    {
     "name": "stdout",
     "output_type": "stream",
     "text": [
      "Time      0\n",
      "V1        0\n",
      "V2        0\n",
      "V3        0\n",
      "V4        0\n",
      "V5        0\n",
      "V6        0\n",
      "V7        0\n",
      "V8        0\n",
      "V9        0\n",
      "V10       0\n",
      "V11       0\n",
      "V12       0\n",
      "V13       0\n",
      "V14       0\n",
      "V15       0\n",
      "V16       0\n",
      "V17       0\n",
      "V18       0\n",
      "V19       0\n",
      "V20       0\n",
      "V21       0\n",
      "V22       0\n",
      "V23       0\n",
      "V24       0\n",
      "V25       0\n",
      "V26       0\n",
      "V27       0\n",
      "V28       0\n",
      "Amount    0\n",
      "Class     0\n",
      "dtype: int64\n"
     ]
    }
   ],
   "source": [
    "print(df.isnull().sum())"
   ]
  },
  {
   "cell_type": "markdown",
   "metadata": {},
   "source": [
    "Fazendo a transformação e retirando Time e Amount do nosso conjunto de dados."
   ]
  },
  {
   "cell_type": "code",
   "execution_count": 51,
   "metadata": {
    "colab": {},
    "colab_type": "code",
    "id": "3pxXPO0kRFug"
   },
   "outputs": [],
   "source": [
    "df['Norma_Amount'] = StandardScaler().fit_transform(df['Amount'].values.reshape(-1, 1))\n",
    "df['Norma_Time'] = StandardScaler().fit_transform(df['Time'].values.reshape(-1, 1))\n",
    "\n",
    "df.drop(['Amount','Time'],axis =1 ,inplace = True)"
   ]
  },
  {
   "cell_type": "markdown",
   "metadata": {},
   "source": [
    "Verificando a proporção de transações normais x transações fraudulentas.\n",
    "\n",
    "Conseguimos notar que as nossas classes estão extremamentes desbalanceadas, por isso não podemos simpplesmente trabalhar com eles dessa forma. Existem algumas formas para se contorna esse problema:\n",
    "1. A primeira é conseguir mais dados, porém nesse caso não é possivel\n",
    "2. É fazer o UnderSampling que é diminuir a nossa classe majoritaria para valores proximos ao da classe minoritaria\n",
    "3. É fazer o OverSampling que é aumentar a nossa classe minoritaria, um dos metodo é o SMOTE que cria valores artificiais baseados nos dados utilizados https://machinelearningmastery.com/smote-oversampling-for-imbalanced-classification/\n"
   ]
  },
  {
   "cell_type": "code",
   "execution_count": 52,
   "metadata": {
    "colab": {},
    "colab_type": "code",
    "id": "Cwjlco4NVdov"
   },
   "outputs": [
    {
     "name": "stdout",
     "output_type": "stream",
     "text": [
      "99.83 % dos dados não é fraude\n",
      "0.17 % dos dados é fraude\n"
     ]
    }
   ],
   "source": [
    "print(round(df[\"Class\"].value_counts()[0]/len(df)*100,2),'% dos dados não é fraude')\n",
    "print(round(df[\"Class\"].value_counts()[1]/len(df)*100,2),'% dos dados é fraude')"
   ]
  },
  {
   "cell_type": "code",
   "execution_count": 53,
   "metadata": {
    "colab": {},
    "colab_type": "code",
    "id": "k2MACz2EVdox"
   },
   "outputs": [
    {
     "data": {
      "image/png": "[encoded data removed]",
      "text/plain": [
       "<Figure size 432x288 with 1 Axes>"
      ]
     },
     "metadata": {
      "needs_background": "light"
     },
     "output_type": "display_data"
    }
   ],
   "source": [
    "sns.countplot('Class', data=df);"
   ]
  },
  {
   "cell_type": "markdown",
   "metadata": {},
   "source": [
    "Nesse projeto vamos comparar dois modelos, o UnderSumpling: vamos fazer manualmente porem existe uma biblioteca chamada RandomUnderSampler e uma metodo de OverSampling que é o SMOTE."
   ]
  },
  {
   "cell_type": "code",
   "execution_count": 54,
   "metadata": {
    "colab": {},
    "colab_type": "code",
    "id": "82ecHNG9L7Wq"
   },
   "outputs": [],
   "source": [
    "#Vamos transformar o nosso conjunto de dados em 50-50 na classe\n",
    "Tamanho_Fraude = len(df[df['Class'] == 1])\n",
    "\n",
    "Indices_F = df[df['Class'] == 1].index\n",
    "df2 = df.sample(frac=1)\n",
    "\n",
    "fraud_df = df2.loc[df2['Class'] == 1]\n",
    "non_fraud_df = df2.loc[df2['Class'] == 0][:Tamanho_Fraude]\n",
    "\n",
    "df2 = pd.concat([fraud_df, non_fraud_df])\n",
    "\n",
    "\n",
    "Novo_df = df2.sample(frac=1, random_state=42)"
   ]
  },
  {
   "cell_type": "code",
   "execution_count": 55,
   "metadata": {
    "colab": {},
    "colab_type": "code",
    "id": "hXlHHoxzOZmZ"
   },
   "outputs": [
    {
     "data": {
      "image/png": "[encoded data removed]",
      "text/plain": [
       "<Figure size 432x288 with 1 Axes>"
      ]
     },
     "metadata": {
      "needs_background": "light"
     },
     "output_type": "display_data"
    }
   ],
   "source": [
    "sns.countplot('Class', data=Novo_df);"
   ]
  },
  {
   "cell_type": "markdown",
   "metadata": {
    "colab_type": "text",
    "id": "XhRKRKC0eD0H"
   },
   "source": [
    "Vamos ver se existe alguma correlação entre as colunas e a nossa Classe em si.\n",
    "\n",
    "Se tivessemos feito com o conjunto de dados sem estar baleados, não conseguiriamos enxergar com clarezas quais são as colunas mais correlacionadas.\n",
    "\n",
    "Como estamos pegando indices aleatorios, seria necessario fazer algumas simulações e depois a media de todos os valores de correlações encontrados para ter os valores mais reais, porém rodando algumas vezes foi perceptivel que os valores são semelhantes."
   ]
  },
  {
   "cell_type": "code",
   "execution_count": 56,
   "metadata": {
    "colab": {},
    "colab_type": "code",
    "id": "bgFQm9S0TmnA"
   },
   "outputs": [
    {
     "data": {
      "image/png": "[encoded data removed]",
      "text/plain": [
       "<Figure size 1728x1152 with 4 Axes>"
      ]
     },
     "metadata": {
      "needs_background": "light"
     },
     "output_type": "display_data"
    }
   ],
   "source": [
    "import matplotlib.pyplot as plt\n",
    "%matplotlib inline\n",
    "\n",
    "f, (ax1, ax2) = plt.subplots(1,2, figsize=(24,16))\n",
    "\n",
    "sns.heatmap(df.corr(), cmap='coolwarm_r', ax = ax1);\n",
    "\n",
    "sns.heatmap(Novo_df.corr(), cmap='coolwarm_r', ax = ax2);"
   ]
  },
  {
   "cell_type": "markdown",
   "metadata": {
    "colab_type": "text",
    "id": "11R0secjhbH_"
   },
   "source": [
    "Temos que as colunas V2,V4 e V11 são positivamente corelacionado com a nossa classe, com isso tem uma maior influencia para descobrir se a transação é uma fraude ou não.\n",
    "\n",
    "Temos que as colunas V9,V12 e V15 são negativamente corelacionado com a nossa classe, com isso tem uma maior influencia para descobrir se a transação é uma fraude ou não.\n",
    "\n",
    "Para isso podemos plotar o boxplot de cada coluna e tentar descobrir se existem outliers"
   ]
  },
  {
   "cell_type": "code",
   "execution_count": 57,
   "metadata": {
    "colab": {},
    "colab_type": "code",
    "id": "5sleyzNeVdo-"
   },
   "outputs": [
    {
     "data": {
      "image/png": "[encoded data removed]",
      "text/plain": [
       "<Figure size 1440x288 with 3 Axes>"
      ]
     },
     "metadata": {
      "needs_background": "light"
     },
     "output_type": "display_data"
    },
    {
     "data": {
      "image/png": "[encoded data removed]",
      "text/plain": [
       "<Figure size 1440x288 with 3 Axes>"
      ]
     },
     "metadata": {
      "needs_background": "light"
     },
     "output_type": "display_data"
    }
   ],
   "source": [
    "import seaborn as sns\n",
    "\n",
    "f, axes = plt.subplots(ncols = 3, figsize=(20,4))\n",
    "\n",
    "sns.boxplot(x=\"Class\",y = \"V2\", data=Novo_df, ax = axes[0]);\n",
    "sns.boxplot(x=\"Class\",y = \"V4\", data=Novo_df, ax = axes[1]);\n",
    "sns.boxplot(x=\"Class\",y = \"V11\", data=Novo_df, ax = axes[2]);\n",
    "\n",
    "f, axes = plt.subplots(ncols = 3, figsize=(20,4))\n",
    "\n",
    "sns.boxplot(x=\"Class\",y = \"V9\", data=Novo_df, ax = axes[0]);\n",
    "sns.boxplot(x=\"Class\",y = \"V12\", data=Novo_df, ax = axes[1]);\n",
    "sns.boxplot(x=\"Class\",y = \"V15\", data=Novo_df, ax = axes[2]);\n"
   ]
  },
  {
   "cell_type": "code",
   "execution_count": 58,
   "metadata": {
    "colab": {},
    "colab_type": "code",
    "id": "sD9JFji3XITZ"
   },
   "outputs": [],
   "source": [
    "def Taking_out_Out(Name_colum,datas, value_cla):\n",
    "    \n",
    "  V_fraud = datas[Name_colum].loc[datas['Class'] == value_cla].values\n",
    "\n",
    "  Q1 = np.quantile(V_fraud,0.25)\n",
    "  Q3 = np.quantile(V_fraud,0.75)\n",
    "  IQR = Q3 - Q1\n",
    "\n",
    "  Out_lower = Q1 - IQR*1.5\n",
    "  Out_upper = Q3 + IQR*1.5\n",
    "\n",
    "  tes = datas.drop(datas[(datas[Name_colum] < Out_lower) | (datas[Name_colum] > Out_upper)].index)\n",
    "  return tes"
   ]
  },
  {
   "cell_type": "code",
   "execution_count": 59,
   "metadata": {
    "colab": {},
    "colab_type": "code",
    "id": "Z9ay6055mR_J"
   },
   "outputs": [],
   "source": [
    "Novo_df = Taking_out_Out('V2',Novo_df,1)\n",
    "Novo_df = Taking_out_Out('V4',Novo_df,1)\n",
    "Novo_df = Taking_out_Out('V11',Novo_df,1)\n",
    "Novo_df = Taking_out_Out('V9',Novo_df,1)\n",
    "Novo_df = Taking_out_Out('V12',Novo_df,1)\n",
    "Novo_df = Taking_out_Out('V15',Novo_df,1)"
   ]
  },
  {
   "cell_type": "code",
   "execution_count": 60,
   "metadata": {
    "colab": {},
    "colab_type": "code",
    "id": "FEKJEO6yjmWy"
   },
   "outputs": [
    {
     "data": {
      "image/png": "[encoded data removed]",
      "text/plain": [
       "<Figure size 1440x288 with 3 Axes>"
      ]
     },
     "metadata": {
      "needs_background": "light"
     },
     "output_type": "display_data"
    },
    {
     "data": {
      "image/png": "[encoded data removed]",
      "text/plain": [
       "<Figure size 1440x288 with 3 Axes>"
      ]
     },
     "metadata": {
      "needs_background": "light"
     },
     "output_type": "display_data"
    }
   ],
   "source": [
    "f, axes = plt.subplots(ncols = 3, figsize=(20,4))\n",
    "\n",
    "sns.boxplot(x=\"Class\",y = \"V2\", data=Novo_df, ax = axes[0]);\n",
    "sns.boxplot(x=\"Class\",y = \"V4\", data=Novo_df, ax = axes[1]);\n",
    "sns.boxplot(x=\"Class\",y = \"V11\", data=Novo_df, ax = axes[2]);\n",
    "f, axes = plt.subplots(ncols = 3, figsize=(20,4))\n",
    "\n",
    "sns.boxplot(x=\"Class\",y = \"V9\", data=Novo_df, ax = axes[0]);\n",
    "sns.boxplot(x=\"Class\",y = \"V12\", data=Novo_df, ax = axes[1]);\n",
    "sns.boxplot(x=\"Class\",y = \"V15\", data=Novo_df, ax = axes[2]);"
   ]
  },
  {
   "cell_type": "code",
   "execution_count": 61,
   "metadata": {},
   "outputs": [],
   "source": [
    "df = Taking_out_Out('V2',df,1)\n",
    "df = Taking_out_Out('V4',df,1)\n",
    "df = Taking_out_Out('V11',df,1)\n",
    "df = Taking_out_Out('V9',df,1)\n",
    "df = Taking_out_Out('V12',df,1)\n",
    "df = Taking_out_Out('V15',df,1)\n",
    "\n",
    "#f, axes = plt.subplots(ncols = 3, figsize=(20,4))\n",
    "\n",
    "#sns.boxplot(x=\"Class\",y = \"V2\", data=Novo_df, ax = axes[0]);\n",
    "#sns.boxplot(x=\"Class\",y = \"V4\", data=Novo_df, ax = axes[1]);\n",
    "#sns.boxplot(x=\"Class\",y = \"V11\", data=Novo_df, ax = axes[2]);\n",
    "#f, axes = plt.subplots(ncols = 3, figsize=(20,4))\n",
    "\n",
    "#sns.boxplot(x=\"Class\",y = \"V9\", data=Novo_df, ax = axes[0]);\n",
    "#sns.boxplot(x=\"Class\",y = \"V12\", data=Novo_df, ax = axes[1]);\n",
    "#sns.boxplot(x=\"Class\",y = \"V15\", data=Novo_df, ax = axes[2]);"
   ]
  },
  {
   "cell_type": "markdown",
   "metadata": {
    "colab_type": "text",
    "id": "c8SCYW-4pgrZ"
   },
   "source": [
    "Limpamos as colunas com maior correlação, agora vamos separar nossos dados em dados de treino e testes."
   ]
  },
  {
   "cell_type": "code",
   "execution_count": 62,
   "metadata": {
    "colab": {},
    "colab_type": "code",
    "id": "V-u5uuBvWyVc"
   },
   "outputs": [],
   "source": [
    "X = Novo_df.drop('Class',axis = 1)\n",
    "y = Novo_df['Class']\n",
    "\n",
    "X_train, X_test, y_train, y_test = train_test_split(X,y , test_size = 0.3, random_state = 0)"
   ]
  },
  {
   "cell_type": "markdown",
   "metadata": {
    "colab": {},
    "colab_type": "code",
    "id": "zu5Uvu1WqoB4"
   },
   "source": [
    "Fazer pegar o dataset\n",
    "Ver a quantidade de classes/plotar\n",
    "Transformar os valores muito grandes dentro de um intervalo pequeno \n",
    "Realizar o undersampling\n",
    "Pode fazer as comparaçoes entre correlação\n",
    "tirar dados que estão sobrando das colunas mais influentes\n",
    "Fazer o machine learning com diferentes metodos\n",
    "Support Vector Machines\n",
    "Logistic Regression\n",
    "Decision Tree\n",
    "Naive Bayes\n",
    "print os melhores metodos "
   ]
  },
  {
   "cell_type": "code",
   "execution_count": 63,
   "metadata": {
    "colab": {},
    "colab_type": "code",
    "id": "Bu35Zt_Ne4T7"
   },
   "outputs": [],
   "source": [
    "from sklearn.model_selection import cross_val_score\n",
    "from sklearn.neighbors import KNeighborsClassifier\n",
    "from sklearn.tree import DecisionTreeClassifier\n",
    "from sklearn.svm import SVC\n",
    "from sklearn.linear_model import LogisticRegression\n",
    "\n",
    "classifiers = {\n",
    "    \"LogisiticRegression\": LogisticRegression(),\n",
    "    \"KNearest\": KNeighborsClassifier(),\n",
    "    \"Support Vector Classifier\": SVC(),\n",
    "    \"DecisionTreeClassifier\": DecisionTreeClassifier()\n",
    "}\n",
    "\n",
    "Precision = []\n",
    "Accuracy = []\n",
    "Recall = []\n",
    "f1 = []\n",
    "for key, classifier in classifiers.items():\n",
    "    classifier.fit(X_train, y_train)\n",
    "    \n",
    "    training_score1 = cross_val_score(classifier, X_train, y_train, cv=5, scoring = 'accuracy')\n",
    "    Accuracy.append(training_score1.mean())\n",
    "    \n",
    "    training_score2 = cross_val_score(classifier, X_train, y_train, cv=5, scoring = 'recall')\n",
    "    Recall.append(training_score2.mean())\n",
    "    \n",
    "    training_score3 = cross_val_score(classifier, X_train, y_train, cv=5, scoring = 'precision')\n",
    "    Precision.append(training_score3.mean())\n",
    "    \n",
    "    training_score4 = cross_val_score(classifier, X_train, y_train, cv=5, scoring = 'f1')\n",
    "    f1.append(training_score4.mean())\n",
    "    \n",
    "    #print(\"Classifiers: \", classifier.__class__.__name__, \"Has a training score of\", round(training_score.mean(), 2) * 100, \"% accuracy score\")\n",
    "\n",
    "Data_Metrics = pd.DataFrame({'Accuracy':Accuracy,'Precision':Precision,'Recall':Recall,'f1':f1}, \n",
    "                            index = [\"Logistic\",'Knearest','SVC','Decision Tree'])"
   ]
  },
  {
   "cell_type": "code",
   "execution_count": 64,
   "metadata": {
    "colab": {},
    "colab_type": "code",
    "id": "AdtBnegEru0F"
   },
   "outputs": [
    {
     "data": {
      "text/html": [
       "<div>\n",
       "<style scoped>\n",
       "    .dataframe tbody tr th:only-of-type {\n",
       "        vertical-align: middle;\n",
       "    }\n",
       "\n",
       "    .dataframe tbody tr th {\n",
       "        vertical-align: top;\n",
       "    }\n",
       "\n",
       "    .dataframe thead th {\n",
       "        text-align: right;\n",
       "    }\n",
       "</style>\n",
       "<table border=\"1\" class=\"dataframe\">\n",
       "  <thead>\n",
       "    <tr style=\"text-align: right;\">\n",
       "      <th></th>\n",
       "      <th>Accuracy</th>\n",
       "      <th>Precision</th>\n",
       "      <th>Recall</th>\n",
       "      <th>f1</th>\n",
       "    </tr>\n",
       "  </thead>\n",
       "  <tbody>\n",
       "    <tr>\n",
       "      <th>Logistic</th>\n",
       "      <td>0.930001</td>\n",
       "      <td>0.947034</td>\n",
       "      <td>0.895714</td>\n",
       "      <td>0.920359</td>\n",
       "    </tr>\n",
       "    <tr>\n",
       "      <th>Knearest</th>\n",
       "      <td>0.921831</td>\n",
       "      <td>0.968541</td>\n",
       "      <td>0.856104</td>\n",
       "      <td>0.908093</td>\n",
       "    </tr>\n",
       "    <tr>\n",
       "      <th>SVC</th>\n",
       "      <td>0.925057</td>\n",
       "      <td>0.979497</td>\n",
       "      <td>0.852468</td>\n",
       "      <td>0.911330</td>\n",
       "    </tr>\n",
       "    <tr>\n",
       "      <th>Decision Tree</th>\n",
       "      <td>0.884380</td>\n",
       "      <td>0.844518</td>\n",
       "      <td>0.895584</td>\n",
       "      <td>0.865743</td>\n",
       "    </tr>\n",
       "  </tbody>\n",
       "</table>\n",
       "</div>"
      ],
      "text/plain": [
       "               Accuracy  Precision    Recall        f1\n",
       "Logistic       0.930001   0.947034  0.895714  0.920359\n",
       "Knearest       0.921831   0.968541  0.856104  0.908093\n",
       "SVC            0.925057   0.979497  0.852468  0.911330\n",
       "Decision Tree  0.884380   0.844518  0.895584  0.865743"
      ]
     },
     "execution_count": 64,
     "metadata": {},
     "output_type": "execute_result"
    }
   ],
   "source": [
    "Data_Metrics"
   ]
  },
  {
   "cell_type": "code",
   "execution_count": 65,
   "metadata": {
    "colab": {},
    "colab_type": "code",
    "id": "E0s-3zOkx74r"
   },
   "outputs": [
    {
     "data": {
      "text/plain": [
       "GridSearchCV(cv=None, error_score=nan,\n",
       "             estimator=DecisionTreeClassifier(ccp_alpha=0.0, class_weight=None,\n",
       "                                              criterion='gini', max_depth=None,\n",
       "                                              max_features=None,\n",
       "                                              max_leaf_nodes=None,\n",
       "                                              min_impurity_decrease=0.0,\n",
       "                                              min_impurity_split=None,\n",
       "                                              min_samples_leaf=1,\n",
       "                                              min_samples_split=2,\n",
       "                                              min_weight_fraction_leaf=0.0,\n",
       "                                              presort='deprecated',\n",
       "                                              random_state=None,\n",
       "                                              splitter='best'),\n",
       "             iid='deprecated', n_jobs=None,\n",
       "             param_grid={'criterion': ['gini', 'entropy'],\n",
       "                         'max_depth': [1, 2, 3, 4, 5, 6, 7, 8, 9, 10, 11, 12,\n",
       "                                       13, 14],\n",
       "                         'min_samples_leaf': [1, 2, 3, 4, 5, 6, 7, 8, 9, 10, 11,\n",
       "                                              12, 13, 14, 15, 16]},\n",
       "             pre_dispatch='2*n_jobs', refit=True, return_train_score=False,\n",
       "             scoring='recall', verbose=0)"
      ]
     },
     "execution_count": 65,
     "metadata": {},
     "output_type": "execute_result"
    }
   ],
   "source": [
    "\n",
    "log_reg_params = {\"penalty\": ['l1', 'l2'], 'C': [0.001, 0.01, 0.1, 1, 10, 100, 1000]}\n",
    "lr = LogisticRegression(solver='liblinear',max_iter=  1000)\n",
    "\n",
    "\n",
    "grid_Log = GridSearchCV( lr,log_reg_params,cv = 5,scoring = 'recall')\n",
    "grid_Log.fit(X_train, y_train)\n",
    "\n",
    "knears_params = {\"n_neighbors\": list(range(2,20,1)), 'algorithm': ['auto', 'ball_tree', 'kd_tree', 'brute']}\n",
    "Kr = KNeighborsClassifier()\n",
    "\n",
    "grid_Kr = GridSearchCV( Kr,knears_params,cv = 5,scoring = 'recall')\n",
    "grid_Kr.fit(X_train, y_train)\n",
    "\n",
    "svc_params = {'C': [0.001,0.01,0.1,1,10,100], 'gamma':[0.001,0.01,0.1,1,10,100],'kernel': ['rbf', 'poly', 'sigmoid', 'linear']}\n",
    "grid_svc = GridSearchCV(SVC(), svc_params,scoring = 'recall')\n",
    "grid_svc.fit(X_train, y_train)\n",
    "\n",
    "tree_params = {\"criterion\": [\"gini\", \"entropy\"], \"max_depth\": list(range(1,15,1)), \n",
    "            \"min_samples_leaf\": list(range(1,17,1))}\n",
    "grid_tree = GridSearchCV(DecisionTreeClassifier(), tree_params,scoring = 'recall')\n",
    "grid_tree.fit(X_train, y_train)"
   ]
  },
  {
   "cell_type": "code",
   "execution_count": 66,
   "metadata": {
    "colab": {},
    "colab_type": "code",
    "id": "QgdXSHi31h6S"
   },
   "outputs": [],
   "source": [
    "Estimators = {'Log':grid_Log.best_estimator_,'KNN':grid_Kr.best_estimator_,'SVC':grid_svc.best_estimator_,'DecisionT':grid_tree.best_estimator_}\n",
    "\n",
    "Precision_grid = []\n",
    "Accuracy_grid = []\n",
    "Recall_grid = []\n",
    "f1_grid = []\n",
    "\n",
    "for key, est in Estimators.items():\n",
    "    \n",
    "    training_score1 = cross_val_score(est, X_train, y_train, cv=5, scoring = 'accuracy')\n",
    "    Accuracy_grid.append(training_score1.mean())\n",
    "    \n",
    "    training_score2 = cross_val_score(est, X_train, y_train, cv=5, scoring = 'recall')\n",
    "    Recall_grid.append(training_score2.mean())\n",
    "    \n",
    "    training_score3 = cross_val_score(est, X_train, y_train, cv=5, scoring = 'precision')\n",
    "    Precision_grid.append(training_score3.mean())\n",
    "    \n",
    "    training_score4 = cross_val_score(est, X_train, y_train, cv=5, scoring = 'f1')\n",
    "    f1_grid.append(training_score4.mean())\n",
    "\n",
    "#test1 = cross_val_score(grid_Log.best_estimator_, X_train, y_train, cv=5, scoring = 'accuracy')\n",
    "#test2 = cross_val_score(grid_Log.best_estimator_, X_train, y_train, cv=5, scoring = 'recall')\n",
    "#test3 = cross_val_score(grid_Log.best_estimator_, X_train, y_train, cv=5, scoring = 'precision')\n",
    "#test4 = cross_val_score(grid_Log.best_estimator_, X_train, y_train, cv=5, scoring = 'f1')\n",
    "Data_Metrics_grid = pd.DataFrame({'Accuracy':Accuracy_grid,'Precision':Precision_grid,'Recall':Recall_grid,'f1':f1_grid}, \n",
    "                            index = [\"Logistic\",'Knearest','SVC','Decision Tree'])"
   ]
  },
  {
   "cell_type": "code",
   "execution_count": 67,
   "metadata": {},
   "outputs": [
    {
     "data": {
      "text/html": [
       "<div>\n",
       "<style scoped>\n",
       "    .dataframe tbody tr th:only-of-type {\n",
       "        vertical-align: middle;\n",
       "    }\n",
       "\n",
       "    .dataframe tbody tr th {\n",
       "        vertical-align: top;\n",
       "    }\n",
       "\n",
       "    .dataframe thead th {\n",
       "        text-align: right;\n",
       "    }\n",
       "</style>\n",
       "<table border=\"1\" class=\"dataframe\">\n",
       "  <thead>\n",
       "    <tr style=\"text-align: right;\">\n",
       "      <th></th>\n",
       "      <th>Accuracy</th>\n",
       "      <th>Precision</th>\n",
       "      <th>Recall</th>\n",
       "      <th>f1</th>\n",
       "    </tr>\n",
       "  </thead>\n",
       "  <tbody>\n",
       "    <tr>\n",
       "      <th>Logistic</th>\n",
       "      <td>0.881101</td>\n",
       "      <td>0.814977</td>\n",
       "      <td>0.956883</td>\n",
       "      <td>0.879800</td>\n",
       "    </tr>\n",
       "    <tr>\n",
       "      <th>Knearest</th>\n",
       "      <td>0.920232</td>\n",
       "      <td>0.953598</td>\n",
       "      <td>0.867013</td>\n",
       "      <td>0.907642</td>\n",
       "    </tr>\n",
       "    <tr>\n",
       "      <th>SVC</th>\n",
       "      <td>0.890804</td>\n",
       "      <td>0.837762</td>\n",
       "      <td>0.942403</td>\n",
       "      <td>0.886800</td>\n",
       "    </tr>\n",
       "    <tr>\n",
       "      <th>Decision Tree</th>\n",
       "      <td>0.907157</td>\n",
       "      <td>0.888848</td>\n",
       "      <td>0.881364</td>\n",
       "      <td>0.885330</td>\n",
       "    </tr>\n",
       "  </tbody>\n",
       "</table>\n",
       "</div>"
      ],
      "text/plain": [
       "               Accuracy  Precision    Recall        f1\n",
       "Logistic       0.881101   0.814977  0.956883  0.879800\n",
       "Knearest       0.920232   0.953598  0.867013  0.907642\n",
       "SVC            0.890804   0.837762  0.942403  0.886800\n",
       "Decision Tree  0.907157   0.888848  0.881364  0.885330"
      ]
     },
     "execution_count": 67,
     "metadata": {},
     "output_type": "execute_result"
    }
   ],
   "source": [
    "Data_Metrics_grid"
   ]
  },
  {
   "cell_type": "code",
   "execution_count": 68,
   "metadata": {},
   "outputs": [
    {
     "name": "stdout",
     "output_type": "stream",
     "text": [
      "              precision    recall  f1-score   support\n",
      "\n",
      "           0       0.97      0.81      0.89       138\n",
      "           1       0.83      0.98      0.89       126\n",
      "\n",
      "    accuracy                           0.89       264\n",
      "   macro avg       0.90      0.89      0.89       264\n",
      "weighted avg       0.90      0.89      0.89       264\n",
      "               precision    recall  f1-score   support\n",
      "\n",
      "           0       0.99      0.78      0.87       138\n",
      "           1       0.81      0.99      0.89       126\n",
      "\n",
      "    accuracy                           0.88       264\n",
      "   macro avg       0.90      0.89      0.88       264\n",
      "weighted avg       0.90      0.88      0.88       264\n",
      "\n"
     ]
    },
    {
     "data": {
      "image/png": "[encoded data removed]",
      "text/plain": [
       "<Figure size 1152x576 with 4 Axes>"
      ]
     },
     "metadata": {
      "needs_background": "light"
     },
     "output_type": "display_data"
    },
    {
     "name": "stdout",
     "output_type": "stream",
     "text": [
      "AUC score for Logistic: 0.8938923395445135\n",
      "AUC score for SVC: 0.8873360938578331\n"
     ]
    }
   ],
   "source": [
    "from sklearn.metrics import roc_auc_score, roc_curve\n",
    "\n",
    "y_predicao_Logist = grid_Log.predict(X_test)\n",
    "cnf_matrix_Logist = confusion_matrix(y_test,y_predicao_Logist,normalize= 'true')\n",
    "#print (classification_report(y_test, y_predicao_Logist))\n",
    "\n",
    "\n",
    "\n",
    "y_predicao_SVC = grid_svc.predict(X_test)\n",
    "cnf_matrix_SVC = confusion_matrix(y_test,y_predicao_SVC,normalize= 'true')\n",
    "\n",
    "print (classification_report(y_test, y_predicao_Logist),classification_report(y_test, y_predicao_SVC))\n",
    "\n",
    "labels = [0,1]\n",
    "\n",
    "\n",
    "fig, (ax1, ax2) = plt.subplots(1,2, figsize = (16,8))\n",
    "#ax = fig.add_subplot(111)\n",
    "sns.heatmap(cnf_matrix_Logist, annot = True, ax = ax1)\n",
    "sns.heatmap(cnf_matrix_SVC, annot = True, ax = ax2)\n",
    "\n",
    "ax1.title.set_text('Matrix de Confusão de Regressão Logistica')\n",
    "ax1.set_xlabel('Predict label')\n",
    "ax1.set_ylabel('Real label')\n",
    "\n",
    "ax2.title.set_text('Matrix de Confusão de SVC')\n",
    "ax2.set_xlabel('Predict label')\n",
    "ax2.set_ylabel('Real label')\n",
    "#plt.title('Matrix de Confusão')\n",
    "plt.show()\n",
    "\n",
    "print(\"AUC score for Logistic:\",roc_auc_score(y_test, y_predicao_Logist))\n",
    "print(\"AUC score for SVC:\",roc_auc_score(y_test, y_predicao_SVC))"
   ]
  },
  {
   "cell_type": "code",
   "execution_count": 69,
   "metadata": {},
   "outputs": [
    {
     "name": "stdout",
     "output_type": "stream",
     "text": [
      "AUC score for Logistic: 0.9610075914423741\n",
      "AUC score for SVC: 0.9461697722567288\n"
     ]
    }
   ],
   "source": [
    "log_reg_params = {\"penalty\": ['l1', 'l2'], 'C': [0.001, 0.01, 0.1, 1, 10, 100, 1000]}\n",
    "lr = LogisticRegression(solver='liblinear',max_iter=  1000)\n",
    "\n",
    "\n",
    "grid_Log2 = GridSearchCV( lr,log_reg_params,cv = 5)\n",
    "grid_Log2.fit(X_train, y_train)\n",
    "\n",
    "\n",
    "svc_params = {'C': [0.001,0.01,0.1,1,10,100], 'gamma':[0.001,0.01,0.1,1,10,100],'kernel': ['rbf', 'poly', 'sigmoid', 'linear']}\n",
    "grid_svc2 = GridSearchCV(SVC(), svc_params,)\n",
    "grid_svc2.fit(X_train, y_train)\n",
    "\n",
    "y_predicao_Logist2 = grid_Log2.predict(X_test)\n",
    "y_predicao_SVC2 = grid_svc2.predict(X_test)\n",
    "\n",
    "\n",
    "print(\"AUC score for Logistic:\",roc_auc_score(y_test, y_predicao_Logist2))\n",
    "print(\"AUC score for SVC:\",roc_auc_score(y_test, y_predicao_SVC2))"
   ]
  },
  {
   "cell_type": "code",
   "execution_count": 75,
   "metadata": {},
   "outputs": [
    {
     "data": {
      "image/png": "[encoded data removed]",
      "text/plain": [
       "<Figure size 432x288 with 1 Axes>"
      ]
     },
     "metadata": {
      "needs_background": "light"
     },
     "output_type": "display_data"
    }
   ],
   "source": [
    "from imblearn.over_sampling import SMOTE\n",
    "\n",
    "smt = SMOTE(sampling_strategy=0.5)\n",
    "X_over, y_over = smt.fit_sample(df.drop('Class',axis = 1), df['Class'])\n",
    "\n",
    "ax = sns.countplot(y_over)"
   ]
  },
  {
   "cell_type": "code",
   "execution_count": 76,
   "metadata": {},
   "outputs": [],
   "source": [
    "X_train_over, X_test_over, y_train_over, y_test_over = train_test_split(X_over, y_over,  stratify=y_over)"
   ]
  },
  {
   "cell_type": "code",
   "execution_count": null,
   "metadata": {},
   "outputs": [],
   "source": [
    "log_reg_params = {\"penalty\": ['l1', 'l2'], 'C': [0.001, 0.01, 0.1, 1, 10, 100, 1000]}\n",
    "lr = LogisticRegression(solver='liblinear',max_iter=  200)\n",
    "\n",
    "\n",
    "grid_Log_over = GridSearchCV( lr,log_reg_params,cv = 5,scoring = 'recall',n_jobs = -1)\n",
    "grid_Log_over.fit(X_train_over, y_train_over)\n",
    "\n",
    "#knears_params = {\"n_neighbors\": list(range(2,20,1)), 'algorithm': ['auto', 'ball_tree', 'kd_tree', 'brute']}\n",
    "#Kr = KNeighborsClassifier()\n",
    "\n",
    "#grid_Kr_over = GridSearchCV( Kr,knears_params,cv = 5,scoring = 'recall')\n",
    "#grid_Kr_over.fit(X_train_over, y_train_over)\n",
    "\n",
    "svc_params = {'C': [0.001,0.01,0.1,1,10,100], 'gamma':[0.001,0.01,0.1,1,10,100],'kernel': ['rbf', 'poly', 'sigmoid', 'linear']}\n",
    "grid_svc_over = GridSearchCV(SVC(), svc_params,scoring = 'recall', n_jobs = -1)\n",
    "grid_svc_over.fit(X_train_over, y_train_over)\n",
    "\n",
    "#tree_params = {\"criterion\": [\"gini\", \"entropy\"], \"max_depth\": list(range(1,15,1)), \n",
    "#            \"min_samples_leaf\": list(range(1,17,1))}\n",
    "#grid_tree_over = GridSearchCV(DecisionTreeClassifier(), tree_params,scoring = 'recall')\n",
    "#grid_tree_over.fit(X_train_over, y_train_over)"
   ]
  },
  {
   "cell_type": "code",
   "execution_count": null,
   "metadata": {},
   "outputs": [],
   "source": [
    "Estimators_und = {'Log':grid_Log_over.best_estimator_,'KNN':grid_Kr_over.best_estimator_,'SVC':grid_svc_over.best_estimator_,'DecisionT':grid_tree_over.best_estimator_}\n",
    "\n",
    "Precision_grid_over = []\n",
    "Accuracy_grid_over = []\n",
    "Recall_grid_over = []\n",
    "f1_grid_over = []\n",
    "\n",
    "for key, est in Estimators_und.items():\n",
    "    \n",
    "    training_score1 = cross_val_score(est,X_train_over, y_train_over, cv=5, scoring = 'accuracy')\n",
    "    Accuracy_grid_over.append(training_score1.mean())\n",
    "    \n",
    "    training_score2 = cross_val_score(est, X_train_over, y_train_over, cv=5, scoring = 'recall')\n",
    "    Recall_grid_over.append(training_score2.mean())\n",
    "    \n",
    "    training_score3 = cross_val_score(est, X_train_over, y_train_over, cv=5, scoring = 'precision')\n",
    "    Precision_over.append(training_score3.mean())\n",
    "    \n",
    "    training_score4 = cross_val_score(est,X_train_over, y_train_over, cv=5, scoring = 'f1')\n",
    "    f1_grid_over.append(training_score4.mean())\n",
    "\n",
    "Data_Metrics_grid_over = pd.DataFrame({'Accuracy':Accuracy_grid_over,'Precision':Precision_grid_over,'Recall':Recall_grid_over,'f1':f1_grid_over}, \n",
    "                            index = [\"Logistic\",'Knearest','SVC','Decision Tree'])\n",
    "Data_Metrics_grid_over"
   ]
  },
  {
   "cell_type": "code",
   "execution_count": null,
   "metadata": {},
   "outputs": [],
   "source": [
    "y_predicao_Logist_over = grid_Log.predict(X_test_over)\n",
    "cnf_matrix_Logist_over = confusion_matrix(y_test_over,y_predicao_Logist_und,normalize= 'true')\n",
    "#print (classification_report(y_test, y_predicao_Logist))\n",
    "\n",
    "\n",
    "\n",
    "y_predicao_SVC_over = grid_svc.predict(y_test_over)\n",
    "cnf_matrix_SVC_over = confusion_matrix(y_test_over,y_predicao_SVC_over,normalize= 'true')\n",
    "\n",
    "print (classification_report(y_test_over, y_predicao_Logist_over),classification_report(y_test_over, y_predicao_SVC_over))\n",
    "\n",
    "labels = [0,1]\n",
    "\n",
    "\n",
    "fig, (ax1, ax2) = plt.subplots(1,2, figsize = (16,8))\n",
    "#ax = fig.add_subplot(111)\n",
    "sns.heatmap(cnf_matrix_Logist_over, annot = True, ax = ax1)\n",
    "sns.heatmap(cnf_matrix_SVC_over, annot = True, ax = ax2)\n",
    "\n",
    "ax1.title.set_text('Matrix de Confusão de Regressão Logistica Caso OverSampling')\n",
    "ax1.set_xlabel('Predict label')\n",
    "ax1.set_ylabel('Real label')\n",
    "\n",
    "ax2.title.set_text('Matrix de Confusão de SVC Caso OverSampling')\n",
    "ax2.set_xlabel('Predict label')\n",
    "ax2.set_ylabel('Real label')\n",
    "#plt.title('Matrix de Confusão')\n",
    "plt.show()\n",
    "\n",
    "print(\"AUC score for Logistic:\",roc_auc_score(y_test_over, y_predicao_Logist_over))\n",
    "print(\"AUC score for SVC:\",roc_auc_score(y_test_over, y_predicao_SVC_over))"
   ]
  },
  {
   "cell_type": "code",
   "execution_count": null,
   "metadata": {},
   "outputs": [],
   "source": [
    "log_reg_params = {\"penalty\": ['l1', 'l2'], 'C': [0.001, 0.01, 0.1, 1, 10, 100, 1000]}\n",
    "lr = LogisticRegression(solver='liblinear',max_iter=  1000)\n",
    "\n",
    "\n",
    "grid_Log2_over = GridSearchCV( lr,log_reg_params,cv = 5)\n",
    "grid_Log2_over.fit(X_train_over, y_train_over)\n",
    "\n",
    "\n",
    "svc_params = {'C': [0.001,0.01,0.1,1,10,100], 'gamma':[0.001,0.01,0.1,1,10,100],'kernel': ['rbf', 'poly', 'sigmoid', 'linear']}\n",
    "grid_svc2_over = GridSearchCV(SVC(), svc_params,)\n",
    "grid_svc2_over.fit(X_train_over, y_train_over)\n",
    "\n",
    "y_predicao_Logist2_over = grid_Log2.predict(y_test_over)\n",
    "y_predicao_SVC2_over = grid_svc2.predict(y_test_over)\n",
    "\n",
    "\n",
    "print(\"AUC score for Logistic:\",roc_auc_score(y_test_over, y_predicao_Logist2_over))\n",
    "print(\"AUC score for SVC:\",roc_auc_score(y_test_over, y_predicao_SVC2_over))"
   ]
  },
  {
   "cell_type": "code",
   "execution_count": null,
   "metadata": {},
   "outputs": [],
   "source": []
  }
 ],
 "metadata": {
  "colab": {
   "name": "Untitled4.ipynb",
   "provenance": []
  },
  "kernelspec": {
   "display_name": "Python 3",
   "language": "python",
   "name": "python3"
  },
  "language_info": {
   "codemirror_mode": {
    "name": "ipython",
    "version": 3
   },
   "file_extension": ".py",
   "mimetype": "text/x-python",
   "name": "python",
   "nbconvert_exporter": "python",
   "pygments_lexer": "ipython3",
   "version": "3.6.5"
  }
 },
 "nbformat": 4,
 "nbformat_minor": 1
}
