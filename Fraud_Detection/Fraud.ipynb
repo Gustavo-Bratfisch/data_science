{
 "cells": [
  {
   "cell_type": "markdown",
   "metadata": {
    "heading_collapsed": true
   },
   "source": [
    "# Business Context"
   ]
  },
  {
   "cell_type": "markdown",
   "metadata": {
    "hidden": true
   },
   "source": [
    "**Business Problem**\n",
    "\n",
    "In this project we seek to help the Blocker Fraud enterprise to detect the fraud transactions.\n",
    "\n",
    "A empresa vai receber:\n",
    "The company will receive:\n",
    "    25% of the value of each transaction truly detected as fraud.\n",
    "    5% of the value of each transaction detected as fraud, but the transaction is truly legitimate. \n",
    "\n",
    "However it returns 100% of the value to the customer, for each transaction detected as legitimate, however the transaction is truly a fraud.\n",
    "\n",
    "**Main Goal**\n",
    "Create a tool to help to minimize the number of fraud transaction\n",
    "\n",
    "**Secondary Goal**\n",
    "\n",
    "- What is the Recall and Precision (Accuracy) of the model?\n",
    "- What is the reliability of the model in classification as fraud or not?\n",
    "- What is the revenue of the company if we classify all the transaction in the data?\n",
    "- What is the Loss expected if the model fails?\n",
    "- What is the profit expected to Blocker fraud ?\n",
    "\n",
    "Business problem: https://sejaumdatascientist.com/crie-uma-solucao-para-fraudes-em-transacoes-financeiras-usando-machine-learning/\n",
    "\n",
    "Data: https://www.kaggle.com/ntnu-testimon/paysim1\n",
    "\n",
    "**Estrategia**\n",
    "-Create a tool to help to minize the number of fraud transaction\n",
    "\n",
    "Input:\n",
    "1. Business problema\n",
    "2. A dataset with 6 milions values\n",
    "\n",
    "Output:\n",
    "1. API with a request to predict\n",
    "\n",
    "Strategy:\n",
    "1. Data Collect - Download on Kaggle\n",
    "2. Data Cleaning (finding missing values and outliers, see if some anormaly on the range like negative transactions)\n",
    "3. Creation of new features.\n",
    "4. Create business hypotheses\n",
    "    4.1 - The frequency of the fraud happens more by TRANSFER\n",
    "    4.2 - The values of Debit are lower than 5000 dolars\n",
    "    4.3 - TRANSFER has higher values in comparison with the others\n",
    "    4.4 - Payments of all types are made more in the last 5 days\n",
    "    4.5 - Days for cash_out is weekly highe\n",
    "    4.6 - There is a specif hour that happens PAYMENT and TRANSFER\n",
    "    4.7 - At night has more Fraud transaction\n",
    "    4.8 - The distribution of fraud amount and non fraud amount is the same\n",
    "5. Variables Transformations\n",
    "6. Training Differents models\n",
    "    6.1 - Baseline with IsolateForest (model to find anomalies)\n",
    "    6.2 - Logistic Regression\n",
    "    6.3 - Random Forest\n",
    "    6.4 - ExtraTree\n",
    "    6.5 - KNN\n",
    "7. Model Performance and hypertunning of the best model\n",
    "8. Business perfomance\n",
    "9. Report to the Company's CEO with the results\n",
    "10. Build and Test API\n"
   ]
  },
  {
   "cell_type": "markdown",
   "metadata": {
    "hidden": true
   },
   "source": [
    "**Index**\n",
    "0. **Imports and Functions**\n",
    "1. **Data Description**\n",
    "2. **Feature Engineering**\n",
    "3. **Exploratory data analysis**\n",
    "4. **Data Filter**\n",
    "5. **Data Preparation**\n",
    "6. **Feature Selection**\n",
    "7. **Machine Learning Models**\n",
    "8. **Hypertunning parameter**\n",
    "9. **Business translation**\n",
    "10. **API**"
   ]
  },
  {
   "cell_type": "markdown",
   "metadata": {
    "hidden": true
   },
   "source": [
    "**Models**\n",
    "\n",
    "1. Isolation Forest\n",
    "2. Logistic Regression\n",
    "3. Random Forest\n",
    "4. Extratree\n",
    "5. K-NN\n",
    "\n",
    "**Results**\n",
    "\n",
    "The best result was from random forest but overfiting was happening, so the second model that gave the best result was Extratree.\n",
    "\n",
    "As we have that the data represent of the total of Fraud - 99.9% and Fraud - 0.001%, so a balance vector was passed to the functions.\n",
    "\n",
    "**Answering the CEO's questions**\n",
    "1. **What is the Recall and Precision (Accuracy) of the model?**\n",
    "\n",
    "Acuraccy:  0.959148\t\n",
    "Recall:    0.959148\t\n",
    "Precision: 0.998707\t\n",
    "F1-Score:  0.977941\n",
    "\n",
    "2. **What is the confiability of the model in classification as legitmi or fraud ?**\n",
    "\n",
    "My model is predicting 96% right non-fraud and 98% fraud.\n",
    "\n",
    "3. **What is the revenue of the company if we classify all the transaction in the data?**\n",
    "\n",
    "The revenue of the Blocker Fraud will be R$ 1.23 bilions\n",
    "\n",
    "4. **What is the Loss expected if the model fails?**\n",
    "\n",
    "The loss expected is the R$ 3.2 milions\t\n",
    "\n",
    "5. **What is the profit expected to Blocker fraud ?**\n",
    "\n",
    "The profit of the Blocker Fraud will be R$ 1.22 bilions"
   ]
  },
  {
   "cell_type": "markdown",
   "metadata": {
    "heading_collapsed": true
   },
   "source": [
    "# 0.0 Import Packages"
   ]
  },
  {
   "cell_type": "code",
   "execution_count": 1,
   "metadata": {
    "ExecuteTime": {
     "end_time": "2021-01-12T11:46:34.326129Z",
     "start_time": "2021-01-12T11:46:14.075899Z"
    },
    "hidden": true
   },
   "outputs": [],
   "source": [
    "import warnings\n",
    "warnings.filterwarnings\n",
    "\n",
    "import math\n",
    "import pandas as pd\n",
    "import numpy as np\n",
    "import matplotlib.pyplot as plt\n",
    "\n",
    "from sklearn.model_selection import train_test_split\n",
    "\n",
    "import seaborn as sns\n",
    "\n",
    "\n",
    "from sklearn.preprocessing import RobustScaler\n",
    "from sklearn.preprocessing import QuantileTransformer\n",
    "from sklearn.preprocessing import MinMaxScaler\n",
    "from sklearn.preprocessing import LabelEncoder\n",
    "\n",
    "from sklearn.ensemble import IsolationForest\n",
    "from sklearn.linear_model import LogisticRegression\n",
    "from sklearn.ensemble import RandomForestClassifier\n",
    "from sklearn.ensemble import ExtraTreesClassifier\n",
    "from sklearn.neighbors import KNeighborsClassifier\n",
    "\n",
    "from sklearn.metrics import confusion_matrix\n",
    "from sklearn.metrics import recall_score\n",
    "from sklearn.metrics import precision_score\n",
    "from sklearn.metrics import f1_score\n",
    "from sklearn.metrics import cohen_kappa_score\n",
    "from sklearn.metrics import accuracy_score\n",
    "\n",
    "from sklearn.model_selection import GridSearchCV\n",
    "\n",
    "import requests"
   ]
  },
  {
   "cell_type": "code",
   "execution_count": 2,
   "metadata": {
    "ExecuteTime": {
     "end_time": "2021-01-12T11:46:34.335679Z",
     "start_time": "2021-01-12T11:46:34.328697Z"
    },
    "hidden": true
   },
   "outputs": [],
   "source": [
    "def cross_val(X,y,model,iter):\n",
    "    accuracy_EX = []\n",
    "    recall_EX = []\n",
    "    precision_EX = []\n",
    "    f1_EX = []\n",
    "    kapp_EX = []\n",
    "    for i in range(0,iter):\n",
    "        X_tr,X_te,y_tr,y_te = train_test_split(X,y,test_size = 0.3)\n",
    "        model.fit(X_tr,y_tr)\n",
    "\n",
    "        y_pre = model.predict(X_te)\n",
    "\n",
    "        accuracy_EX.append(accuracy_score(y_te, y_pre))\n",
    "        recall_EX.append(recall_score(y_te, y_pre))\n",
    "        precision_EX.append(precision_score(y_te, y_pre))\n",
    "        f1_EX.append(f1_score(y_te, y_pre))\n",
    "        kapp_EX.append(cohen_kappa_score(y_te, y_pre))\n",
    "\n",
    "    return [np.mean(accuracy_EX),np.mean(recall_EX),np.mean(precision_EX),np.mean(f1_EX),np.mean(kapp_EX)]"
   ]
  },
  {
   "cell_type": "code",
   "execution_count": 3,
   "metadata": {
    "ExecuteTime": {
     "end_time": "2021-01-12T11:46:52.300740Z",
     "start_time": "2021-01-12T11:46:34.336748Z"
    },
    "hidden": true
   },
   "outputs": [],
   "source": [
    "Df_raw = pd.read_csv('Fraud_dataset.csv')\n",
    "\n",
    "Df_training, Df_validation = train_test_split(Df_raw,test_size=0.25)"
   ]
  },
  {
   "cell_type": "markdown",
   "metadata": {
    "heading_collapsed": true
   },
   "source": [
    "# 1.0 Data Description"
   ]
  },
  {
   "cell_type": "code",
   "execution_count": 4,
   "metadata": {
    "ExecuteTime": {
     "end_time": "2021-01-12T14:09:43.510380Z",
     "start_time": "2021-01-12T14:09:40.979116Z"
    },
    "hidden": true
   },
   "outputs": [
    {
     "data": {
      "text/html": [
       "<div>\n",
       "<style scoped>\n",
       "    .dataframe tbody tr th:only-of-type {\n",
       "        vertical-align: middle;\n",
       "    }\n",
       "\n",
       "    .dataframe tbody tr th {\n",
       "        vertical-align: top;\n",
       "    }\n",
       "\n",
       "    .dataframe thead th {\n",
       "        text-align: right;\n",
       "    }\n",
       "</style>\n",
       "<table border=\"1\" class=\"dataframe\">\n",
       "  <thead>\n",
       "    <tr style=\"text-align: right;\">\n",
       "      <th></th>\n",
       "      <th>step</th>\n",
       "      <th>type</th>\n",
       "      <th>amount</th>\n",
       "      <th>nameOrig</th>\n",
       "      <th>oldbalanceOrg</th>\n",
       "      <th>newbalanceOrig</th>\n",
       "      <th>nameDest</th>\n",
       "      <th>oldbalanceDest</th>\n",
       "      <th>newbalanceDest</th>\n",
       "      <th>isFraud</th>\n",
       "      <th>isFlaggedFraud</th>\n",
       "    </tr>\n",
       "  </thead>\n",
       "  <tbody>\n",
       "    <tr>\n",
       "      <th>3077679</th>\n",
       "      <td>235</td>\n",
       "      <td>CASH_OUT</td>\n",
       "      <td>49386.92</td>\n",
       "      <td>C1650712920</td>\n",
       "      <td>9011.00</td>\n",
       "      <td>0.00</td>\n",
       "      <td>C1886449531</td>\n",
       "      <td>0.00</td>\n",
       "      <td>49386.92</td>\n",
       "      <td>0</td>\n",
       "      <td>0</td>\n",
       "    </tr>\n",
       "    <tr>\n",
       "      <th>3365240</th>\n",
       "      <td>254</td>\n",
       "      <td>PAYMENT</td>\n",
       "      <td>6019.32</td>\n",
       "      <td>C1301907408</td>\n",
       "      <td>20081.00</td>\n",
       "      <td>14061.68</td>\n",
       "      <td>M291034797</td>\n",
       "      <td>0.00</td>\n",
       "      <td>0.00</td>\n",
       "      <td>0</td>\n",
       "      <td>0</td>\n",
       "    </tr>\n",
       "    <tr>\n",
       "      <th>3678876</th>\n",
       "      <td>276</td>\n",
       "      <td>CASH_IN</td>\n",
       "      <td>439446.64</td>\n",
       "      <td>C1120162228</td>\n",
       "      <td>1007.00</td>\n",
       "      <td>440453.64</td>\n",
       "      <td>C331932719</td>\n",
       "      <td>0.00</td>\n",
       "      <td>0.00</td>\n",
       "      <td>0</td>\n",
       "      <td>0</td>\n",
       "    </tr>\n",
       "    <tr>\n",
       "      <th>1491091</th>\n",
       "      <td>142</td>\n",
       "      <td>PAYMENT</td>\n",
       "      <td>17545.10</td>\n",
       "      <td>C1798827085</td>\n",
       "      <td>174.00</td>\n",
       "      <td>0.00</td>\n",
       "      <td>M637003891</td>\n",
       "      <td>0.00</td>\n",
       "      <td>0.00</td>\n",
       "      <td>0</td>\n",
       "      <td>0</td>\n",
       "    </tr>\n",
       "    <tr>\n",
       "      <th>3365596</th>\n",
       "      <td>254</td>\n",
       "      <td>CASH_IN</td>\n",
       "      <td>114758.07</td>\n",
       "      <td>C2092671731</td>\n",
       "      <td>10247935.02</td>\n",
       "      <td>10362693.08</td>\n",
       "      <td>C844833914</td>\n",
       "      <td>3671843.80</td>\n",
       "      <td>3557085.73</td>\n",
       "      <td>0</td>\n",
       "      <td>0</td>\n",
       "    </tr>\n",
       "    <tr>\n",
       "      <th>2051032</th>\n",
       "      <td>181</td>\n",
       "      <td>CASH_IN</td>\n",
       "      <td>284366.39</td>\n",
       "      <td>C1019849758</td>\n",
       "      <td>42741.00</td>\n",
       "      <td>327107.39</td>\n",
       "      <td>C1026967379</td>\n",
       "      <td>0.00</td>\n",
       "      <td>0.00</td>\n",
       "      <td>0</td>\n",
       "      <td>0</td>\n",
       "    </tr>\n",
       "    <tr>\n",
       "      <th>43394</th>\n",
       "      <td>9</td>\n",
       "      <td>CASH_IN</td>\n",
       "      <td>219794.43</td>\n",
       "      <td>C529953640</td>\n",
       "      <td>6780672.39</td>\n",
       "      <td>7000466.81</td>\n",
       "      <td>C1646561071</td>\n",
       "      <td>476488.32</td>\n",
       "      <td>256693.89</td>\n",
       "      <td>0</td>\n",
       "      <td>0</td>\n",
       "    </tr>\n",
       "    <tr>\n",
       "      <th>2470607</th>\n",
       "      <td>204</td>\n",
       "      <td>CASH_OUT</td>\n",
       "      <td>189304.28</td>\n",
       "      <td>C958174176</td>\n",
       "      <td>0.00</td>\n",
       "      <td>0.00</td>\n",
       "      <td>C1083098916</td>\n",
       "      <td>2167167.67</td>\n",
       "      <td>2356471.95</td>\n",
       "      <td>0</td>\n",
       "      <td>0</td>\n",
       "    </tr>\n",
       "    <tr>\n",
       "      <th>4531282</th>\n",
       "      <td>326</td>\n",
       "      <td>CASH_IN</td>\n",
       "      <td>148951.47</td>\n",
       "      <td>C264400767</td>\n",
       "      <td>11568.00</td>\n",
       "      <td>160519.47</td>\n",
       "      <td>C1962912693</td>\n",
       "      <td>16845.32</td>\n",
       "      <td>0.00</td>\n",
       "      <td>0</td>\n",
       "      <td>0</td>\n",
       "    </tr>\n",
       "    <tr>\n",
       "      <th>2101297</th>\n",
       "      <td>182</td>\n",
       "      <td>PAYMENT</td>\n",
       "      <td>2673.33</td>\n",
       "      <td>C255148366</td>\n",
       "      <td>0.00</td>\n",
       "      <td>0.00</td>\n",
       "      <td>M932177980</td>\n",
       "      <td>0.00</td>\n",
       "      <td>0.00</td>\n",
       "      <td>0</td>\n",
       "      <td>0</td>\n",
       "    </tr>\n",
       "    <tr>\n",
       "      <th>441252</th>\n",
       "      <td>19</td>\n",
       "      <td>CASH_OUT</td>\n",
       "      <td>81359.56</td>\n",
       "      <td>C1672688952</td>\n",
       "      <td>0.00</td>\n",
       "      <td>0.00</td>\n",
       "      <td>C1883259218</td>\n",
       "      <td>420362.48</td>\n",
       "      <td>501722.04</td>\n",
       "      <td>0</td>\n",
       "      <td>0</td>\n",
       "    </tr>\n",
       "    <tr>\n",
       "      <th>5700221</th>\n",
       "      <td>398</td>\n",
       "      <td>PAYMENT</td>\n",
       "      <td>7982.32</td>\n",
       "      <td>C2063086402</td>\n",
       "      <td>50390.00</td>\n",
       "      <td>42407.68</td>\n",
       "      <td>M2101712740</td>\n",
       "      <td>0.00</td>\n",
       "      <td>0.00</td>\n",
       "      <td>0</td>\n",
       "      <td>0</td>\n",
       "    </tr>\n",
       "    <tr>\n",
       "      <th>2452377</th>\n",
       "      <td>203</td>\n",
       "      <td>CASH_OUT</td>\n",
       "      <td>26785.43</td>\n",
       "      <td>C1405157673</td>\n",
       "      <td>0.00</td>\n",
       "      <td>0.00</td>\n",
       "      <td>C2024843282</td>\n",
       "      <td>354640.94</td>\n",
       "      <td>381426.37</td>\n",
       "      <td>0</td>\n",
       "      <td>0</td>\n",
       "    </tr>\n",
       "    <tr>\n",
       "      <th>913994</th>\n",
       "      <td>43</td>\n",
       "      <td>PAYMENT</td>\n",
       "      <td>16440.22</td>\n",
       "      <td>C337707428</td>\n",
       "      <td>49184.00</td>\n",
       "      <td>32743.78</td>\n",
       "      <td>M168535719</td>\n",
       "      <td>0.00</td>\n",
       "      <td>0.00</td>\n",
       "      <td>0</td>\n",
       "      <td>0</td>\n",
       "    </tr>\n",
       "    <tr>\n",
       "      <th>4343724</th>\n",
       "      <td>308</td>\n",
       "      <td>PAYMENT</td>\n",
       "      <td>13384.43</td>\n",
       "      <td>C2000849560</td>\n",
       "      <td>165424.00</td>\n",
       "      <td>152039.57</td>\n",
       "      <td>M223036172</td>\n",
       "      <td>0.00</td>\n",
       "      <td>0.00</td>\n",
       "      <td>0</td>\n",
       "      <td>0</td>\n",
       "    </tr>\n",
       "    <tr>\n",
       "      <th>3844383</th>\n",
       "      <td>282</td>\n",
       "      <td>CASH_OUT</td>\n",
       "      <td>270833.86</td>\n",
       "      <td>C2114380337</td>\n",
       "      <td>31448.00</td>\n",
       "      <td>0.00</td>\n",
       "      <td>C1292857978</td>\n",
       "      <td>1219396.02</td>\n",
       "      <td>1490229.88</td>\n",
       "      <td>0</td>\n",
       "      <td>0</td>\n",
       "    </tr>\n",
       "    <tr>\n",
       "      <th>1551726</th>\n",
       "      <td>154</td>\n",
       "      <td>CASH_OUT</td>\n",
       "      <td>142102.70</td>\n",
       "      <td>C1161953040</td>\n",
       "      <td>0.00</td>\n",
       "      <td>0.00</td>\n",
       "      <td>C798496666</td>\n",
       "      <td>142432.42</td>\n",
       "      <td>284535.12</td>\n",
       "      <td>0</td>\n",
       "      <td>0</td>\n",
       "    </tr>\n",
       "    <tr>\n",
       "      <th>6050510</th>\n",
       "      <td>493</td>\n",
       "      <td>PAYMENT</td>\n",
       "      <td>1700.02</td>\n",
       "      <td>C1941433149</td>\n",
       "      <td>53929.00</td>\n",
       "      <td>52228.98</td>\n",
       "      <td>M1729295823</td>\n",
       "      <td>0.00</td>\n",
       "      <td>0.00</td>\n",
       "      <td>0</td>\n",
       "      <td>0</td>\n",
       "    </tr>\n",
       "    <tr>\n",
       "      <th>4807598</th>\n",
       "      <td>346</td>\n",
       "      <td>CASH_IN</td>\n",
       "      <td>64915.65</td>\n",
       "      <td>C188917521</td>\n",
       "      <td>6172.00</td>\n",
       "      <td>71087.65</td>\n",
       "      <td>C485370625</td>\n",
       "      <td>255112.86</td>\n",
       "      <td>190197.21</td>\n",
       "      <td>0</td>\n",
       "      <td>0</td>\n",
       "    </tr>\n",
       "    <tr>\n",
       "      <th>2043203</th>\n",
       "      <td>181</td>\n",
       "      <td>CASH_IN</td>\n",
       "      <td>172406.27</td>\n",
       "      <td>C1225193422</td>\n",
       "      <td>10574014.55</td>\n",
       "      <td>10746420.82</td>\n",
       "      <td>C1599976883</td>\n",
       "      <td>1428166.31</td>\n",
       "      <td>1255760.04</td>\n",
       "      <td>0</td>\n",
       "      <td>0</td>\n",
       "    </tr>\n",
       "  </tbody>\n",
       "</table>\n",
       "</div>"
      ],
      "text/plain": [
       "         step      type     amount     nameOrig  oldbalanceOrg  \\\n",
       "3077679   235  CASH_OUT   49386.92  C1650712920        9011.00   \n",
       "3365240   254   PAYMENT    6019.32  C1301907408       20081.00   \n",
       "3678876   276   CASH_IN  439446.64  C1120162228        1007.00   \n",
       "1491091   142   PAYMENT   17545.10  C1798827085         174.00   \n",
       "3365596   254   CASH_IN  114758.07  C2092671731    10247935.02   \n",
       "2051032   181   CASH_IN  284366.39  C1019849758       42741.00   \n",
       "43394       9   CASH_IN  219794.43   C529953640     6780672.39   \n",
       "2470607   204  CASH_OUT  189304.28   C958174176           0.00   \n",
       "4531282   326   CASH_IN  148951.47   C264400767       11568.00   \n",
       "2101297   182   PAYMENT    2673.33   C255148366           0.00   \n",
       "441252     19  CASH_OUT   81359.56  C1672688952           0.00   \n",
       "5700221   398   PAYMENT    7982.32  C2063086402       50390.00   \n",
       "2452377   203  CASH_OUT   26785.43  C1405157673           0.00   \n",
       "913994     43   PAYMENT   16440.22   C337707428       49184.00   \n",
       "4343724   308   PAYMENT   13384.43  C2000849560      165424.00   \n",
       "3844383   282  CASH_OUT  270833.86  C2114380337       31448.00   \n",
       "1551726   154  CASH_OUT  142102.70  C1161953040           0.00   \n",
       "6050510   493   PAYMENT    1700.02  C1941433149       53929.00   \n",
       "4807598   346   CASH_IN   64915.65   C188917521        6172.00   \n",
       "2043203   181   CASH_IN  172406.27  C1225193422    10574014.55   \n",
       "\n",
       "         newbalanceOrig     nameDest  oldbalanceDest  newbalanceDest  isFraud  \\\n",
       "3077679            0.00  C1886449531            0.00        49386.92        0   \n",
       "3365240        14061.68   M291034797            0.00            0.00        0   \n",
       "3678876       440453.64   C331932719            0.00            0.00        0   \n",
       "1491091            0.00   M637003891            0.00            0.00        0   \n",
       "3365596     10362693.08   C844833914      3671843.80      3557085.73        0   \n",
       "2051032       327107.39  C1026967379            0.00            0.00        0   \n",
       "43394        7000466.81  C1646561071       476488.32       256693.89        0   \n",
       "2470607            0.00  C1083098916      2167167.67      2356471.95        0   \n",
       "4531282       160519.47  C1962912693        16845.32            0.00        0   \n",
       "2101297            0.00   M932177980            0.00            0.00        0   \n",
       "441252             0.00  C1883259218       420362.48       501722.04        0   \n",
       "5700221        42407.68  M2101712740            0.00            0.00        0   \n",
       "2452377            0.00  C2024843282       354640.94       381426.37        0   \n",
       "913994         32743.78   M168535719            0.00            0.00        0   \n",
       "4343724       152039.57   M223036172            0.00            0.00        0   \n",
       "3844383            0.00  C1292857978      1219396.02      1490229.88        0   \n",
       "1551726            0.00   C798496666       142432.42       284535.12        0   \n",
       "6050510        52228.98  M1729295823            0.00            0.00        0   \n",
       "4807598        71087.65   C485370625       255112.86       190197.21        0   \n",
       "2043203     10746420.82  C1599976883      1428166.31      1255760.04        0   \n",
       "\n",
       "         isFlaggedFraud  \n",
       "3077679               0  \n",
       "3365240               0  \n",
       "3678876               0  \n",
       "1491091               0  \n",
       "3365596               0  \n",
       "2051032               0  \n",
       "43394                 0  \n",
       "2470607               0  \n",
       "4531282               0  \n",
       "2101297               0  \n",
       "441252                0  \n",
       "5700221               0  \n",
       "2452377               0  \n",
       "913994                0  \n",
       "4343724               0  \n",
       "3844383               0  \n",
       "1551726               0  \n",
       "6050510               0  \n",
       "4807598               0  \n",
       "2043203               0  "
      ]
     },
     "execution_count": 4,
     "metadata": {},
     "output_type": "execute_result"
    }
   ],
   "source": [
    "Df1 = Df_training.copy()\n",
    "Df1.sample(20)"
   ]
  },
  {
   "cell_type": "markdown",
   "metadata": {
    "ExecuteTime": {
     "end_time": "2020-12-22T13:57:38.625024Z",
     "start_time": "2020-12-22T13:57:38.622034Z"
    },
    "hidden": true
   },
   "source": [
    "## 1.1 Columns Name"
   ]
  },
  {
   "cell_type": "code",
   "execution_count": 5,
   "metadata": {
    "ExecuteTime": {
     "end_time": "2021-01-12T14:09:43.519362Z",
     "start_time": "2021-01-12T14:09:43.513369Z"
    },
    "hidden": true
   },
   "outputs": [
    {
     "data": {
      "text/plain": [
       "Index(['step', 'type', 'amount', 'nameOrig', 'oldbalanceOrg', 'newbalanceOrig',\n",
       "       'nameDest', 'oldbalanceDest', 'newbalanceDest', 'isFraud',\n",
       "       'isFlaggedFraud'],\n",
       "      dtype='object')"
      ]
     },
     "execution_count": 5,
     "metadata": {},
     "output_type": "execute_result"
    }
   ],
   "source": [
    "Df1.columns"
   ]
  },
  {
   "cell_type": "code",
   "execution_count": 6,
   "metadata": {
    "ExecuteTime": {
     "end_time": "2021-01-12T14:09:44.841394Z",
     "start_time": "2021-01-12T14:09:43.523995Z"
    },
    "hidden": true
   },
   "outputs": [],
   "source": [
    "Df1 = Df1.rename(columns = {'step':'hour_step','isFraud':'fraud','isFlaggedFraud':'flag_fraud'})"
   ]
  },
  {
   "cell_type": "markdown",
   "metadata": {
    "hidden": true
   },
   "source": [
    "## 1.2 Dimension"
   ]
  },
  {
   "cell_type": "code",
   "execution_count": 7,
   "metadata": {
    "ExecuteTime": {
     "end_time": "2021-01-12T14:09:44.848409Z",
     "start_time": "2021-01-12T14:09:44.844382Z"
    },
    "hidden": true
   },
   "outputs": [
    {
     "name": "stdout",
     "output_type": "stream",
     "text": [
      "The number of rows is 4771965\n",
      "The number of cols is 11\n"
     ]
    }
   ],
   "source": [
    "print('The number of rows is {}'.format(Df1.shape[0]))\n",
    "print('The number of cols is {}'.format(Df1.shape[1]))"
   ]
  },
  {
   "cell_type": "markdown",
   "metadata": {
    "hidden": true
   },
   "source": [
    "## 1.3 Columns Type"
   ]
  },
  {
   "cell_type": "code",
   "execution_count": 8,
   "metadata": {
    "ExecuteTime": {
     "end_time": "2021-01-12T14:09:44.860346Z",
     "start_time": "2021-01-12T14:09:44.850365Z"
    },
    "hidden": true
   },
   "outputs": [
    {
     "data": {
      "text/plain": [
       "hour_step           int64\n",
       "type               object\n",
       "amount            float64\n",
       "nameOrig           object\n",
       "oldbalanceOrg     float64\n",
       "newbalanceOrig    float64\n",
       "nameDest           object\n",
       "oldbalanceDest    float64\n",
       "newbalanceDest    float64\n",
       "fraud               int64\n",
       "flag_fraud          int64\n",
       "dtype: object"
      ]
     },
     "execution_count": 8,
     "metadata": {},
     "output_type": "execute_result"
    }
   ],
   "source": [
    "Df1.dtypes"
   ]
  },
  {
   "cell_type": "markdown",
   "metadata": {
    "ExecuteTime": {
     "end_time": "2020-12-22T13:58:21.257339Z",
     "start_time": "2020-12-22T13:58:21.254332Z"
    },
    "hidden": true
   },
   "source": [
    "## 1.4 Missing values"
   ]
  },
  {
   "cell_type": "code",
   "execution_count": 9,
   "metadata": {
    "ExecuteTime": {
     "end_time": "2021-01-12T14:09:46.771513Z",
     "start_time": "2021-01-12T14:09:44.863329Z"
    },
    "hidden": true
   },
   "outputs": [
    {
     "data": {
      "text/plain": [
       "hour_step         0\n",
       "type              0\n",
       "amount            0\n",
       "nameOrig          0\n",
       "oldbalanceOrg     0\n",
       "newbalanceOrig    0\n",
       "nameDest          0\n",
       "oldbalanceDest    0\n",
       "newbalanceDest    0\n",
       "fraud             0\n",
       "flag_fraud        0\n",
       "dtype: int64"
      ]
     },
     "execution_count": 9,
     "metadata": {},
     "output_type": "execute_result"
    }
   ],
   "source": [
    "Df1.isna().sum()"
   ]
  },
  {
   "cell_type": "markdown",
   "metadata": {
    "ExecuteTime": {
     "end_time": "2020-12-22T13:59:03.664797Z",
     "start_time": "2020-12-22T13:59:03.659813Z"
    },
    "hidden": true
   },
   "source": [
    "## 1.5 Descriptive Statistical"
   ]
  },
  {
   "cell_type": "code",
   "execution_count": 10,
   "metadata": {
    "ExecuteTime": {
     "end_time": "2021-01-12T14:09:46.972855Z",
     "start_time": "2021-01-12T14:09:46.773528Z"
    },
    "hidden": true
   },
   "outputs": [],
   "source": [
    "numerical_columns = Df1.select_dtypes(include = ['int64','float64'])"
   ]
  },
  {
   "cell_type": "code",
   "execution_count": 11,
   "metadata": {
    "ExecuteTime": {
     "end_time": "2021-01-12T14:09:52.251107Z",
     "start_time": "2021-01-12T14:09:46.976846Z"
    },
    "hidden": true
   },
   "outputs": [],
   "source": [
    "mean = pd.DataFrame(numerical_columns.apply(np.mean)).T\n",
    "median = pd.DataFrame(numerical_columns.apply(np.median)).T\n",
    "std = pd.DataFrame(numerical_columns.apply(np.std)).T\n",
    "minimun = pd.DataFrame(numerical_columns.apply(np.min)).T\n",
    "maximun = pd.DataFrame(numerical_columns.apply(np.max)).T\n",
    "amp = pd.DataFrame(numerical_columns.apply(lambda x: x.max() - x.min())).T\n",
    "\n",
    "skew = pd.DataFrame(numerical_columns.apply(lambda x: x.skew())).T\n",
    "kurtois =pd.DataFrame(numerical_columns.apply(lambda x: x.kurtosis() )).T"
   ]
  },
  {
   "cell_type": "code",
   "execution_count": 12,
   "metadata": {
    "ExecuteTime": {
     "end_time": "2021-01-12T14:09:52.360711Z",
     "start_time": "2021-01-12T14:09:52.253100Z"
    },
    "hidden": true
   },
   "outputs": [
    {
     "data": {
      "text/html": [
       "<div>\n",
       "<style scoped>\n",
       "    .dataframe tbody tr th:only-of-type {\n",
       "        vertical-align: middle;\n",
       "    }\n",
       "\n",
       "    .dataframe tbody tr th {\n",
       "        vertical-align: top;\n",
       "    }\n",
       "\n",
       "    .dataframe thead th {\n",
       "        text-align: right;\n",
       "    }\n",
       "</style>\n",
       "<table border=\"1\" class=\"dataframe\">\n",
       "  <thead>\n",
       "    <tr style=\"text-align: right;\">\n",
       "      <th></th>\n",
       "      <th>Atribute</th>\n",
       "      <th>mean</th>\n",
       "      <th>median</th>\n",
       "      <th>std</th>\n",
       "      <th>min</th>\n",
       "      <th>max</th>\n",
       "      <th>amplitude</th>\n",
       "      <th>skew</th>\n",
       "      <th>kurtosis</th>\n",
       "    </tr>\n",
       "  </thead>\n",
       "  <tbody>\n",
       "    <tr>\n",
       "      <th>0</th>\n",
       "      <td>hour_step</td>\n",
       "      <td>2.434106e+02</td>\n",
       "      <td>239.00</td>\n",
       "      <td>1.423327e+02</td>\n",
       "      <td>1.0</td>\n",
       "      <td>7.430000e+02</td>\n",
       "      <td>7.420000e+02</td>\n",
       "      <td>0.375508</td>\n",
       "      <td>0.330416</td>\n",
       "    </tr>\n",
       "    <tr>\n",
       "      <th>1</th>\n",
       "      <td>amount</td>\n",
       "      <td>1.797248e+05</td>\n",
       "      <td>74926.15</td>\n",
       "      <td>6.001089e+05</td>\n",
       "      <td>0.0</td>\n",
       "      <td>9.244552e+07</td>\n",
       "      <td>9.244552e+07</td>\n",
       "      <td>30.904646</td>\n",
       "      <td>1803.512387</td>\n",
       "    </tr>\n",
       "    <tr>\n",
       "      <th>2</th>\n",
       "      <td>oldbalanceOrg</td>\n",
       "      <td>8.338690e+05</td>\n",
       "      <td>14196.00</td>\n",
       "      <td>2.887425e+06</td>\n",
       "      <td>0.0</td>\n",
       "      <td>5.958504e+07</td>\n",
       "      <td>5.958504e+07</td>\n",
       "      <td>5.247241</td>\n",
       "      <td>32.952420</td>\n",
       "    </tr>\n",
       "    <tr>\n",
       "      <th>3</th>\n",
       "      <td>newbalanceOrig</td>\n",
       "      <td>8.551240e+05</td>\n",
       "      <td>0.00</td>\n",
       "      <td>2.923229e+06</td>\n",
       "      <td>0.0</td>\n",
       "      <td>4.958504e+07</td>\n",
       "      <td>4.958504e+07</td>\n",
       "      <td>5.174557</td>\n",
       "      <td>32.043589</td>\n",
       "    </tr>\n",
       "    <tr>\n",
       "      <th>4</th>\n",
       "      <td>oldbalanceDest</td>\n",
       "      <td>1.099898e+06</td>\n",
       "      <td>132742.71</td>\n",
       "      <td>3.392671e+06</td>\n",
       "      <td>0.0</td>\n",
       "      <td>3.555534e+08</td>\n",
       "      <td>3.555534e+08</td>\n",
       "      <td>20.050704</td>\n",
       "      <td>960.236845</td>\n",
       "    </tr>\n",
       "    <tr>\n",
       "      <th>5</th>\n",
       "      <td>newbalanceDest</td>\n",
       "      <td>1.223998e+06</td>\n",
       "      <td>214827.84</td>\n",
       "      <td>3.661066e+06</td>\n",
       "      <td>0.0</td>\n",
       "      <td>3.560159e+08</td>\n",
       "      <td>3.560159e+08</td>\n",
       "      <td>19.285795</td>\n",
       "      <td>853.740198</td>\n",
       "    </tr>\n",
       "    <tr>\n",
       "      <th>6</th>\n",
       "      <td>fraud</td>\n",
       "      <td>1.280185e-03</td>\n",
       "      <td>0.00</td>\n",
       "      <td>3.575677e-02</td>\n",
       "      <td>0.0</td>\n",
       "      <td>1.000000e+00</td>\n",
       "      <td>1.000000e+00</td>\n",
       "      <td>27.895136</td>\n",
       "      <td>776.138944</td>\n",
       "    </tr>\n",
       "    <tr>\n",
       "      <th>7</th>\n",
       "      <td>flag_fraud</td>\n",
       "      <td>2.724245e-06</td>\n",
       "      <td>0.00</td>\n",
       "      <td>1.650526e-03</td>\n",
       "      <td>0.0</td>\n",
       "      <td>1.000000e+00</td>\n",
       "      <td>1.000000e+00</td>\n",
       "      <td>605.864227</td>\n",
       "      <td>367069.615384</td>\n",
       "    </tr>\n",
       "  </tbody>\n",
       "</table>\n",
       "</div>"
      ],
      "text/plain": [
       "         Atribute          mean     median           std  min           max  \\\n",
       "0       hour_step  2.434106e+02     239.00  1.423327e+02  1.0  7.430000e+02   \n",
       "1          amount  1.797248e+05   74926.15  6.001089e+05  0.0  9.244552e+07   \n",
       "2   oldbalanceOrg  8.338690e+05   14196.00  2.887425e+06  0.0  5.958504e+07   \n",
       "3  newbalanceOrig  8.551240e+05       0.00  2.923229e+06  0.0  4.958504e+07   \n",
       "4  oldbalanceDest  1.099898e+06  132742.71  3.392671e+06  0.0  3.555534e+08   \n",
       "5  newbalanceDest  1.223998e+06  214827.84  3.661066e+06  0.0  3.560159e+08   \n",
       "6           fraud  1.280185e-03       0.00  3.575677e-02  0.0  1.000000e+00   \n",
       "7      flag_fraud  2.724245e-06       0.00  1.650526e-03  0.0  1.000000e+00   \n",
       "\n",
       "      amplitude        skew       kurtosis  \n",
       "0  7.420000e+02    0.375508       0.330416  \n",
       "1  9.244552e+07   30.904646    1803.512387  \n",
       "2  5.958504e+07    5.247241      32.952420  \n",
       "3  4.958504e+07    5.174557      32.043589  \n",
       "4  3.555534e+08   20.050704     960.236845  \n",
       "5  3.560159e+08   19.285795     853.740198  \n",
       "6  1.000000e+00   27.895136     776.138944  \n",
       "7  1.000000e+00  605.864227  367069.615384  "
      ]
     },
     "execution_count": 12,
     "metadata": {},
     "output_type": "execute_result"
    }
   ],
   "source": [
    "Desc = pd.concat([mean,median,std,minimun,maximun,amp,skew,kurtois]).T.reset_index()\n",
    "\n",
    "Desc.columns = ['Atribute','mean','median','std','min','max','amplitude','skew','kurtosis']\n",
    "\n",
    "Desc"
   ]
  },
  {
   "cell_type": "markdown",
   "metadata": {
    "hidden": true
   },
   "source": [
    "**Overall**\n"
   ]
  },
  {
   "cell_type": "markdown",
   "metadata": {
    "hidden": true
   },
   "source": [
    "Nenhuma coluna possui valores negativos.\n",
    "\n",
    "Temos 5 colunas com um valor de Kurtosis muito alto, precisamos investigar para ver oque esta ocasionando isso, muita das vezes é por causa de outliers. Temos que os valores estão bme assimetricos na coluna flag_fraud e no restante temos uma assimetria moderada.\n",
    "\n",
    "Para as colunas flag_fraud e fraud temos muitos valores que representam não fraude, por isso que tendem a ter skew e kurtosis alta, pois os demais são levados em consideração como outliers (os casos fraudulentos).\n",
    "\n",
    "Temos uma alta variancia em relação aos valores depositados e os saldos tanto do remetende quanto do destinatario."
   ]
  },
  {
   "cell_type": "markdown",
   "metadata": {
    "hidden": true
   },
   "source": [
    "Skew é a medida de simentria, ou a falta de simetria\n",
    "Kurtose é a medide se os dados distribuidos tem um calda longa ou curta relacionado com a normal. Uma kurtoise alta (com calda longa) esta relacionada com outliers"
   ]
  },
  {
   "cell_type": "markdown",
   "metadata": {
    "hidden": true
   },
   "source": [
    "## 1.6 Data Analysis"
   ]
  },
  {
   "cell_type": "markdown",
   "metadata": {
    "ExecuteTime": {
     "end_time": "2020-12-22T22:35:19.696867Z",
     "start_time": "2020-12-22T22:35:16.751427Z"
    },
    "hidden": true
   },
   "source": [
    "Analisando visualmente os dados, vemos quando temos o amount (o valor da transação) é maior que o valor em conta, temos que não fica negativo e sim o valor zerado. Vamos criar uma coluna a diferença real entre OldBalanceOrg e amount.Fazendo uma comparação e apagando caso os valores forem distintos"
   ]
  },
  {
   "cell_type": "code",
   "execution_count": 13,
   "metadata": {
    "ExecuteTime": {
     "end_time": "2021-01-12T14:13:23.336903Z",
     "start_time": "2021-01-12T14:09:52.361667Z"
    },
    "hidden": true
   },
   "outputs": [],
   "source": [
    "Df1['newbalanceorig_right'] = Df1.apply(lambda x: x['newbalanceOrig'] if x['type'] == 'CASH_IN' else (x['newbalanceOrig'] if x['flag_fraud'] == 1 else x['oldbalanceOrg'] - x['amount']), axis=1)"
   ]
  },
  {
   "cell_type": "code",
   "execution_count": 14,
   "metadata": {
    "ExecuteTime": {
     "end_time": "2021-01-12T14:13:23.564662Z",
     "start_time": "2021-01-12T14:13:23.337900Z"
    },
    "hidden": true
   },
   "outputs": [
    {
     "name": "stdout",
     "output_type": "stream",
     "text": [
      "A quantidade de valores semelhante foram de 36.89% e distintos 63.11%\n"
     ]
    }
   ],
   "source": [
    "Comp = Df1['newbalanceorig_right'] == Df1['newbalanceOrig']\n",
    "uniq = np.unique(Comp, return_counts = True)\n",
    "one = round((uniq[1][1]/sum(uniq[1]))*100,2)\n",
    "two = round((uniq[1][0]/sum(uniq[1]))*100,2)\n",
    "print('A quantidade de valores semelhante foram de {}% e distintos {}%'.format(one,two))"
   ]
  },
  {
   "cell_type": "code",
   "execution_count": 15,
   "metadata": {
    "ExecuteTime": {
     "end_time": "2021-01-12T14:13:24.590997Z",
     "start_time": "2021-01-12T14:13:23.565623Z"
    },
    "hidden": true
   },
   "outputs": [],
   "source": [
    "Df1 = Df1.drop('newbalanceOrig', axis = 1)"
   ]
  },
  {
   "cell_type": "markdown",
   "metadata": {
    "heading_collapsed": true
   },
   "source": [
    "# 2.0 Feature Engineering"
   ]
  },
  {
   "cell_type": "code",
   "execution_count": 16,
   "metadata": {
    "ExecuteTime": {
     "end_time": "2021-01-12T14:13:25.043143Z",
     "start_time": "2021-01-12T14:13:24.668336Z"
    },
    "hidden": true
   },
   "outputs": [],
   "source": [
    "Df2 = Df1.copy()"
   ]
  },
  {
   "cell_type": "markdown",
   "metadata": {
    "hidden": true
   },
   "source": [
    "## 2.1 Hypotesis"
   ]
  },
  {
   "cell_type": "markdown",
   "metadata": {
    "hidden": true
   },
   "source": [
    "**1.** **Most of the fraud happened by bank transfer**\n",
    "\n",
    "**2.** Os valores de chash_out são inferiores a 5000 reais.\n",
    "\n",
    "**3.** Transferencias tem valores superiores aos demais\n",
    "\n",
    "**4.** Pagamentos são feitos mais nos ultimos 5 dias do mes\n",
    "\n",
    "**5.** Tem horario especificos para transferencias e pagamentos\n",
    "\n",
    "**6.** Pagamentos são só feitos para lojistas"
   ]
  },
  {
   "cell_type": "markdown",
   "metadata": {
    "hidden": true
   },
   "source": [
    "## 2.2 Feature Creation"
   ]
  },
  {
   "cell_type": "code",
   "execution_count": 17,
   "metadata": {
    "ExecuteTime": {
     "end_time": "2021-01-12T14:13:28.244062Z",
     "start_time": "2021-01-12T14:13:25.045137Z"
    },
    "hidden": true
   },
   "outputs": [],
   "source": [
    "Df2['day'] = Df2['hour_step'].apply(lambda x: math.ceil(x/24))"
   ]
  },
  {
   "cell_type": "code",
   "execution_count": 18,
   "metadata": {
    "ExecuteTime": {
     "end_time": "2021-01-12T14:13:30.742350Z",
     "start_time": "2021-01-12T14:13:28.246017Z"
    },
    "hidden": true
   },
   "outputs": [],
   "source": [
    "Df2['hour'] = Df2['hour_step'].apply(lambda x: x if x < 24 else x%24 )"
   ]
  },
  {
   "cell_type": "markdown",
   "metadata": {
    "heading_collapsed": true
   },
   "source": [
    "# 3.0 Exploratory data analysis"
   ]
  },
  {
   "cell_type": "code",
   "execution_count": 19,
   "metadata": {
    "ExecuteTime": {
     "end_time": "2021-01-12T14:13:31.484964Z",
     "start_time": "2021-01-12T14:13:30.743723Z"
    },
    "hidden": true
   },
   "outputs": [],
   "source": [
    "Df3 = Df2.copy()"
   ]
  },
  {
   "cell_type": "markdown",
   "metadata": {
    "heading_collapsed": true,
    "hidden": true
   },
   "source": [
    "## 3.1 univariate analysis"
   ]
  },
  {
   "cell_type": "code",
   "execution_count": 44,
   "metadata": {
    "ExecuteTime": {
     "end_time": "2021-01-12T14:20:55.802671Z",
     "start_time": "2021-01-12T14:20:55.120200Z"
    },
    "hidden": true
   },
   "outputs": [
    {
     "data": {
      "text/plain": [
       "<matplotlib.axes._subplots.AxesSubplot at 0x296a1e82220>"
      ]
     },
     "execution_count": 44,
     "metadata": {},
     "output_type": "execute_result"
    },
    {
     "data": {
      "image/png": "[encoded data removed]",
      "text/plain": [
       "<Figure size 432x288 with 1 Axes>"
      ]
     },
     "metadata": {
      "needs_background": "light"
     },
     "output_type": "display_data"
    }
   ],
   "source": [
    "sns.distplot( Df3['fraud'], kde=False  )"
   ]
  },
  {
   "cell_type": "markdown",
   "metadata": {
    "heading_collapsed": true,
    "hidden": true
   },
   "source": [
    "### 3.2 Numerical Variable"
   ]
  },
  {
   "cell_type": "code",
   "execution_count": 63,
   "metadata": {
    "ExecuteTime": {
     "end_time": "2021-01-12T18:34:58.088371Z",
     "start_time": "2021-01-12T18:34:56.152755Z"
    },
    "hidden": true
   },
   "outputs": [
    {
     "data": {
      "image/png": "[encoded data removed]",
      "text/plain": [
       "<Figure size 864x720 with 9 Axes>"
      ]
     },
     "metadata": {
      "needs_background": "light"
     },
     "output_type": "display_data"
    }
   ],
   "source": [
    "numerical_columns.hist(figsize = (12,10));"
   ]
  },
  {
   "cell_type": "markdown",
   "metadata": {
    "heading_collapsed": true,
    "hidden": true
   },
   "source": [
    "### 3.3 Categorical Variable"
   ]
  },
  {
   "cell_type": "code",
   "execution_count": 65,
   "metadata": {
    "ExecuteTime": {
     "end_time": "2021-01-12T18:35:28.959112Z",
     "start_time": "2021-01-12T18:35:27.975078Z"
    },
    "hidden": true
   },
   "outputs": [
    {
     "data": {
      "text/plain": [
       "<matplotlib.axes._subplots.AxesSubplot at 0x296a29c73a0>"
      ]
     },
     "execution_count": 65,
     "metadata": {},
     "output_type": "execute_result"
    },
    {
     "data": {
      "image/png": "[encoded data removed]",
      "text/plain": [
       "<Figure size 432x288 with 1 Axes>"
      ]
     },
     "metadata": {
      "needs_background": "light"
     },
     "output_type": "display_data"
    }
   ],
   "source": [
    "sns.countplot( Df3['type'] )"
   ]
  },
  {
   "cell_type": "markdown",
   "metadata": {
    "hidden": true
   },
   "source": [
    "## 3.2 Bivariate Analysis"
   ]
  },
  {
   "cell_type": "markdown",
   "metadata": {
    "heading_collapsed": true,
    "hidden": true
   },
   "source": [
    "### 3.1 - The frequency of the fraud happens more by TRANSFER\n",
    "\n",
    "**True** - The fraud transaction occours in Transfer and CASH_OUT"
   ]
  },
  {
   "cell_type": "code",
   "execution_count": 21,
   "metadata": {
    "ExecuteTime": {
     "end_time": "2021-01-11T13:23:47.392340Z",
     "start_time": "2021-01-11T13:23:46.554668Z"
    },
    "hidden": true
   },
   "outputs": [
    {
     "data": {
      "text/html": [
       "<div>\n",
       "<style scoped>\n",
       "    .dataframe tbody tr th:only-of-type {\n",
       "        vertical-align: middle;\n",
       "    }\n",
       "\n",
       "    .dataframe tbody tr th {\n",
       "        vertical-align: top;\n",
       "    }\n",
       "\n",
       "    .dataframe thead th {\n",
       "        text-align: right;\n",
       "    }\n",
       "</style>\n",
       "<table border=\"1\" class=\"dataframe\">\n",
       "  <thead>\n",
       "    <tr style=\"text-align: right;\">\n",
       "      <th></th>\n",
       "      <th></th>\n",
       "      <th>hour_step</th>\n",
       "    </tr>\n",
       "    <tr>\n",
       "      <th>type</th>\n",
       "      <th>fraud</th>\n",
       "      <th></th>\n",
       "    </tr>\n",
       "  </thead>\n",
       "  <tbody>\n",
       "    <tr>\n",
       "      <th>CASH_IN</th>\n",
       "      <th>0</th>\n",
       "      <td>1049041</td>\n",
       "    </tr>\n",
       "    <tr>\n",
       "      <th rowspan=\"2\" valign=\"top\">CASH_OUT</th>\n",
       "      <th>0</th>\n",
       "      <td>1675362</td>\n",
       "    </tr>\n",
       "    <tr>\n",
       "      <th>1</th>\n",
       "      <td>3074</td>\n",
       "    </tr>\n",
       "    <tr>\n",
       "      <th>DEBIT</th>\n",
       "      <th>0</th>\n",
       "      <td>31065</td>\n",
       "    </tr>\n",
       "    <tr>\n",
       "      <th>PAYMENT</th>\n",
       "      <th>0</th>\n",
       "      <td>1613703</td>\n",
       "    </tr>\n",
       "    <tr>\n",
       "      <th rowspan=\"2\" valign=\"top\">TRANSFER</th>\n",
       "      <th>0</th>\n",
       "      <td>396647</td>\n",
       "    </tr>\n",
       "    <tr>\n",
       "      <th>1</th>\n",
       "      <td>3073</td>\n",
       "    </tr>\n",
       "  </tbody>\n",
       "</table>\n",
       "</div>"
      ],
      "text/plain": [
       "                hour_step\n",
       "type     fraud           \n",
       "CASH_IN  0        1049041\n",
       "CASH_OUT 0        1675362\n",
       "         1           3074\n",
       "DEBIT    0          31065\n",
       "PAYMENT  0        1613703\n",
       "TRANSFER 0         396647\n",
       "         1           3073"
      ]
     },
     "execution_count": 21,
     "metadata": {},
     "output_type": "execute_result"
    }
   ],
   "source": [
    "Df3[['type','fraud','hour_step']].groupby(['type','fraud']).count()"
   ]
  },
  {
   "cell_type": "markdown",
   "metadata": {
    "heading_collapsed": true,
    "hidden": true
   },
   "source": [
    "### 3.2 The values of Debit are lower than 5000 dol.\n",
    "**False** - Most of the values are between 0 and 10.000"
   ]
  },
  {
   "cell_type": "code",
   "execution_count": 42,
   "metadata": {
    "ExecuteTime": {
     "end_time": "2021-01-11T13:23:47.761875Z",
     "start_time": "2021-01-11T13:23:47.395950Z"
    },
    "hidden": true
   },
   "outputs": [],
   "source": [
    "aux = Df3[Df3['type'] == 'DEBIT']"
   ]
  },
  {
   "cell_type": "code",
   "execution_count": 43,
   "metadata": {
    "ExecuteTime": {
     "end_time": "2021-01-11T13:23:48.648134Z",
     "start_time": "2021-01-11T13:23:47.763380Z"
    },
    "hidden": true
   },
   "outputs": [
    {
     "name": "stderr",
     "output_type": "stream",
     "text": [
      "E:\\Anaconda\\lib\\site-packages\\seaborn\\distributions.py:2551: FutureWarning: `distplot` is a deprecated function and will be removed in a future version. Please adapt your code to use either `displot` (a figure-level function with similar flexibility) or `histplot` (an axes-level function for histograms).\n",
      "  warnings.warn(msg, FutureWarning)\n"
     ]
    },
    {
     "data": {
      "image/png": "[encoded data removed]",
      "text/plain": [
       "<Figure size 432x288 with 1 Axes>"
      ]
     },
     "metadata": {
      "needs_background": "light"
     },
     "output_type": "display_data"
    }
   ],
   "source": [
    "sns.distplot(aux[aux['amount'] < 50000]['amount']);"
   ]
  },
  {
   "cell_type": "markdown",
   "metadata": {
    "heading_collapsed": true,
    "hidden": true
   },
   "source": [
    "### 3.3 TRANSFER has higher values in comparison with the others.\n",
    "**True**"
   ]
  },
  {
   "cell_type": "code",
   "execution_count": 35,
   "metadata": {
    "ExecuteTime": {
     "end_time": "2021-01-12T14:05:02.102544Z",
     "start_time": "2021-01-12T14:05:02.033769Z"
    },
    "hidden": true
   },
   "outputs": [
    {
     "data": {
      "text/html": [
       "<div>\n",
       "<style scoped>\n",
       "    .dataframe tbody tr th:only-of-type {\n",
       "        vertical-align: middle;\n",
       "    }\n",
       "\n",
       "    .dataframe tbody tr th {\n",
       "        vertical-align: top;\n",
       "    }\n",
       "\n",
       "    .dataframe thead th {\n",
       "        text-align: right;\n",
       "    }\n",
       "</style>\n",
       "<table border=\"1\" class=\"dataframe\">\n",
       "  <thead>\n",
       "    <tr style=\"text-align: right;\">\n",
       "      <th></th>\n",
       "      <th>Type</th>\n",
       "      <th>Transaction Value</th>\n",
       "    </tr>\n",
       "  </thead>\n",
       "  <tbody>\n",
       "    <tr>\n",
       "      <th>0</th>\n",
       "      <td>CASH_IN</td>\n",
       "      <td>169025.250553</td>\n",
       "    </tr>\n",
       "    <tr>\n",
       "      <th>1</th>\n",
       "      <td>CASH_OUT</td>\n",
       "      <td>176219.124038</td>\n",
       "    </tr>\n",
       "    <tr>\n",
       "      <th>2</th>\n",
       "      <td>DEBIT</td>\n",
       "      <td>5468.222352</td>\n",
       "    </tr>\n",
       "    <tr>\n",
       "      <th>3</th>\n",
       "      <td>PAYMENT</td>\n",
       "      <td>13054.456942</td>\n",
       "    </tr>\n",
       "    <tr>\n",
       "      <th>4</th>\n",
       "      <td>TRANSFER</td>\n",
       "      <td>910228.567729</td>\n",
       "    </tr>\n",
       "  </tbody>\n",
       "</table>\n",
       "</div>"
      ],
      "text/plain": [
       "       Type  Transaction Value\n",
       "0   CASH_IN      169025.250553\n",
       "1  CASH_OUT      176219.124038\n",
       "2     DEBIT        5468.222352\n",
       "3   PAYMENT       13054.456942\n",
       "4  TRANSFER      910228.567729"
      ]
     },
     "execution_count": 35,
     "metadata": {},
     "output_type": "execute_result"
    }
   ],
   "source": [
    "aux = Df3[['type','amount']].groupby('type').mean().reset_index()\n",
    "aux.rename(columns = {'type':'Type','amount':'Transaction Value'})"
   ]
  },
  {
   "cell_type": "code",
   "execution_count": 25,
   "metadata": {
    "ExecuteTime": {
     "end_time": "2021-01-11T13:23:49.107851Z",
     "start_time": "2021-01-11T13:23:49.100948Z"
    },
    "hidden": true
   },
   "outputs": [
    {
     "name": "stdout",
     "output_type": "stream",
     "text": [
      "The highest was type TRANSFER represent 71.5% \n"
     ]
    }
   ],
   "source": [
    "print('The highest was type {} represent {}% '.format(aux['amount'].idxmax(),round((max(aux['amount'])/sum(aux['amount']))*100,2)))"
   ]
  },
  {
   "cell_type": "markdown",
   "metadata": {
    "heading_collapsed": true,
    "hidden": true
   },
   "source": [
    "### 3.4 Payments of all types are made more in the last 5 days\n",
    "**False** The páy more start in the day 6 until 1, maybe they receive their paycheck."
   ]
  },
  {
   "cell_type": "code",
   "execution_count": 20,
   "metadata": {
    "hidden": true
   },
   "outputs": [],
   "source": [
    "aux2 = Df3[['day','amount']].groupby('day').count()"
   ]
  },
  {
   "cell_type": "code",
   "execution_count": 26,
   "metadata": {
    "ExecuteTime": {
     "end_time": "2021-01-11T13:23:49.962089Z",
     "start_time": "2021-01-11T13:23:49.111908Z"
    },
    "hidden": true
   },
   "outputs": [],
   "source": [
    "aux = Df3[Df3['type'] == 'PAYMENT']\n",
    "aux2 = aux[['day','amount']].groupby('day').count()\n"
   ]
  },
  {
   "cell_type": "code",
   "execution_count": 24,
   "metadata": {
    "ExecuteTime": {
     "end_time": "2021-01-11T13:23:50.323279Z",
     "start_time": "2021-01-11T13:23:49.963938Z"
    },
    "hidden": true
   },
   "outputs": [
    {
     "data": {
      "image/png": "[encoded data removed]",
      "text/plain": [
       "<Figure size 1152x576 with 1 Axes>"
      ]
     },
     "metadata": {
      "needs_background": "light"
     },
     "output_type": "display_data"
    }
   ],
   "source": [
    "import matplotlib.pyplot as plt\n",
    "plt.figure(figsize = (16,8))\n",
    "sns.barplot(x = aux2.index, y = aux2['amount']);\n",
    "plt.title('The day the bank transaction occurs the most', size = 20);\n",
    "plt.ylabel('Quantity',fontsize = 15);\n",
    "plt.xlabel('Day',fontsize = 15);\n"
   ]
  },
  {
   "cell_type": "markdown",
   "metadata": {
    "heading_collapsed": true,
    "hidden": true
   },
   "source": [
    "### 3.5 Days for cash_out is weekly higher\n",
    "**False** as the same answer 3.4"
   ]
  },
  {
   "cell_type": "code",
   "execution_count": 28,
   "metadata": {
    "ExecuteTime": {
     "end_time": "2021-01-11T13:23:51.309195Z",
     "start_time": "2021-01-11T13:23:50.326258Z"
    },
    "hidden": true
   },
   "outputs": [
    {
     "data": {
      "text/plain": [
       "<matplotlib.axes._subplots.AxesSubplot at 0x1c4351f8190>"
      ]
     },
     "execution_count": 28,
     "metadata": {},
     "output_type": "execute_result"
    },
    {
     "data": {
      "image/png": "[encoded data removed]",
      "text/plain": [
       "<Figure size 1152x576 with 1 Axes>"
      ]
     },
     "metadata": {
      "needs_background": "light"
     },
     "output_type": "display_data"
    }
   ],
   "source": [
    "aux = Df3[Df3['type'] == 'CASH_IN']\n",
    "aux2 = aux[['day','amount']].groupby('day').count()\n",
    "plt.figure(figsize = (16,8))\n",
    "sns.barplot(x = aux2.index, y = aux2['amount'])"
   ]
  },
  {
   "cell_type": "markdown",
   "metadata": {
    "heading_collapsed": true,
    "hidden": true
   },
   "source": [
    "### 3.6 There is a specif hour that happens PAYMENT and TRANSFER\n",
    "**True** The transaction starts after 9 and it's more often 18h until 20h"
   ]
  },
  {
   "cell_type": "code",
   "execution_count": 44,
   "metadata": {
    "ExecuteTime": {
     "end_time": "2021-01-11T13:23:53.329969Z",
     "start_time": "2021-01-11T13:23:51.311099Z"
    },
    "hidden": true
   },
   "outputs": [
    {
     "data": {
      "image/png": "[encoded data removed]",
      "text/plain": [
       "<Figure size 1152x576 with 2 Axes>"
      ]
     },
     "metadata": {
      "needs_background": "light"
     },
     "output_type": "display_data"
    }
   ],
   "source": [
    "plt.figure(figsize = (16,8))\n",
    "\n",
    "plt.subplot(2,1,1)\n",
    "aux = Df3[Df3['type'] == 'PAYMENT']\n",
    "aux2 = aux[['hour','amount']].groupby('hour').count()\n",
    "sns.barplot(x = aux2.index, y = aux2['amount'])\n",
    "\n",
    "plt.subplot(2,1,2)\n",
    "aux = Df3[Df3['type'] == 'TRANSFER']\n",
    "aux2 = aux[['hour','amount']].groupby('hour').count()\n",
    "sns.barplot(x = aux2.index, y = aux2['amount']);"
   ]
  },
  {
   "cell_type": "markdown",
   "metadata": {
    "heading_collapsed": true,
    "hidden": true
   },
   "source": [
    "### 3.7 At night has more Fraud transaction\n",
    "**False** All the fraudulent transactions happens with the same frequency in the time of the day. In the other way a non \n",
    "fraudulent transactions start with 9 and end 21h"
   ]
  },
  {
   "cell_type": "code",
   "execution_count": 21,
   "metadata": {
    "ExecuteTime": {
     "end_time": "2021-01-11T13:23:53.378723Z",
     "start_time": "2021-01-11T13:23:53.331962Z"
    },
    "hidden": true
   },
   "outputs": [],
   "source": [
    "aux = Df3[Df3['fraud'] == 1]"
   ]
  },
  {
   "cell_type": "code",
   "execution_count": 31,
   "metadata": {
    "ExecuteTime": {
     "end_time": "2021-01-11T13:23:53.725852Z",
     "start_time": "2021-01-11T13:23:53.386705Z"
    },
    "hidden": true
   },
   "outputs": [
    {
     "data": {
      "image/png": "[encoded data removed]",
      "text/plain": [
       "<Figure size 864x576 with 1 Axes>"
      ]
     },
     "metadata": {
      "needs_background": "light"
     },
     "output_type": "display_data"
    }
   ],
   "source": [
    "aux2 = aux[['hour','amount']].groupby('hour').count()\n",
    "\n",
    "plt.figure(figsize = (12,8))\n",
    "sns.barplot(x = aux2.index, y = aux2['amount']);\n",
    "plt.title('Quantity of Fraud per hour', size = 20);\n",
    "plt.ylabel('Quantity',fontsize = 18);\n",
    "plt.xlabel('Hour',fontsize = 18);\n"
   ]
  },
  {
   "cell_type": "code",
   "execution_count": 32,
   "metadata": {
    "ExecuteTime": {
     "end_time": "2021-01-11T13:23:55.282901Z",
     "start_time": "2021-01-11T13:23:53.727751Z"
    },
    "hidden": true
   },
   "outputs": [
    {
     "data": {
      "image/png": "[encoded data removed]",
      "text/plain": [
       "<Figure size 864x576 with 1 Axes>"
      ]
     },
     "metadata": {
      "needs_background": "light"
     },
     "output_type": "display_data"
    }
   ],
   "source": [
    "aux3 = Df3[Df3['fraud'] == 0]\n",
    "aux4 = aux3[['hour','amount']].groupby('hour').count()\n",
    "\n",
    "plt.figure(figsize = (12,8))\n",
    "sns.barplot(x = aux4.index, y = aux4['amount'])\n",
    "plt.title('Quantity of Non-Fraud per hour', size = 20);\n",
    "plt.ylabel('Quantity',fontsize = 18);\n",
    "plt.xlabel('Hour',fontsize = 18);"
   ]
  },
  {
   "cell_type": "markdown",
   "metadata": {
    "ExecuteTime": {
     "end_time": "2020-12-23T18:19:59.346751Z",
     "start_time": "2020-12-23T18:19:59.342743Z"
    },
    "heading_collapsed": true,
    "hidden": true
   },
   "source": [
    "### 3.8 The distribution of fraud amount and non fraud amount is the same\n",
    "**False**"
   ]
  },
  {
   "cell_type": "code",
   "execution_count": 30,
   "metadata": {
    "hidden": true
   },
   "outputs": [],
   "source": [
    "aux = Df3[Df3['fraud'] ==0]\n",
    "aux2 = Df3[Df3['fraud'] ==1]"
   ]
  },
  {
   "cell_type": "code",
   "execution_count": 31,
   "metadata": {
    "ExecuteTime": {
     "end_time": "2021-01-11T13:23:55.463626Z",
     "start_time": "2021-01-11T13:23:55.285852Z"
    },
    "hidden": true
   },
   "outputs": [
    {
     "name": "stdout",
     "output_type": "stream",
     "text": [
      "ShapiroResult(statistic=0.1907026767730713, pvalue=0.0)\n",
      "ShapiroResult(statistic=0.6190364956855774, pvalue=0.0)\n"
     ]
    },
    {
     "name": "stderr",
     "output_type": "stream",
     "text": [
      "E:\\Anaconda\\lib\\site-packages\\scipy\\stats\\morestats.py:1681: UserWarning: p-value may not be accurate for N > 5000.\n",
      "  warnings.warn(\"p-value may not be accurate for N > 5000.\")\n"
     ]
    }
   ],
   "source": [
    "#Testing for normality distribution.\n",
    "from scipy import stats\n",
    "\n",
    "shapiro_test_0 = stats.shapiro(aux['amount'])\n",
    "shapiro_test_1 = stats.shapiro(aux2['amount'])\n",
    "\n",
    "print(shapiro_test_0)\n",
    "print(shapiro_test_1)"
   ]
  },
  {
   "cell_type": "code",
   "execution_count": 32,
   "metadata": {
    "ExecuteTime": {
     "end_time": "2021-01-11T13:23:55.492718Z",
     "start_time": "2021-01-11T13:23:55.464991Z"
    },
    "hidden": true
   },
   "outputs": [
    {
     "data": {
      "text/plain": [
       "MannwhitneyuResult(statistic=6267250882.5, pvalue=0.0)"
      ]
     },
     "execution_count": 32,
     "metadata": {},
     "output_type": "execute_result"
    }
   ],
   "source": [
    "stats.mannwhitneyu(aux['amount'], aux2['amount'])"
   ]
  },
  {
   "cell_type": "code",
   "execution_count": 33,
   "metadata": {
    "ExecuteTime": {
     "end_time": "2021-01-11T13:23:55.502657Z",
     "start_time": "2021-01-11T13:23:55.494655Z"
    },
    "hidden": true
   },
   "outputs": [
    {
     "name": "stdout",
     "output_type": "stream",
     "text": [
      "ShapiroResult(statistic=0.9795963168144226, pvalue=0.0)\n",
      "ShapiroResult(statistic=0.9554141759872437, pvalue=6.040030783763902e-40)\n"
     ]
    }
   ],
   "source": [
    "shapiro_test_0log = stats.shapiro(np.log1p(aux['amount']))\n",
    "shapiro_test_1log = stats.shapiro(np.log1p(aux2['amount']))\n",
    "\n",
    "print(shapiro_test_0log)\n",
    "print(shapiro_test_1log)"
   ]
  },
  {
   "cell_type": "code",
   "execution_count": 36,
   "metadata": {
    "ExecuteTime": {
     "end_time": "2021-01-11T13:23:55.516680Z",
     "start_time": "2021-01-11T13:23:55.505650Z"
    },
    "hidden": true
   },
   "outputs": [
    {
     "data": {
      "text/plain": [
       "MannwhitneyuResult(statistic=526.0, pvalue=2.0885974599799713e-17)"
      ]
     },
     "execution_count": 36,
     "metadata": {},
     "output_type": "execute_result"
    }
   ],
   "source": [
    "stats.mannwhitneyu(np.log1p(aux['amount']), np.log1p(aux2['amount']))"
   ]
  },
  {
   "cell_type": "markdown",
   "metadata": {
    "heading_collapsed": true,
    "hidden": true
   },
   "source": [
    "## 3.3 Multivariate Analysis"
   ]
  },
  {
   "cell_type": "code",
   "execution_count": 42,
   "metadata": {
    "ExecuteTime": {
     "end_time": "2021-01-12T14:16:38.741004Z",
     "start_time": "2021-01-12T14:16:37.089774Z"
    },
    "hidden": true
   },
   "outputs": [
    {
     "data": {
      "image/png": "[encoded data removed]",
      "text/plain": [
       "<Figure size 864x720 with 2 Axes>"
      ]
     },
     "metadata": {
      "needs_background": "light"
     },
     "output_type": "display_data"
    }
   ],
   "source": [
    "correlation = numerical_columns.corr()\n",
    "plt.figure(figsize = (12,10))\n",
    "sns.heatmap( correlation, annot=True );"
   ]
  },
  {
   "cell_type": "code",
   "execution_count": null,
   "metadata": {
    "hidden": true
   },
   "outputs": [],
   "source": []
  },
  {
   "cell_type": "markdown",
   "metadata": {
    "heading_collapsed": true
   },
   "source": [
    "# 4.0 Data Filters"
   ]
  },
  {
   "cell_type": "code",
   "execution_count": 20,
   "metadata": {
    "ExecuteTime": {
     "end_time": "2021-01-11T13:23:55.999314Z",
     "start_time": "2021-01-11T13:23:55.520695Z"
    },
    "hidden": true
   },
   "outputs": [],
   "source": [
    "Df4 = Df3.copy()"
   ]
  },
  {
   "cell_type": "code",
   "execution_count": 21,
   "metadata": {
    "ExecuteTime": {
     "end_time": "2021-01-11T13:23:56.006842Z",
     "start_time": "2021-01-11T13:23:56.002742Z"
    },
    "hidden": true
   },
   "outputs": [],
   "source": [
    "#We are going to delete name origin because most of origin is made by a unique person."
   ]
  },
  {
   "cell_type": "code",
   "execution_count": 22,
   "metadata": {
    "ExecuteTime": {
     "end_time": "2021-01-11T13:24:18.825350Z",
     "start_time": "2021-01-11T13:23:56.008816Z"
    },
    "hidden": true
   },
   "outputs": [
    {
     "data": {
      "text/plain": [
       "(array([1, 2, 3], dtype=int64),\n",
       " array([4761732,    5106,       7], dtype=int64))"
      ]
     },
     "execution_count": 22,
     "metadata": {},
     "output_type": "execute_result"
    }
   ],
   "source": [
    "tes = Df4[['nameOrig','amount']].groupby('nameOrig').count()\n",
    "np.unique(tes['amount'], return_counts = True)"
   ]
  },
  {
   "cell_type": "code",
   "execution_count": 23,
   "metadata": {
    "ExecuteTime": {
     "end_time": "2021-01-11T13:24:19.528120Z",
     "start_time": "2021-01-11T13:24:18.826635Z"
    },
    "hidden": true
   },
   "outputs": [],
   "source": [
    "Df4 = Df4.drop('nameOrig', axis = 1)"
   ]
  },
  {
   "cell_type": "code",
   "execution_count": 24,
   "metadata": {
    "ExecuteTime": {
     "end_time": "2021-01-11T13:24:19.534681Z",
     "start_time": "2021-01-11T13:24:19.530041Z"
    },
    "hidden": true
   },
   "outputs": [],
   "source": [
    "#I will try with Merchandts in the nameDest in the next I try withou"
   ]
  },
  {
   "cell_type": "markdown",
   "metadata": {
    "ExecuteTime": {
     "end_time": "2020-12-23T11:50:17.596491Z",
     "start_time": "2020-12-23T11:50:17.583397Z"
    },
    "heading_collapsed": true
   },
   "source": [
    "# 5.0 Data Transformation"
   ]
  },
  {
   "cell_type": "code",
   "execution_count": 25,
   "metadata": {
    "ExecuteTime": {
     "end_time": "2021-01-11T13:24:19.921723Z",
     "start_time": "2021-01-11T13:24:19.537022Z"
    },
    "hidden": true
   },
   "outputs": [],
   "source": [
    "Df5 = Df4.copy()"
   ]
  },
  {
   "cell_type": "markdown",
   "metadata": {
    "ExecuteTime": {
     "end_time": "2020-12-25T11:55:44.057872Z",
     "start_time": "2020-12-25T11:55:44.053883Z"
    },
    "hidden": true
   },
   "source": [
    "## 5.1 Numerical Transformation"
   ]
  },
  {
   "cell_type": "code",
   "execution_count": 26,
   "metadata": {
    "ExecuteTime": {
     "end_time": "2021-01-11T13:24:25.606654Z",
     "start_time": "2021-01-11T13:24:19.941261Z"
    },
    "hidden": true
   },
   "outputs": [],
   "source": [
    "qt = QuantileTransformer()\n",
    "rs = RobustScaler()\n",
    "mm = MinMaxScaler()\n",
    "\n",
    "Df5['amount'] = qt.fit_transform(Df5[['amount']].values)\n",
    "#pickle.dump(qt, open('parameter/amount_scaler.pkl','wb'))\n",
    "\n",
    "Df5['oldbalanceOrg'] = qt.fit_transform(Df5[['oldbalanceOrg']].values)\n",
    "#pickle.dump(qt, open('parameter/oldbalanceOrg_scaler.pkl','wb'))\n",
    "\n",
    "Df5['oldbalanceDest'] = qt.fit_transform(Df5[['oldbalanceDest']].values)\n",
    "#pickle.dump(qt, open('parameter/oldbalanceDest_scaler.pkl','wb'))\n",
    "\n",
    "Df5['newbalanceDest'] = qt.fit_transform(Df5[['newbalanceDest']].values)\n",
    "#pickle.dump(qt, open('parameter/newbalanceDest_scaler.pkl','wb'))\n",
    "\n",
    "Df5['newbalanceorig_right'] = rs.fit_transform(Df5[['newbalanceorig_right']].values)\n",
    "#pickle.dump(rs, open('parameter/newbalanceorig_right_scaler.pkl','wb'))\n",
    "\n",
    "Df5['hour_step'] = mm.fit_transform(Df5[['hour_step']].values)\n",
    "#pickle.dump(mm, open('parameter/hour_step_scaler.pkl','wb'))"
   ]
  },
  {
   "cell_type": "markdown",
   "metadata": {
    "hidden": true
   },
   "source": [
    "## 5.2 Categorical Transformation"
   ]
  },
  {
   "cell_type": "code",
   "execution_count": 28,
   "metadata": {
    "ExecuteTime": {
     "end_time": "2021-01-11T13:24:27.077977Z",
     "start_time": "2021-01-11T13:24:25.616183Z"
    },
    "hidden": true
   },
   "outputs": [],
   "source": [
    "le = LabelEncoder()\n",
    "Df5['type'] = le.fit_transform(Df5['type'])"
   ]
  },
  {
   "cell_type": "code",
   "execution_count": 29,
   "metadata": {
    "ExecuteTime": {
     "end_time": "2021-01-11T13:24:42.197828Z",
     "start_time": "2021-01-11T13:24:27.078938Z"
    },
    "hidden": true
   },
   "outputs": [],
   "source": [
    "fe = Df5.groupby('nameDest').size()/len(Df5)\n",
    "Df5.loc[:,'nameDest_encode'] = Df5['nameDest'].map(fe)"
   ]
  },
  {
   "cell_type": "code",
   "execution_count": 30,
   "metadata": {
    "ExecuteTime": {
     "end_time": "2021-01-11T13:24:42.347889Z",
     "start_time": "2021-01-11T13:24:42.199166Z"
    },
    "hidden": true
   },
   "outputs": [
    {
     "data": {
      "text/html": [
       "<div>\n",
       "<style scoped>\n",
       "    .dataframe tbody tr th:only-of-type {\n",
       "        vertical-align: middle;\n",
       "    }\n",
       "\n",
       "    .dataframe tbody tr th {\n",
       "        vertical-align: top;\n",
       "    }\n",
       "\n",
       "    .dataframe thead th {\n",
       "        text-align: right;\n",
       "    }\n",
       "</style>\n",
       "<table border=\"1\" class=\"dataframe\">\n",
       "  <thead>\n",
       "    <tr style=\"text-align: right;\">\n",
       "      <th></th>\n",
       "      <th>hour_step</th>\n",
       "      <th>type</th>\n",
       "      <th>amount</th>\n",
       "      <th>oldbalanceOrg</th>\n",
       "      <th>nameDest</th>\n",
       "      <th>oldbalanceDest</th>\n",
       "      <th>newbalanceDest</th>\n",
       "      <th>fraud</th>\n",
       "      <th>flag_fraud</th>\n",
       "      <th>newbalanceorig_right</th>\n",
       "      <th>day</th>\n",
       "      <th>hour</th>\n",
       "      <th>nameDest_encode</th>\n",
       "    </tr>\n",
       "  </thead>\n",
       "  <tbody>\n",
       "    <tr>\n",
       "      <th>5023818</th>\n",
       "      <td>0.474394</td>\n",
       "      <td>0</td>\n",
       "      <td>0.404016</td>\n",
       "      <td>0.958506</td>\n",
       "      <td>C1641633407</td>\n",
       "      <td>0.526624</td>\n",
       "      <td>0.469563</td>\n",
       "      <td>0</td>\n",
       "      <td>0</td>\n",
       "      <td>26.340814</td>\n",
       "      <td>15</td>\n",
       "      <td>17</td>\n",
       "      <td>1.047786e-06</td>\n",
       "    </tr>\n",
       "    <tr>\n",
       "      <th>2705021</th>\n",
       "      <td>0.283019</td>\n",
       "      <td>1</td>\n",
       "      <td>0.453519</td>\n",
       "      <td>0.835746</td>\n",
       "      <td>C1726373957</td>\n",
       "      <td>0.000000</td>\n",
       "      <td>0.417752</td>\n",
       "      <td>0</td>\n",
       "      <td>0</td>\n",
       "      <td>1.012004</td>\n",
       "      <td>9</td>\n",
       "      <td>19</td>\n",
       "      <td>8.382291e-07</td>\n",
       "    </tr>\n",
       "    <tr>\n",
       "      <th>1835786</th>\n",
       "      <td>0.218329</td>\n",
       "      <td>1</td>\n",
       "      <td>0.633980</td>\n",
       "      <td>0.000000</td>\n",
       "      <td>C265167834</td>\n",
       "      <td>0.636762</td>\n",
       "      <td>0.679909</td>\n",
       "      <td>0</td>\n",
       "      <td>0</td>\n",
       "      <td>-0.521697</td>\n",
       "      <td>7</td>\n",
       "      <td>19</td>\n",
       "      <td>3.562474e-06</td>\n",
       "    </tr>\n",
       "    <tr>\n",
       "      <th>646922</th>\n",
       "      <td>0.045822</td>\n",
       "      <td>1</td>\n",
       "      <td>0.616396</td>\n",
       "      <td>0.000000</td>\n",
       "      <td>C1690337259</td>\n",
       "      <td>0.940186</td>\n",
       "      <td>0.935753</td>\n",
       "      <td>0</td>\n",
       "      <td>0</td>\n",
       "      <td>-0.488142</td>\n",
       "      <td>2</td>\n",
       "      <td>11</td>\n",
       "      <td>3.772031e-06</td>\n",
       "    </tr>\n",
       "    <tr>\n",
       "      <th>732705</th>\n",
       "      <td>0.048518</td>\n",
       "      <td>0</td>\n",
       "      <td>0.414944</td>\n",
       "      <td>0.910471</td>\n",
       "      <td>C1903493253</td>\n",
       "      <td>0.796921</td>\n",
       "      <td>0.771527</td>\n",
       "      <td>0</td>\n",
       "      <td>0</td>\n",
       "      <td>9.861696</td>\n",
       "      <td>2</td>\n",
       "      <td>13</td>\n",
       "      <td>7.124947e-06</td>\n",
       "    </tr>\n",
       "    <tr>\n",
       "      <th>...</th>\n",
       "      <td>...</td>\n",
       "      <td>...</td>\n",
       "      <td>...</td>\n",
       "      <td>...</td>\n",
       "      <td>...</td>\n",
       "      <td>...</td>\n",
       "      <td>...</td>\n",
       "      <td>...</td>\n",
       "      <td>...</td>\n",
       "      <td>...</td>\n",
       "      <td>...</td>\n",
       "      <td>...</td>\n",
       "      <td>...</td>\n",
       "    </tr>\n",
       "    <tr>\n",
       "      <th>4099175</th>\n",
       "      <td>0.404313</td>\n",
       "      <td>4</td>\n",
       "      <td>0.995121</td>\n",
       "      <td>0.487496</td>\n",
       "      <td>C1450932374</td>\n",
       "      <td>0.604000</td>\n",
       "      <td>0.887380</td>\n",
       "      <td>0</td>\n",
       "      <td>0</td>\n",
       "      <td>-9.503563</td>\n",
       "      <td>13</td>\n",
       "      <td>13</td>\n",
       "      <td>6.286718e-07</td>\n",
       "    </tr>\n",
       "    <tr>\n",
       "      <th>6253066</th>\n",
       "      <td>0.801887</td>\n",
       "      <td>0</td>\n",
       "      <td>0.684087</td>\n",
       "      <td>0.400619</td>\n",
       "      <td>C1203683183</td>\n",
       "      <td>0.000000</td>\n",
       "      <td>0.000000</td>\n",
       "      <td>0</td>\n",
       "      <td>0</td>\n",
       "      <td>0.682960</td>\n",
       "      <td>25</td>\n",
       "      <td>20</td>\n",
       "      <td>2.095573e-07</td>\n",
       "    </tr>\n",
       "    <tr>\n",
       "      <th>1562854</th>\n",
       "      <td>0.207547</td>\n",
       "      <td>1</td>\n",
       "      <td>0.750224</td>\n",
       "      <td>0.000000</td>\n",
       "      <td>C634309159</td>\n",
       "      <td>0.687088</td>\n",
       "      <td>0.702691</td>\n",
       "      <td>0</td>\n",
       "      <td>0</td>\n",
       "      <td>-0.789255</td>\n",
       "      <td>7</td>\n",
       "      <td>11</td>\n",
       "      <td>2.514687e-06</td>\n",
       "    </tr>\n",
       "    <tr>\n",
       "      <th>1724783</th>\n",
       "      <td>0.214286</td>\n",
       "      <td>1</td>\n",
       "      <td>0.952159</td>\n",
       "      <td>0.645574</td>\n",
       "      <td>C1863854659</td>\n",
       "      <td>0.726993</td>\n",
       "      <td>0.782924</td>\n",
       "      <td>0</td>\n",
       "      <td>0</td>\n",
       "      <td>-1.852067</td>\n",
       "      <td>7</td>\n",
       "      <td>16</td>\n",
       "      <td>5.867604e-06</td>\n",
       "    </tr>\n",
       "    <tr>\n",
       "      <th>4240326</th>\n",
       "      <td>0.411051</td>\n",
       "      <td>3</td>\n",
       "      <td>0.106794</td>\n",
       "      <td>0.000000</td>\n",
       "      <td>M1317742688</td>\n",
       "      <td>0.000000</td>\n",
       "      <td>0.000000</td>\n",
       "      <td>0</td>\n",
       "      <td>0</td>\n",
       "      <td>0.003878</td>\n",
       "      <td>13</td>\n",
       "      <td>18</td>\n",
       "      <td>2.095573e-07</td>\n",
       "    </tr>\n",
       "  </tbody>\n",
       "</table>\n",
       "<p>4771965 rows × 13 columns</p>\n",
       "</div>"
      ],
      "text/plain": [
       "         hour_step  type    amount  oldbalanceOrg     nameDest  \\\n",
       "5023818   0.474394     0  0.404016       0.958506  C1641633407   \n",
       "2705021   0.283019     1  0.453519       0.835746  C1726373957   \n",
       "1835786   0.218329     1  0.633980       0.000000   C265167834   \n",
       "646922    0.045822     1  0.616396       0.000000  C1690337259   \n",
       "732705    0.048518     0  0.414944       0.910471  C1903493253   \n",
       "...            ...   ...       ...            ...          ...   \n",
       "4099175   0.404313     4  0.995121       0.487496  C1450932374   \n",
       "6253066   0.801887     0  0.684087       0.400619  C1203683183   \n",
       "1562854   0.207547     1  0.750224       0.000000   C634309159   \n",
       "1724783   0.214286     1  0.952159       0.645574  C1863854659   \n",
       "4240326   0.411051     3  0.106794       0.000000  M1317742688   \n",
       "\n",
       "         oldbalanceDest  newbalanceDest  fraud  flag_fraud  \\\n",
       "5023818        0.526624        0.469563      0           0   \n",
       "2705021        0.000000        0.417752      0           0   \n",
       "1835786        0.636762        0.679909      0           0   \n",
       "646922         0.940186        0.935753      0           0   \n",
       "732705         0.796921        0.771527      0           0   \n",
       "...                 ...             ...    ...         ...   \n",
       "4099175        0.604000        0.887380      0           0   \n",
       "6253066        0.000000        0.000000      0           0   \n",
       "1562854        0.687088        0.702691      0           0   \n",
       "1724783        0.726993        0.782924      0           0   \n",
       "4240326        0.000000        0.000000      0           0   \n",
       "\n",
       "         newbalanceorig_right  day  hour  nameDest_encode  \n",
       "5023818             26.340814   15    17     1.047786e-06  \n",
       "2705021              1.012004    9    19     8.382291e-07  \n",
       "1835786             -0.521697    7    19     3.562474e-06  \n",
       "646922              -0.488142    2    11     3.772031e-06  \n",
       "732705               9.861696    2    13     7.124947e-06  \n",
       "...                       ...  ...   ...              ...  \n",
       "4099175             -9.503563   13    13     6.286718e-07  \n",
       "6253066              0.682960   25    20     2.095573e-07  \n",
       "1562854             -0.789255    7    11     2.514687e-06  \n",
       "1724783             -1.852067    7    16     5.867604e-06  \n",
       "4240326              0.003878   13    18     2.095573e-07  \n",
       "\n",
       "[4771965 rows x 13 columns]"
      ]
     },
     "execution_count": 30,
     "metadata": {},
     "output_type": "execute_result"
    }
   ],
   "source": [
    "Df5"
   ]
  },
  {
   "cell_type": "markdown",
   "metadata": {
    "hidden": true
   },
   "source": [
    "## 5.3 Cycle Transformation"
   ]
  },
  {
   "cell_type": "code",
   "execution_count": 31,
   "metadata": {
    "ExecuteTime": {
     "end_time": "2021-01-11T13:25:12.132571Z",
     "start_time": "2021-01-11T13:24:42.349826Z"
    },
    "hidden": true
   },
   "outputs": [],
   "source": [
    "Df5['day_sin'] = Df5['day'].apply(lambda x: np.sin(x*(2. * np.pi/31)))\n",
    "Df5['day_cos'] = Df5['day'].apply(lambda x: np.cos(x*(2. * np.pi/31)))\n",
    "\n",
    "Df5['hour_sin'] = Df5['hour'].apply(lambda x: np.sin(x*(2. * np.pi/24)))\n",
    "Df5['hour_cos'] = Df5['hour'].apply(lambda x: np.cos(x*(2. * np.pi/24)))"
   ]
  },
  {
   "cell_type": "markdown",
   "metadata": {
    "heading_collapsed": true
   },
   "source": [
    "# 6.0 Variable Selection"
   ]
  },
  {
   "cell_type": "code",
   "execution_count": 32,
   "metadata": {
    "ExecuteTime": {
     "end_time": "2021-01-11T13:25:13.163431Z",
     "start_time": "2021-01-11T13:25:12.135532Z"
    },
    "hidden": true
   },
   "outputs": [],
   "source": [
    "Df6 = Df5.copy()"
   ]
  },
  {
   "cell_type": "markdown",
   "metadata": {
    "hidden": true
   },
   "source": [
    "## 6.1 Splitting the data "
   ]
  },
  {
   "cell_type": "code",
   "execution_count": 33,
   "metadata": {
    "ExecuteTime": {
     "end_time": "2021-01-11T13:25:13.661629Z",
     "start_time": "2021-01-11T13:25:13.164984Z"
    },
    "hidden": true
   },
   "outputs": [],
   "source": [
    "cols_drop = ['day','hour','nameDest']\n",
    "\n",
    "Df6 = Df6.drop(cols_drop, axis = 1)"
   ]
  },
  {
   "cell_type": "code",
   "execution_count": 34,
   "metadata": {
    "ExecuteTime": {
     "end_time": "2021-01-11T13:25:16.583692Z",
     "start_time": "2021-01-11T13:25:13.663563Z"
    },
    "hidden": true
   },
   "outputs": [],
   "source": [
    "y = Df6['fraud']\n",
    "\n",
    "X_train,X_test,y_train,y_test = train_test_split(Df6.drop('fraud',axis = 1),y,test_size = 0.3)"
   ]
  },
  {
   "cell_type": "markdown",
   "metadata": {
    "heading_collapsed": true,
    "hidden": true
   },
   "source": [
    "## 6.2 Boruta Selector"
   ]
  },
  {
   "cell_type": "code",
   "execution_count": 37,
   "metadata": {
    "ExecuteTime": {
     "end_time": "2021-01-05T11:30:10.230230Z",
     "start_time": "2021-01-05T11:30:10.103041Z"
    },
    "hidden": true
   },
   "outputs": [],
   "source": [
    "from boruta import BorutaPy\n",
    "from sklearn.ensemble import RandomForestRegressor"
   ]
  },
  {
   "cell_type": "code",
   "execution_count": 38,
   "metadata": {
    "ExecuteTime": {
     "end_time": "2021-01-05T13:53:17.752171Z",
     "start_time": "2021-01-05T11:30:20.404241Z"
    },
    "hidden": true
   },
   "outputs": [
    {
     "name": "stdout",
     "output_type": "stream",
     "text": [
      "Iteration: \t1 / 100\n",
      "Confirmed: \t0\n",
      "Tentative: \t17\n",
      "Rejected: \t0\n",
      "Iteration: \t2 / 100\n",
      "Confirmed: \t0\n",
      "Tentative: \t17\n",
      "Rejected: \t0\n",
      "Iteration: \t3 / 100\n",
      "Confirmed: \t0\n",
      "Tentative: \t17\n",
      "Rejected: \t0\n",
      "Iteration: \t4 / 100\n",
      "Confirmed: \t0\n",
      "Tentative: \t17\n",
      "Rejected: \t0\n",
      "Iteration: \t5 / 100\n",
      "Confirmed: \t0\n",
      "Tentative: \t17\n",
      "Rejected: \t0\n",
      "Iteration: \t6 / 100\n",
      "Confirmed: \t0\n",
      "Tentative: \t17\n",
      "Rejected: \t0\n",
      "Iteration: \t7 / 100\n",
      "Confirmed: \t0\n",
      "Tentative: \t17\n",
      "Rejected: \t0\n",
      "Iteration: \t8 / 100\n",
      "Confirmed: \t14\n",
      "Tentative: \t0\n",
      "Rejected: \t3\n",
      "\n",
      "\n",
      "BorutaPy finished running.\n",
      "\n",
      "Iteration: \t9 / 100\n",
      "Confirmed: \t14\n",
      "Tentative: \t0\n",
      "Rejected: \t3\n"
     ]
    }
   ],
   "source": [
    "X_train_n = X_train.values\n",
    "y_train_n = y_train.values.ravel()\n",
    "#define RandomFOrestRegressor\n",
    "rf = RandomForestRegressor(n_jobs = -1)\n",
    "#define Boruta\n",
    "boruta = BorutaPy(rf,n_estimators = 'auto', verbose = 2, random_state = 42).fit(X_train_n,y_train_n)"
   ]
  },
  {
   "cell_type": "code",
   "execution_count": 39,
   "metadata": {
    "ExecuteTime": {
     "end_time": "2021-01-05T13:58:12.858003Z",
     "start_time": "2021-01-05T13:58:12.318430Z"
    },
    "hidden": true
   },
   "outputs": [],
   "source": [
    "cols_selects = boruta.support_.tolist()\n",
    "\n",
    "X_train_fs = X_train\n",
    "\n",
    "cols_selected_boruta = X_train_fs.iloc[:,cols_selects].columns.to_list()\n",
    "\n",
    "#not selected boruta\n",
    "cols_not_selected_boruta = list(np.setdiff1d(X_train_fs.columns,cols_selected_boruta))"
   ]
  },
  {
   "cell_type": "code",
   "execution_count": 40,
   "metadata": {
    "ExecuteTime": {
     "end_time": "2021-01-05T13:58:13.473296Z",
     "start_time": "2021-01-05T13:58:13.452361Z"
    },
    "hidden": true
   },
   "outputs": [
    {
     "data": {
      "text/plain": [
       "['hour_step',\n",
       " 'amount',\n",
       " 'oldbalanceOrg',\n",
       " 'oldbalanceDest',\n",
       " 'newbalanceDest',\n",
       " 'newbalanceorig_right',\n",
       " 'CASH_IN',\n",
       " 'CASH_OUT',\n",
       " 'TRANSFER',\n",
       " 'nameDest_encode',\n",
       " 'day_sin',\n",
       " 'day_cos',\n",
       " 'hour_sin',\n",
       " 'hour_cos']"
      ]
     },
     "execution_count": 40,
     "metadata": {},
     "output_type": "execute_result"
    }
   ],
   "source": [
    "cols_selected_boruta"
   ]
  },
  {
   "cell_type": "markdown",
   "metadata": {
    "hidden": true
   },
   "source": [
    "## 6.3 Features"
   ]
  },
  {
   "cell_type": "code",
   "execution_count": 35,
   "metadata": {
    "ExecuteTime": {
     "end_time": "2021-01-11T13:25:16.592991Z",
     "start_time": "2021-01-11T13:25:16.585936Z"
    },
    "hidden": true
   },
   "outputs": [],
   "source": [
    "cols_selected_boruta = [\n",
    "    'hour_step',\n",
    " 'type',\n",
    " 'amount',\n",
    " 'oldbalanceOrg',\n",
    " 'oldbalanceDest',\n",
    " 'newbalanceDest',\n",
    " 'newbalanceorig_right',\n",
    " 'nameDest_encode',\n",
    " 'day_sin',\n",
    " 'day_cos',\n",
    " 'hour_sin'\n",
    "]"
   ]
  },
  {
   "cell_type": "markdown",
   "metadata": {
    "heading_collapsed": true
   },
   "source": [
    "# 7.0 Machine Learning Model"
   ]
  },
  {
   "cell_type": "code",
   "execution_count": 36,
   "metadata": {
    "ExecuteTime": {
     "end_time": "2021-01-11T13:25:16.934502Z",
     "start_time": "2021-01-11T13:25:16.595958Z"
    },
    "hidden": true
   },
   "outputs": [],
   "source": [
    "X_train_fs = X_train[cols_selected_boruta]\n",
    "X_test_fs = X_test[cols_selected_boruta]"
   ]
  },
  {
   "cell_type": "code",
   "execution_count": 37,
   "metadata": {
    "ExecuteTime": {
     "end_time": "2021-01-11T13:25:17.021954Z",
     "start_time": "2021-01-11T13:25:16.937341Z"
    },
    "hidden": true
   },
   "outputs": [],
   "source": [
    "cla1 = len(y_train[y_train == 1])/len(y_train)\n",
    "cla0 = len(y_train[y_train == 0])/len(y_train)"
   ]
  },
  {
   "cell_type": "code",
   "execution_count": 38,
   "metadata": {
    "ExecuteTime": {
     "end_time": "2021-01-11T13:25:17.029920Z",
     "start_time": "2021-01-11T13:25:17.022939Z"
    },
    "hidden": true
   },
   "outputs": [
    {
     "data": {
      "text/plain": [
       "0.9991022415148"
      ]
     },
     "execution_count": 38,
     "metadata": {},
     "output_type": "execute_result"
    }
   ],
   "source": [
    "cla0+0.0004"
   ]
  },
  {
   "cell_type": "code",
   "execution_count": 39,
   "metadata": {
    "ExecuteTime": {
     "end_time": "2021-01-11T13:25:17.037914Z",
     "start_time": "2021-01-11T13:25:17.032908Z"
    },
    "hidden": true
   },
   "outputs": [],
   "source": [
    "cla_wig = {0:cla1-0.0004,1:cla0+0.0004}"
   ]
  },
  {
   "cell_type": "code",
   "execution_count": 40,
   "metadata": {
    "hidden": true
   },
   "outputs": [
    {
     "data": {
      "text/plain": [
       "{0: 0.000897758485200015, 1: 0.9991022415148}"
      ]
     },
     "execution_count": 40,
     "metadata": {},
     "output_type": "execute_result"
    }
   ],
   "source": [
    "cla_wig"
   ]
  },
  {
   "cell_type": "markdown",
   "metadata": {
    "heading_collapsed": true,
    "hidden": true
   },
   "source": [
    "## 7.1 BaseLine with IsolationForest"
   ]
  },
  {
   "cell_type": "markdown",
   "metadata": {
    "hidden": true
   },
   "source": [
    "<font size = 6> IsolationForest </font>\n",
    "    \n",
    "It's an unsupervised learning algorithm that identifies anomaly by isolating outliers in the data.\n",
    "\n",
    "Isolation Forest is based on the Decision Tree algorithm. It isolates the outliers by randomly selecting a feature from the given set of features and then randomly selecting a split value between the max and min values of that feature. This random partitioning of features will produce shorter paths in trees for the anomalous data points, thus distinguishing them from the rest of the data.\n",
    "\n",
    "The Isolation Forest algorithm is based on the principle that anomalies are observations that are few and different, which should make them easier to identify. Isolation Forest uses an ensemble of Isolation Trees for the given data points to isolate anomalies.\n",
    "\n",
    "Isolation Forest recursively generates partitions on the dataset by randomly selecting a feature and then randomly selecting a split value for the feature. Presumably the anomalies need fewer random partitions to be isolated compared to \"normal\" points in the dataset, so the anomalies will be the points which have a smaller path length in the tree, path length being the number of edges traversed from the root node.\n",
    "\n",
    "**Using Isolation Forest, we can not only detect anomalies faster but we also require less memory compared to other algorithms. As anomalies data points mostly have a lot shorter tree paths than the normal data points, trees in the isolation forest does not need to have a large depth so a smaller max_depth can be used resulting in low memory requirement.**\n",
    "\n",
    "For more information of the mathematic part read: https://medium.com/@hyunsukim_9320/isolation-forest-step-by-step-341b82923168"
   ]
  },
  {
   "cell_type": "code",
   "execution_count": 88,
   "metadata": {
    "ExecuteTime": {
     "end_time": "2021-01-05T13:59:23.494567Z",
     "start_time": "2021-01-05T13:59:16.684917Z"
    },
    "hidden": true
   },
   "outputs": [],
   "source": [
    "IF = IsolationForest(n_jobs = -1,bootstrap = True).fit(X_test_fs)"
   ]
  },
  {
   "cell_type": "code",
   "execution_count": 89,
   "metadata": {
    "ExecuteTime": {
     "end_time": "2021-01-05T14:00:31.698612Z",
     "start_time": "2021-01-05T13:59:23.498532Z"
    },
    "hidden": true
   },
   "outputs": [],
   "source": [
    "y_predict_Base = IF.predict(X_test_fs)"
   ]
  },
  {
   "cell_type": "code",
   "execution_count": 90,
   "metadata": {
    "ExecuteTime": {
     "end_time": "2021-01-05T14:00:31.730559Z",
     "start_time": "2021-01-05T14:00:31.700604Z"
    },
    "hidden": true
   },
   "outputs": [],
   "source": [
    "y_predict_Base[y_predict_Base == 1] = 0\n",
    "y_predict_Base[y_predict_Base == -1] = 1"
   ]
  },
  {
   "cell_type": "code",
   "execution_count": 91,
   "metadata": {
    "ExecuteTime": {
     "end_time": "2021-01-05T14:00:33.417175Z",
     "start_time": "2021-01-05T14:00:31.732494Z"
    },
    "hidden": true
   },
   "outputs": [],
   "source": [
    "cm_is = confusion_matrix(y_test, y_predict_Base)"
   ]
  },
  {
   "cell_type": "code",
   "execution_count": 92,
   "metadata": {
    "hidden": true
   },
   "outputs": [
    {
     "data": {
      "image/png": "[encoded data removed]",
      "text/plain": [
       "<Figure size 576x432 with 1 Axes>"
      ]
     },
     "metadata": {
      "needs_background": "light"
     },
     "output_type": "display_data"
    }
   ],
   "source": [
    "plt.figure(figsize = (8,6))\n",
    "labels = ['Non-Fraud','Fraud']\n",
    "sns.heatmap(cf_lr,annot=True,xticklabels=labels,yticklabels = labels,cbar = False)\n",
    "plt.title('Confusion matrix of the IsolationForest classifier');"
   ]
  },
  {
   "cell_type": "code",
   "execution_count": 93,
   "metadata": {
    "ExecuteTime": {
     "end_time": "2021-01-05T14:16:03.459116Z",
     "start_time": "2021-01-05T14:16:00.492010Z"
    },
    "hidden": true
   },
   "outputs": [],
   "source": [
    "accuracy_base = accuracy_score(y_test, y_predict_Base)\n",
    "recall_base = recall_score(y_test, y_predict_Base,average = 'weighted')\n",
    "precision_base = precision_score(y_test, y_predict_Base,average = 'weighted')\n",
    "f1_base = f1_score(y_test, y_predict_Base,average = 'weighted')\n",
    "kapp_base = cohen_kappa_score(y_test, y_predict_Base)"
   ]
  },
  {
   "cell_type": "code",
   "execution_count": 94,
   "metadata": {
    "ExecuteTime": {
     "end_time": "2021-01-05T14:16:03.612681Z",
     "start_time": "2021-01-05T14:16:03.608704Z"
    },
    "hidden": true
   },
   "outputs": [
    {
     "data": {
      "text/plain": [
       "[0.6460690560844935,\n",
       " 0.6460690560844935,\n",
       " 0.9984296432523332,\n",
       " 0.7837061627948821,\n",
       " 0.003557110018688303]"
      ]
     },
     "execution_count": 94,
     "metadata": {},
     "output_type": "execute_result"
    }
   ],
   "source": [
    "metrics_base = [accuracy_base,recall_base,precision_base,f1_base,kapp_base]\n",
    "metrics_base"
   ]
  },
  {
   "cell_type": "markdown",
   "metadata": {
    "heading_collapsed": true,
    "hidden": true
   },
   "source": [
    "## 7.2 Logistic Regression"
   ]
  },
  {
   "cell_type": "code",
   "execution_count": 79,
   "metadata": {
    "ExecuteTime": {
     "end_time": "2021-01-05T14:01:34.780331Z",
     "start_time": "2021-01-05T14:00:55.843791Z"
    },
    "hidden": true
   },
   "outputs": [
    {
     "name": "stderr",
     "output_type": "stream",
     "text": [
      "E:\\Anaconda\\lib\\site-packages\\sklearn\\linear_model\\_logistic.py:762: ConvergenceWarning: lbfgs failed to converge (status=1):\n",
      "STOP: TOTAL NO. of ITERATIONS REACHED LIMIT.\n",
      "\n",
      "Increase the number of iterations (max_iter) or scale the data as shown in:\n",
      "    https://scikit-learn.org/stable/modules/preprocessing.html\n",
      "Please also refer to the documentation for alternative solver options:\n",
      "    https://scikit-learn.org/stable/modules/linear_model.html#logistic-regression\n",
      "  n_iter_i = _check_optimize_result(\n"
     ]
    },
    {
     "data": {
      "text/plain": [
       "LogisticRegression(class_weight={0: 0.0009157205403584926,\n",
       "                                 1: 0.9990842794596415})"
      ]
     },
     "execution_count": 79,
     "metadata": {},
     "output_type": "execute_result"
    }
   ],
   "source": [
    "LR = LogisticRegression(class_weight = cla_wig)\n",
    "LR.fit(X_train_fs,y_train)"
   ]
  },
  {
   "cell_type": "code",
   "execution_count": 80,
   "metadata": {
    "ExecuteTime": {
     "end_time": "2021-01-05T14:01:34.955861Z",
     "start_time": "2021-01-05T14:01:34.781328Z"
    },
    "hidden": true
   },
   "outputs": [],
   "source": [
    "y_predict_LR = LR.predict(X_test_fs)"
   ]
  },
  {
   "cell_type": "code",
   "execution_count": 81,
   "metadata": {
    "ExecuteTime": {
     "end_time": "2021-01-05T14:01:36.298027Z",
     "start_time": "2021-01-05T14:01:34.959851Z"
    },
    "hidden": true
   },
   "outputs": [],
   "source": [
    "cf_lr = confusion_matrix(y_test, y_predict_LR)"
   ]
  },
  {
   "cell_type": "code",
   "execution_count": 82,
   "metadata": {
    "hidden": true
   },
   "outputs": [
    {
     "data": {
      "image/png": "[encoded data removed]",
      "text/plain": [
       "<Figure size 576x432 with 1 Axes>"
      ]
     },
     "metadata": {
      "needs_background": "light"
     },
     "output_type": "display_data"
    }
   ],
   "source": [
    "plt.figure(figsize = (8,6))\n",
    "labels = ['Non-Fraud','Fraud']\n",
    "sns.heatmap(cf_lr,annot=True,xticklabels=labels,yticklabels = labels,cbar = False)\n",
    "plt.title('Confusion matrix of the Logistic Regression classifier');"
   ]
  },
  {
   "cell_type": "code",
   "execution_count": 72,
   "metadata": {
    "ExecuteTime": {
     "end_time": "2021-01-05T14:16:13.440665Z",
     "start_time": "2021-01-05T14:16:10.479843Z"
    },
    "hidden": true
   },
   "outputs": [],
   "source": [
    "accuracy_LR = accuracy_score(y_test, y_predict_LR)\n",
    "recall_LR = recall_score(y_test, y_predict_LR,average = 'weighted')\n",
    "precision_LR = precision_score(y_test, y_predict_LR,average = 'weighted')\n",
    "f1_LR = f1_score(y_test, y_predict_LR,average = 'weighted')\n",
    "kapp_LR = cohen_kappa_score(y_test, y_predict_LR)"
   ]
  },
  {
   "cell_type": "code",
   "execution_count": 73,
   "metadata": {
    "ExecuteTime": {
     "end_time": "2021-01-05T14:16:13.447645Z",
     "start_time": "2021-01-05T14:16:13.442672Z"
    },
    "hidden": true
   },
   "outputs": [
    {
     "data": {
      "text/plain": [
       "[0.9011812041157036,\n",
       " 0.9011812041157036,\n",
       " 0.99868933942381,\n",
       " 0.9467591596255795,\n",
       " 0.02243994638102975]"
      ]
     },
     "execution_count": 73,
     "metadata": {},
     "output_type": "execute_result"
    }
   ],
   "source": [
    "metrics_LR = [accuracy_LR,recall_LR,precision_LR,f1_LR,kapp_LR]\n",
    "metrics_LR"
   ]
  },
  {
   "cell_type": "markdown",
   "metadata": {
    "ExecuteTime": {
     "end_time": "2020-12-27T10:52:37.142922Z",
     "start_time": "2020-12-27T10:52:37.138978Z"
    },
    "heading_collapsed": true,
    "hidden": true
   },
   "source": [
    "## 7.3 Random Forest"
   ]
  },
  {
   "cell_type": "code",
   "execution_count": 58,
   "metadata": {
    "ExecuteTime": {
     "end_time": "2021-01-05T14:04:45.216458Z",
     "start_time": "2021-01-05T14:01:52.541050Z"
    },
    "hidden": true
   },
   "outputs": [],
   "source": [
    "RF = RandomForestClassifier(random_state = 42, n_jobs = -1, class_weight = cla_wig)\n",
    "RF.fit(X_train_fs,y_train)\n",
    "y_predict_RF = RF.predict(X_test_fs)"
   ]
  },
  {
   "cell_type": "code",
   "execution_count": 67,
   "metadata": {
    "ExecuteTime": {
     "end_time": "2021-01-05T14:04:46.641117Z",
     "start_time": "2021-01-05T14:04:45.217456Z"
    },
    "hidden": true
   },
   "outputs": [],
   "source": [
    "cf_rf =confusion_matrix(y_test, y_predict_RF)"
   ]
  },
  {
   "cell_type": "code",
   "execution_count": 76,
   "metadata": {
    "hidden": true
   },
   "outputs": [
    {
     "data": {
      "image/png": "[encoded data removed]",
      "text/plain": [
       "<Figure size 576x432 with 1 Axes>"
      ]
     },
     "metadata": {
      "needs_background": "light"
     },
     "output_type": "display_data"
    }
   ],
   "source": [
    "plt.figure(figsize = (8,6))\n",
    "labels = ['Non-Fraud','Fraud']\n",
    "sns.heatmap(cf_rf,annot=True,xticklabels=labels,yticklabels = labels,cbar = False)\n",
    "plt.title('Confusion matrix of the Random Forest classifier');"
   ]
  },
  {
   "cell_type": "code",
   "execution_count": 74,
   "metadata": {
    "ExecuteTime": {
     "end_time": "2021-01-05T14:16:20.635889Z",
     "start_time": "2021-01-05T14:16:17.743891Z"
    },
    "hidden": true
   },
   "outputs": [],
   "source": [
    "accuracy_RF = accuracy_score(y_test, y_predict_RF)\n",
    "recall_RF = recall_score(y_test, y_predict_RF,average = 'weighted')\n",
    "precision_RF = precision_score(y_test, y_predict_RF,average = 'weighted')\n",
    "f1_RF = f1_score(y_test, y_predict_RF,average = 'weighted')\n",
    "kapp_RF = cohen_kappa_score(y_test, y_predict_RF)"
   ]
  },
  {
   "cell_type": "code",
   "execution_count": 75,
   "metadata": {
    "ExecuteTime": {
     "end_time": "2021-01-05T14:16:20.640855Z",
     "start_time": "2021-01-05T14:16:20.636848Z"
    },
    "hidden": true
   },
   "outputs": [],
   "source": [
    "metrics_RF = [accuracy_RF,recall_RF,precision_RF,f1_RF,kapp_RF]"
   ]
  },
  {
   "cell_type": "markdown",
   "metadata": {
    "heading_collapsed": true,
    "hidden": true
   },
   "source": [
    "## 7.4E XTree"
   ]
  },
  {
   "cell_type": "markdown",
   "metadata": {
    "hidden": true
   },
   "source": [
    "ExtraTree is a model that works the same as Random Forest, with a few differences, is also a ensemble method using differents decision tree (using sum or votting to make the predition).\n",
    "\n",
    "ExtraTree create differents decision tree using all the training, for Random Forest to train the decision Tree they use a random subsample (with replacement).  Another difference is ExtraTree randomly choose the features they are going to use to split the tree, meanwhile random forest randomly the features but find the best split of the features for the decision tree.\n",
    "\n",
    "When we use the all data, in the case of ExtraTree, will reduce the bias and randomly choosing the features reduce the variance of our model. ExtraTree is a faster model than Random Forest because don't have to calculate the optimal cut."
   ]
  },
  {
   "cell_type": "code",
   "execution_count": 74,
   "metadata": {
    "ExecuteTime": {
     "end_time": "2021-01-05T14:06:52.305732Z",
     "start_time": "2021-01-05T14:05:00.733399Z"
    },
    "hidden": true
   },
   "outputs": [],
   "source": [
    "EX = ExtraTreesClassifier(random_state = 42, n_jobs = -1, class_weight = cla_wig)\n",
    "EX.fit(X_train_fs,y_train)\n",
    "y_predict_EX = EX.predict(X_test_fs)"
   ]
  },
  {
   "cell_type": "code",
   "execution_count": 77,
   "metadata": {
    "ExecuteTime": {
     "end_time": "2021-01-05T14:06:53.603664Z",
     "start_time": "2021-01-05T14:06:52.307728Z"
    },
    "hidden": true
   },
   "outputs": [],
   "source": [
    "cf_et = confusion_matrix(y_test, y_predict_EX)"
   ]
  },
  {
   "cell_type": "code",
   "execution_count": 78,
   "metadata": {
    "hidden": true
   },
   "outputs": [
    {
     "data": {
      "image/png": "[encoded data removed]",
      "text/plain": [
       "<Figure size 576x432 with 1 Axes>"
      ]
     },
     "metadata": {
      "needs_background": "light"
     },
     "output_type": "display_data"
    }
   ],
   "source": [
    "plt.figure(figsize = (8,6))\n",
    "labels = ['Non-Fraud','Fraud']\n",
    "sns.heatmap(cf_et,annot=True,xticklabels=labels,yticklabels = labels,cbar = False)\n",
    "plt.title('Confusion matrix of the Extra Tree classifier');"
   ]
  },
  {
   "cell_type": "code",
   "execution_count": 76,
   "metadata": {
    "ExecuteTime": {
     "end_time": "2021-01-05T14:16:30.427580Z",
     "start_time": "2021-01-05T14:16:27.529961Z"
    },
    "hidden": true
   },
   "outputs": [],
   "source": [
    "accuracy_EX = accuracy_score(y_test, y_predict_EX)\n",
    "recall_EX = recall_score(y_test, y_predict_EX,average = 'weighted')\n",
    "precision_EX = precision_score(y_test, y_predict_EX,average = 'weighted')\n",
    "f1_EX = f1_score(y_test, y_predict_EX,average = 'weighted')\n",
    "kapp_EX = cohen_kappa_score(y_test, y_predict_EX)"
   ]
  },
  {
   "cell_type": "code",
   "execution_count": 77,
   "metadata": {
    "ExecuteTime": {
     "end_time": "2021-01-05T14:16:30.432609Z",
     "start_time": "2021-01-05T14:16:30.428580Z"
    },
    "hidden": true
   },
   "outputs": [],
   "source": [
    "metrics_EX = [accuracy_EX,recall_EX,precision_EX,f1_EX,kapp_EX]"
   ]
  },
  {
   "cell_type": "markdown",
   "metadata": {
    "heading_collapsed": true,
    "hidden": true
   },
   "source": [
    "## 7.5 KNN"
   ]
  },
  {
   "cell_type": "code",
   "execution_count": 83,
   "metadata": {
    "ExecuteTime": {
     "end_time": "2021-01-05T14:12:49.870753Z",
     "start_time": "2021-01-05T14:07:09.284441Z"
    },
    "hidden": true
   },
   "outputs": [
    {
     "data": {
      "text/plain": [
       "KNeighborsClassifier(n_jobs=-1, n_neighbors=2)"
      ]
     },
     "execution_count": 83,
     "metadata": {},
     "output_type": "execute_result"
    }
   ],
   "source": [
    "KNN = KNeighborsClassifier(n_neighbors=2, n_jobs = -1)\n",
    "KNN.fit(X_train_fs,y_train)"
   ]
  },
  {
   "cell_type": "code",
   "execution_count": 84,
   "metadata": {
    "ExecuteTime": {
     "end_time": "2021-01-05T14:15:15.026786Z",
     "start_time": "2021-01-05T14:12:49.871726Z"
    },
    "hidden": true
   },
   "outputs": [],
   "source": [
    "y_predict_KNN = KNN.predict(X_test_fs)\n",
    "cm_knn = confusion_matrix(y_test, y_predict_KNN)"
   ]
  },
  {
   "cell_type": "code",
   "execution_count": 85,
   "metadata": {
    "hidden": true
   },
   "outputs": [
    {
     "data": {
      "image/png": "[encoded data removed]",
      "text/plain": [
       "<Figure size 576x432 with 1 Axes>"
      ]
     },
     "metadata": {
      "needs_background": "light"
     },
     "output_type": "display_data"
    }
   ],
   "source": [
    "plt.figure(figsize = (8,6))\n",
    "labels = ['Non-Fraud','Fraud']\n",
    "sns.heatmap(cm_knn,annot=True,xticklabels=labels,yticklabels = labels,cbar = False)\n",
    "plt.title('Confusion matrix of the KNN classifier');"
   ]
  },
  {
   "cell_type": "code",
   "execution_count": 86,
   "metadata": {
    "ExecuteTime": {
     "end_time": "2021-01-05T14:16:36.972280Z",
     "start_time": "2021-01-05T14:16:34.110225Z"
    },
    "hidden": true
   },
   "outputs": [],
   "source": [
    "accuracy_KNN = accuracy_score(y_test, y_predict_KNN)\n",
    "recall_KNN = recall_score(y_test, y_predict_KNN,average = 'weighted')\n",
    "precision_KNN = precision_score(y_test, y_predict_KNN,average = 'weighted')\n",
    "f1_KNN = f1_score(y_test, y_predict_KNN,average = 'weighted')\n",
    "kapp_KNN = cohen_kappa_score(y_test, y_predict_KNN)"
   ]
  },
  {
   "cell_type": "code",
   "execution_count": 87,
   "metadata": {
    "ExecuteTime": {
     "end_time": "2021-01-05T14:16:36.978265Z",
     "start_time": "2021-01-05T14:16:36.973277Z"
    },
    "hidden": true
   },
   "outputs": [],
   "source": [
    "metrics_KNN = [accuracy_KNN,recall_KNN,precision_KNN,f1_KNN,kapp_KNN]"
   ]
  },
  {
   "cell_type": "markdown",
   "metadata": {
    "heading_collapsed": true,
    "hidden": true
   },
   "source": [
    "## 7.6 Model's Performance"
   ]
  },
  {
   "cell_type": "code",
   "execution_count": 80,
   "metadata": {
    "ExecuteTime": {
     "end_time": "2021-01-05T14:16:39.973618Z",
     "start_time": "2021-01-05T14:16:39.967670Z"
    },
    "hidden": true
   },
   "outputs": [],
   "source": [
    "dic = {'BaseLine':metrics_base,'Logistic Rregression':metrics_LR,'Random Forest':metrics_RF,'EX Three':metrics_EX,'KNN':metrics_KNN}\n",
    "Performance = pd.DataFrame(dic).T\n",
    "Performance = Performance.rename(columns = {0:'Accuracy',1:'Recall',2:'Precision',3:'F1-Score',4:'Kappa Score'})"
   ]
  },
  {
   "cell_type": "code",
   "execution_count": 81,
   "metadata": {
    "ExecuteTime": {
     "end_time": "2021-01-05T14:16:40.509931Z",
     "start_time": "2021-01-05T14:16:40.499961Z"
    },
    "hidden": true
   },
   "outputs": [
    {
     "data": {
      "text/html": [
       "<div>\n",
       "<style scoped>\n",
       "    .dataframe tbody tr th:only-of-type {\n",
       "        vertical-align: middle;\n",
       "    }\n",
       "\n",
       "    .dataframe tbody tr th {\n",
       "        vertical-align: top;\n",
       "    }\n",
       "\n",
       "    .dataframe thead th {\n",
       "        text-align: right;\n",
       "    }\n",
       "</style>\n",
       "<table border=\"1\" class=\"dataframe\">\n",
       "  <thead>\n",
       "    <tr style=\"text-align: right;\">\n",
       "      <th></th>\n",
       "      <th>Accuracy</th>\n",
       "      <th>Recall</th>\n",
       "      <th>Precision</th>\n",
       "      <th>F1-Score</th>\n",
       "      <th>Kappa Score</th>\n",
       "    </tr>\n",
       "  </thead>\n",
       "  <tbody>\n",
       "    <tr>\n",
       "      <th>BaseLine</th>\n",
       "      <td>0.565963</td>\n",
       "      <td>0.565963</td>\n",
       "      <td>0.998565</td>\n",
       "      <td>0.721474</td>\n",
       "      <td>0.002982</td>\n",
       "    </tr>\n",
       "    <tr>\n",
       "      <th>Logistic Rregression</th>\n",
       "      <td>0.901181</td>\n",
       "      <td>0.901181</td>\n",
       "      <td>0.998689</td>\n",
       "      <td>0.946759</td>\n",
       "      <td>0.022440</td>\n",
       "    </tr>\n",
       "    <tr>\n",
       "      <th>Random Forest</th>\n",
       "      <td>0.999995</td>\n",
       "      <td>0.999995</td>\n",
       "      <td>0.999995</td>\n",
       "      <td>0.999995</td>\n",
       "      <td>0.998105</td>\n",
       "    </tr>\n",
       "    <tr>\n",
       "      <th>EX Three</th>\n",
       "      <td>0.999749</td>\n",
       "      <td>0.999749</td>\n",
       "      <td>0.999747</td>\n",
       "      <td>0.999736</td>\n",
       "      <td>0.892987</td>\n",
       "    </tr>\n",
       "    <tr>\n",
       "      <th>KNN</th>\n",
       "      <td>0.999621</td>\n",
       "      <td>0.999621</td>\n",
       "      <td>0.999616</td>\n",
       "      <td>0.999591</td>\n",
       "      <td>0.830074</td>\n",
       "    </tr>\n",
       "  </tbody>\n",
       "</table>\n",
       "</div>"
      ],
      "text/plain": [
       "                      Accuracy    Recall  Precision  F1-Score  Kappa Score\n",
       "BaseLine              0.565963  0.565963   0.998565  0.721474     0.002982\n",
       "Logistic Rregression  0.901181  0.901181   0.998689  0.946759     0.022440\n",
       "Random Forest         0.999995  0.999995   0.999995  0.999995     0.998105\n",
       "EX Three              0.999749  0.999749   0.999747  0.999736     0.892987\n",
       "KNN                   0.999621  0.999621   0.999616  0.999591     0.830074"
      ]
     },
     "execution_count": 81,
     "metadata": {},
     "output_type": "execute_result"
    }
   ],
   "source": [
    "Performance"
   ]
  },
  {
   "cell_type": "markdown",
   "metadata": {
    "heading_collapsed": true
   },
   "source": [
    "# 8.0 Hyperparameter Fine Tuning"
   ]
  },
  {
   "cell_type": "markdown",
   "metadata": {
    "ExecuteTime": {
     "end_time": "2020-12-28T21:27:12.283181Z",
     "start_time": "2020-12-28T21:27:12.278212Z"
    },
    "heading_collapsed": true,
    "hidden": true
   },
   "source": [
    "## 8.1 Tunning Logistic Regression"
   ]
  },
  {
   "cell_type": "code",
   "execution_count": 82,
   "metadata": {
    "ExecuteTime": {
     "end_time": "2021-01-05T14:17:58.806817Z",
     "start_time": "2021-01-05T14:17:58.799863Z"
    },
    "hidden": true
   },
   "outputs": [],
   "source": [
    "solvers = ['newton-cg', 'lbfgs', 'liblinear']\n",
    "penalty = ['l1', 'l2']\n",
    "c_values = [100, 10, 1.0, 0.1, 0.01,0.001]\n",
    "grid = dict(solver=solvers,penalty=penalty,C=c_values)\n",
    "model_LR = LogisticRegression(class_weight = cla_wig)\n",
    "grid_search_LR = GridSearchCV(estimator=model_LR, param_grid=grid, n_jobs=-1, cv=5, scoring='accuracy')"
   ]
  },
  {
   "cell_type": "code",
   "execution_count": 83,
   "metadata": {
    "ExecuteTime": {
     "end_time": "2021-01-05T21:10:00.020523Z",
     "start_time": "2021-01-05T14:18:06.104411Z"
    },
    "hidden": true
   },
   "outputs": [
    {
     "name": "stderr",
     "output_type": "stream",
     "text": [
      "D:\\Users\\gusta\\Anaconda3\\lib\\site-packages\\sklearn\\svm\\_base.py:976: ConvergenceWarning: Liblinear failed to converge, increase the number of iterations.\n",
      "  warnings.warn(\"Liblinear failed to converge, increase \"\n"
     ]
    }
   ],
   "source": [
    "results_LR = grid_search_LR.fit(X_train_fs,y_train)"
   ]
  },
  {
   "cell_type": "code",
   "execution_count": 125,
   "metadata": {
    "ExecuteTime": {
     "end_time": "2020-12-28T23:34:31.048595Z",
     "start_time": "2020-12-28T23:34:30.965739Z"
    },
    "hidden": true
   },
   "outputs": [
    {
     "data": {
      "text/plain": [
       "LogisticRegression(C=100,\n",
       "                   class_weight={0: 0.000881592635557385,\n",
       "                                 1: 0.9991184073644426},\n",
       "                   solver='newton-cg')"
      ]
     },
     "execution_count": 125,
     "metadata": {},
     "output_type": "execute_result"
    }
   ],
   "source": [
    "results_LR.best_estimator_"
   ]
  },
  {
   "cell_type": "code",
   "execution_count": 86,
   "metadata": {
    "ExecuteTime": {
     "end_time": "2021-01-05T22:40:04.800925Z",
     "start_time": "2021-01-05T22:40:01.672240Z"
    },
    "hidden": true
   },
   "outputs": [
    {
     "data": {
      "text/html": [
       "<div>\n",
       "<style scoped>\n",
       "    .dataframe tbody tr th:only-of-type {\n",
       "        vertical-align: middle;\n",
       "    }\n",
       "\n",
       "    .dataframe tbody tr th {\n",
       "        vertical-align: top;\n",
       "    }\n",
       "\n",
       "    .dataframe thead th {\n",
       "        text-align: right;\n",
       "    }\n",
       "</style>\n",
       "<table border=\"1\" class=\"dataframe\">\n",
       "  <thead>\n",
       "    <tr style=\"text-align: right;\">\n",
       "      <th></th>\n",
       "      <th>Accuracy</th>\n",
       "      <th>Recall</th>\n",
       "      <th>Precision</th>\n",
       "      <th>F1-Score</th>\n",
       "      <th>Kappa Score</th>\n",
       "    </tr>\n",
       "  </thead>\n",
       "  <tbody>\n",
       "    <tr>\n",
       "      <th>0</th>\n",
       "      <td>0.917185</td>\n",
       "      <td>0.978942</td>\n",
       "      <td>0.015067</td>\n",
       "      <td>0.029677</td>\n",
       "      <td>0.027198</td>\n",
       "    </tr>\n",
       "  </tbody>\n",
       "</table>\n",
       "</div>"
      ],
      "text/plain": [
       "   Accuracy    Recall  Precision  F1-Score  Kappa Score\n",
       "0  0.917185  0.978942   0.015067  0.029677     0.027198"
      ]
     },
     "execution_count": 86,
     "metadata": {},
     "output_type": "execute_result"
    }
   ],
   "source": [
    "accuracy_LR = accuracy_score(y_test, y_predict_LR)\n",
    "recall_LR = recall_score(y_test, y_predict_LR)\n",
    "precision_LR = precision_score(y_test, y_predict_LR)\n",
    "f1_LR = f1_score(y_test, y_predict_LR)\n",
    "kapp_LR = cohen_kappa_score(y_test, y_predict_LR)\n",
    "metrics_LR = [accuracy_LR,recall_LR,precision_LR,f1_LR,kapp_LR]\n",
    "Per_LR = pd.DataFrame(metrics_LR).T\n",
    "Per_LR = Per_LR.rename(columns = {0:'Accuracy',1:'Recall',2:'Precision',3:'F1-Score',4:'Kappa Score'})\n",
    "Per_LR"
   ]
  },
  {
   "cell_type": "code",
   "execution_count": 126,
   "metadata": {
    "ExecuteTime": {
     "end_time": "2020-12-28T23:35:34.906767Z",
     "start_time": "2020-12-28T23:35:07.100716Z"
    },
    "hidden": true
   },
   "outputs": [
    {
     "data": {
      "text/plain": [
       "LogisticRegression(C=100,\n",
       "                   class_weight={0: 0.000881592635557385,\n",
       "                                 1: 0.9991184073644426},\n",
       "                   solver='newton-cg')"
      ]
     },
     "execution_count": 126,
     "metadata": {},
     "output_type": "execute_result"
    }
   ],
   "source": [
    "LR = LogisticRegression(class_weight = cla_wig,penalty = 'l2',solver = 'newton-cg',C =100)\n",
    "LR.fit(X_train_fs,y_train)"
   ]
  },
  {
   "cell_type": "code",
   "execution_count": 127,
   "metadata": {
    "ExecuteTime": {
     "end_time": "2020-12-28T23:40:16.216136Z",
     "start_time": "2020-12-28T23:35:34.909758Z"
    },
    "hidden": true
   },
   "outputs": [
    {
     "data": {
      "text/plain": [
       "array([[1207246,  222436],\n",
       "       [    215,    1693]], dtype=int64)"
      ]
     },
     "execution_count": 127,
     "metadata": {},
     "output_type": "execute_result"
    }
   ],
   "source": [
    "y_predict_LR = LR.predict(X_test_fs)\n",
    "confusion_matrix(y_test, y_predict_LR)"
   ]
  },
  {
   "cell_type": "code",
   "execution_count": 128,
   "metadata": {
    "ExecuteTime": {
     "end_time": "2020-12-28T23:42:39.878103Z",
     "start_time": "2020-12-28T23:42:36.483233Z"
    },
    "hidden": true
   },
   "outputs": [],
   "source": [
    "accuracy_LR = accuracy_score(y_test, y_predict_LR)\n",
    "recall_LR = recall_score(y_test, y_predict_LR)\n",
    "precision_LR = precision_score(y_test, y_predict_LR)\n",
    "f1_LR = f1_score(y_test, y_predict_LR)\n",
    "kapp_LR = cohen_kappa_score(y_test, y_predict_LR)\n",
    "metrics_LR = [accuracy_LR,recall_LR,precision_LR,f1_LR,kapp_LR]"
   ]
  },
  {
   "cell_type": "code",
   "execution_count": 129,
   "metadata": {
    "ExecuteTime": {
     "end_time": "2020-12-28T23:42:40.004422Z",
     "start_time": "2020-12-28T23:42:39.881682Z"
    },
    "hidden": true
   },
   "outputs": [
    {
     "data": {
      "text/html": [
       "<div>\n",
       "<style scoped>\n",
       "    .dataframe tbody tr th:only-of-type {\n",
       "        vertical-align: middle;\n",
       "    }\n",
       "\n",
       "    .dataframe tbody tr th {\n",
       "        vertical-align: top;\n",
       "    }\n",
       "\n",
       "    .dataframe thead th {\n",
       "        text-align: right;\n",
       "    }\n",
       "</style>\n",
       "<table border=\"1\" class=\"dataframe\">\n",
       "  <thead>\n",
       "    <tr style=\"text-align: right;\">\n",
       "      <th></th>\n",
       "      <th>Accuracy</th>\n",
       "      <th>Recall</th>\n",
       "      <th>Precision</th>\n",
       "      <th>F1-Score</th>\n",
       "      <th>Kappa Score</th>\n",
       "    </tr>\n",
       "  </thead>\n",
       "  <tbody>\n",
       "    <tr>\n",
       "      <th>0</th>\n",
       "      <td>0.844473</td>\n",
       "      <td>0.887317</td>\n",
       "      <td>0.007554</td>\n",
       "      <td>0.01498</td>\n",
       "      <td>0.012369</td>\n",
       "    </tr>\n",
       "  </tbody>\n",
       "</table>\n",
       "</div>"
      ],
      "text/plain": [
       "   Accuracy    Recall  Precision  F1-Score  Kappa Score\n",
       "0  0.844473  0.887317   0.007554   0.01498     0.012369"
      ]
     },
     "execution_count": 129,
     "metadata": {},
     "output_type": "execute_result"
    }
   ],
   "source": [
    "Per_LR = pd.DataFrame(metrics_LR).T\n",
    "Per_LR = Per_LR.rename(columns = {0:'Accuracy',1:'Recall',2:'Precision',3:'F1-Score',4:'Kappa Score'})\n",
    "Per_LR"
   ]
  },
  {
   "cell_type": "markdown",
   "metadata": {
    "heading_collapsed": true,
    "hidden": true
   },
   "source": [
    "## 8.2 Tunning ExtraTrees"
   ]
  },
  {
   "cell_type": "code",
   "execution_count": 87,
   "metadata": {
    "ExecuteTime": {
     "end_time": "2021-01-05T22:42:54.041981Z",
     "start_time": "2021-01-05T22:42:54.031012Z"
    },
    "hidden": true
   },
   "outputs": [],
   "source": [
    "n_estimator = [100]\n",
    "max_depths = [1,2,5,7,10,12]\n",
    "min_samples_splits = [2,4,5,7,10]\n",
    "min_samples_leafs = [1,2,3,4,5]\n",
    "max_feature = ['auto','sqrt','log2']\n",
    "grid_EX = dict(n_estimators = n_estimator,max_depth= max_depths,min_samples_split= min_samples_splits,min_samples_leaf = min_samples_leafs,max_features = max_feature)"
   ]
  },
  {
   "cell_type": "code",
   "execution_count": 88,
   "metadata": {
    "ExecuteTime": {
     "end_time": "2021-01-06T01:15:35.629554Z",
     "start_time": "2021-01-05T22:43:09.856738Z"
    },
    "hidden": true
   },
   "outputs": [
    {
     "name": "stdout",
     "output_type": "stream",
     "text": [
      "{'n_estimators': 100, 'max_depth': 5, 'min_samples_split': 10, 'min_samples_leaf': 3, 'max_features': 'sqrt'}\n",
      "{'n_estimators': 100, 'max_depth': 2, 'min_samples_split': 4, 'min_samples_leaf': 1, 'max_features': 'auto'}\n",
      "{'n_estimators': 100, 'max_depth': 1, 'min_samples_split': 4, 'min_samples_leaf': 2, 'max_features': 'sqrt'}\n",
      "{'n_estimators': 100, 'max_depth': 10, 'min_samples_split': 7, 'min_samples_leaf': 1, 'max_features': 'auto'}\n",
      "{'n_estimators': 100, 'max_depth': 5, 'min_samples_split': 2, 'min_samples_leaf': 5, 'max_features': 'log2'}\n",
      "{'n_estimators': 100, 'max_depth': 7, 'min_samples_split': 10, 'min_samples_leaf': 3, 'max_features': 'sqrt'}\n",
      "{'n_estimators': 100, 'max_depth': 12, 'min_samples_split': 2, 'min_samples_leaf': 3, 'max_features': 'log2'}\n",
      "{'n_estimators': 100, 'max_depth': 1, 'min_samples_split': 2, 'min_samples_leaf': 5, 'max_features': 'auto'}\n",
      "{'n_estimators': 100, 'max_depth': 7, 'min_samples_split': 4, 'min_samples_leaf': 1, 'max_features': 'auto'}\n",
      "{'n_estimators': 100, 'max_depth': 5, 'min_samples_split': 2, 'min_samples_leaf': 3, 'max_features': 'sqrt'}\n",
      "{'n_estimators': 100, 'max_depth': 5, 'min_samples_split': 7, 'min_samples_leaf': 4, 'max_features': 'auto'}\n",
      "{'n_estimators': 100, 'max_depth': 1, 'min_samples_split': 4, 'min_samples_leaf': 2, 'max_features': 'sqrt'}\n",
      "{'n_estimators': 100, 'max_depth': 12, 'min_samples_split': 4, 'min_samples_leaf': 2, 'max_features': 'sqrt'}\n",
      "{'n_estimators': 100, 'max_depth': 1, 'min_samples_split': 7, 'min_samples_leaf': 4, 'max_features': 'auto'}\n",
      "{'n_estimators': 100, 'max_depth': 7, 'min_samples_split': 7, 'min_samples_leaf': 1, 'max_features': 'auto'}\n",
      "{'n_estimators': 100, 'max_depth': 10, 'min_samples_split': 2, 'min_samples_leaf': 3, 'max_features': 'log2'}\n",
      "{'n_estimators': 100, 'max_depth': 1, 'min_samples_split': 2, 'min_samples_leaf': 5, 'max_features': 'log2'}\n",
      "{'n_estimators': 100, 'max_depth': 10, 'min_samples_split': 10, 'min_samples_leaf': 1, 'max_features': 'auto'}\n",
      "{'n_estimators': 100, 'max_depth': 2, 'min_samples_split': 2, 'min_samples_leaf': 3, 'max_features': 'log2'}\n",
      "{'n_estimators': 100, 'max_depth': 2, 'min_samples_split': 2, 'min_samples_leaf': 4, 'max_features': 'sqrt'}\n"
     ]
    }
   ],
   "source": [
    "import random\n",
    "final_result = pd.DataFrame()\n",
    "MAX_EVAL = 20\n",
    "for i in range(MAX_EVAL):\n",
    "    ##choose values for parameters randomly\n",
    "    hp = {k : random.sample(v,1)[0] for k , v in grid_EX.items() }\n",
    "    print(hp)\n",
    "    model = ExtraTreesClassifier(random_state = 42, n_jobs = -1, class_weight = cla_wig,\n",
    "                                max_depth = hp['max_depth'],\n",
    "                                min_samples_split = hp['min_samples_split'],\n",
    "                                min_samples_leaf = hp['min_samples_leaf'],\n",
    "                                max_features = hp['max_features'])\n",
    "    \n",
    "    result = cross_val(X_train_fs,y_train,model,10)\n",
    "    result_pd = pd.DataFrame(result).T\n",
    "    final_result = pd.concat([final_result,result_pd])\n",
    "    #model"
   ]
  },
  {
   "cell_type": "code",
   "execution_count": 63,
   "metadata": {
    "ExecuteTime": {
     "end_time": "2020-12-31T18:39:17.323359Z",
     "start_time": "2020-12-31T18:39:16.987038Z"
    },
    "hidden": true
   },
   "outputs": [],
   "source": [
    "final_result = final_result.rename(columns = {0:'Accuracy',1:'Recall',2:'Precision',3:'F1-Score',4:'Kappa Score'})"
   ]
  },
  {
   "cell_type": "code",
   "execution_count": 64,
   "metadata": {
    "ExecuteTime": {
     "end_time": "2020-12-31T18:39:20.568099Z",
     "start_time": "2020-12-31T18:39:20.554105Z"
    },
    "hidden": true
   },
   "outputs": [
    {
     "data": {
      "text/html": [
       "<div>\n",
       "<style scoped>\n",
       "    .dataframe tbody tr th:only-of-type {\n",
       "        vertical-align: middle;\n",
       "    }\n",
       "\n",
       "    .dataframe tbody tr th {\n",
       "        vertical-align: top;\n",
       "    }\n",
       "\n",
       "    .dataframe thead th {\n",
       "        text-align: right;\n",
       "    }\n",
       "</style>\n",
       "<table border=\"1\" class=\"dataframe\">\n",
       "  <thead>\n",
       "    <tr style=\"text-align: right;\">\n",
       "      <th></th>\n",
       "      <th>Accuracy</th>\n",
       "      <th>Recall</th>\n",
       "      <th>Precision</th>\n",
       "      <th>F1-Score</th>\n",
       "      <th>Kappa Score</th>\n",
       "    </tr>\n",
       "  </thead>\n",
       "  <tbody>\n",
       "    <tr>\n",
       "      <th>0</th>\n",
       "      <td>0.399891</td>\n",
       "      <td>0.980563</td>\n",
       "      <td>0.002159</td>\n",
       "      <td>0.004309</td>\n",
       "      <td>0.001672</td>\n",
       "    </tr>\n",
       "    <tr>\n",
       "      <th>0</th>\n",
       "      <td>0.394406</td>\n",
       "      <td>0.981011</td>\n",
       "      <td>0.002113</td>\n",
       "      <td>0.004216</td>\n",
       "      <td>0.001614</td>\n",
       "    </tr>\n",
       "    <tr>\n",
       "      <th>0</th>\n",
       "      <td>0.397241</td>\n",
       "      <td>0.981010</td>\n",
       "      <td>0.002133</td>\n",
       "      <td>0.004256</td>\n",
       "      <td>0.001641</td>\n",
       "    </tr>\n",
       "    <tr>\n",
       "      <th>0</th>\n",
       "      <td>0.948568</td>\n",
       "      <td>0.959273</td>\n",
       "      <td>0.024080</td>\n",
       "      <td>0.046974</td>\n",
       "      <td>0.044522</td>\n",
       "    </tr>\n",
       "    <tr>\n",
       "      <th>0</th>\n",
       "      <td>0.918656</td>\n",
       "      <td>0.956295</td>\n",
       "      <td>0.015187</td>\n",
       "      <td>0.029899</td>\n",
       "      <td>0.027392</td>\n",
       "    </tr>\n",
       "    <tr>\n",
       "      <th>0</th>\n",
       "      <td>0.394880</td>\n",
       "      <td>0.981740</td>\n",
       "      <td>0.002125</td>\n",
       "      <td>0.004241</td>\n",
       "      <td>0.001627</td>\n",
       "    </tr>\n",
       "    <tr>\n",
       "      <th>0</th>\n",
       "      <td>0.727356</td>\n",
       "      <td>0.952596</td>\n",
       "      <td>0.004530</td>\n",
       "      <td>0.009018</td>\n",
       "      <td>0.006444</td>\n",
       "    </tr>\n",
       "    <tr>\n",
       "      <th>0</th>\n",
       "      <td>0.947687</td>\n",
       "      <td>0.964219</td>\n",
       "      <td>0.023340</td>\n",
       "      <td>0.045575</td>\n",
       "      <td>0.043159</td>\n",
       "    </tr>\n",
       "    <tr>\n",
       "      <th>0</th>\n",
       "      <td>0.399731</td>\n",
       "      <td>0.980020</td>\n",
       "      <td>0.002157</td>\n",
       "      <td>0.004305</td>\n",
       "      <td>0.001669</td>\n",
       "    </tr>\n",
       "    <tr>\n",
       "      <th>0</th>\n",
       "      <td>0.395380</td>\n",
       "      <td>0.981603</td>\n",
       "      <td>0.002123</td>\n",
       "      <td>0.004237</td>\n",
       "      <td>0.001628</td>\n",
       "    </tr>\n",
       "    <tr>\n",
       "      <th>0</th>\n",
       "      <td>0.947250</td>\n",
       "      <td>0.961269</td>\n",
       "      <td>0.023474</td>\n",
       "      <td>0.045827</td>\n",
       "      <td>0.043369</td>\n",
       "    </tr>\n",
       "    <tr>\n",
       "      <th>0</th>\n",
       "      <td>0.947119</td>\n",
       "      <td>0.957125</td>\n",
       "      <td>0.023076</td>\n",
       "      <td>0.045064</td>\n",
       "      <td>0.042631</td>\n",
       "    </tr>\n",
       "    <tr>\n",
       "      <th>0</th>\n",
       "      <td>0.960890</td>\n",
       "      <td>0.969228</td>\n",
       "      <td>0.031835</td>\n",
       "      <td>0.061640</td>\n",
       "      <td>0.059231</td>\n",
       "    </tr>\n",
       "    <tr>\n",
       "      <th>0</th>\n",
       "      <td>0.725659</td>\n",
       "      <td>0.953970</td>\n",
       "      <td>0.004477</td>\n",
       "      <td>0.008913</td>\n",
       "      <td>0.006359</td>\n",
       "    </tr>\n",
       "    <tr>\n",
       "      <th>0</th>\n",
       "      <td>0.725351</td>\n",
       "      <td>0.953288</td>\n",
       "      <td>0.004463</td>\n",
       "      <td>0.008885</td>\n",
       "      <td>0.006333</td>\n",
       "    </tr>\n",
       "    <tr>\n",
       "      <th>0</th>\n",
       "      <td>0.947947</td>\n",
       "      <td>0.959262</td>\n",
       "      <td>0.023564</td>\n",
       "      <td>0.045993</td>\n",
       "      <td>0.043560</td>\n",
       "    </tr>\n",
       "    <tr>\n",
       "      <th>0</th>\n",
       "      <td>0.920040</td>\n",
       "      <td>0.955052</td>\n",
       "      <td>0.015587</td>\n",
       "      <td>0.030671</td>\n",
       "      <td>0.028144</td>\n",
       "    </tr>\n",
       "    <tr>\n",
       "      <th>0</th>\n",
       "      <td>0.729774</td>\n",
       "      <td>0.951865</td>\n",
       "      <td>0.004560</td>\n",
       "      <td>0.009076</td>\n",
       "      <td>0.006508</td>\n",
       "    </tr>\n",
       "    <tr>\n",
       "      <th>0</th>\n",
       "      <td>0.393577</td>\n",
       "      <td>0.981645</td>\n",
       "      <td>0.002106</td>\n",
       "      <td>0.004203</td>\n",
       "      <td>0.001607</td>\n",
       "    </tr>\n",
       "    <tr>\n",
       "      <th>0</th>\n",
       "      <td>0.730295</td>\n",
       "      <td>0.954226</td>\n",
       "      <td>0.004617</td>\n",
       "      <td>0.009189</td>\n",
       "      <td>0.006599</td>\n",
       "    </tr>\n",
       "  </tbody>\n",
       "</table>\n",
       "</div>"
      ],
      "text/plain": [
       "   Accuracy    Recall  Precision  F1-Score  Kappa Score\n",
       "0  0.399891  0.980563   0.002159  0.004309     0.001672\n",
       "0  0.394406  0.981011   0.002113  0.004216     0.001614\n",
       "0  0.397241  0.981010   0.002133  0.004256     0.001641\n",
       "0  0.948568  0.959273   0.024080  0.046974     0.044522\n",
       "0  0.918656  0.956295   0.015187  0.029899     0.027392\n",
       "0  0.394880  0.981740   0.002125  0.004241     0.001627\n",
       "0  0.727356  0.952596   0.004530  0.009018     0.006444\n",
       "0  0.947687  0.964219   0.023340  0.045575     0.043159\n",
       "0  0.399731  0.980020   0.002157  0.004305     0.001669\n",
       "0  0.395380  0.981603   0.002123  0.004237     0.001628\n",
       "0  0.947250  0.961269   0.023474  0.045827     0.043369\n",
       "0  0.947119  0.957125   0.023076  0.045064     0.042631\n",
       "0  0.960890  0.969228   0.031835  0.061640     0.059231\n",
       "0  0.725659  0.953970   0.004477  0.008913     0.006359\n",
       "0  0.725351  0.953288   0.004463  0.008885     0.006333\n",
       "0  0.947947  0.959262   0.023564  0.045993     0.043560\n",
       "0  0.920040  0.955052   0.015587  0.030671     0.028144\n",
       "0  0.729774  0.951865   0.004560  0.009076     0.006508\n",
       "0  0.393577  0.981645   0.002106  0.004203     0.001607\n",
       "0  0.730295  0.954226   0.004617  0.009189     0.006599"
      ]
     },
     "execution_count": 64,
     "metadata": {},
     "output_type": "execute_result"
    }
   ],
   "source": [
    "final_result"
   ]
  },
  {
   "cell_type": "markdown",
   "metadata": {
    "hidden": true
   },
   "source": [
    "## 8.3 Final Parameters for ExtraTrees"
   ]
  },
  {
   "cell_type": "markdown",
   "metadata": {
    "ExecuteTime": {
     "end_time": "2020-12-30T11:58:13.704613Z",
     "start_time": "2020-12-30T11:58:13.574759Z"
    },
    "hidden": true
   },
   "source": [
    "{'n_estimators': 100, 'max_depth': 10, 'min_samples_split': 4, 'min_samples_leaf': 5, 'max_features': 'sqrt'}"
   ]
  },
  {
   "cell_type": "code",
   "execution_count": 41,
   "metadata": {
    "ExecuteTime": {
     "end_time": "2021-01-11T13:27:22.207939Z",
     "start_time": "2021-01-11T13:25:17.040938Z"
    },
    "hidden": true
   },
   "outputs": [],
   "source": [
    "EX = ExtraTreesClassifier(random_state = 42, n_jobs = -1, class_weight = cla_wig,\n",
    "                         max_depth = 10,\n",
    "                         min_samples_split = 4,\n",
    "                         min_samples_leaf = 5,\n",
    "                         max_features = 'sqrt')\n",
    "EX.fit(X_train_fs,y_train)\n",
    "y_predict_final = EX.predict(X_test_fs)"
   ]
  },
  {
   "cell_type": "markdown",
   "metadata": {},
   "source": [
    "# 9.0 Bussiness"
   ]
  },
  {
   "cell_type": "markdown",
   "metadata": {
    "heading_collapsed": true
   },
   "source": [
    "## 9.1 Model reliability"
   ]
  },
  {
   "cell_type": "code",
   "execution_count": 97,
   "metadata": {
    "hidden": true
   },
   "outputs": [
    {
     "data": {
      "image/png": "[encoded data removed]",
      "text/plain": [
       "<Figure size 576x432 with 1 Axes>"
      ]
     },
     "metadata": {
      "needs_background": "light"
     },
     "output_type": "display_data"
    }
   ],
   "source": [
    "conf = confusion_matrix(y_test, y_predict_final)\n",
    "plt.figure(figsize = (8,6))\n",
    "labels = ['Non-Fraud','Fraud']\n",
    "sns.heatmap(conf,annot=True,xticklabels=labels,yticklabels = labels,cbar = False)\n",
    "plt.title('Confusion matrix Final Extra Tree classifier');"
   ]
  },
  {
   "cell_type": "code",
   "execution_count": 98,
   "metadata": {
    "ExecuteTime": {
     "end_time": "2021-01-11T13:27:33.226433Z",
     "start_time": "2021-01-11T13:27:29.986077Z"
    },
    "hidden": true
   },
   "outputs": [
    {
     "data": {
      "text/html": [
       "<div>\n",
       "<style scoped>\n",
       "    .dataframe tbody tr th:only-of-type {\n",
       "        vertical-align: middle;\n",
       "    }\n",
       "\n",
       "    .dataframe tbody tr th {\n",
       "        vertical-align: top;\n",
       "    }\n",
       "\n",
       "    .dataframe thead th {\n",
       "        text-align: right;\n",
       "    }\n",
       "</style>\n",
       "<table border=\"1\" class=\"dataframe\">\n",
       "  <thead>\n",
       "    <tr style=\"text-align: right;\">\n",
       "      <th></th>\n",
       "      <th>Accuracy</th>\n",
       "      <th>Recall</th>\n",
       "      <th>Precision</th>\n",
       "      <th>F1-Score</th>\n",
       "      <th>Kappa Score</th>\n",
       "    </tr>\n",
       "  </thead>\n",
       "  <tbody>\n",
       "    <tr>\n",
       "      <th>0</th>\n",
       "      <td>0.961622</td>\n",
       "      <td>0.961622</td>\n",
       "      <td>0.99872</td>\n",
       "      <td>0.979236</td>\n",
       "      <td>0.05817</td>\n",
       "    </tr>\n",
       "  </tbody>\n",
       "</table>\n",
       "</div>"
      ],
      "text/plain": [
       "   Accuracy    Recall  Precision  F1-Score  Kappa Score\n",
       "0  0.961622  0.961622    0.99872  0.979236      0.05817"
      ]
     },
     "execution_count": 98,
     "metadata": {},
     "output_type": "execute_result"
    }
   ],
   "source": [
    "from sklearn.metrics import balanced_accuracy_score\n",
    "\n",
    "#accuracy_EX = balanced_accuracy_score(y_test, y_predict_final)\n",
    "accuracy_EX  = accuracy_score(y_test, y_predict_final)\n",
    "recall_EX = recall_score(y_test, y_predict_final,average = 'weighted')\n",
    "precision_EX = precision_score(y_test, y_predict_final,average = 'weighted')\n",
    "f1_EX = f1_score(y_test, y_predict_final,average = 'weighted')\n",
    "kapp_EX = cohen_kappa_score(y_test, y_predict_final,)\n",
    "metrics_EX = [accuracy_EX,recall_EX,precision_EX,f1_EX,kapp_EX]\n",
    "\n",
    "Metrics = pd.DataFrame(metrics_EX).T\n",
    "Metrics = Metrics.rename(columns = {0:'Accuracy',1:'Recall',2:'Precision',3:'F1-Score',4:'Kappa Score'})\n",
    "Metrics"
   ]
  },
  {
   "cell_type": "markdown",
   "metadata": {
    "hidden": true
   },
   "source": [
    "<font size = 4> **Conclusion** </font>\n",
    "\n",
    "Looking only for the fraud transaction our model has good 98% of accuracy but for non fraud our model is lower with 96%. The initial idea was to create a good model to predict fraud transaction, our model is doing well.\n",
    "\n",
    "For the next steps is to increase the accuracy of non fraud transaction and the same time maintain the the precision of fraud."
   ]
  },
  {
   "cell_type": "markdown",
   "metadata": {
    "ExecuteTime": {
     "end_time": "2021-01-02T13:15:31.266061Z",
     "start_time": "2021-01-02T13:15:31.262108Z"
    },
    "heading_collapsed": true
   },
   "source": [
    "## 9.2 Revenues"
   ]
  },
  {
   "cell_type": "markdown",
   "metadata": {
    "hidden": true
   },
   "source": [
    "<font size = 4> **Conclusion** </font>\n",
    "\n",
    "\n",
    "It is possible to notice that the values of the transitions in which our model was unable to classify correctly were between 0 - 100 thousand. And the other hand the value of the transaction for right classify was 0.5 - 1 milions dolars."
   ]
  },
  {
   "cell_type": "code",
   "execution_count": 101,
   "metadata": {
    "ExecuteTime": {
     "end_time": "2021-01-11T13:27:33.234962Z",
     "start_time": "2021-01-11T13:27:33.228976Z"
    },
    "hidden": true
   },
   "outputs": [],
   "source": [
    "ind_tes = X_test_fs.index"
   ]
  },
  {
   "cell_type": "code",
   "execution_count": 102,
   "metadata": {
    "ExecuteTime": {
     "end_time": "2021-01-11T13:27:34.592395Z",
     "start_time": "2021-01-11T13:27:33.236964Z"
    },
    "hidden": true
   },
   "outputs": [],
   "source": [
    "Df9 = Df4.loc[ind_tes]\n",
    "#Df9['fraud'] = y_test\n",
    "Df9['prediction'] = y_predict_final"
   ]
  },
  {
   "cell_type": "code",
   "execution_count": 103,
   "metadata": {
    "ExecuteTime": {
     "end_time": "2021-01-11T13:28:14.207057Z",
     "start_time": "2021-01-11T13:27:34.594806Z"
    },
    "hidden": true
   },
   "outputs": [],
   "source": [
    "value = []\n",
    "for i in range(0, len(Df9)):\n",
    "    if (Df9['fraud'].values[i] == 1) & (Df9['prediction'].values[i] == 1):\n",
    "        value.append(round(Df9['amount'].values[i]*0.25,2))\n",
    "    elif (Df9['fraud'].values[i] == 0) & (Df9['prediction'].values[i] == 1):\n",
    "        value.append(round(Df9['amount'].values[i]*0.05,2))\n",
    "    elif (Df9['fraud'].values[i] == 1) & (Df9['prediction'].values[i] == 0):\n",
    "        value.append(-round(Df9['amount'].values[i],2))\n",
    "    elif (Df9['fraud'].values[i] == 0) & (Df9['prediction'].values[i] == 0):\n",
    "        value.append(0)"
   ]
  },
  {
   "cell_type": "code",
   "execution_count": 104,
   "metadata": {
    "ExecuteTime": {
     "end_time": "2021-01-11T13:28:14.527629Z",
     "start_time": "2021-01-11T13:28:14.209310Z"
    },
    "hidden": true
   },
   "outputs": [],
   "source": [
    "Df9['receive_value'] = value"
   ]
  },
  {
   "cell_type": "markdown",
   "metadata": {
    "heading_collapsed": true,
    "hidden": true
   },
   "source": [
    "### 9.2.1 Distribution of Negative Revenue"
   ]
  },
  {
   "cell_type": "code",
   "execution_count": 105,
   "metadata": {
    "ExecuteTime": {
     "end_time": "2021-01-11T13:28:14.702246Z",
     "start_time": "2021-01-11T13:28:14.529614Z"
    },
    "hidden": true
   },
   "outputs": [],
   "source": [
    "Lost = Df9[(Df9['fraud'] == 1) & (Df9['prediction'] == 0)]"
   ]
  },
  {
   "cell_type": "code",
   "execution_count": 106,
   "metadata": {
    "ExecuteTime": {
     "end_time": "2021-01-11T13:28:15.012602Z",
     "start_time": "2021-01-11T13:28:14.703624Z"
    },
    "hidden": true
   },
   "outputs": [
    {
     "name": "stderr",
     "output_type": "stream",
     "text": [
      "E:\\Anaconda\\lib\\site-packages\\seaborn\\distributions.py:2551: FutureWarning: `distplot` is a deprecated function and will be removed in a future version. Please adapt your code to use either `displot` (a figure-level function with similar flexibility) or `histplot` (an axes-level function for histograms).\n",
      "  warnings.warn(msg, FutureWarning)\n"
     ]
    },
    {
     "data": {
      "text/plain": [
       "<AxesSubplot:xlabel='receive_value', ylabel='Density'>"
      ]
     },
     "execution_count": 106,
     "metadata": {},
     "output_type": "execute_result"
    },
    {
     "data": {
      "image/png": "[encoded data removed]",
      "text/plain": [
       "<Figure size 432x288 with 1 Axes>"
      ]
     },
     "metadata": {
      "needs_background": "light"
     },
     "output_type": "display_data"
    }
   ],
   "source": [
    "sns.distplot(-Lost['receive_value'])"
   ]
  },
  {
   "cell_type": "markdown",
   "metadata": {
    "heading_collapsed": true,
    "hidden": true
   },
   "source": [
    "### 9.2.2 Distribution of Positive Revenue"
   ]
  },
  {
   "cell_type": "code",
   "execution_count": 107,
   "metadata": {
    "ExecuteTime": {
     "end_time": "2021-01-11T13:28:15.052770Z",
     "start_time": "2021-01-11T13:28:15.013582Z"
    },
    "hidden": true
   },
   "outputs": [],
   "source": [
    "Win1 = Df9[(Df9['fraud'] == 0) & (Df9['prediction'] == 1)]\n",
    "Win2 = Df9[(Df9['fraud'] == 1) & (Df9['prediction'] == 1)]"
   ]
  },
  {
   "cell_type": "code",
   "execution_count": 108,
   "metadata": {
    "ExecuteTime": {
     "end_time": "2021-01-11T13:28:15.418162Z",
     "start_time": "2021-01-11T13:28:15.054400Z"
    },
    "hidden": true
   },
   "outputs": [
    {
     "name": "stderr",
     "output_type": "stream",
     "text": [
      "E:\\Anaconda\\lib\\site-packages\\seaborn\\distributions.py:2551: FutureWarning: `distplot` is a deprecated function and will be removed in a future version. Please adapt your code to use either `displot` (a figure-level function with similar flexibility) or `histplot` (an axes-level function for histograms).\n",
      "  warnings.warn(msg, FutureWarning)\n",
      "E:\\Anaconda\\lib\\site-packages\\seaborn\\distributions.py:2551: FutureWarning: `distplot` is a deprecated function and will be removed in a future version. Please adapt your code to use either `displot` (a figure-level function with similar flexibility) or `histplot` (an axes-level function for histograms).\n",
      "  warnings.warn(msg, FutureWarning)\n"
     ]
    },
    {
     "data": {
      "image/png": "[encoded data removed]",
      "text/plain": [
       "<Figure size 1008x432 with 2 Axes>"
      ]
     },
     "metadata": {
      "needs_background": "light"
     },
     "output_type": "display_data"
    }
   ],
   "source": [
    "plt.figure(figsize = (14,6))\n",
    "\n",
    "plt.subplot(1,2,1)\n",
    "sns.distplot(Win1['receive_value']);\n",
    "\n",
    "plt.subplot(1,2,2)\n",
    "sns.distplot(Win2['receive_value']);"
   ]
  },
  {
   "cell_type": "markdown",
   "metadata": {
    "heading_collapsed": true
   },
   "source": [
    "## 9.3 Performance"
   ]
  },
  {
   "cell_type": "code",
   "execution_count": 109,
   "metadata": {
    "ExecuteTime": {
     "end_time": "2021-01-11T13:28:15.621167Z",
     "start_time": "2021-01-11T13:28:15.419440Z"
    },
    "hidden": true
   },
   "outputs": [],
   "source": [
    "Negative_values = Df9[Df9['receive_value'] < 0]\n",
    "Null_values = Df9[Df9['receive_value'] == 0]\n",
    "Positve_values = Df9[Df9['receive_value'] > 0]"
   ]
  },
  {
   "cell_type": "code",
   "execution_count": 110,
   "metadata": {
    "ExecuteTime": {
     "end_time": "2021-01-11T13:28:15.664193Z",
     "start_time": "2021-01-11T13:28:15.623163Z"
    },
    "hidden": true
   },
   "outputs": [],
   "source": [
    "count = [Negative_values.shape[0],Null_values.shape[0],Positve_values.shape[0]]\n",
    "sums = [Negative_values['receive_value'].sum(),Null_values['receive_value'].sum(),Positve_values['receive_value'].sum()]\n",
    "Amount = [Negative_values['amount'].sum(),Null_values['amount'].sum(),Positve_values['amount'].sum()]\n",
    "\n",
    "dictna = {'Quantidade':count,'Receita':sums,'Soma das Transferencia':Amount}\n",
    "Final = pd.DataFrame(dictna)\n",
    "Final.index = ['Fraudes não classificadas','Non-Fraudes certas','Classificacao corretas']"
   ]
  },
  {
   "cell_type": "code",
   "execution_count": 111,
   "metadata": {
    "ExecuteTime": {
     "end_time": "2021-01-11T13:28:15.668376Z",
     "start_time": "2021-01-11T13:28:15.664734Z"
    },
    "hidden": true
   },
   "outputs": [],
   "source": [
    "Final.index = ['Fraudes não classificadas','Non-Fraudes certas','Classificacao corretas']"
   ]
  },
  {
   "cell_type": "code",
   "execution_count": 112,
   "metadata": {
    "ExecuteTime": {
     "end_time": "2021-01-11T13:28:15.679694Z",
     "start_time": "2021-01-11T13:28:15.671099Z"
    },
    "hidden": true
   },
   "outputs": [
    {
     "data": {
      "text/html": [
       "<div>\n",
       "<style scoped>\n",
       "    .dataframe tbody tr th:only-of-type {\n",
       "        vertical-align: middle;\n",
       "    }\n",
       "\n",
       "    .dataframe tbody tr th {\n",
       "        vertical-align: top;\n",
       "    }\n",
       "\n",
       "    .dataframe thead th {\n",
       "        text-align: right;\n",
       "    }\n",
       "</style>\n",
       "<table border=\"1\" class=\"dataframe\">\n",
       "  <thead>\n",
       "    <tr style=\"text-align: right;\">\n",
       "      <th></th>\n",
       "      <th>Quantidade</th>\n",
       "      <th>Receita</th>\n",
       "      <th>Soma das Transferencia</th>\n",
       "    </tr>\n",
       "  </thead>\n",
       "  <tbody>\n",
       "    <tr>\n",
       "      <th>Fraudes não classificadas</th>\n",
       "      <td>57</td>\n",
       "      <td>-3.899752e+06</td>\n",
       "      <td>3.899752e+06</td>\n",
       "    </tr>\n",
       "    <tr>\n",
       "      <th>Non-Fraudes certas</th>\n",
       "      <td>1374882</td>\n",
       "      <td>0.000000e+00</td>\n",
       "      <td>2.432663e+11</td>\n",
       "    </tr>\n",
       "    <tr>\n",
       "      <th>Classificacao corretas</th>\n",
       "      <td>56651</td>\n",
       "      <td>1.223808e+09</td>\n",
       "      <td>1.359229e+10</td>\n",
       "    </tr>\n",
       "  </tbody>\n",
       "</table>\n",
       "</div>"
      ],
      "text/plain": [
       "                           Quantidade       Receita  Soma das Transferencia\n",
       "Fraudes não classificadas          57 -3.899752e+06            3.899752e+06\n",
       "Non-Fraudes certas            1374882  0.000000e+00            2.432663e+11\n",
       "Classificacao corretas          56651  1.223808e+09            1.359229e+10"
      ]
     },
     "execution_count": 112,
     "metadata": {},
     "output_type": "execute_result"
    }
   ],
   "source": [
    "Final"
   ]
  },
  {
   "cell_type": "code",
   "execution_count": 113,
   "metadata": {
    "ExecuteTime": {
     "end_time": "2021-01-11T13:28:15.685760Z",
     "start_time": "2021-01-11T13:28:15.681724Z"
    },
    "hidden": true
   },
   "outputs": [],
   "source": [
    "Revenue_final = Final['Receita'].sum()\n",
    "Percentage_of = round((Revenue_final/Final['Soma das Transferencia'].sum())*100,2)"
   ]
  },
  {
   "cell_type": "code",
   "execution_count": 114,
   "metadata": {
    "ExecuteTime": {
     "end_time": "2021-01-11T13:28:15.691802Z",
     "start_time": "2021-01-11T13:28:15.687769Z"
    },
    "hidden": true
   },
   "outputs": [
    {
     "name": "stdout",
     "output_type": "stream",
     "text": [
      "The company will receive $1219908212.04 that represent 0.47% of the all transactions.\n"
     ]
    }
   ],
   "source": [
    "print('The company will receive ${} that represent {}% of the all transactions.'.format(round(Revenue_final,2),Percentage_of))"
   ]
  },
  {
   "cell_type": "markdown",
   "metadata": {
    "heading_collapsed": true
   },
   "source": [
    "# 10.0 API"
   ]
  },
  {
   "cell_type": "code",
   "execution_count": 109,
   "metadata": {
    "ExecuteTime": {
     "end_time": "2021-01-02T19:56:36.651391Z",
     "start_time": "2021-01-02T19:56:36.626457Z"
    },
    "hidden": true
   },
   "outputs": [],
   "source": [
    "import pickle\n",
    "import pandas as pd\n",
    "import numpy as np\n",
    "import math\n",
    "import datetime\n",
    "\n",
    "class Fraud ( object ):\n",
    "    def __init__(self):\n",
    "        self.home_path = 'D:/DataZero/Detecção_fraude/'\n",
    "        self.amount_scaler       = pickle.load(open(self.home_path + 'parameter/amount_scaler.pkl','rb'))\n",
    "        self.oldbalanceOrg_scaler           = pickle.load(open(self.home_path + 'parameter/oldbalanceOrg_scaler.pkl','rb'))\n",
    "        self.oldbalanceDest_scaler = pickle.load(open(self.home_path + 'parameter/oldbalanceDest_scaler.pkl','rb'))\n",
    "        self.newbalanceDest_scaler       = pickle.load(open(self.home_path + 'parameter/newbalanceDest_scaler.pkl','rb'))\n",
    "        self.newbalanceorig_right_scaler           = pickle.load(open(self.home_path + 'parameter/newbalanceorig_right_scaler.pkl','rb'))\n",
    "        self.hour_step_scaler = pickle.load(open(self.home_path + 'parameter/hour_step_scaler.pkl','rb'))\n",
    "        self.type_scaler = pickle.load(open(self.home_path + 'parameter/type_scaler.pkl','rb'))    \n",
    "\n",
    "    def data_cleaning(self,df1):\n",
    "        df1 = df1.rename(columns = {'step':'hour_step','isFraud':'fraud','isFlaggedFraud':'flag_fraud'})\n",
    "\n",
    "        df1['newbalanceorig_right'] = df1.apply(lambda x: x['newbalanceOrig'] if x['type'] == 'CASH_IN' else (x['newbalanceOrig'] if x['flag_fraud'] == 1 else x['oldbalanceOrg'] - x['amount']), axis=1)\n",
    "\n",
    "        df1 = df1.drop('newbalanceOrig', axis = 1)\n",
    "        return df1\n",
    "\n",
    "\n",
    "    def feature_engineering(self, df2):\n",
    "\n",
    "        df2['day'] = df2['hour_step'].apply(lambda x: math.ceil(x/24))\n",
    "        df2['hour'] = df2['hour_step'].apply(lambda x: x if x < 24 else x%24 )\n",
    "\n",
    "        df2 = df2.drop('nameOrig', axis = 1)\n",
    "        return df2\n",
    "\n",
    "    def data_preparation( df5):\n",
    "\n",
    "        df5['amount'] = self.amount_scaler.fit_transform(df5[['amount']].values)\n",
    "\n",
    "        df5['oldbalanceOrg'] = self.oldbalanceOrg_scaler.fit_transform(df5[['oldbalanceOrg']].values)\n",
    "\n",
    "        df5['oldbalanceDest'] = self.oldbalanceDest_scaler.fit_transform(df5[['oldbalanceDest']].values)\n",
    "\n",
    "        df5['newbalanceDest'] = self.newbalanceDest_scaler.fit_transform(df5[['newbalanceDest']].values)\n",
    "\n",
    "        df5['newbalanceorig_right'] = self.newbalanceorig_right_scaler.fit_transform(df5[['newbalanceorig_right']].values)\n",
    "\n",
    "        df5['hour_step'] = self.hour_step_scaler.fit_transform(df5[['hour_step']].values)\n",
    "\n",
    "        df5['type'] = self.type_scaler.fit_transform(df5['type'])\n",
    "\n",
    "        fe = df5.groupby('nameDest').size()/len(df5)\n",
    "        df5.loc[:,'nameDest_encode'] = df5['nameDest'].map(fe)\n",
    "\n",
    "        df5['day_sin'] = df5['day'].apply(lambda x: np.sin(x*(2. * np.pi/31)))\n",
    "        df5['day_cos'] = df5['day'].apply(lambda x: np.cos(x*(2. * np.pi/31)))\n",
    "\n",
    "        df5['hour_sin'] = df5['hour'].apply(lambda x: np.sin(x*(2. * np.pi/24)))\n",
    "        df5['hour_cos'] = df5['hour'].apply(lambda x: np.cos(x*(2. * np.pi/24)))\n",
    "\n",
    "        cols_selected_boruta = [     'hour_step',\n",
    "                                     'type',\n",
    "                                     'amount',\n",
    "                                     'oldbalanceOrg',\n",
    "                                     'oldbalanceDest',\n",
    "                                     'newbalanceDest',\n",
    "                                     'newbalanceorig_right',\n",
    "                                     'nameDest_encode',\n",
    "                                     'day_sin',\n",
    "                                     'day_cos',\n",
    "                                     'hour_sin']\n",
    "\n",
    "        return df5[cols_selected_boruta]\n",
    "\n",
    "    def get_prediction(self,model,original_data,test_data):\n",
    "            #predicitons\n",
    "        pred = model.predict(test_data)\n",
    "\n",
    "            #join pred into the orignal data\n",
    "\n",
    "        original_data['prediction'] = pred\n",
    "\n",
    "        return original_data.to_json(orient = 'records', date_format = 'iso')\n"
   ]
  },
  {
   "cell_type": "code",
   "execution_count": 112,
   "metadata": {
    "ExecuteTime": {
     "end_time": "2021-01-02T20:24:46.472080Z",
     "start_time": "2021-01-02T20:24:17.410987Z"
    },
    "hidden": true
   },
   "outputs": [
    {
     "name": "stderr",
     "output_type": "stream",
     "text": [
      " * Running on http://0.0.0.0:5000/ (Press CTRL+C to quit)\n"
     ]
    }
   ],
   "source": [
    "from flask import Flask, request, Response\n",
    "import pandas as pd\n",
    "import math\n",
    "import pickle\n",
    "from fraud import Fraud\n",
    "\n",
    "#loading model\n",
    "model = pickle.load(open('D:/DataZero/Detecção_fraude/model/model_extratree.pkl','rb'))\n",
    "\n",
    "#initilize API\n",
    "app = Flask(__name__)\n",
    "\n",
    "app.route('/fraud/predict', methods = ['POST'])\n",
    "def fraud_predict():\n",
    "    test_json = request.get_json()\n",
    "\n",
    "    if test_json:\n",
    "        if isinstance(test_json, dict):\n",
    "            test_raw = pd.DataFrame(test_json, index  = [0])\n",
    "        else:\n",
    "            #multiple examples (row)\n",
    "            test_raw = pd.DataFrame(test_json, columns = test_json[0].keys())\n",
    "            \n",
    "        #Instantiate Sale Class\n",
    "        pipeline = Fraud()\n",
    "        \n",
    "        #data cleaning\n",
    "        df1 = pipeline.data_cleaning(test_raw)\n",
    "        \n",
    "        #feature Enginering\n",
    "        df2 = pipeline.feature_engineering(df1)\n",
    "        \n",
    "        #data preparation\n",
    "        df3 = pipeline.data_preparation(df2)\n",
    "        \n",
    "        #prediction\n",
    "        df_response  = pipeline.get_prediction(model, test_raw, df3)\n",
    "        \n",
    "        return df_response\n",
    "        \n",
    "    else:\n",
    "        return Reponse(' {}', status = 200, mimetype = 'application/json')\n",
    "if __name__ == '__main__':\n",
    "    app.run('0.0.0.0')"
   ]
  },
  {
   "cell_type": "code",
   "execution_count": 12,
   "metadata": {
    "ExecuteTime": {
     "end_time": "2021-01-12T12:07:29.853078Z",
     "start_time": "2021-01-12T12:07:29.512185Z"
    },
    "hidden": true
   },
   "outputs": [],
   "source": [
    "Ab = Df_validation.iloc[0:100]"
   ]
  },
  {
   "cell_type": "code",
   "execution_count": 14,
   "metadata": {
    "ExecuteTime": {
     "end_time": "2021-01-12T12:07:38.079015Z",
     "start_time": "2021-01-12T12:07:38.073032Z"
    },
    "hidden": true
   },
   "outputs": [],
   "source": [
    "data = json.dumps(Ab.to_dict(orient = 'records'))"
   ]
  },
  {
   "cell_type": "code",
   "execution_count": 15,
   "metadata": {
    "ExecuteTime": {
     "end_time": "2021-01-12T12:07:42.709720Z",
     "start_time": "2021-01-12T12:07:41.296338Z"
    },
    "hidden": true
   },
   "outputs": [
    {
     "name": "stdout",
     "output_type": "stream",
     "text": [
      "Status Code 200\n"
     ]
    }
   ],
   "source": [
    "#url = 'http://127.0.0.1:5000/fraud/predict'\n",
    "url = 'https://fraud-brat.herokuapp.com/fraud/predict'\n",
    "header = {'Content-type': 'application/json' } \n",
    "data = data\n",
    "\n",
    "r = requests.post( url, data=data, headers=header )\n",
    "print( 'Status Code {}'.format( r.status_code ) )"
   ]
  },
  {
   "cell_type": "code",
   "execution_count": 16,
   "metadata": {
    "ExecuteTime": {
     "end_time": "2021-01-12T12:07:44.503593Z",
     "start_time": "2021-01-12T12:07:44.496644Z"
    },
    "hidden": true
   },
   "outputs": [],
   "source": [
    "dd = pd.DataFrame(r.json(), columns = r.json()[0].keys())"
   ]
  },
  {
   "cell_type": "code",
   "execution_count": 98,
   "metadata": {
    "ExecuteTime": {
     "end_time": "2021-01-11T23:04:18.842605Z",
     "start_time": "2021-01-11T23:04:18.689069Z"
    },
    "hidden": true
   },
   "outputs": [
    {
     "data": {
      "text/html": [
       "<div>\n",
       "<style scoped>\n",
       "    .dataframe tbody tr th:only-of-type {\n",
       "        vertical-align: middle;\n",
       "    }\n",
       "\n",
       "    .dataframe tbody tr th {\n",
       "        vertical-align: top;\n",
       "    }\n",
       "\n",
       "    .dataframe thead th {\n",
       "        text-align: right;\n",
       "    }\n",
       "</style>\n",
       "<table border=\"1\" class=\"dataframe\">\n",
       "  <thead>\n",
       "    <tr style=\"text-align: right;\">\n",
       "      <th></th>\n",
       "      <th>step</th>\n",
       "      <th>type</th>\n",
       "      <th>amount</th>\n",
       "      <th>nameOrig</th>\n",
       "      <th>oldbalanceOrg</th>\n",
       "      <th>newbalanceOrig</th>\n",
       "      <th>nameDest</th>\n",
       "      <th>oldbalanceDest</th>\n",
       "      <th>newbalanceDest</th>\n",
       "      <th>isFraud</th>\n",
       "      <th>isFlaggedFraud</th>\n",
       "      <th>prediction</th>\n",
       "    </tr>\n",
       "  </thead>\n",
       "  <tbody>\n",
       "    <tr>\n",
       "      <th>270</th>\n",
       "      <td>724</td>\n",
       "      <td>CASH_OUT</td>\n",
       "      <td>506923.53</td>\n",
       "      <td>C438124232</td>\n",
       "      <td>506923.53</td>\n",
       "      <td>0.0</td>\n",
       "      <td>C1360951164</td>\n",
       "      <td>413370.56</td>\n",
       "      <td>920294.09</td>\n",
       "      <td>1</td>\n",
       "      <td>0</td>\n",
       "      <td>1</td>\n",
       "    </tr>\n",
       "    <tr>\n",
       "      <th>674</th>\n",
       "      <td>469</td>\n",
       "      <td>TRANSFER</td>\n",
       "      <td>6484526.80</td>\n",
       "      <td>C2041942844</td>\n",
       "      <td>6484526.80</td>\n",
       "      <td>0.0</td>\n",
       "      <td>C1100722756</td>\n",
       "      <td>0.00</td>\n",
       "      <td>0.00</td>\n",
       "      <td>1</td>\n",
       "      <td>0</td>\n",
       "      <td>1</td>\n",
       "    </tr>\n",
       "    <tr>\n",
       "      <th>1728</th>\n",
       "      <td>648</td>\n",
       "      <td>TRANSFER</td>\n",
       "      <td>398045.73</td>\n",
       "      <td>C1389887414</td>\n",
       "      <td>398045.73</td>\n",
       "      <td>0.0</td>\n",
       "      <td>C452478400</td>\n",
       "      <td>0.00</td>\n",
       "      <td>0.00</td>\n",
       "      <td>1</td>\n",
       "      <td>0</td>\n",
       "      <td>1</td>\n",
       "    </tr>\n",
       "    <tr>\n",
       "      <th>2163</th>\n",
       "      <td>186</td>\n",
       "      <td>TRANSFER</td>\n",
       "      <td>8142605.46</td>\n",
       "      <td>C1210414819</td>\n",
       "      <td>8142605.46</td>\n",
       "      <td>0.0</td>\n",
       "      <td>C118885392</td>\n",
       "      <td>0.00</td>\n",
       "      <td>0.00</td>\n",
       "      <td>1</td>\n",
       "      <td>0</td>\n",
       "      <td>1</td>\n",
       "    </tr>\n",
       "    <tr>\n",
       "      <th>2567</th>\n",
       "      <td>546</td>\n",
       "      <td>TRANSFER</td>\n",
       "      <td>534158.52</td>\n",
       "      <td>C1792498833</td>\n",
       "      <td>534158.52</td>\n",
       "      <td>0.0</td>\n",
       "      <td>C1687427333</td>\n",
       "      <td>0.00</td>\n",
       "      <td>0.00</td>\n",
       "      <td>1</td>\n",
       "      <td>0</td>\n",
       "      <td>1</td>\n",
       "    </tr>\n",
       "    <tr>\n",
       "      <th>...</th>\n",
       "      <td>...</td>\n",
       "      <td>...</td>\n",
       "      <td>...</td>\n",
       "      <td>...</td>\n",
       "      <td>...</td>\n",
       "      <td>...</td>\n",
       "      <td>...</td>\n",
       "      <td>...</td>\n",
       "      <td>...</td>\n",
       "      <td>...</td>\n",
       "      <td>...</td>\n",
       "      <td>...</td>\n",
       "    </tr>\n",
       "    <tr>\n",
       "      <th>1587162</th>\n",
       "      <td>498</td>\n",
       "      <td>TRANSFER</td>\n",
       "      <td>142791.28</td>\n",
       "      <td>C2091936123</td>\n",
       "      <td>142791.28</td>\n",
       "      <td>0.0</td>\n",
       "      <td>C843542552</td>\n",
       "      <td>0.00</td>\n",
       "      <td>0.00</td>\n",
       "      <td>1</td>\n",
       "      <td>0</td>\n",
       "      <td>1</td>\n",
       "    </tr>\n",
       "    <tr>\n",
       "      <th>1587525</th>\n",
       "      <td>404</td>\n",
       "      <td>TRANSFER</td>\n",
       "      <td>126061.45</td>\n",
       "      <td>C1079557741</td>\n",
       "      <td>126061.45</td>\n",
       "      <td>0.0</td>\n",
       "      <td>C1089646901</td>\n",
       "      <td>0.00</td>\n",
       "      <td>0.00</td>\n",
       "      <td>1</td>\n",
       "      <td>0</td>\n",
       "      <td>1</td>\n",
       "    </tr>\n",
       "    <tr>\n",
       "      <th>1588284</th>\n",
       "      <td>544</td>\n",
       "      <td>TRANSFER</td>\n",
       "      <td>25473.11</td>\n",
       "      <td>C199245986</td>\n",
       "      <td>25473.11</td>\n",
       "      <td>0.0</td>\n",
       "      <td>C140137302</td>\n",
       "      <td>0.00</td>\n",
       "      <td>0.00</td>\n",
       "      <td>1</td>\n",
       "      <td>0</td>\n",
       "      <td>1</td>\n",
       "    </tr>\n",
       "    <tr>\n",
       "      <th>1589020</th>\n",
       "      <td>652</td>\n",
       "      <td>TRANSFER</td>\n",
       "      <td>762782.66</td>\n",
       "      <td>C1580037772</td>\n",
       "      <td>762782.66</td>\n",
       "      <td>0.0</td>\n",
       "      <td>C1784796594</td>\n",
       "      <td>0.00</td>\n",
       "      <td>0.00</td>\n",
       "      <td>1</td>\n",
       "      <td>0</td>\n",
       "      <td>1</td>\n",
       "    </tr>\n",
       "    <tr>\n",
       "      <th>1589325</th>\n",
       "      <td>371</td>\n",
       "      <td>CASH_OUT</td>\n",
       "      <td>205163.30</td>\n",
       "      <td>C1336772160</td>\n",
       "      <td>205163.30</td>\n",
       "      <td>0.0</td>\n",
       "      <td>C2058716445</td>\n",
       "      <td>0.00</td>\n",
       "      <td>205163.30</td>\n",
       "      <td>1</td>\n",
       "      <td>0</td>\n",
       "      <td>1</td>\n",
       "    </tr>\n",
       "  </tbody>\n",
       "</table>\n",
       "<p>2066 rows × 12 columns</p>\n",
       "</div>"
      ],
      "text/plain": [
       "         step      type      amount     nameOrig  oldbalanceOrg  \\\n",
       "270       724  CASH_OUT   506923.53   C438124232      506923.53   \n",
       "674       469  TRANSFER  6484526.80  C2041942844     6484526.80   \n",
       "1728      648  TRANSFER   398045.73  C1389887414      398045.73   \n",
       "2163      186  TRANSFER  8142605.46  C1210414819     8142605.46   \n",
       "2567      546  TRANSFER   534158.52  C1792498833      534158.52   \n",
       "...       ...       ...         ...          ...            ...   \n",
       "1587162   498  TRANSFER   142791.28  C2091936123      142791.28   \n",
       "1587525   404  TRANSFER   126061.45  C1079557741      126061.45   \n",
       "1588284   544  TRANSFER    25473.11   C199245986       25473.11   \n",
       "1589020   652  TRANSFER   762782.66  C1580037772      762782.66   \n",
       "1589325   371  CASH_OUT   205163.30  C1336772160      205163.30   \n",
       "\n",
       "         newbalanceOrig     nameDest  oldbalanceDest  newbalanceDest  isFraud  \\\n",
       "270                 0.0  C1360951164       413370.56       920294.09        1   \n",
       "674                 0.0  C1100722756            0.00            0.00        1   \n",
       "1728                0.0   C452478400            0.00            0.00        1   \n",
       "2163                0.0   C118885392            0.00            0.00        1   \n",
       "2567                0.0  C1687427333            0.00            0.00        1   \n",
       "...                 ...          ...             ...             ...      ...   \n",
       "1587162             0.0   C843542552            0.00            0.00        1   \n",
       "1587525             0.0  C1089646901            0.00            0.00        1   \n",
       "1588284             0.0   C140137302            0.00            0.00        1   \n",
       "1589020             0.0  C1784796594            0.00            0.00        1   \n",
       "1589325             0.0  C2058716445            0.00       205163.30        1   \n",
       "\n",
       "         isFlaggedFraud  prediction  \n",
       "270                   0           1  \n",
       "674                   0           1  \n",
       "1728                  0           1  \n",
       "2163                  0           1  \n",
       "2567                  0           1  \n",
       "...                 ...         ...  \n",
       "1587162               0           1  \n",
       "1587525               0           1  \n",
       "1588284               0           1  \n",
       "1589020               0           1  \n",
       "1589325               0           1  \n",
       "\n",
       "[2066 rows x 12 columns]"
      ]
     },
     "execution_count": 98,
     "metadata": {},
     "output_type": "execute_result"
    }
   ],
   "source": [
    "dd[dd['isFraud'] == 1]"
   ]
  },
  {
   "cell_type": "code",
   "execution_count": 17,
   "metadata": {
    "ExecuteTime": {
     "end_time": "2021-01-12T12:07:48.808287Z",
     "start_time": "2021-01-12T12:07:48.687594Z"
    },
    "hidden": true
   },
   "outputs": [
    {
     "data": {
      "text/plain": [
       "array([[95,  4],\n",
       "       [ 0,  1]], dtype=int64)"
      ]
     },
     "execution_count": 17,
     "metadata": {},
     "output_type": "execute_result"
    }
   ],
   "source": [
    "confusion_matrix(dd['isFraud'],dd['prediction'])"
   ]
  }
 ],
 "metadata": {
  "kernelspec": {
   "display_name": "Python 3",
   "language": "python",
   "name": "python3"
  },
  "language_info": {
   "codemirror_mode": {
    "name": "ipython",
    "version": 3
   },
   "file_extension": ".py",
   "mimetype": "text/x-python",
   "name": "python",
   "nbconvert_exporter": "python",
   "pygments_lexer": "ipython3",
   "version": "3.8.5"
  },
  "nbTranslate": {
   "displayLangs": [
    "*"
   ],
   "hotkey": "alt-t",
   "langInMainMenu": true,
   "sourceLang": "en",
   "targetLang": "fr",
   "useGoogleTranslate": true
  }
 },
 "nbformat": 4,
 "nbformat_minor": 4
}
